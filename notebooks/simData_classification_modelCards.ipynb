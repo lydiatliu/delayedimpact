{
 "cells": [
  {
   "cell_type": "markdown",
   "metadata": {},
   "source": [
    "# 0. IMPORTANT--Specify classifier to be trained and dataset"
   ]
  },
  {
   "cell_type": "code",
   "execution_count": 1,
   "metadata": {},
   "outputs": [],
   "source": [
    "model_name = 'gbt'  # options include: {'Decision Tree': 'dt', 'Gaussian Naive Bayes':'gnb',\\\n",
    "                           #                  'Logistic Regression': 'lgr', \\\n",
    "                           #                  'Gradient_Boosted_Trees': 'gbt'} \n",
    "data_file = '/home/mackenzie/git_repositories/delayedimpact/data/simData_oom100.csv'  # ...oom10, ...oom50, ...oom100\n",
    "save = False"
   ]
  },
  {
   "cell_type": "markdown",
   "metadata": {},
   "source": [
    "# 1. Imports and Set Up"
   ]
  },
  {
   "cell_type": "markdown",
   "metadata": {},
   "source": [
    "### Getting model card toolkit ready"
   ]
  },
  {
   "cell_type": "code",
   "execution_count": 2,
   "metadata": {},
   "outputs": [
    {
     "name": "stdout",
     "output_type": "stream",
     "text": [
      "Defaulting to user installation because normal site-packages is not writeable\n",
      "Requirement already satisfied: pip in /home/mackenzie/.local/lib/python3.8/site-packages (21.3.1)\n",
      "Defaulting to user installation because normal site-packages is not writeable\n",
      "Requirement already satisfied: model-card-toolkit in /home/mackenzie/.local/lib/python3.8/site-packages (1.2.0)\n",
      "Requirement already satisfied: tensorflow-metadata<1.6.0,>=1.5.0 in /home/mackenzie/.local/lib/python3.8/site-packages (from model-card-toolkit) (1.5.0)\n",
      "Requirement already satisfied: semantic-version<3,>=2.8.0 in /home/mackenzie/.local/lib/python3.8/site-packages (from model-card-toolkit) (2.8.5)\n",
      "Requirement already satisfied: matplotlib<4,>=3.2.0 in /home/mackenzie/.local/lib/python3.8/site-packages (from model-card-toolkit) (3.3.3)\n",
      "Requirement already satisfied: jsonschema<4,>=3.2.0 in /usr/lib/python3/dist-packages (from model-card-toolkit) (3.2.0)\n",
      "Requirement already satisfied: jinja2<3,>=2.10 in /home/mackenzie/.local/lib/python3.8/site-packages (from model-card-toolkit) (2.11.3)\n",
      "Requirement already satisfied: absl-py<0.11,>=0.9 in /home/mackenzie/.local/lib/python3.8/site-packages (from model-card-toolkit) (0.10.0)\n",
      "Requirement already satisfied: tensorflow-model-analysis<0.37.0,>=0.36.0 in /home/mackenzie/.local/lib/python3.8/site-packages (from model-card-toolkit) (0.36.0)\n",
      "Requirement already satisfied: ml-metadata<1.6.0,>=1.5.0 in /home/mackenzie/.local/lib/python3.8/site-packages (from model-card-toolkit) (1.5.0)\n",
      "Requirement already satisfied: tfx<1.6.0,>=1.5.0 in /home/mackenzie/.local/lib/python3.8/site-packages (from model-card-toolkit) (1.5.0)\n",
      "Requirement already satisfied: six in /home/mackenzie/.local/lib/python3.8/site-packages (from absl-py<0.11,>=0.9->model-card-toolkit) (1.15.0)\n",
      "Requirement already satisfied: MarkupSafe>=0.23 in /usr/lib/python3/dist-packages (from jinja2<3,>=2.10->model-card-toolkit) (1.1.0)\n",
      "Requirement already satisfied: kiwisolver>=1.0.1 in /home/mackenzie/.local/lib/python3.8/site-packages (from matplotlib<4,>=3.2.0->model-card-toolkit) (1.3.1)\n",
      "Requirement already satisfied: pyparsing!=2.0.4,!=2.1.2,!=2.1.6,>=2.0.3 in /home/mackenzie/.local/lib/python3.8/site-packages (from matplotlib<4,>=3.2.0->model-card-toolkit) (2.4.7)\n",
      "Requirement already satisfied: pillow>=6.2.0 in /usr/lib/python3/dist-packages (from matplotlib<4,>=3.2.0->model-card-toolkit) (7.0.0)\n",
      "Requirement already satisfied: cycler>=0.10 in /home/mackenzie/.local/lib/python3.8/site-packages (from matplotlib<4,>=3.2.0->model-card-toolkit) (0.10.0)\n",
      "Requirement already satisfied: numpy>=1.15 in /home/mackenzie/.local/lib/python3.8/site-packages (from matplotlib<4,>=3.2.0->model-card-toolkit) (1.19.5)\n",
      "Requirement already satisfied: python-dateutil>=2.1 in /home/mackenzie/.local/lib/python3.8/site-packages (from matplotlib<4,>=3.2.0->model-card-toolkit) (2.8.2)\n",
      "Requirement already satisfied: attrs<21,>=20.3 in /home/mackenzie/.local/lib/python3.8/site-packages (from ml-metadata<1.6.0,>=1.5.0->model-card-toolkit) (20.3.0)\n",
      "Requirement already satisfied: protobuf<4,>=3.13 in /home/mackenzie/.local/lib/python3.8/site-packages (from ml-metadata<1.6.0,>=1.5.0->model-card-toolkit) (3.19.3)\n",
      "Requirement already satisfied: grpcio<2,>=1.8.6 in /home/mackenzie/.local/lib/python3.8/site-packages (from ml-metadata<1.6.0,>=1.5.0->model-card-toolkit) (1.43.0)\n",
      "Requirement already satisfied: googleapis-common-protos<2,>=1.52.0 in /home/mackenzie/.local/lib/python3.8/site-packages (from tensorflow-metadata<1.6.0,>=1.5.0->model-card-toolkit) (1.52.0)\n",
      "Requirement already satisfied: tensorflow!=2.0.*,!=2.1.*,!=2.2.*,!=2.3.*,!=2.4.*,!=2.5.*,!=2.6.*,<3,>=1.15.2 in /home/mackenzie/.local/lib/python3.8/site-packages (from tensorflow-model-analysis<0.37.0,>=0.36.0->model-card-toolkit) (2.7.0)\n",
      "Requirement already satisfied: ipywidgets<8,>=7 in /home/mackenzie/.local/lib/python3.8/site-packages (from tensorflow-model-analysis<0.37.0,>=0.36.0->model-card-toolkit) (7.5.1)\n",
      "Requirement already satisfied: pyarrow<6,>=1 in /home/mackenzie/.local/lib/python3.8/site-packages (from tensorflow-model-analysis<0.37.0,>=0.36.0->model-card-toolkit) (5.0.0)\n",
      "Requirement already satisfied: scipy<2,>=1.4.1 in /home/mackenzie/.local/lib/python3.8/site-packages (from tensorflow-model-analysis<0.37.0,>=0.36.0->model-card-toolkit) (1.4.1)\n",
      "Requirement already satisfied: tfx-bsl<1.6.0,>=1.5.0 in /home/mackenzie/.local/lib/python3.8/site-packages (from tensorflow-model-analysis<0.37.0,>=0.36.0->model-card-toolkit) (1.5.0)\n",
      "Requirement already satisfied: pandas<2,>=1.0 in /home/mackenzie/.local/lib/python3.8/site-packages (from tensorflow-model-analysis<0.37.0,>=0.36.0->model-card-toolkit) (1.1.5)\n",
      "Requirement already satisfied: ipython<8,>=7 in /home/mackenzie/.local/lib/python3.8/site-packages (from tensorflow-model-analysis<0.37.0,>=0.36.0->model-card-toolkit) (7.16.1)\n",
      "Requirement already satisfied: apache-beam[gcp]<3,>=2.34 in /home/mackenzie/.local/lib/python3.8/site-packages (from tensorflow-model-analysis<0.37.0,>=0.36.0->model-card-toolkit) (2.35.0)\n",
      "Requirement already satisfied: click<8,>=7 in /usr/local/lib/python3.8/dist-packages (from tfx<1.6.0,>=1.5.0->model-card-toolkit) (7.1.2)\n",
      "Requirement already satisfied: portpicker<2,>=1.3.1 in /home/mackenzie/.local/lib/python3.8/site-packages (from tfx<1.6.0,>=1.5.0->model-card-toolkit) (1.5.0)\n",
      "Requirement already satisfied: google-api-python-client<2,>=1.8 in /home/mackenzie/.local/lib/python3.8/site-packages (from tfx<1.6.0,>=1.5.0->model-card-toolkit) (1.12.8)\n",
      "Requirement already satisfied: docker<5,>=4.1 in /home/mackenzie/.local/lib/python3.8/site-packages (from tfx<1.6.0,>=1.5.0->model-card-toolkit) (4.4.4)\n",
      "Requirement already satisfied: keras-tuner<2,>=1.0.4 in /home/mackenzie/.local/lib/python3.8/site-packages (from tfx<1.6.0,>=1.5.0->model-card-toolkit) (1.1.0)\n",
      "Requirement already satisfied: kubernetes<13,>=10.0.1 in /home/mackenzie/.local/lib/python3.8/site-packages (from tfx<1.6.0,>=1.5.0->model-card-toolkit) (12.0.1)\n",
      "Requirement already satisfied: tensorflow-data-validation<1.6.0,>=1.5.0 in /home/mackenzie/.local/lib/python3.8/site-packages (from tfx<1.6.0,>=1.5.0->model-card-toolkit) (1.5.0)\n",
      "Requirement already satisfied: google-apitools<1,>=0.5 in /home/mackenzie/.local/lib/python3.8/site-packages (from tfx<1.6.0,>=1.5.0->model-card-toolkit) (0.5.31)\n",
      "Requirement already satisfied: google-cloud-aiplatform<2,>=1.5.0 in /home/mackenzie/.local/lib/python3.8/site-packages (from tfx<1.6.0,>=1.5.0->model-card-toolkit) (1.9.0)\n",
      "Requirement already satisfied: google-cloud-bigquery<3,>=2.26.0 in /home/mackenzie/.local/lib/python3.8/site-packages (from tfx<1.6.0,>=1.5.0->model-card-toolkit) (2.31.0)\n",
      "Requirement already satisfied: tensorflow-transform<1.6.0,>=1.5.0 in /home/mackenzie/.local/lib/python3.8/site-packages (from tfx<1.6.0,>=1.5.0->model-card-toolkit) (1.5.0)\n",
      "Requirement already satisfied: packaging<21,>=20 in /home/mackenzie/.local/lib/python3.8/site-packages (from tfx<1.6.0,>=1.5.0->model-card-toolkit) (20.7)\n",
      "Requirement already satisfied: tensorflow-serving-api!=2.0.*,!=2.1.*,!=2.2.*,!=2.3.*,!=2.4.*,!=2.5.*,!=2.6.*,<3,>=1.15 in /home/mackenzie/.local/lib/python3.8/site-packages (from tfx<1.6.0,>=1.5.0->model-card-toolkit) (2.7.0)\n",
      "Requirement already satisfied: ml-pipelines-sdk==1.5.0 in /home/mackenzie/.local/lib/python3.8/site-packages (from tfx<1.6.0,>=1.5.0->model-card-toolkit) (1.5.0)\n",
      "Requirement already satisfied: pyyaml<6,>=3.12 in /usr/lib/python3/dist-packages (from tfx<1.6.0,>=1.5.0->model-card-toolkit) (5.3.1)\n",
      "Requirement already satisfied: tensorflow-hub<0.13,>=0.9.0 in /home/mackenzie/.local/lib/python3.8/site-packages (from tfx<1.6.0,>=1.5.0->model-card-toolkit) (0.12.0)\n",
      "Requirement already satisfied: proto-plus<2,>=1.7.1 in /home/mackenzie/.local/lib/python3.8/site-packages (from apache-beam[gcp]<3,>=2.34->tensorflow-model-analysis<0.37.0,>=0.36.0->model-card-toolkit) (1.19.8)\n",
      "Requirement already satisfied: pydot<2,>=1.2.0 in /home/mackenzie/.local/lib/python3.8/site-packages (from apache-beam[gcp]<3,>=2.34->tensorflow-model-analysis<0.37.0,>=0.36.0->model-card-toolkit) (1.4.2)\n",
      "Requirement already satisfied: dill<0.3.2,>=0.3.1.1 in /home/mackenzie/.local/lib/python3.8/site-packages (from apache-beam[gcp]<3,>=2.34->tensorflow-model-analysis<0.37.0,>=0.36.0->model-card-toolkit) (0.3.1.1)\n",
      "Requirement already satisfied: hdfs<3.0.0,>=2.1.0 in /home/mackenzie/.local/lib/python3.8/site-packages (from apache-beam[gcp]<3,>=2.34->tensorflow-model-analysis<0.37.0,>=0.36.0->model-card-toolkit) (2.6.0)\n",
      "Requirement already satisfied: requests<3.0.0,>=2.24.0 in /home/mackenzie/.local/lib/python3.8/site-packages (from apache-beam[gcp]<3,>=2.34->tensorflow-model-analysis<0.37.0,>=0.36.0->model-card-toolkit) (2.27.1)\n",
      "Requirement already satisfied: fastavro<2,>=0.21.4 in /home/mackenzie/.local/lib/python3.8/site-packages (from apache-beam[gcp]<3,>=2.34->tensorflow-model-analysis<0.37.0,>=0.36.0->model-card-toolkit) (1.4.9)\n",
      "Requirement already satisfied: pymongo<4.0.0,>=3.8.0 in /home/mackenzie/.local/lib/python3.8/site-packages (from apache-beam[gcp]<3,>=2.34->tensorflow-model-analysis<0.37.0,>=0.36.0->model-card-toolkit) (3.12.3)\n",
      "Requirement already satisfied: orjson<4.0 in /home/mackenzie/.local/lib/python3.8/site-packages (from apache-beam[gcp]<3,>=2.34->tensorflow-model-analysis<0.37.0,>=0.36.0->model-card-toolkit) (3.6.5)\n",
      "Requirement already satisfied: typing-extensions<4,>=3.7.0 in /home/mackenzie/.local/lib/python3.8/site-packages (from apache-beam[gcp]<3,>=2.34->tensorflow-model-analysis<0.37.0,>=0.36.0->model-card-toolkit) (3.7.4.3)\n",
      "Requirement already satisfied: oauth2client<5,>=2.0.1 in /home/mackenzie/.local/lib/python3.8/site-packages (from apache-beam[gcp]<3,>=2.34->tensorflow-model-analysis<0.37.0,>=0.36.0->model-card-toolkit) (4.1.3)\n",
      "Requirement already satisfied: pytz>=2018.3 in /home/mackenzie/.local/lib/python3.8/site-packages (from apache-beam[gcp]<3,>=2.34->tensorflow-model-analysis<0.37.0,>=0.36.0->model-card-toolkit) (2021.3)\n",
      "Requirement already satisfied: crcmod<2.0,>=1.7 in /usr/lib/python3/dist-packages (from apache-beam[gcp]<3,>=2.34->tensorflow-model-analysis<0.37.0,>=0.36.0->model-card-toolkit) (1.7)\n",
      "Requirement already satisfied: httplib2<0.20.0,>=0.8 in /home/mackenzie/.local/lib/python3.8/site-packages (from apache-beam[gcp]<3,>=2.34->tensorflow-model-analysis<0.37.0,>=0.36.0->model-card-toolkit) (0.18.1)\n"
     ]
    },
    {
     "name": "stdout",
     "output_type": "stream",
     "text": [
      "Requirement already satisfied: grpcio-gcp<1,>=0.2.2 in /home/mackenzie/.local/lib/python3.8/site-packages (from apache-beam[gcp]<3,>=2.34->tensorflow-model-analysis<0.37.0,>=0.36.0->model-card-toolkit) (0.2.2)\n",
      "Requirement already satisfied: cachetools<5,>=3.1.0 in /home/mackenzie/.local/lib/python3.8/site-packages (from apache-beam[gcp]<3,>=2.34->tensorflow-model-analysis<0.37.0,>=0.36.0->model-card-toolkit) (4.1.1)\n",
      "Requirement already satisfied: google-auth<3,>=1.18.0 in /home/mackenzie/.local/lib/python3.8/site-packages (from apache-beam[gcp]<3,>=2.34->tensorflow-model-analysis<0.37.0,>=0.36.0->model-card-toolkit) (1.35.0)\n",
      "Requirement already satisfied: google-cloud-recommendations-ai<=0.2.0,>=0.1.0 in /home/mackenzie/.local/lib/python3.8/site-packages (from apache-beam[gcp]<3,>=2.34->tensorflow-model-analysis<0.37.0,>=0.36.0->model-card-toolkit) (0.2.0)\n",
      "Requirement already satisfied: google-cloud-core<2,>=0.28.1 in /home/mackenzie/.local/lib/python3.8/site-packages (from apache-beam[gcp]<3,>=2.34->tensorflow-model-analysis<0.37.0,>=0.36.0->model-card-toolkit) (1.7.2)\n",
      "Requirement already satisfied: google-cloud-dlp<4,>=3.0.0 in /home/mackenzie/.local/lib/python3.8/site-packages (from apache-beam[gcp]<3,>=2.34->tensorflow-model-analysis<0.37.0,>=0.36.0->model-card-toolkit) (3.4.0)\n",
      "Requirement already satisfied: google-cloud-datastore<2,>=1.8.0 in /home/mackenzie/.local/lib/python3.8/site-packages (from apache-beam[gcp]<3,>=2.34->tensorflow-model-analysis<0.37.0,>=0.36.0->model-card-toolkit) (1.15.3)\n",
      "Requirement already satisfied: google-cloud-spanner<2,>=1.13.0 in /home/mackenzie/.local/lib/python3.8/site-packages (from apache-beam[gcp]<3,>=2.34->tensorflow-model-analysis<0.37.0,>=0.36.0->model-card-toolkit) (1.19.1)\n",
      "Requirement already satisfied: google-cloud-bigtable<2,>=0.31.1 in /home/mackenzie/.local/lib/python3.8/site-packages (from apache-beam[gcp]<3,>=2.34->tensorflow-model-analysis<0.37.0,>=0.36.0->model-card-toolkit) (1.7.0)\n",
      "Requirement already satisfied: google-cloud-language<2,>=1.3.0 in /home/mackenzie/.local/lib/python3.8/site-packages (from apache-beam[gcp]<3,>=2.34->tensorflow-model-analysis<0.37.0,>=0.36.0->model-card-toolkit) (1.3.0)\n",
      "Requirement already satisfied: google-cloud-bigquery-storage>=2.6.3 in /home/mackenzie/.local/lib/python3.8/site-packages (from apache-beam[gcp]<3,>=2.34->tensorflow-model-analysis<0.37.0,>=0.36.0->model-card-toolkit) (2.10.1)\n",
      "Requirement already satisfied: google-cloud-videointelligence<2,>=1.8.0 in /home/mackenzie/.local/lib/python3.8/site-packages (from apache-beam[gcp]<3,>=2.34->tensorflow-model-analysis<0.37.0,>=0.36.0->model-card-toolkit) (1.16.1)\n",
      "Requirement already satisfied: google-cloud-vision<2,>=0.38.0 in /home/mackenzie/.local/lib/python3.8/site-packages (from apache-beam[gcp]<3,>=2.34->tensorflow-model-analysis<0.37.0,>=0.36.0->model-card-toolkit) (1.0.0)\n",
      "Requirement already satisfied: google-cloud-pubsub<2,>=0.39.0 in /home/mackenzie/.local/lib/python3.8/site-packages (from apache-beam[gcp]<3,>=2.34->tensorflow-model-analysis<0.37.0,>=0.36.0->model-card-toolkit) (1.7.0)\n",
      "Requirement already satisfied: websocket-client>=0.32.0 in /home/mackenzie/.local/lib/python3.8/site-packages (from docker<5,>=4.1->tfx<1.6.0,>=1.5.0->model-card-toolkit) (1.2.3)\n",
      "Requirement already satisfied: google-api-core<2dev,>=1.21.0 in /home/mackenzie/.local/lib/python3.8/site-packages (from google-api-python-client<2,>=1.8->tfx<1.6.0,>=1.5.0->model-card-toolkit) (1.31.5)\n",
      "Requirement already satisfied: uritemplate<4dev,>=3.0.0 in /home/mackenzie/.local/lib/python3.8/site-packages (from google-api-python-client<2,>=1.8->tfx<1.6.0,>=1.5.0->model-card-toolkit) (3.0.1)\n",
      "Requirement already satisfied: google-auth-httplib2>=0.0.3 in /home/mackenzie/.local/lib/python3.8/site-packages (from google-api-python-client<2,>=1.8->tfx<1.6.0,>=1.5.0->model-card-toolkit) (0.0.4)\n",
      "Requirement already satisfied: fasteners>=0.14 in /usr/lib/python3/dist-packages (from google-apitools<1,>=0.5->tfx<1.6.0,>=1.5.0->model-card-toolkit) (0.14.1)\n",
      "Requirement already satisfied: google-cloud-storage<2.0.0dev,>=1.32.0 in /home/mackenzie/.local/lib/python3.8/site-packages (from google-cloud-aiplatform<2,>=1.5.0->tfx<1.6.0,>=1.5.0->model-card-toolkit) (1.44.0)\n",
      "Requirement already satisfied: google-resumable-media<3.0dev,>=0.6.0 in /home/mackenzie/.local/lib/python3.8/site-packages (from google-cloud-bigquery<3,>=2.26.0->tfx<1.6.0,>=1.5.0->model-card-toolkit) (2.1.0)\n",
      "Requirement already satisfied: pexpect in /usr/lib/python3/dist-packages (from ipython<8,>=7->tensorflow-model-analysis<0.37.0,>=0.36.0->model-card-toolkit) (4.6.0)\n",
      "Requirement already satisfied: decorator in /usr/lib/python3/dist-packages (from ipython<8,>=7->tensorflow-model-analysis<0.37.0,>=0.36.0->model-card-toolkit) (4.4.2)\n",
      "Requirement already satisfied: pygments in /usr/lib/python3/dist-packages (from ipython<8,>=7->tensorflow-model-analysis<0.37.0,>=0.36.0->model-card-toolkit) (2.3.1)\n",
      "Requirement already satisfied: setuptools>=18.5 in /usr/lib/python3/dist-packages (from ipython<8,>=7->tensorflow-model-analysis<0.37.0,>=0.36.0->model-card-toolkit) (45.2.0)\n",
      "Requirement already satisfied: traitlets>=4.2 in /usr/lib/python3/dist-packages (from ipython<8,>=7->tensorflow-model-analysis<0.37.0,>=0.36.0->model-card-toolkit) (4.3.3)\n",
      "Requirement already satisfied: jedi>=0.10 in /usr/lib/python3/dist-packages (from ipython<8,>=7->tensorflow-model-analysis<0.37.0,>=0.36.0->model-card-toolkit) (0.15.2)\n",
      "Requirement already satisfied: backcall in /usr/lib/python3/dist-packages (from ipython<8,>=7->tensorflow-model-analysis<0.37.0,>=0.36.0->model-card-toolkit) (0.1.0)\n",
      "Requirement already satisfied: prompt-toolkit!=3.0.0,!=3.0.1,<3.1.0,>=2.0.0 in /usr/lib/python3/dist-packages (from ipython<8,>=7->tensorflow-model-analysis<0.37.0,>=0.36.0->model-card-toolkit) (2.0.10)\n",
      "Requirement already satisfied: pickleshare in /usr/lib/python3/dist-packages (from ipython<8,>=7->tensorflow-model-analysis<0.37.0,>=0.36.0->model-card-toolkit) (0.7.5)\n",
      "Requirement already satisfied: nbformat>=4.2.0 in /usr/lib/python3/dist-packages (from ipywidgets<8,>=7->tensorflow-model-analysis<0.37.0,>=0.36.0->model-card-toolkit) (5.0.4)\n",
      "Requirement already satisfied: widgetsnbextension~=3.5.0 in /home/mackenzie/.local/lib/python3.8/site-packages (from ipywidgets<8,>=7->tensorflow-model-analysis<0.37.0,>=0.36.0->model-card-toolkit) (3.5.1)\n",
      "Requirement already satisfied: ipykernel>=4.5.1 in /usr/lib/python3/dist-packages (from ipywidgets<8,>=7->tensorflow-model-analysis<0.37.0,>=0.36.0->model-card-toolkit) (5.2.0)\n",
      "Requirement already satisfied: tensorboard in /home/mackenzie/.local/lib/python3.8/site-packages (from keras-tuner<2,>=1.0.4->tfx<1.6.0,>=1.5.0->model-card-toolkit) (2.7.0)\n",
      "Requirement already satisfied: kt-legacy in /home/mackenzie/.local/lib/python3.8/site-packages (from keras-tuner<2,>=1.0.4->tfx<1.6.0,>=1.5.0->model-card-toolkit) (1.0.4)\n",
      "Requirement already satisfied: urllib3>=1.24.2 in /usr/lib/python3/dist-packages (from kubernetes<13,>=10.0.1->tfx<1.6.0,>=1.5.0->model-card-toolkit) (1.25.8)\n",
      "Requirement already satisfied: requests-oauthlib in /home/mackenzie/.local/lib/python3.8/site-packages (from kubernetes<13,>=10.0.1->tfx<1.6.0,>=1.5.0->model-card-toolkit) (1.3.0)\n",
      "Requirement already satisfied: certifi>=14.05.14 in /usr/lib/python3/dist-packages (from kubernetes<13,>=10.0.1->tfx<1.6.0,>=1.5.0->model-card-toolkit) (2019.11.28)\n",
      "Requirement already satisfied: psutil in /home/mackenzie/.local/lib/python3.8/site-packages (from portpicker<2,>=1.3.1->tfx<1.6.0,>=1.5.0->model-card-toolkit) (5.8.0)\n",
      "Requirement already satisfied: h5py>=2.9.0 in /home/mackenzie/.local/lib/python3.8/site-packages (from tensorflow!=2.0.*,!=2.1.*,!=2.2.*,!=2.3.*,!=2.4.*,!=2.5.*,!=2.6.*,<3,>=1.15.2->tensorflow-model-analysis<0.37.0,>=0.36.0->model-card-toolkit) (2.10.0)\n",
      "Requirement already satisfied: wrapt>=1.11.0 in /home/mackenzie/.local/lib/python3.8/site-packages (from tensorflow!=2.0.*,!=2.1.*,!=2.2.*,!=2.3.*,!=2.4.*,!=2.5.*,!=2.6.*,<3,>=1.15.2->tensorflow-model-analysis<0.37.0,>=0.36.0->model-card-toolkit) (1.12.1)\n",
      "Requirement already satisfied: keras<2.8,>=2.7.0rc0 in /home/mackenzie/.local/lib/python3.8/site-packages (from tensorflow!=2.0.*,!=2.1.*,!=2.2.*,!=2.3.*,!=2.4.*,!=2.5.*,!=2.6.*,<3,>=1.15.2->tensorflow-model-analysis<0.37.0,>=0.36.0->model-card-toolkit) (2.7.0)\n",
      "Requirement already satisfied: astunparse>=1.6.0 in /home/mackenzie/.local/lib/python3.8/site-packages (from tensorflow!=2.0.*,!=2.1.*,!=2.2.*,!=2.3.*,!=2.4.*,!=2.5.*,!=2.6.*,<3,>=1.15.2->tensorflow-model-analysis<0.37.0,>=0.36.0->model-card-toolkit) (1.6.3)\n",
      "Requirement already satisfied: flatbuffers<3.0,>=1.12 in /home/mackenzie/.local/lib/python3.8/site-packages (from tensorflow!=2.0.*,!=2.1.*,!=2.2.*,!=2.3.*,!=2.4.*,!=2.5.*,!=2.6.*,<3,>=1.15.2->tensorflow-model-analysis<0.37.0,>=0.36.0->model-card-toolkit) (1.12)\n",
      "Requirement already satisfied: tensorflow-io-gcs-filesystem>=0.21.0 in /home/mackenzie/.local/lib/python3.8/site-packages (from tensorflow!=2.0.*,!=2.1.*,!=2.2.*,!=2.3.*,!=2.4.*,!=2.5.*,!=2.6.*,<3,>=1.15.2->tensorflow-model-analysis<0.37.0,>=0.36.0->model-card-toolkit) (0.23.1)\n",
      "Requirement already satisfied: libclang>=9.0.1 in /home/mackenzie/.local/lib/python3.8/site-packages (from tensorflow!=2.0.*,!=2.1.*,!=2.2.*,!=2.3.*,!=2.4.*,!=2.5.*,!=2.6.*,<3,>=1.15.2->tensorflow-model-analysis<0.37.0,>=0.36.0->model-card-toolkit) (12.0.0)\n",
      "Requirement already satisfied: gast<0.5.0,>=0.2.1 in /home/mackenzie/.local/lib/python3.8/site-packages (from tensorflow!=2.0.*,!=2.1.*,!=2.2.*,!=2.3.*,!=2.4.*,!=2.5.*,!=2.6.*,<3,>=1.15.2->tensorflow-model-analysis<0.37.0,>=0.36.0->model-card-toolkit) (0.3.3)\n",
      "Requirement already satisfied: tensorflow-estimator<2.8,~=2.7.0rc0 in /home/mackenzie/.local/lib/python3.8/site-packages (from tensorflow!=2.0.*,!=2.1.*,!=2.2.*,!=2.3.*,!=2.4.*,!=2.5.*,!=2.6.*,<3,>=1.15.2->tensorflow-model-analysis<0.37.0,>=0.36.0->model-card-toolkit) (2.7.0)\n",
      "Requirement already satisfied: opt-einsum>=2.3.2 in /home/mackenzie/.local/lib/python3.8/site-packages (from tensorflow!=2.0.*,!=2.1.*,!=2.2.*,!=2.3.*,!=2.4.*,!=2.5.*,!=2.6.*,<3,>=1.15.2->tensorflow-model-analysis<0.37.0,>=0.36.0->model-card-toolkit) (3.3.0)\n",
      "Requirement already satisfied: keras-preprocessing>=1.1.1 in /home/mackenzie/.local/lib/python3.8/site-packages (from tensorflow!=2.0.*,!=2.1.*,!=2.2.*,!=2.3.*,!=2.4.*,!=2.5.*,!=2.6.*,<3,>=1.15.2->tensorflow-model-analysis<0.37.0,>=0.36.0->model-card-toolkit) (1.1.2)\n",
      "Requirement already satisfied: google-pasta>=0.1.1 in /home/mackenzie/.local/lib/python3.8/site-packages (from tensorflow!=2.0.*,!=2.1.*,!=2.2.*,!=2.3.*,!=2.4.*,!=2.5.*,!=2.6.*,<3,>=1.15.2->tensorflow-model-analysis<0.37.0,>=0.36.0->model-card-toolkit) (0.2.0)\n",
      "Requirement already satisfied: termcolor>=1.1.0 in /home/mackenzie/.local/lib/python3.8/site-packages (from tensorflow!=2.0.*,!=2.1.*,!=2.2.*,!=2.3.*,!=2.4.*,!=2.5.*,!=2.6.*,<3,>=1.15.2->tensorflow-model-analysis<0.37.0,>=0.36.0->model-card-toolkit) (1.1.0)\n",
      "Requirement already satisfied: wheel<1.0,>=0.32.0 in /home/mackenzie/.local/lib/python3.8/site-packages (from tensorflow!=2.0.*,!=2.1.*,!=2.2.*,!=2.3.*,!=2.4.*,!=2.5.*,!=2.6.*,<3,>=1.15.2->tensorflow-model-analysis<0.37.0,>=0.36.0->model-card-toolkit) (0.36.2)\n"
     ]
    },
    {
     "name": "stdout",
     "output_type": "stream",
     "text": [
      "Requirement already satisfied: joblib<0.15,>=0.12 in /home/mackenzie/.local/lib/python3.8/site-packages (from tensorflow-data-validation<1.6.0,>=1.5.0->tfx<1.6.0,>=1.5.0->model-card-toolkit) (0.14.1)\n",
      "Requirement already satisfied: pyasn1-modules>=0.2.1 in /home/mackenzie/.local/lib/python3.8/site-packages (from google-auth<3,>=1.18.0->apache-beam[gcp]<3,>=2.34->tensorflow-model-analysis<0.37.0,>=0.36.0->model-card-toolkit) (0.2.8)\n",
      "Requirement already satisfied: rsa<5,>=3.1.4 in /home/mackenzie/.local/lib/python3.8/site-packages (from google-auth<3,>=1.18.0->apache-beam[gcp]<3,>=2.34->tensorflow-model-analysis<0.37.0,>=0.36.0->model-card-toolkit) (4.6)\n",
      "Requirement already satisfied: libcst>=0.2.5 in /home/mackenzie/.local/lib/python3.8/site-packages (from google-cloud-bigquery-storage>=2.6.3->apache-beam[gcp]<3,>=2.34->tensorflow-model-analysis<0.37.0,>=0.36.0->model-card-toolkit) (0.3.23)\n",
      "Requirement already satisfied: grpc-google-iam-v1<0.13dev,>=0.12.3 in /home/mackenzie/.local/lib/python3.8/site-packages (from google-cloud-bigtable<2,>=0.31.1->apache-beam[gcp]<3,>=2.34->tensorflow-model-analysis<0.37.0,>=0.36.0->model-card-toolkit) (0.12.3)\n",
      "Requirement already satisfied: google-crc32c<2.0dev,>=1.0 in /home/mackenzie/.local/lib/python3.8/site-packages (from google-resumable-media<3.0dev,>=0.6.0->google-cloud-bigquery<3,>=2.26.0->tfx<1.6.0,>=1.5.0->model-card-toolkit) (1.3.0)\n",
      "Requirement already satisfied: docopt in /home/mackenzie/.local/lib/python3.8/site-packages (from hdfs<3.0.0,>=2.1.0->apache-beam[gcp]<3,>=2.34->tensorflow-model-analysis<0.37.0,>=0.36.0->model-card-toolkit) (0.6.2)\n",
      "Requirement already satisfied: pyasn1>=0.1.7 in /home/mackenzie/.local/lib/python3.8/site-packages (from oauth2client<5,>=2.0.1->apache-beam[gcp]<3,>=2.34->tensorflow-model-analysis<0.37.0,>=0.36.0->model-card-toolkit) (0.4.8)\n",
      "Requirement already satisfied: idna<4,>=2.5 in /usr/lib/python3/dist-packages (from requests<3.0.0,>=2.24.0->apache-beam[gcp]<3,>=2.34->tensorflow-model-analysis<0.37.0,>=0.36.0->model-card-toolkit) (2.8)\n",
      "Requirement already satisfied: charset-normalizer~=2.0.0 in /home/mackenzie/.local/lib/python3.8/site-packages (from requests<3.0.0,>=2.24.0->apache-beam[gcp]<3,>=2.34->tensorflow-model-analysis<0.37.0,>=0.36.0->model-card-toolkit) (2.0.10)\n",
      "Requirement already satisfied: google-auth-oauthlib<0.5,>=0.4.1 in /home/mackenzie/.local/lib/python3.8/site-packages (from tensorboard->keras-tuner<2,>=1.0.4->tfx<1.6.0,>=1.5.0->model-card-toolkit) (0.4.1)\n",
      "Requirement already satisfied: werkzeug>=0.11.15 in /home/mackenzie/.local/lib/python3.8/site-packages (from tensorboard->keras-tuner<2,>=1.0.4->tfx<1.6.0,>=1.5.0->model-card-toolkit) (1.0.1)\n",
      "Requirement already satisfied: markdown>=2.6.8 in /home/mackenzie/.local/lib/python3.8/site-packages (from tensorboard->keras-tuner<2,>=1.0.4->tfx<1.6.0,>=1.5.0->model-card-toolkit) (3.2.2)\n",
      "Requirement already satisfied: tensorboard-data-server<0.7.0,>=0.6.0 in /home/mackenzie/.local/lib/python3.8/site-packages (from tensorboard->keras-tuner<2,>=1.0.4->tfx<1.6.0,>=1.5.0->model-card-toolkit) (0.6.1)\n",
      "Requirement already satisfied: tensorboard-plugin-wit>=1.6.0 in /home/mackenzie/.local/lib/python3.8/site-packages (from tensorboard->keras-tuner<2,>=1.0.4->tfx<1.6.0,>=1.5.0->model-card-toolkit) (1.7.0)\n",
      "Requirement already satisfied: notebook>=4.4.1 in /home/mackenzie/.local/lib/python3.8/site-packages (from widgetsnbextension~=3.5.0->ipywidgets<8,>=7->tensorflow-model-analysis<0.37.0,>=0.36.0->model-card-toolkit) (6.4.0)\n",
      "Requirement already satisfied: oauthlib>=3.0.0 in /usr/lib/python3/dist-packages (from requests-oauthlib->kubernetes<13,>=10.0.1->tfx<1.6.0,>=1.5.0->model-card-toolkit) (3.1.0)\n",
      "Requirement already satisfied: typing-inspect>=0.4.0 in /home/mackenzie/.local/lib/python3.8/site-packages (from libcst>=0.2.5->google-cloud-bigquery-storage>=2.6.3->apache-beam[gcp]<3,>=2.34->tensorflow-model-analysis<0.37.0,>=0.36.0->model-card-toolkit) (0.7.1)\n",
      "Requirement already satisfied: jupyter-core>=4.6.1 in /usr/lib/python3/dist-packages (from notebook>=4.4.1->widgetsnbextension~=3.5.0->ipywidgets<8,>=7->tensorflow-model-analysis<0.37.0,>=0.36.0->model-card-toolkit) (4.6.3)\n",
      "Requirement already satisfied: terminado>=0.8.3 in /home/mackenzie/.local/lib/python3.8/site-packages (from notebook>=4.4.1->widgetsnbextension~=3.5.0->ipywidgets<8,>=7->tensorflow-model-analysis<0.37.0,>=0.36.0->model-card-toolkit) (0.10.1)\n",
      "Requirement already satisfied: pyzmq>=17 in /usr/lib/python3/dist-packages (from notebook>=4.4.1->widgetsnbextension~=3.5.0->ipywidgets<8,>=7->tensorflow-model-analysis<0.37.0,>=0.36.0->model-card-toolkit) (18.1.1)\n",
      "Requirement already satisfied: Send2Trash>=1.5.0 in /usr/lib/python3/dist-packages (from notebook>=4.4.1->widgetsnbextension~=3.5.0->ipywidgets<8,>=7->tensorflow-model-analysis<0.37.0,>=0.36.0->model-card-toolkit) (1.5.0)\n",
      "Requirement already satisfied: argon2-cffi in /home/mackenzie/.local/lib/python3.8/site-packages (from notebook>=4.4.1->widgetsnbextension~=3.5.0->ipywidgets<8,>=7->tensorflow-model-analysis<0.37.0,>=0.36.0->model-card-toolkit) (20.1.0)\n",
      "Requirement already satisfied: prometheus-client in /usr/lib/python3/dist-packages (from notebook>=4.4.1->widgetsnbextension~=3.5.0->ipywidgets<8,>=7->tensorflow-model-analysis<0.37.0,>=0.36.0->model-card-toolkit) (0.7.1)\n",
      "Requirement already satisfied: jupyter-client>=5.3.4 in /usr/lib/python3/dist-packages (from notebook>=4.4.1->widgetsnbextension~=3.5.0->ipywidgets<8,>=7->tensorflow-model-analysis<0.37.0,>=0.36.0->model-card-toolkit) (6.1.2)\n",
      "Requirement already satisfied: tornado>=6.1 in /home/mackenzie/.local/lib/python3.8/site-packages (from notebook>=4.4.1->widgetsnbextension~=3.5.0->ipywidgets<8,>=7->tensorflow-model-analysis<0.37.0,>=0.36.0->model-card-toolkit) (6.1)\n",
      "Requirement already satisfied: nbconvert in /usr/lib/python3/dist-packages (from notebook>=4.4.1->widgetsnbextension~=3.5.0->ipywidgets<8,>=7->tensorflow-model-analysis<0.37.0,>=0.36.0->model-card-toolkit) (5.6.1)\n",
      "Requirement already satisfied: ipython-genutils in /usr/lib/python3/dist-packages (from notebook>=4.4.1->widgetsnbextension~=3.5.0->ipywidgets<8,>=7->tensorflow-model-analysis<0.37.0,>=0.36.0->model-card-toolkit) (0.2.0)\n",
      "Requirement already satisfied: ptyprocess in /home/mackenzie/.local/lib/python3.8/site-packages (from terminado>=0.8.3->notebook>=4.4.1->widgetsnbextension~=3.5.0->ipywidgets<8,>=7->tensorflow-model-analysis<0.37.0,>=0.36.0->model-card-toolkit) (0.7.0)\n",
      "Requirement already satisfied: mypy-extensions>=0.3.0 in /home/mackenzie/.local/lib/python3.8/site-packages (from typing-inspect>=0.4.0->libcst>=0.2.5->google-cloud-bigquery-storage>=2.6.3->apache-beam[gcp]<3,>=2.34->tensorflow-model-analysis<0.37.0,>=0.36.0->model-card-toolkit) (0.4.3)\n",
      "Requirement already satisfied: cffi>=1.0.0 in /home/mackenzie/.local/lib/python3.8/site-packages (from argon2-cffi->notebook>=4.4.1->widgetsnbextension~=3.5.0->ipywidgets<8,>=7->tensorflow-model-analysis<0.37.0,>=0.36.0->model-card-toolkit) (1.14.4)\n",
      "Requirement already satisfied: pycparser in /home/mackenzie/.local/lib/python3.8/site-packages (from cffi>=1.0.0->argon2-cffi->notebook>=4.4.1->widgetsnbextension~=3.5.0->ipywidgets<8,>=7->tensorflow-model-analysis<0.37.0,>=0.36.0->model-card-toolkit) (2.20)\n"
     ]
    }
   ],
   "source": [
    "! pip install --upgrade pip #==20.2\n",
    "! pip install model-card-toolkit"
   ]
  },
  {
   "cell_type": "code",
   "execution_count": 3,
   "metadata": {},
   "outputs": [],
   "source": [
    "from datetime import date\n",
    "from io import BytesIO\n",
    "from IPython import display\n",
    "import model_card_toolkit as mctlib\n",
    "from sklearn.metrics import plot_roc_curve, plot_confusion_matrix\n",
    "\n",
    "import base64\n",
    "import seaborn as sns\n",
    "import uuid"
   ]
  },
  {
   "cell_type": "code",
   "execution_count": 4,
   "metadata": {},
   "outputs": [],
   "source": [
    "# Utility function that will export a plot to a base-64 encoded string that the model card will accept.\n",
    "\n",
    "def plot_to_str():\n",
    "    img = BytesIO()\n",
    "    plt.savefig(img, format='png')\n",
    "    return base64.encodebytes(img.getvalue()).decode('utf-8')"
   ]
  },
  {
   "cell_type": "markdown",
   "metadata": {},
   "source": [
    "### Other imports and setup"
   ]
  },
  {
   "cell_type": "code",
   "execution_count": 5,
   "metadata": {},
   "outputs": [],
   "source": [
    "from impt_functions import *\n",
    "import csv\n",
    "from sklearn.tree import DecisionTreeClassifier\n",
    "from sklearn.naive_bayes import GaussianNB\n",
    "from sklearn.linear_model import LogisticRegression\n",
    "from sklearn import svm\n",
    "from sklearn.ensemble import GradientBoostingClassifier\n",
    "from sklearn.metrics import classification_report, confusion_matrix, accuracy_score, f1_score\n",
    "import pandas as pd \n",
    "import numpy as np\n",
    "import matplotlib.pyplot as plt\n",
    "from matplotlib import colors\n",
    "from fairlearn.reductions import ExponentiatedGradient, GridSearch, DemographicParity, EqualizedOdds, \\\n",
    "    TruePositiveRateParity, FalsePositiveRateParity, ErrorRateParity, BoundedGroupLoss\n",
    "from fairlearn.metrics import *\n",
    "from raiwidgets import FairnessDashboard\n",
    "%matplotlib inline"
   ]
  },
  {
   "cell_type": "code",
   "execution_count": 6,
   "metadata": {},
   "outputs": [],
   "source": [
    "# Dict used for saving overall results to a csv later\n",
    "# Example: overall = {'Unmitigated':[], 'EG DP': [], 'EG EO': [],\n",
    "#                   'EG EOO': [], 'EG FPRP': [], 'EG ERP': [],\n",
    "#                   'GS DP': [], 'GS EO': [],\n",
    "#                   'GS EOO': [], 'GS FPRP': [], 'GS ERP': []}\n",
    "# Example: black_results = {'Unmitigated Black': [], \n",
    "#                          'EG DP Black': [], ..., 'GS ERP Black': []}\n",
    "\n",
    "# Instantiate lists for holding results\n",
    "unmitigated, unmitigated_black, unmitigated_white = [], [], []\n",
    "\n",
    "eg_dp, eg_dp_black, eg_dp_white = [], [], []\n",
    "eg_eo, eg_eo_black, eg_eo_white = [], [], []\n",
    "eg_eoo, eg_eoo_black, eg_eoo_white = [], [], []\n",
    "eg_fprp, eg_fprp_black, eg_fprp_white = [], [], []\n",
    "eg_erp, eg_erp_black, eg_erp_white = [], [], []\n",
    "\n",
    "gs_dp, gs_dp_black, gs_dp_white = [], [], []\n",
    "gs_eo, gs_eo_black, gs_eo_white = [], [], []\n",
    "gs_eoo, gs_eoo_black, gs_eoo_white = [], [], []\n",
    "gs_fprp, gs_fprp_black, gs_fprp_white = [], [], []\n",
    "gs_erp, gs_erp_black, gs_erp_white = [], [], []"
   ]
  },
  {
   "cell_type": "markdown",
   "metadata": {},
   "source": [
    "# 2. Prepare data"
   ]
  },
  {
   "cell_type": "code",
   "execution_count": 7,
   "metadata": {},
   "outputs": [
    {
     "name": "stdout",
     "output_type": "stream",
     "text": [
      "       score  repay_probability  race  repay_indices\n",
      "0        601              75.21     1              1\n",
      "1        693              95.15     1              1\n",
      "2        791              98.62     1              1\n",
      "3        637              86.69     1              1\n",
      "4        775              98.45     1              1\n",
      "...      ...                ...   ...            ...\n",
      "99995    797              98.73     1              1\n",
      "99996    562              58.57     1              1\n",
      "99997    687              94.60     1              1\n",
      "99998    589              70.61     1              1\n",
      "99999    555              52.97     1              0\n",
      "\n",
      "[100000 rows x 4 columns]\n"
     ]
    }
   ],
   "source": [
    "data = get_data(data_file)"
   ]
  },
  {
   "cell_type": "code",
   "execution_count": 8,
   "metadata": {},
   "outputs": [
    {
     "name": "stdout",
     "output_type": "stream",
     "text": [
      "<class 'pandas.core.frame.DataFrame'>\n",
      "       score  repay_probability  race  repay_indices\n",
      "0        601              75.21     1              1\n",
      "1        693              95.15     1              1\n",
      "2        791              98.62     1              1\n",
      "3        637              86.69     1              1\n",
      "4        775              98.45     1              1\n",
      "...      ...                ...   ...            ...\n",
      "99995    797              98.73     1              1\n",
      "99996    562              58.57     1              1\n",
      "99997    687              94.60     1              1\n",
      "99998    589              70.61     1              1\n",
      "99999    555              52.97     1              0\n",
      "\n",
      "[100000 rows x 4 columns]\n"
     ]
    }
   ],
   "source": [
    "print(type(data))\n",
    "print(data)"
   ]
  },
  {
   "cell_type": "code",
   "execution_count": 9,
   "metadata": {},
   "outputs": [
    {
     "name": "stdout",
     "output_type": "stream",
     "text": [
      "Here are the x values:  [[601   1]\n",
      " [693   1]\n",
      " [791   1]\n",
      " ...\n",
      " [687   1]\n",
      " [589   1]\n",
      " [555   1]] \n",
      "\n",
      "Here are the y values:  [1 1 1 ... 1 1 0]\n",
      "Sample weights are all equal.\n"
     ]
    }
   ],
   "source": [
    "X_train, X_test, y_train, y_test, race_train, race_test, sample_weight_train, sample_weight_test = prep_data(data=data, test_size=0.3, weight_index=1)"
   ]
  },
  {
   "cell_type": "code",
   "execution_count": 10,
   "metadata": {},
   "outputs": [
    {
     "data": {
      "image/png": "[encoded data removed]",
      "text/plain": [
       "<Figure size 432x288 with 2 Axes>"
      ]
     },
     "metadata": {
      "needs_background": "light"
     },
     "output_type": "display_data"
    }
   ],
   "source": [
    "# make histogram of credit scores by race\n",
    "fig, axs = plt.subplots(1, 2, sharey=True, tight_layout=True)\n",
    "\n",
    "fig.suptitle('Histogram Credit Score Distribution')\n",
    "plt.xlabel(\"Credit Score\")\n",
    "#plt.ylabel(\"No. of Individuals\")\n",
    "\n",
    "black_credit_dist = data['score'].loc[data['race']==0]\n",
    "white_credit_dist = data['score'].loc[data['race']==1]\n",
    "\n",
    "n_bins = 50\n",
    "# We can set the number of bins with the *bins* keyword argument.\n",
    "axs[0].hist(black_credit_dist, bins=n_bins)\n",
    "axs[0].set_title('Black Group')\n",
    "axs[0].set_xlabel('Credit Score')\n",
    "axs[0].set_ylabel('No. of Individuals')\n",
    "axs[1].set_title('White Group')\n",
    "axs[1].hist(white_credit_dist, bins=n_bins)\n",
    "credit_histogram = plot_to_str()"
   ]
  },
  {
   "cell_type": "code",
   "execution_count": 11,
   "metadata": {},
   "outputs": [
    {
     "data": {
      "image/png": "[encoded data removed]",
      "text/plain": [
       "<Figure size 432x288 with 2 Axes>"
      ]
     },
     "metadata": {
      "needs_background": "light"
     },
     "output_type": "display_data"
    }
   ],
   "source": [
    "fig, axs = plt.subplots(1, 2, sharey=True, tight_layout=True)\n",
    "\n",
    "fig.suptitle('Histogram of Repay Distribution')\n",
    "plt.xlabel('Repay Label')\n",
    "\n",
    "black_label_dist = data['repay_indices'].loc[data['race']==0]\n",
    "white_label_dist = data['repay_indices'].loc[data['race']==1]\n",
    "\n",
    "#print(black_label_dist)\n",
    "#print(white_label_dist)\n",
    "\n",
    "# maybe see if the label is an int or a float\n",
    "\n",
    "# default: 0, repay: 1\n",
    "\n",
    "n_bins = 2\n",
    "# We can set the number of bins with the *bins* keyword argument.\n",
    "#start, end = ax.get_xlim()\n",
    "stepsize=1\n",
    "axs[0].xaxis.set_ticks(np.arange(0, 2, stepsize))\n",
    "axs[0].set_xticklabels(['Default','Repay'])\n",
    "axs[0].hist(black_label_dist, bins=n_bins)\n",
    "axs[0].set_title('Black Group')\n",
    "axs[0].set_ylabel('No. of Individuals')\n",
    "axs[0].set_xlabel('Repay Label')\n",
    "\n",
    "axs[1].xaxis.set_ticks(np.arange(0, 2, stepsize))\n",
    "axs[1].set_xticklabels(['Default','Repay'])\n",
    "axs[1].hist(white_label_dist, bins=n_bins)\n",
    "axs[1].set_title('White Group')\n",
    "repayment_histogram = plot_to_str()"
   ]
  },
  {
   "cell_type": "markdown",
   "metadata": {},
   "source": [
    "# 3. Classifier"
   ]
  },
  {
   "cell_type": "code",
   "execution_count": 12,
   "metadata": {},
   "outputs": [
    {
     "name": "stdout",
     "output_type": "stream",
     "text": [
      "The classifier trained below is:  gbt\n"
     ]
    }
   ],
   "source": [
    "print('The classifier trained below is: ', model_name)"
   ]
  },
  {
   "cell_type": "code",
   "execution_count": 13,
   "metadata": {},
   "outputs": [],
   "source": [
    "if model_name == 'dt':\n",
    "    # Initialize classifier:\n",
    "    classifier = DecisionTreeClassifier()\n",
    "elif model_name == 'gnb':\n",
    "    classifier = GaussianNB()\n",
    "elif model_name == 'lgr':\n",
    "    # Reference: https://towardsdatascience.com/logistic-regression-using-python-sklearn-numpy-mnist-handwriting-recognition-matplotlib-a6b31e2b166a\n",
    "    classifier = LogisticRegression()\n",
    "elif model_name == 'svm_linear':\n",
    "    # Reference: https://www.datacamp.com/community/tutorials/svm-classification-scikit-learn-python\n",
    "    classifier = svm.SVC(kernel='linear', probability=True)\n",
    "elif model_name == 'gbt':\n",
    "    # Reference: https://scikit-learn.org/stable/modules/generated/sklearn.ensemble.GradientBoostingClassifier.html\n",
    "    # Note: max_depth default is 3 but tune this parameter for best performance\n",
    "    classifier = GradientBoostingClassifier(n_estimators=100) \n",
    "else:\n",
    "    print('PROBLEM: input a specified classifier above')"
   ]
  },
  {
   "cell_type": "markdown",
   "metadata": {},
   "source": [
    "## Train classifier and collect predictions\n",
    "NOTE: atm sample_weight are all 1s"
   ]
  },
  {
   "cell_type": "code",
   "execution_count": 14,
   "metadata": {},
   "outputs": [],
   "source": [
    "# Reference: https://www.datacamp.com/community/tutorials/decision-tree-classification-python\n",
    "\n",
    "# Train the classifier:\n",
    "model = classifier.fit(X_train,y_train, sample_weight_train)\n",
    "\n",
    "# Make predictions with the classifier:\n",
    "y_predict = model.predict(X_test)\n",
    "\n",
    "# Scores on test set\n",
    "test_scores = model.predict_proba(X_test)[:, 1]"
   ]
  },
  {
   "cell_type": "markdown",
   "metadata": {},
   "source": [
    "### Evaluation of classifier overall"
   ]
  },
  {
   "cell_type": "code",
   "execution_count": 15,
   "metadata": {},
   "outputs": [
    {
     "data": {
      "text/html": [
       "<div>\n",
       "<style scoped>\n",
       "    .dataframe tbody tr th:only-of-type {\n",
       "        vertical-align: middle;\n",
       "    }\n",
       "\n",
       "    .dataframe tbody tr th {\n",
       "        vertical-align: top;\n",
       "    }\n",
       "\n",
       "    .dataframe thead th {\n",
       "        text-align: right;\n",
       "    }\n",
       "</style>\n",
       "<table border=\"1\" class=\"dataframe\">\n",
       "  <thead>\n",
       "    <tr style=\"text-align: right;\">\n",
       "      <th></th>\n",
       "      <th>Unmitigated</th>\n",
       "    </tr>\n",
       "  </thead>\n",
       "  <tbody>\n",
       "    <tr>\n",
       "      <th>Overall selection rate</th>\n",
       "      <td>0.729033</td>\n",
       "    </tr>\n",
       "    <tr>\n",
       "      <th>Demographic parity difference</th>\n",
       "      <td>0.455137</td>\n",
       "    </tr>\n",
       "    <tr>\n",
       "      <th>Demographic parity ratio</th>\n",
       "      <td>0.4186</td>\n",
       "    </tr>\n",
       "    <tr>\n",
       "      <th>------</th>\n",
       "      <td></td>\n",
       "    </tr>\n",
       "    <tr>\n",
       "      <th>Overall balanced error rate</th>\n",
       "      <td>0.151378</td>\n",
       "    </tr>\n",
       "    <tr>\n",
       "      <th>Balanced error rate difference</th>\n",
       "      <td>0.0180467</td>\n",
       "    </tr>\n",
       "    <tr>\n",
       "      <th>------</th>\n",
       "      <td></td>\n",
       "    </tr>\n",
       "    <tr>\n",
       "      <th>True positive rate difference</th>\n",
       "      <td>0.196806</td>\n",
       "    </tr>\n",
       "    <tr>\n",
       "      <th>True negative rate difference</th>\n",
       "      <td>0.160713</td>\n",
       "    </tr>\n",
       "    <tr>\n",
       "      <th>False positive rate difference</th>\n",
       "      <td>0.160713</td>\n",
       "    </tr>\n",
       "    <tr>\n",
       "      <th>False negative rate difference</th>\n",
       "      <td>0.196806</td>\n",
       "    </tr>\n",
       "    <tr>\n",
       "      <th>Equalized odds difference</th>\n",
       "      <td>0.196806</td>\n",
       "    </tr>\n",
       "    <tr>\n",
       "      <th>------</th>\n",
       "      <td></td>\n",
       "    </tr>\n",
       "    <tr>\n",
       "      <th>Overall AUC</th>\n",
       "      <td>0.934349</td>\n",
       "    </tr>\n",
       "    <tr>\n",
       "      <th>AUC difference</th>\n",
       "      <td>0.0328951</td>\n",
       "    </tr>\n",
       "  </tbody>\n",
       "</table>\n",
       "</div>"
      ],
      "text/plain": [
       "                               Unmitigated\n",
       "Overall selection rate            0.729033\n",
       "Demographic parity difference     0.455137\n",
       "Demographic parity ratio            0.4186\n",
       "------                                    \n",
       "Overall balanced error rate       0.151378\n",
       "Balanced error rate difference   0.0180467\n",
       " ------                                   \n",
       "True positive rate difference     0.196806\n",
       "True negative rate difference     0.160713\n",
       "False positive rate difference    0.160713\n",
       "False negative rate difference    0.196806\n",
       "Equalized odds difference         0.196806\n",
       "  ------                                  \n",
       "Overall AUC                       0.934349\n",
       "AUC difference                   0.0328951"
      ]
     },
     "execution_count": 15,
     "metadata": {},
     "output_type": "execute_result"
    }
   ],
   "source": [
    "# Metrics\n",
    "models_dict = {\"Unmitigated\": (y_predict, test_scores)}\n",
    "get_metrics_df(models_dict, y_test, race_test)"
   ]
  },
  {
   "cell_type": "code",
   "execution_count": 16,
   "metadata": {},
   "outputs": [
    {
     "name": "stdout",
     "output_type": "stream",
     "text": [
      "[[ 6653  2027]\n",
      " [ 1476 19844]]\n",
      "              precision    recall  f1-score   support\n",
      "\n",
      "           0       0.82      0.77      0.79      8680\n",
      "           1       0.91      0.93      0.92     21320\n",
      "\n",
      "    accuracy                           0.88     30000\n",
      "   macro avg       0.86      0.85      0.86     30000\n",
      "weighted avg       0.88      0.88      0.88     30000\n",
      "\n",
      "F1 score micro: \n",
      "0.8832333333333333\n",
      "F1 score weighted: \n",
      "0.8820643372253728\n",
      "F1 score binary: \n",
      "0.9188951401912435\n",
      "\n"
     ]
    },
    {
     "name": "stderr",
     "output_type": "stream",
     "text": [
      "The positional argument 'metric' has been replaced by a keyword argument 'metrics'. From version 0.10.0 passing it as a positional argument or as a keyword argument 'metric' will result in an error\n"
     ]
    },
    {
     "name": "stdout",
     "output_type": "stream",
     "text": [
      "Selection Rate Overall:  0.7290333333333333\n",
      "TNR=TN/(TN+FP)=  0.7664746543778802\n",
      "TPR=TP/(FP+FN)=  0.9307692307692308\n",
      "FNER=FN/(FN+TP)=  0.06923076923076923\n",
      "FPER=FP/(FP+TN)=  0.23352534562211982\n"
     ]
    }
   ],
   "source": [
    "cm = confusion_matrix(y_test, y_predict)\n",
    "print(cm)\n",
    "results_dict = classification_report(y_test, y_predict, output_dict=True)\n",
    "print(classification_report(y_test, y_predict))\n",
    "# Add accuracy to the results list\n",
    "unmitigated.append(round(results_dict['accuracy']*100, 2))\n",
    "f1_micro, f1_weighted, f1_binary = get_f1_scores(y_test, y_predict)\n",
    "f1_str = str(round(f1_micro*100, 2))+\"/\"+str(round(f1_weighted*100, 2))+\"/\"+str(round(f1_binary*100, 2))\n",
    "# Add f1 scores to results list\n",
    "unmitigated.append(f1_str)\n",
    "# Add Selection rate to results list\n",
    "sr = get_selection_rates(y_test, y_predict, race_test, 0)\n",
    "unmitigated.append(round(sr*100, 2))\n",
    "# Add Outcome rates to results list\n",
    "tnr, tpr, fner, fper = evaluation_outcome_rates(y_test, y_predict, sample_weight_test)\n",
    "unmitigated.append(round(tnr*100, 2))\n",
    "unmitigated.append(round(tpr*100, 2))\n",
    "unmitigated.append(round(fner*100, 2))\n",
    "unmitigated.append(round(fper*100, 2))"
   ]
  },
  {
   "cell_type": "markdown",
   "metadata": {},
   "source": [
    "### Delayed impact calculated"
   ]
  },
  {
   "cell_type": "code",
   "execution_count": 17,
   "metadata": {},
   "outputs": [
    {
     "name": "stdout",
     "output_type": "stream",
     "text": [
      "The delayed impact of the black group is:  7.191201353637902\n",
      "The delayed impact of the white group is:  43.80244953504196\n"
     ]
    }
   ],
   "source": [
    "di_black, di_white = calculate_delayed_impact(X_test, y_test, y_predict, race_test)\n",
    "# Add DI to results list\n",
    "di_str = str(round(di_black, 2))+\"/\"+str(round(di_white, 2))\n",
    "unmitigated.append(di_str)"
   ]
  },
  {
   "cell_type": "markdown",
   "metadata": {},
   "source": [
    "### Fairness Metric Evaluation of classifier"
   ]
  },
  {
   "cell_type": "code",
   "execution_count": 18,
   "metadata": {},
   "outputs": [
    {
     "name": "stdout",
     "output_type": "stream",
     "text": [
      "DP Difference:  0.45513739841735296\n",
      "-->difference of 0 means that all groups have the same selection rate\n",
      "DP Ratio: 0.4186003796546112\n",
      "-->ratio of 1 means that all groups have the same selection rate \n",
      "\n",
      "EOD Difference:  0.196806212054929\n",
      "-->difference of 0 means that all groups have the same TN, TN, FP, and FN rates\n",
      "EOD Ratio: 0.4200407021632051\n",
      "-->ratio of 1 means that all groups have the same TN, TN, FP, and FN rates rates \n",
      "\n",
      "EOO/TPR Difference:  0.196806212054929\n",
      "FPR Difference:  0.16071271721591868\n",
      "ER Difference:  0.05243127392733704\n",
      "\n"
     ]
    }
   ],
   "source": [
    "dp_diff, eod_diff, eoo_dif, fpr_dif, er_dif = print_fairness_metrics(y_test, y_predict, race_test, sample_weight_test)\n",
    "\n",
    "# Add the fairness metric differences to results list\n",
    "unmitigated.append(round(dp_diff*100, 2))\n",
    "unmitigated.append(round(eod_diff*100, 2))\n",
    "unmitigated.append(round(eoo_dif*100, 2))\n",
    "unmitigated.append(round(fpr_dif*100, 2))\n",
    "unmitigated.append(round(er_dif*100, 2))"
   ]
  },
  {
   "cell_type": "markdown",
   "metadata": {},
   "source": [
    "### Evaluation of classifier by race"
   ]
  },
  {
   "cell_type": "code",
   "execution_count": 19,
   "metadata": {},
   "outputs": [
    {
     "name": "stdout",
     "output_type": "stream",
     "text": [
      "EVALUATION FOR BLACK GROUP\n",
      "[[2080  274]\n",
      " [ 304  888]]\n",
      "              precision    recall  f1-score   support\n",
      "\n",
      "           0       0.87      0.88      0.88      2354\n",
      "           1       0.76      0.74      0.75      1192\n",
      "\n",
      "    accuracy                           0.84      3546\n",
      "   macro avg       0.82      0.81      0.82      3546\n",
      "weighted avg       0.84      0.84      0.84      3546\n",
      "\n",
      "F1 score micro: \n",
      "0.8369994359842077\n",
      "F1 score weighted: \n",
      "0.8364768170951871\n",
      "F1 score binary: \n",
      "0.7544604927782498\n",
      "\n",
      "TNR=TN/(TN+FP)=  0.8836023789294817\n",
      "TPR=TP/(FP+FN)=  0.7449664429530202\n",
      "FNER=FN/(FN+TP)=  0.2550335570469799\n",
      "FPER=FP/(FP+TN)=  0.11639762107051826\n",
      "\n",
      "EVALUATION FOR WHITE GROUP\n",
      "[[ 4573  1753]\n",
      " [ 1172 18956]]\n",
      "              precision    recall  f1-score   support\n",
      "\n",
      "           0       0.80      0.72      0.76      6326\n",
      "           1       0.92      0.94      0.93     20128\n",
      "\n",
      "    accuracy                           0.89     26454\n",
      "   macro avg       0.86      0.83      0.84     26454\n",
      "weighted avg       0.89      0.89      0.89     26454\n",
      "\n",
      "F1 score micro: \n",
      "0.8894307099115446\n",
      "F1 score weighted: \n",
      "0.8875563065518303\n",
      "F1 score binary: \n",
      "0.928373778681098\n",
      "\n",
      "TNR=TN/(TN+FP)=  0.7228896617135631\n",
      "TPR=TP/(FP+FN)=  0.9417726550079492\n",
      "FNER=FN/(FN+TP)=  0.05822734499205087\n",
      "FPER=FP/(FP+TN)=  0.27711033828643694\n"
     ]
    },
    {
     "name": "stderr",
     "output_type": "stream",
     "text": [
      "The positional argument 'metric' has been replaced by a keyword argument 'metrics'. From version 0.10.0 passing it as a positional argument or as a keyword argument 'metric' will result in an error\n"
     ]
    },
    {
     "name": "stdout",
     "output_type": "stream",
     "text": [
      "Selection Rate By Group:  sensitive_feature_0\n",
      "0    0.327693\n",
      "1    0.782831\n",
      "Name: selection_rate, dtype: object \n",
      "\n",
      "The delayed impact of the black group is:  7.191201353637902\n",
      "The delayed impact of the white group is:  43.80244953504196\n"
     ]
    }
   ],
   "source": [
    "results_black, results_white = evaluation_by_race(X_test, y_test, race_test, y_predict, sample_weight_test)\n",
    "unmitigated_black.extend(results_black)\n",
    "unmitigated_white.extend(results_white)"
   ]
  },
  {
   "cell_type": "markdown",
   "metadata": {},
   "source": [
    "### Save results to dictionaries"
   ]
  },
  {
   "cell_type": "code",
   "execution_count": 20,
   "metadata": {},
   "outputs": [
    {
     "name": "stdout",
     "output_type": "stream",
     "text": [
      "{'Unmitigated': [88.32, '88.32/88.21/91.89', 72.9, 76.65, 93.08, 6.92, 23.35, '7.19/43.8', 45.51, 19.68, 19.68, 16.07, 5.24]}\n",
      "{'Unmitigated': [83.7, '83.7/83.65/75.45', 32.77, 88.36, 74.5, 25.5, 11.64, 7.19]}\n",
      "{'Unmitigated': [88.94, '88.94/88.76/92.84', 78.28, 72.29, 94.18, 5.82, 27.71, 43.8]}\n"
     ]
    }
   ],
   "source": [
    "run_key = 'Unmitigated'\n",
    "overall_results_dict = add_values_in_dict({}, run_key, unmitigated)\n",
    "black_results_dict = add_values_in_dict({}, run_key, unmitigated_black)\n",
    "white_results_dict = add_values_in_dict({}, run_key, unmitigated_white)\n",
    "print(overall_results_dict)\n",
    "print(black_results_dict)\n",
    "print(white_results_dict)"
   ]
  },
  {
   "cell_type": "markdown",
   "metadata": {},
   "source": [
    "### Model Card\n",
    "https://github.com/tensorflow/model-card-toolkit/blob/master/model_card_toolkit/documentation/examples/Scikit_Learn_Model_Card_Toolkit_Demo.ipynb"
   ]
  },
  {
   "cell_type": "markdown",
   "metadata": {},
   "source": [
    "#### Evaluation of model stuff"
   ]
  },
  {
   "cell_type": "code",
   "execution_count": 25,
   "metadata": {},
   "outputs": [
    {
     "data": {
      "image/png": "[encoded data removed]",
      "text/plain": [
       "<Figure size 432x288 with 2 Axes>"
      ]
     },
     "metadata": {
      "needs_background": "light"
     },
     "output_type": "display_data"
    }
   ],
   "source": [
    "plot_confusion_matrix(model, X_test, y_test)\n",
    "gbt_confusion_matrix = plot_to_str()"
   ]
  },
  {
   "cell_type": "markdown",
   "metadata": {},
   "source": [
    "### Intialize toolkit and model card"
   ]
  },
  {
   "cell_type": "code",
   "execution_count": 22,
   "metadata": {},
   "outputs": [],
   "source": [
    "mct = mctlib.ModelCardToolkit()\n",
    "\n",
    "model_card = mct.scaffold_assets()"
   ]
  },
  {
   "cell_type": "markdown",
   "metadata": {},
   "source": [
    "#### Annotate info into model card"
   ]
  },
  {
   "cell_type": "code",
   "execution_count": 26,
   "metadata": {},
   "outputs": [],
   "source": [
    "model_card.model_details.name = 'GBT Classifier with Simulated Credit Score Dataset'\n",
    "model_card.model_details.overview = (\n",
    "    'This model predicts whether an individual should repay or default if the bank gives them a loan.')\n",
    "model_card.model_details.owners = [\n",
    "    mctlib.Owner(name= 'Mackenzie Jorgensen', contact='mackenzie.jorgensen@kcl.ac.uk')\n",
    "]\n",
    "#model_card.model_details.references = [\n",
    "#    mctlib.Reference(reference='https://archive.ics.uci.edu/ml/datasets/Breast+Cancer+Wisconsin+(Diagnostic)')]\n",
    "model_card.model_details.version.name = str(uuid.uuid4())\n",
    "model_card.model_details.version.date = str(date.today())\n",
    "model_card.considerations.ethical_considerations = [mctlib.Risk(\n",
    "    name=('Deals with sensitive data, like race.'),\n",
    "    mitigation_strategy='Utilize discrimination mitigation methods.'\n",
    ")]\n",
    "model_card.considerations.limitations = [mctlib.Limitation(description='Loan Giving Risk')]\n",
    "model_card.considerations.use_cases = [mctlib.UseCase(description='Banks predicting if an applicant will repay them if they are granted a loan.')]\n",
    "model_card.considerations.users = [mctlib.User(description='Bankers'), mctlib.User(description='ML researchers')]\n",
    "\n",
    "model_card.model_parameters.data.append(mctlib.Dataset())\n",
    "model_card.model_parameters.data[0].graphics.description = ('Credit Score Histogram')\n",
    "\n",
    "model_card.model_parameters.data[0].graphics.collection = [\n",
    "    mctlib.Graphic(image=credit_histogram)\n",
    "]\n",
    "model_card.model_parameters.data[1].graphics.description = ('Loan Repayment Histogram')\n",
    "model_card.model_parameters.data[1].graphics.collection = [\n",
    "    mctlib.Graphic(image=repayment_histogram)\n",
    "]\n",
    "'''\n",
    "model_card.model_parameters.data.append(mctlib.Dataset())\n",
    "model_card.model_parameters.data[1].graphics.description = (\n",
    "  f'{len(X_test)} rows with {len(X_test.columns)} features')\n",
    "model_card.model_parameters.data[1].graphics.collection = [\n",
    "    mctlib.Graphic(image=mean_radius_test),\n",
    "    mctlib.Graphic(image=mean_texture_test)\n",
    "]\n",
    "'''\n",
    "model_card.quantitative_analysis.graphics.description = ('GBT Unmitigated Confusion Matrix')\n",
    "model_card.quantitative_analysis.graphics.collection = [\n",
    "    mctlib.Graphic(image=gbt_confusion_matrix)\n",
    "]\n",
    "\n",
    "mct.update_model_card(model_card)"
   ]
  },
  {
   "cell_type": "markdown",
   "metadata": {},
   "source": [
    "#### Generate model card"
   ]
  },
  {
   "cell_type": "code",
   "execution_count": 27,
   "metadata": {},
   "outputs": [
    {
     "data": {
      "text/html": [
       "<!DOCTYPE html>\n",
       "\n",
       "\n",
       "\n",
       "\n",
       "\n",
       "\n",
       "\n",
       "\n",
       "\n",
       "\n",
       "\n",
       "<html lang=\"en\">\n",
       "<head>\n",
       "<style>\n",
       "  h1 {text-align: center;}\n",
       "  .row {\n",
       "    display: flex;\n",
       "  }\n",
       "  .col {\n",
       "    flex: 1;\n",
       "  }\n",
       "  .card {\n",
       "    padding: 1em;\n",
       "    border: 1px solid #DADCE0;\n",
       "    margin: 10px;\n",
       "  }\n",
       "  .img-container {\n",
       "    display: flex;\n",
       "    flex-wrap: wrap;\n",
       "    justify-content: space-around;\n",
       "    text-align: center;\n",
       "  }\n",
       "  .img-item {\n",
       "    flex: 1;\n",
       "  }\n",
       "  .center {\n",
       "    margin-left: auto;\n",
       "    margin-right: auto;\n",
       "  }\n",
       "  table, th, td { border: 1px solid black; }\n",
       "  th, td { border: 1px solid #CCC; height: 30px; }\n",
       "  caption { font-weight: bold; }\n",
       "</style>\n",
       "<title>\n",
       "  Model Card for GBT Classifier with Simulated Credit Score Dataset\n",
       "</title>\n",
       "</head>\n",
       "<body>\n",
       "  <h1>\n",
       "    Model Card for GBT Classifier with Simulated Credit Score Dataset\n",
       "  </h1>\n",
       "    <div class=\"row\">\n",
       "      <div class=\"col card\">\n",
       "        <h2>Model Details</h2>\n",
       "          <h3>Overview</h3>\n",
       "              This model predicts whether an individual should repay or default if the bank gives them a loan.\n",
       "          <h3>Version</h3>\n",
       "              \n",
       "  \n",
       "    <div>name: deb8288b-0119-48e3-9cdd-14860a7574cb</div>\n",
       "\n",
       "              \n",
       "  \n",
       "    <div>date: 2022-01-11</div>\n",
       "\n",
       "              \n",
       "  \n",
       "\n",
       "          \n",
       "          \n",
       "          <h3>Owners</h3>\n",
       "            \n",
       "              Mackenzie Jorgensen, mackenzie.jorgensen@kcl.ac.uk\n",
       "            \n",
       "          \n",
       "          \n",
       "          \n",
       "          \n",
       "        </div>\n",
       "      \n",
       "      \n",
       "      <div class=\"col card\">\n",
       "        <h2>Considerations</h2>\n",
       "          \n",
       "            <h3>Intended Users</h3>\n",
       "              \n",
       "  \n",
       "  <ul>\n",
       "  \n",
       "    <li>Bankers</li>\n",
       "  \n",
       "    <li>ML researchers</li>\n",
       "  \n",
       "  </ul>\n",
       "\n",
       "          \n",
       "          \n",
       "            <h3>Use Cases</h3>\n",
       "              \n",
       "  \n",
       "  <ul>\n",
       "  \n",
       "    <li>Banks predicting if an applicant will repay them if they are granted a loan.</li>\n",
       "  \n",
       "  </ul>\n",
       "\n",
       "          \n",
       "          \n",
       "            <h3>Limitations</h3>\n",
       "              \n",
       "  \n",
       "  <ul>\n",
       "  \n",
       "    <li>Loan Giving Risk</li>\n",
       "  \n",
       "  </ul>\n",
       "\n",
       "          \n",
       "          \n",
       "          \n",
       "            <h3>Ethical Considerations</h3>\n",
       "              <ul>\n",
       "                <li>\n",
       "                  <div>Risk: Deals with sensitive data, like race.</div>\n",
       "                  <div>Mitigation Strategy: Utilize discrimination mitigation methods.</div>\n",
       "                </li> </ul>\n",
       "      </div>\n",
       "      \n",
       "    </div>\n",
       "    \n",
       "      \n",
       "  <div class=\"col card\">\n",
       "    <h2>Datasets</h2>\n",
       "    \n",
       "      <div class=\"row\">\n",
       "        <div class=\"col card\">\n",
       "          \n",
       "            \n",
       "            \n",
       "            \n",
       "              \n",
       "  <div class=\"img-container\">\n",
       "  \n",
       "  \n",
       "    <div class=\"img-item\">\n",
       "      <img src='data:image/jpeg;base64,iVBORw0KGgoAAAANSUhEUgAAAbAAAAEgCAYAAADVKCZpAAAAOXRFWHRTb2Z0d2FyZQBNYXRwbG90\n",
       "bGliIHZlcnNpb24zLjMuMywgaHR0cHM6Ly9tYXRwbG90bGliLm9yZy/Il7ecAAAACXBIWXMAAAsT\n",
       "AAALEwEAmpwYAAArH0lEQVR4nO3deZgcVb3/8fdHiCyyhEDEkMWABL3gj83IIi6A7KJBLkK4iAG5\n",
       "xgUUkXsFvCq74lXBnUuQsKkERISIeDHsoAIJyBYWM0IwCYHEbBCR3AS+vz/OGagMPTPdPT09U9Of\n",
       "1/P0M1WnTlWd6j7T3zqnTlcpIjAzMyubN/R1AczMzOrhAGZmZqXkAGZmZqXkAGZmZqXkAGZmZqXk\n",
       "ADaASZopafe+LkfZSbpE0ll5+n2SnujrMjWDpN9JmtCgba32vkmaLWmvRmw7b891vQU5gJVUpS8A\n",
       "SUdJuqt9PiK2iYjbutnOaEkhac1eKmqvkzRM0kWS5kt6QdLjkk6X9KZG7ysi7oyItxf23e0XsaSv\n",
       "SHpK0nJJcyVd2ehy1Sp/5v/IZVok6WZJhxXzRMT+EXFpldvasqs8Hd+3niieUBS2321dt4HHAcx6\n",
       "VW8HRklDgD8B6wC7RsT6wN7AYOBtzS5Phf1NAI4E9oqI9YCxwM0N3ke9x7RdLtPbgUuAH0k6tWEF\n",
       "y8p8cmT9mwPYAFZsHUjaSdIMSc9Lek7SuTnbHfnv0nw2vqukN0j6qqSnJS2QdJmkDQvb/URetkjS\n",
       "1zrs5zRJV0v6maTngaPyvv8kaWluJf1I0hsL2wtJn5M0K7egzpT0Nkl/zOW9qpi/gy8BLwAfj4jZ\n",
       "ABExJyKOj4iHCts/VtIsYFZOO1DSA7lMf5S0baE8O0i6P5flSmDtwrLdJc3N05cDo4Df5PfuyxXK\n",
       "927gxoj4ay7bsxExqbC9IZIulvSMpCWSri0s+5SkNkmLJU2VtFmH96zqY+pKRPw9Ii4HPgucImnj\n",
       "vL3bJP17nt5S0u2Slkn6e3srUlJ7/XkwvweHtb9Hkk6S9CxwcfF9K743kh7Nx32xpLXzNlfrSSgc\n",
       "75aSJgJHAF/O+/tNXl6sg2tJ+l5+T5/J02sVPz9JJ+a6PV/S0dW8T9YPRYRfJXwBs0ln9cW0o4C7\n",
       "KuUhtVKOzNPrAbvk6dFAAGsW1vsk0AZskfNeA1yel20NLAfeC7wR+A6wsrCf0/L8QaQTpHWAdwG7\n",
       "AGvm/T0GfLGwvwCuAzYAtgFWkFopWwAbAo8CEzp5H+4GTu/mvQpgGjAkl2cHYAGwM7AGMCG/V2vl\n",
       "Y3oaOAEYBBySj+esvK3dgbldfQ4d9v1xYDHwn6TW1xodlv8WuBLYKO/vAzl9T+DvwI65XD8E7qjn\n",
       "mLp4T7bskDYIWAXsn+dvA/49T18B/Ff+TNcG3tvZtvJ7tAr4Vi77Op28b48AI/Mx/KHwHh9FoR53\n",
       "3AeptXhWZ/8PwBm5XrwZGAr8ETizQ9nOyMd7APAisFFf/0/7VfvLLbByuzafbS+VtBT4SRd5VwJb\n",
       "StokIpZHxN1d5D0CODcinoyI5cApwHilrqBDgN9ExF0R8X/A10lfLkV/iohrI+KViPhnRNwXEXdH\n",
       "xKpIraQLgA90WOe/I+L5iJhJ+mL7fd7/MuB3pC/oSjYG5ndxLO2+GRGLI+KfwETggoi4JyJejnSd\n",
       "ZwUpyO5C+mL7XkSsjIirgelVbL+iiPgZ8HlgX+B2YIGkkyBduwP2Bz4TEUvy/m7Pqx4BTI6I+yNi\n",
       "Bekz2FXS6DqOqdqyriQFzSEVFq8E3gpsFhEvRcRdFfIUvQKcGhErcvkq+VGk1vJi4Gzg8GrL2o0j\n",
       "gDMiYkFELAROJ3XjtluZl6+MiBtIJ2QNuT5nzeUAVm4HRcTg9hfwuS7yHgNsBTwuabqkA7vIuxmp\n",
       "FdLuaVLradO8bE77goh4EVjUYf05xRlJW0m6XtKzuVvxG8AmHdZ5rjD9zwrz63VS1kXAsC6OpVKZ\n",
       "3gqc2CH4jyQd22bAvIgoBuXie1GziPh5ROxFui73GeBMSfvmfS6OiCUVVlvtM8gnEouA4XUcU1Uk\n",
       "DSK1WBZXWPxlQMC9SiP+PtnN5hZGxEvd5CmW/+laytqNSvW3uO1FEbGqMP8indcv68ccwFpERMyK\n",
       "iMNJ3SrfAq5WGqVX6W7Oz5C+ENuNInW7PEdq7YxoXyBpHVIraLXddZg/H3gcGBMRGwBfIX0ZNsJN\n",
       "wEcldVeXi2WaA5xdDP4RsW5EXEE6vuGSiuUbVeV2uy5AOuP/JfAQ8M5cjiGSBlfIvtpnkD+rjYF5\n",
       "dRxTtcaRPud7K5T92Yj4VERsBnwa+Im6HnlYzfsysjA9inTMAP8A1m1fIOktNW67Uv19ppO8VmIO\n",
       "YC1C0sclDY2IV4ClOfkVYGH+u0Uh+xXACZI2l7QeqcV0ZT5rvRr4sKT35IEVp9F9MFofeB5YLukd\n",
       "pMECjXIu6drZpZLeCiBpuKRzuxjEcCHwGUk7K3mTpA9JWp90rXAV8AVJgyQdDOzUxf6fY/X3bjV5\n",
       "QMKHJK2vNDhmf9J1vnsiYj6pe/QnkjbK+3t/XvUK4GhJ2+cBCN/I68yu45i6pDSQ5Ajgx8C3IqJj\n",
       "ixpJH5PUfuKyhBREXqnmPejCsZJGKI0k/S/StUCAB4Ft8rGvTapjRd3t7wrgq5KGStqE1M39szrK\n",
       "Z/2cA1jr2A+YKWk58H1gfL4+9SLp+sMfctfTLsBk4HLSCMWngJdI13HI16g+D0whtVaWkwYPrOhi\n",
       "3/8B/BtptOCFvPZF1WP5+sl7SNc17pH0AmkAyDLSQJRK68wAPgX8iPRl3EYaOEC+rndwnl8MHEYa\n",
       "xNKZb5K+LJdK+o8Ky58ntTj/Rjpx+G/gs4VrSEfmsj9Oeh+/mMtxE/A14Fek9/ltwPgu3odOj6kL\n",
       "D+b60Ab8O3BCRHy9k7zvJr2/y4GpwPER8WRedhrpBGKppEO72WfRL4DfA08CfwXOysfyF9Igi5tI\n",
       "Iyw7Xm+7CNg67+/aCts9C5hBauk+DNzfvm0bWLR6V79ZbXILbSmpe/CpPi6OmbUQt8CsZpI+LGnd\n",
       "fF3mO6Sz3Nl9WyozazUOYFaPcaSL4s8AY0jdkW7Km1lTuQvRzMxKyS0wMzMrJQcwMzMrJQcwMzMr\n",
       "JQcwMzMrJQcwMzMrJQcwMzMrJQcwMzMrJQcwMzMrJQcwMzMrJQcwMzMrJQcwMzMrJQcwMzMrJQcw\n",
       "MzMrJQcwMzMrJQcwMzMrJQewAUjSJZLO6uE2dpc0t1FlMmsWSSFpy06WHSHp980uk/UOB7ASkjRb\n",
       "0j8lLZe0RNJvJY3s4zINk3ShpGdyuZ7MgfQdfVkuKzdJp0j6XYe0WZ2kje9uexHx84jYp7Bep8Gu\n",
       "yvJJ0nGSHpL0oqRnJd1WTVms5xzAyuvDEbEeMAx4DvhhXxVE0sbAH4F1gfcB6wM7ArcDe3eyzppN\n",
       "K6CV2R3AeyStAelECRgE7NAhbcuct9l+AHwROBHYGBgOfBXYr1LmHPD8vdsgfiNLLiJeAq4Gtq60\n",
       "XNJGkq6XtDC31q6XNKKwfIiki3PLaYmkazvZzhckPVpct+AE4HngyIj4ayRLI+LiiPhhXn90Pts9\n",
       "RtLfgFskvUHSVyU9LWmBpMskbZjzv64LM7c898rTp0m6WtKVkl6QdL+k7Wp+A62/m04KWNvn+fcB\n",
       "twJPdEj7a0Q8U1hvr9wqWyrpx5IEIOkoSXfl6faA92DuNTgspx8o6YG87h8lbVupYJK2Aj4HjI+I\n",
       "aRHxz4h4OSLuioijCvluk3S2pD8ALwJbSHqPpOmSluW/7ynkf7We5/nTJP0sT7f/H03M/7PzJf1H\n",
       "ze/qAOEAVnKS1gUOA+7uJMsbgIuBtwKjgH8CPyosv5zUctoGeDNwXoV9fB04CvhARFS6LrYX8OuI\n",
       "eKWKIn8A+Bdg37zNo4A9gC2A9TqUrTvjgF8CQ4BfANdKGlTD+tbPRcT/AfcA789J7wfuBO7qkNax\n",
       "9XUg8G5gW+BQUn3ruO329beLiPUi4kpJOwCTgU+TWlQXAFMlrVWheHsCcyJiRhWHciQwkdQ78QLw\n",
       "W1LrbWPgXOC3uSejWnsAY4B9gJOKAa+VOICV17WSlgLLSN10366UKSIWRcSvIuLFiHgBOJsURNq7\n",
       "XvYHPhMRSyJiZUTcXlhdks4l/ZPsERELOynLJsCzhZU+ks9eX9DrL5ifFhH/iIh/AkcA50bEkxGx\n",
       "HDgFGF9D9+J9EXF1RKwkfQmsDexS5bpWHrfzWrB6HymA3dkh7fYO65yTewH+RmqxbV/lviYCF0TE\n",
       "Pbk1dSmwgsr1arV6DyBpbq77L0l6a2HRJRExMyJWkf6fZkXE5RGxKiKuAB4HPlxlGQFOz/9HD5NO\n",
       "UA+vYd0BwwGsvA6KiMGkL+3jgNslvaVjJknrSrogd9M9TzpTHZyvH4wEFkfEkk72MZj0D/3NiFjW\n",
       "RVkWka7FARARU3PZTgDe2CHvnML0ZsDThfmngTWBTbvYV8Vt5dbf3LxNG1juAN4raQgwNCJmka65\n",
       "vienvZPXt8CKgeVFUuu+Gm8FTsxBaGk+SRxJ5Xq1Wr0HiIgRpMC2FqDCoq7qPXl+eJVl7Li9pzsp\n",
       "34DnAFZy+SzxGuBl4L0VspwIvB3YOSI24LWzVpH+CYZIGtzJ5peQumIulrRbF8W4GTioyovTUZh+\n",
       "hvSF0W4UsIo0KOUfpK7NVNgUcId22NbIwvI3ACPyNm1g+ROwIfAp4A8AEfE86bP+FPBMRDzVoH3N\n",
       "Ac6OiMGF17q5ldTRLcAISWOr2G5X9R5S3Z+Xp1er+8DrTkwp1P28bkvWewewksujmsYBGwGPVciy\n",
       "Pum619J8tnpq+4KImA/8DvhJHuwxSNL7iytHxG2krr5rJO3USTHOzfu/XNLbcpnWp/tumyuAEyRt\n",
       "Lmk94BvAlbmb5S/A2pI+lK9rfZV0Vlv0LkkH5y7HL5K6ejq7FmgllbubZwBfInUdtrsrp/Vk9OFz\n",
       "pOuv7S4EPiNp51yP35Tr4PoVyvUE6RrZFEl7S1onn2i9p2PeDm4AtpL0b5LWzINHtgauz8sfIHWl\n",
       "D8rB8ZAK2/ha7l3ZBjgauLKGYx4wHMDK6zeSlpNG/50NTIiImRXyfQ9YB/g76cv9fzssPxJYSeqD\n",
       "X0AKBKuJiGnAJ/M+d6yw/O+kawQvkb5UXiD9E64PfLaLY5hMGkRyB/BUXv/zeZvLSCO8fko6M/0H\n",
       "qYuw6DrSAJYl+TgOztfDbOC5nTTI6K5C2p05rScB7DTg0txdeGgekPEp0mCiJUAbaaBRZ44lDcY4\n",
       "F1hMqqNnkurl3yqtEBGLSD0bJ5K6Ib8MHJj/jwC+Brwt7/900gCljm7PZbsZ+E5EtOSPsxUR3ecy\n",
       "62cknQZsGREf7+uymDWLpNGkk71BuaeipbkFZmZmpeQAZmZmpeQuRDMzKyW3wMzMrJQcwMzMrJRa\n",
       "4o7gm2yySYwePbqvi2FWs/vuu+/vEdHxB9zdcp23sqqlzrdEABs9ejQzZlRzv02z/kVSx1sOVcV1\n",
       "3sqqljrvLkQzMyslBzAzMyslBzAzMyslBzAzMyslBzAzMyslBzAzMyulpgYwSWtI+rOk6/P85pLu\n",
       "kdQm6UpJb8zpa+X5trx8dGEbp+T0JyTt28zym5lZ/9Hs34EdT3ro4gZ5/lvAeRExRdL/AMcA5+e/\n",
       "SyJiS0njc77DJG0NjAe2IT1C+yZJW0XEy00+DjOzUhp98m9Xm599zof6qCQ917QWmKQRwIdIDyhE\n",
       "koA9gatzlkuBg/L0uDxPXv7BnH8cMCUiVuRHiLcBnT0l2MzMBrBmdiF+j/Tk0Vfy/MbA0sJD2eYC\n",
       "w/P0cGAOQF6+LOd/Nb3COmZm1kKa0oUo6UBgQUTcJ2n3Ju1zIjARYNSoUc3YpVmfcp23nip2L5ah\n",
       "a7FZLbDdgI9Img1MIXUdfh8YLKk9iI4A5uXpecBIgLx8Q2BRMb3COquJiEkRMTYixg4dWvO9UM1K\n",
       "x3XeWk1TAlhEnBIRIyJiNGkQxi0RcQRwK3BIzjYBuC5PT83z5OW3RHry5lRgfB6luDkwBri3Gcdg\n",
       "Zmb9S1/fjf4kYIqks4A/Axfl9IuAyyW1AYtJQY+ImCnpKuBRYBVwrEcgmpm1pqYHsIi4DbgtTz9J\n",
       "hVGEEfES8LFO1j8bOLv3SmhmZmXgO3GYmVkp9XUXopmZ9aGOP2wuE7fAzMyslBzAzMyslBzAzMys\n",
       "lBzAzMyslBzAzMyslBzAzMyslBzAzMyslBzAzMyslBzAzMyslBzAzMyslHwrKTMze50yPNzSLTAz\n",
       "MyulpgUwSWtLulfSg5JmSjo9p18i6SlJD+TX9jldkn4gqU3SQ5J2LGxrgqRZ+TWhk12amdkA1swu\n",
       "xBXAnhGxXNIg4C5Jv8vL/jMiru6Qf3/SE5fHADsD5wM7SxoCnAqMBQK4T9LUiFjSlKMwM7N+oWkt\n",
       "sEiW59lB+RVdrDIOuCyvdzcwWNIwYF9gWkQszkFrGrBfb5bdzMz6n6ZeA5O0hqQHgAWkIHRPXnR2\n",
       "7iY8T9JaOW04MKew+tyc1lm6mZm1kKYGsIh4OSK2B0YAO0l6J3AK8A7g3cAQ4KRG7EvSREkzJM1Y\n",
       "uHBhIzZp1q+5zlur6ZNRiBGxFLgV2C8i5uduwhXAxcBOOds8YGRhtRE5rbP0jvuYFBFjI2Ls0KFD\n",
       "e+EozPoX13lrNc0chThU0uA8vQ6wN/B4vq6FJAEHAY/kVaYCn8ijEXcBlkXEfOBGYB9JG0naCNgn\n",
       "p5mZWQtp5ijEYcClktYgBc6rIuJ6SbdIGgoIeAD4TM5/A3AA0Aa8CBwNEBGLJZ0JTM/5zoiIxc07\n",
       "DDMz6w+aFsAi4iFghwrpe3aSP4BjO1k2GZjc0AKamVmp+E4cZmZWSg5gZmZWSg5gZmZWSg5gZmZW\n",
       "Sg5gZmZWSg5gZmZWSg5gZmZWSn4is5mZVa34pGbo26c1uwVmZmal5ABmZmal5ABmZmal5GtgZmYD\n",
       "UPFaVV9ep+pNboGZmVkpOYCZmVkpNfOBlmtLulfSg5JmSjo9p28u6R5JbZKulPTGnL5Wnm/Ly0cX\n",
       "tnVKTn9C0r7NOgYzM+s/enQNLD8ReWR+1ld3VgB7RsRySYOAuyT9DvgScF5ETJH0P8AxwPn575KI\n",
       "2FLSeOBbwGGStgbGA9sAmwE3SdoqIl7uybGYmQ1UHX+7NVDU3AKTdJukDSQNAe4HLpR0bnfrRbI8\n",
       "zw7KrwD2BK7O6ZcCB+XpcXmevPyDkpTTp0TEioh4ivTE5p1qPQ4zs4Fg9Mm/ffXVaurpQtwwIp4H\n",
       "DgYui4idgb2qWVHSGpIeABYA04C/AksjYlXOMhcYnqeHA3MA8vJlwMbF9ArrmJlZi6gngK0paRhw\n",
       "KHB9LStGxMsRsT0wgtRqekcd+6+KpImSZkiasXDhwt7ajVm/4TpvraaeAHYGcCPQFhHTJW0BzKpl\n",
       "AxGxFLgV2BUYLKn9WtwIYF6engeMBMjLNwQWFdMrrFPcx6SIGBsRY4cOHVpL8cxKyXXeWk3NASwi\n",
       "fhkR20bE5/L8kxHxr92tJ2mopMF5eh1gb+AxUiA7JGebAFyXp6fmefLyWyIicvr4PEpxc2AMcG+t\n",
       "x2FmZuVW9ShEST8kDbqoKCK+0M0mhgGXSlqDFDiviojrJT0KTJF0FvBn4KKc/yLgckltwGLSyEMi\n",
       "Yqakq4BHgVXAsR6BaGZl1Qp3zOgttQyjn9GTHeWh9jtUSH+SCqMII+Il4GOdbOts4OyelMfMzMqt\n",
       "6gAWEZd2n8vMzAaa/jpEv+YfMksaCpwEbA2s3Z4eEXs2sFxmZmZdqmcU4s9Jgy82B04HZgPTG1gm\n",
       "MzOzbtUTwDaOiIuAlRFxe0R8knQ3DTMzs6ap516IK/Pf+ZI+BDwDDGlckczMrKvRif31mlSz1RPA\n",
       "zpK0IXAi8ENgA+CEhpbKzMysGzUHsIhov33UMmCPxhbHzMysOvWMQryYCj9oztfCzMzMmqKeLsTi\n",
       "DXzXBj5Kug5mZmbWNPV0If6qOC/pCuCuhpXIzMzq0mqDO+oZRt/RGODNDdiOmZlZ1eq5BvYC6RqY\n",
       "8t9nSXfmMDMza5p6uhDX742CmJmZ1aKWx6ns2NXyiLi/58UxMzOrTi3XwL6bXz8G7gEmARfm6R93\n",
       "t7KkkZJulfSopJmSjs/pp0maJ+mB/DqgsM4pktokPSFp30L6fjmtTdLJNRyDmZkNELU8TmUPAEnX\n",
       "ADtGxMN5/p3AaVVsYhVwYkTcL2l94D5J0/Ky8yLiO8XMkrYmPcRyG2Az4CZJW+XFPyY90XkuMF3S\n",
       "1Ih4tNpjMTOz8qvnd2Bvbw9eABHxiKR/6W6liJgPzM/TL0h6DBjexSrjgCkRsQJ4Kj+Zuf3Bl235\n",
       "QZhImpLzOoCZmbWQegLYQ5J+Cvwszx8BPFTLBiSNJj2d+R5gN+A4SZ8gPfX5xIhYQgpudxdWm8tr\n",
       "AW9Oh/SdazwGM7PSaLXfd1WrngB2NPBZ4Pg8fwdwfrUrS1oP+BXwxYh4XtL5wJmkIflnkq6z9fi2\n",
       "VJImAhMBRo0a1dPNmfV7rvP9S1d3k69mHetePcPoXwLOy6+aSBpECl4/j4hr8vaeKyy/kNduVTUP\n",
       "GFlYfUROo4v0YjknkQaaMHbs2Nfdu9FsoHGdt1ZTyzD6qyLiUEkPU/lmvtt2s76Ai4DHIuLcQvqw\n",
       "fH0M0n0VH8nTU4FfSDqXNIhjDHAv6QfUYyRtTgpc44F/q/Y4zMys99XTAq1VLS2w9i7DA+vc127A\n",
       "kcDDkh7IaV8BDpe0PSkozgY+DRARMyVdRRqcsQo4NiJeBpB0HHAjsAYwOSJm1lkmM7MeacYXtVVW\n",
       "yzD69lbSv5JGB9Z0B/qIuIvUeurohi7WORs4u0L6DV2tZ2ZmA189N/NdH5gm6U5Jx0natNGFMjMz\n",
       "607NASwiTo+IbYBjgWHA7ZJuanjJzMzMutCTx6ksIN2JfhF+nIqZmTVZzQFM0uck3QbcDGwMfKq7\n",
       "EYhmZmaNVs8PmUeSfoT8QIPLYmbWEvyD5cao5XdgG0TE88C38/yQ4vKIWNzgspmZmXWqlhbYL0i/\n",
       "AbuP157I3C6ALRpYLjMzsy7V8juwA/PfzXuvOGZmZtXxE5nNzKyUaulC/G7+uzYwFniQ1I24Lekx\n",
       "KLs2tmhmZmadq3oYfUTskZ/KPJ/0ROaxEfEu0nO9Xnc3eDMzs95Uzw+ZX/dEZqDbJzKbmZk1Up88\n",
       "kdnMzKynmv5EZjMzs0ao52a+L0XEeRHx0fw6Lz+luUuSRkq6VdKjkmZKOj6nD5E0TdKs/HejnC5J\n",
       "P5DUJumh4ihISRNy/lmSJtR6DGZmVn713Atxtxxo/iLpyfZXFauuAk6MiK2BXYBjJW0NnAzcHBFj\n",
       "SPdXPDnn35/0FOYxwERyKy/fAeRUYGdgJ+DU9qBnZmato54uxIuAE0h35Hi52pXyAzHn5+kXJD0G\n",
       "DAfGAbvnbJcCtwEn5fTLIiKAuyUNljQs553WfusqSdOA/YAr6jgWM7Ne53sf9o56AtiyiPhdT3Yq\n",
       "aTRp+P09wKaFpz0/C7Q/IHM4MKew2tyc1lm6mZm1kHoC2K2Svg1cA6xoT6z2ThyS1gN+Rbqj/fPS\n",
       "a7dUjIiQFHWUqdJ+JpK6Hhk1alQjNmnWr7nOW6upJ4DtnP+OLaQFsGd3K0oaRApeP4+Ia3Lyc5KG\n",
       "RcT83EW4IKfPIz26pd2InDaP17oc29Nv67iviJgETAIYO3ZsQ4KiWX/mOm+tpuYAlu/GUTOlptZF\n",
       "wGMRcW5h0VRgAnBO/ntdIf04SVNIQXNZDnI3At8oDNzYBzilnjKZmVl51XIz3y91tbxDUKpkN+BI\n",
       "4GFJD+S0r5AC11WSjgGeBg7Ny24ADgDagBdJvz8jIhZLOhOYnvOd4WeRmZn1jeIAldnnfKip+66l\n",
       "BbZ+T3YUEXex+jPEij5YIX8Ax3ayrcnA5J6Ux8zMyq2W54Gd3psFMTMrOw+Xb656buZrZmbW5xzA\n",
       "zMyslGoZxHF8RHxf0m4R8YfeLJSZWX/Tl4MVrLJaWmBH578/7I2CmJmZ1aKWUYiPSZoFbCap+Pwv\n",
       "kQYNbtvYopmZmXWullGIh0t6C3Aj8JHeK5KZmVn3aroTR0Q8C2wn6Y3AVjn5iYhY2fCSmZn1Ux4u\n",
       "3z/UfCspSR8ALgNmk7oPR0qaEBF3NLhsZmZmnarnZr7nAvtExBMAkrYiPYvrXY0smJmZWVfq+R3Y\n",
       "oPbgBRARfwEGNa5IZmZm3aunBTZD0k+Bn+X5I4AZjSuSmZlZ9+oJYJ8l3WT3C3n+TuAnDSuRmVk/\n",
       "4IEa/V/NXYgRsSIizo2Ig/PrvIhY0d16kiZLWiDpkULaaZLmSXogvw4oLDtFUpukJyTtW0jfL6e1\n",
       "STq51vKbmdnAUE8LrF6XAD8ijWAsOi8ivlNMkLQ1MB7YBtgMuCkPFgH4MbA3MBeYLmlqRDzamwU3\n",
       "s/LzraAGnqYFsIi4Q9LoKrOPA6bklt1TktqAnfKytoh4EiA/rXkc4ABmZtZi+sPd6I+T9FDuYtwo\n",
       "pw0H5hTyzM1pnaWbmVmLaUgAkzSxzlXPB94GbA/MB77biPK0l0nSDEkzFi5c2KjNmvVbrvPWahrV\n",
       "AlM9K0XEcxHxckS8AlzIa92E84CRhawjclpn6ZW2PSkixkbE2KFDh9ZTPLNScZ23VtOQABYRF9Sz\n",
       "nqRhhdmPAu0jFKcC4yWtJWlzYAxwLzAdGCNp83w/xvE5r5mZtZh67oU4gvRMsPcCQfod2PERMbeb\n",
       "9a4Adgc2kTQXOBXYXdL2eTuzgU8DRMRMSVeRBmesAo6NiJfzdo4j3RF/DWByRMys9RjMzCrxb7/K\n",
       "pZ5RiBcDvwA+luc/ntP27mqliDi8QvJFXeQ/Gzi7QvoNwA3VFtbMzAameroQh0bExRGxKr8uAdzh\n",
       "bmZmTVVPAFsk6eOS1sivjwOLGl0wMzOzrtQTwD4JHAo8Sxr6fghwdCMLZWZm1p2ar4FFxNPAR3qh\n",
       "LGZmZlWrOoBJ+noXiyMizmxAeczMuuX7GhrU1gL7R4W0NwHHABsDDmBmZtY0VQewiHj1Nk+S1geO\n",
       "J137mkIDbwFlZmZWjZqugUkaAnyJ9BTmS4EdI2JJbxTMzMysK7VcA/s2cDAwCfh/EbG810plZoav\n",
       "dVnXammBnQisAL4K/Jf06v17RRrEsUGDy2ZmVreubgvlwDgw1HINrD88O8zMzAzoHw+0NDMzq1k9\n",
       "N/M1MxswfAf68nILzMzMSqlpAUzSZEkLJD1SSBsiaZqkWfnvRjldkn4gqU3SQ5J2LKwzIeefJWlC\n",
       "s8pvZmb9SzNbYJcA+3VIOxm4OSLGADfneYD9SU9hHgNMBM6HV3+HdiqwM7ATcGp70DMzs9bStAAW\n",
       "EXcAizskjyP9IJr896BC+mWR3A0MljQM2BeYFhGL8w+op/H6oGhmZi2gr6+BbRoR8/P0s8CmeXo4\n",
       "MKeQb25O6yzdzMxaTL8ZhRgRISkatT1JE0ndj4waNapRmzXrt/pjnW/kD4Y9WtA66usW2HO5a5D8\n",
       "d0FOnweMLOQbkdM6S3+diJgUEWMjYuzQoUMbXnCz/sZ13lpNXwewqUD7SMIJwHWF9E/k0Yi7AMty\n",
       "V+ONwD6SNsqDN/bJaWZm1mKa1oUo6Qpgd2ATSXNJownPAa6SdAzwNHBozn4DcADQBrxIemwLEbFY\n",
       "0pnA9JzvjIjoODDEzMxaQNMCWEQc3smiD1bIG8CxnWxnMjC5gUUzswHC18laS193IZqZmdXFAczM\n",
       "zEqp3wyjNzOzcmt2F64DmJk1nR8oaY3gLkQzMyslBzAzMysldyGa2Wp6q3vPQ9yt0RzAzKxHfD3L\n",
       "+oq7EM3MrJTcAjOzmnXWHdgX3YTummxdboGZmVkpOYCZmVkpOYCZmVkp+RpYC+p4zcAjx8ysjPpF\n",
       "C0zSbEkPS3pA0oycNkTSNEmz8t+Ncrok/UBSm6SHJO3Yt6U3M7O+0C8CWLZHRGwfEWPz/MnAzREx\n",
       "Brg5zwPsD4zJr4nA+U0vqZmZ9bn+FMA6GgdcmqcvBQ4qpF8Wyd3AYEnD+qB8ZmbWh/rLNbAAfi8p\n",
       "gAsiYhKwaUTMz8ufBTbN08OBOYV15+a0+ZhZ6fh3XFav/hLA3hsR8yS9GZgm6fHiwoiIHNyqJmki\n",
       "qYuRUaNGNa6k/YRv32MdDfQ6b9ZRvwhgETEv/10g6dfATsBzkoZFxPzcRbggZ58HjCysPiKnddzm\n",
       "JGASwNixY2sKfu0aOVrPI/+stzWizpuVSZ9fA5P0Jknrt08D+wCPAFOBCTnbBOC6PD0V+EQejbgL\n",
       "sKzQ1WhmZi2iP7TANgV+LQlSeX4REf8raTpwlaRjgKeBQ3P+G4ADgDbgReDo5he5f+lpd6K7I82s\n",
       "jPo8gEXEk8B2FdIXAR+skB7AsU0oWtU6uwjtYGBm1nv6PIBZ+fh6npn1Bw5gvaivHy3hp+ma2UDW\n",
       "54M4zMzM6uEWWB9p9sAJt6Csp1yHrF699X3nAGar8YhEMysLBzDrUx4QYmb1cgDrBzpr9ZSly6bs\n",
       "5TezcnIAs07VE4ActMysWRzArF/xNbj+xSck1p85gPUzjfzCKPuXTzVdkw5yZq3LAaxOZQ8OZu1c\n",
       "l62sHMCsFKr5kvWIRrPW4gBWA5+p9j9dfSbVdDV2lcc3aTbr3xzAOnCQGpj8uZoNPKUMYJL2A74P\n",
       "rAH8NCLO6eMi2QBQbZDzIBKz/qF0AUzSGsCPgb2BucB0SVMj4tG+LZm1Igczs75TugAG7AS05Qdh\n",
       "ImkKMA5wALNScNAza4wyBrDhwJzC/Fxg5z4qi9mrfJ3NrLnKGMCqImkiMDHPLpf0RF+Wp4JNgL/3\n",
       "dSGaxMfaCX2r2yxvrXpbrvP9hY+zCw2t8xFR6/77lKRdgdMiYt88fwpARHyzTwtWI0kzImJsX5ej\n",
       "GXysBq3z3vg4m6eMT2SeDoyRtLmkNwLjgal9XCYzM2uy0nUhRsQqSccBN5KG0U+OiJl9XCwzM2uy\n",
       "0gUwgIi4Abihr8vRQ5P6ugBN5GM1aJ33xsfZJKW7BmZmZgblvAZmZmbmANabJK0h6c+Srs/zm0u6\n",
       "R1KbpCvzIBQkrZXn2/Ly0X1a8BpJGizpakmPS3pM0q6ShkiaJmlW/rtRzitJP8jH+pCkHfu6/LWQ\n",
       "dIKkmZIekXSFpLUH6udaj1ao861S38tQ1x3AetfxwGOF+W8B50XElsAS4JicfgywJKefl/OVyfeB\n",
       "/42IdwDbkY75ZODmiBgD3JznAfYHxuTXROD85he3PpKGA18AxkbEO0mDiMYzcD/XerRCnR/w9b00\n",
       "dT0i/OqFFzCCVJH3BK4HRPrR35p5+a7AjXn6RmDXPL1mzqe+PoYqj3ND4KmO5QWeAIbl6WHAE3n6\n",
       "AuDwSvn6+4vX7gIzJH9O1wP7DsTPtc73Z8DX+Vap72Wp626B9Z7vAV8GXsnzGwNLI2JVnp9LqiRQ\n",
       "uD1WXr4s5y+DzYGFwMW56+inkt4EbBoR83OeZ4FN83SlW4ENpwQiYh7wHeBvwHzS53QfA/Nzrcf3\n",
       "GPh1viXqe1nqugNYL5B0ILAgIu7r67I0wZrAjsD5EbED8A9e6z4BINJpWemHu+brGuNIX2KbAW8C\n",
       "9uvTQvUTLVTnW6K+l6WuO4D1jt2Aj0iaDUwhdal8Hxgsqf23dyOAeXl6HjASIC/fEFjUzAL3wFxg\n",
       "bkTck+evJv2DPydpGED+uyAvf/VYs+L70N/tBTwVEQsjYiVwDemzHoifa61apc63Sn0vRV13AOsF\n",
       "EXFKRIyIiNGkC5+3RMQRwK3AITnbBOC6PD01z5OX35LP4vq9iHgWmCPp7Tnpg6RH2xSPqeOxfiKP\n",
       "ztoFWFboeunv/gbsImldSeK1Yx1wn2utWqXOt1B9L0dd7+uLhQP9BewOXJ+ntwDuBdqAXwJr5fS1\n",
       "83xbXr5FX5e7xmPcHpgBPARcC2xE6v++GZgF3AQMyXlFeiDpX4GHSaOc+vwYajjW04HHgUeAy4G1\n",
       "Burn2oP3aEDX+Vap72Wo674Th5mZlZK7EM3MrJQcwMzMrJQcwMzMrJQcwMzMrJQcwMzMrJQcwAYQ\n",
       "SW+RNEXSXyXdJ+kGSVv1YHuXSDokT/9U0tZ5+itdrPNJSQ/nO28/Imlcvfs3647rfGvzMPoBIv/Y\n",
       "8I/ApRHxPzltO2CDiLizkG/NeO1eZt1t8xLS73mu7pC+PCLWq5B/BHA7sGNELJO0HjA0Ip7qwXFV\n",
       "XV5rLa7z5hbYwLEHsLL9HxkgIh6MiDsl7S7pTklTgUeVntn0bUnT81njp+HVZxf9SNITkm4C3ty+\n",
       "LUm3SRor6RxgHUkPSPp5hzK8GXgBWJ73v7z9H1nSlpJukvSgpPslvS3v79v5rPVhSYflvFWV11qe\n",
       "63yLW7P7LFYS7yTdLbozOwLvjIinJE0k3dLm3ZLWAv4g6ffADsDbga1Jd9N+FJhc3EhEnCzpuIjY\n",
       "vsI+HgSeA56SdDNwTUT8Ji/7OXBORPxa0tqkk6eDSXc12A7YBJgu6Y5qy9uTs1wbEFznW5wDWOu4\n",
       "t1D59wG2Ve7rJ914cwzwfuCKiHgZeEbSLbXsICJelrQf8G7SvdPOk/Qu4LvA8Ij4dc73EoCk9xb2\n",
       "95yk2/O6z1dZXv8zW1dc5wc4B7CBYyav3WSzkn8UpgV8PiJuLGaQdEBPCxHpouq9wL2SpgEXk/6Z\n",
       "a9Vtea3luc63OF8DGzhuAdbKXQ8ASNpW0vsq5L0R+KykQTnfVkoP5bsDOCz3vw8jXWOoZGX7ukWS\n",
       "NpO0YyFpe+DpiHgBmCvpoJxvLUnrAncW9jeUdDZ8bw3ltdbmOt/i3AIbICIiJH0U+J6kk4CXgNnA\n",
       "F3n9E2B/CowG7pck0hNmDwJ+TXqO06Okxyn8qZPdTQIeknR/pEdmtBsEfEfSZnn/C4HP5GVHAhdI\n",
       "OgNYCXws729X0nWEAL4cEc9KekeV5bUW5jpvHkZvZmal5C5EMzMrJQcwMzMrJQcwMzMrJQcwMzMr\n",
       "JQcwMzMrJQcwMzMrJQcwMzMrJQcwMzMrJQcwMzMrJQcwMzMrJQcwMzMrJQcwMzMrpf8PldZ3BxfN\n",
       "YcgAAAAASUVORK5CYII=\n",
       "' alt='None' />\n",
       "    </div>\n",
       "  \n",
       "  </div>\n",
       "\n",
       "            \n",
       "        </div>\n",
       "      </div>\n",
       "    \n",
       "      <div class=\"row\">\n",
       "        <div class=\"col card\">\n",
       "          \n",
       "            \n",
       "            \n",
       "            \n",
       "              \n",
       "  <div class=\"img-container\">\n",
       "  \n",
       "  \n",
       "    <div class=\"img-item\">\n",
       "      <img src='data:image/jpeg;base64,iVBORw0KGgoAAAANSUhEUgAAAbAAAAEgCAYAAADVKCZpAAAAOXRFWHRTb2Z0d2FyZQBNYXRwbG90\n",
       "bGliIHZlcnNpb24zLjMuMywgaHR0cHM6Ly9tYXRwbG90bGliLm9yZy/Il7ecAAAACXBIWXMAAAsT\n",
       "AAALEwEAmpwYAAAo/ElEQVR4nO3df7xVVZ3/8dfb379QwIgMUDQpRx1/ICNmP9RsFM3CmSnDNNEc\n",
       "qdR+qM2k87VRM8umydJM0wyBfilpJRlGZKlZYYD5C80glQBRiJ/ir9Q+3z/WOsPmeO695x7O/bHP\n",
       "fT8fj/M4e6+99trr3Lvu/Zy19tp7KyIwMzMrm016ugJmZmaNcAAzM7NScgAzM7NScgAzM7NScgAz\n",
       "M7NScgAzJM2TdGhP16MnSfoXSYskrZO0f0/Xp6tI+i9J1zWxvHWSdsvLkyR9rollf0PSZ5pVnrUe\n",
       "B7AWJ+kJSe+sSjtZ0t2V9YjYKyLu6KCc4ZJC0mZdVNWe9r/AmRGxXUT8oXpj/uzP5n/YSyRdJmnT\n",
       "HqhnmyTdIekFSc9IWitprqRzJW1ZyRMRn4+If6+zrA7z5Z/XY02o+wZtMpf9kYi4eGPLttblAGa9\n",
       "Qi8IjLsA8zrIs29EbAccArwf+FCX16rzzoyIfsBOwDnAOGC6JDXzIL3g92XmAGYb9tIkHShpTv4G\n",
       "/7Sky3K2u/L76twLebOkTSSdL2mhpGWSpkjaoVDuSXnbCkmfqTrOhZJukvQdSWuBk/OxfydptaSl\n",
       "kq6UtEWhvJB0uqT5uZdxsaQ3SPptru/UYv6qz1izrpK2lLQO2BS4X9KfO/p5RcQC4DfAfoXyj5F0\n",
       "X677byXtU/XzPU/Sw5JWSbpe0lZ52wBJt0panrfdKmlo3vY+SXOrPsfZkm6po47P5l71e4A3A+8q\n",
       "/Ny/k5e3yj//FbnesyUNlnQJ8Dbgyvy7vrLw8z9D0nxgfiFt98KhXyNpZv793Clpl5zvVT34Si9P\n",
       "0j8A3wDenI+3Om/fYEhS0mmSFkhaKWmapNcXtoWkj+S2sVrS15sdtK33cQCzapcDl0fE9sAbgKk5\n",
       "/e35vX8eNvodcHJ+HQbsBmwHVP7Z7QlcBZxA6g3sAAypOtZY4CagP/Bd4BXgLOA1pH+6hwOnV+1z\n",
       "JHAAcBDwn8C1wInAMGBv4Pg2PlfNukbEi7lXBamH9YY2fzKZpD1I/+AX5PX9gYnAh4EdgWuAaSoM\n",
       "3eWfw5Gkn+kbgfNz+ibA9aQe4M7A8+SfITAN2DX/g6/4IDClozpWRMRfgDm5vtXGk34vw3K9PwI8\n",
       "HxH/D/g164dUzyzscywwGtizjUOeAFxM+h3eR/q9dlTHR/Kxf5eP1786j6R3AF8AjiO1p4XADVXZ\n",
       "jgH+Cdgn5zuyo2NbuTmA9Q0/zt9KV+dvt1e1k/clYHdJr4mIdRExq528JwCXRcRjEbEOOA8Yl79l\n",
       "vxf4SUTcHRF/A/4bqL5v2e8i4scR8feIeD4i5kbErIh4OSKeIAWCQ6r2+Z+IWBsR84CHgJ/n468B\n",
       "bgPamoDRXl3rda+kZ4FHgDtY/3OcAFwTEfdExCsRMRl4kRRkK66MiEURsRK4hBxoI2JFRNwcEc9F\n",
       "xDN52yF524vAjaQAjaS9gOHArZ2oM8CTwMAa6S+RAtfuud5zI2JtB2V9ISJWRsTzbWz/aUTclev+\n",
       "/0i9qmGdrG8tJwATI+LeXPZ5uezhhTyXRsTqHLR/RaGHbK3JAaxvODYi+ldevLpXU3QqqYfwxzyk\n",
       "dEw7eV9P+iZcsRDYDBicty2qbIiI54AVVfsvKq5IemMeQnsqDyt+nvRNvujpwvLzNda3o7b26lqv\n",
       "kbn895N6Idvm9F2Ac6q+JAzLx6woftaFlW2StpF0TR7aXEsaqu2v9RNEJgMfyMNhHwSm5n/gnTEE\n",
       "WFkj/dvADOAGSU9K+h9Jm3dQ1qJ6t+cvCivZ8OfQqA1+f7nsFWzYq3+qsPwcbbcFaxEOYLaBiJgf\n",
       "EccDrwW+CNwkaVte3XuC9M1+l8L6zsDLpKCyFBha2SBpa9K3/Q0OV7V+NfBHYEQewvwvoFnnMdqr\n",
       "a90imQr8jtSrhPRP+5Lil4SI2CYivl/YtdgL2TnXB9JEizcBo/NnrgzVKh9vFvA30hDgB0hBp265\n",
       "93MAaUiw+rO8FBEXRcSewMGkIbiTKpvbKLKju3//3+eUtB2p5/ck8GxO3qaQ93WdKHeD319ukzsC\n",
       "SzrYz1qYA5htQNKJkgZFxN+B1Tn578Dy/L5bIfv3gbMk7Zr/WX0euDEiXiad23q3pIPzxIoL6TgY\n",
       "9QPWAuvyeaaPNuljdVTXRlwKnCbpdcA3gY9IGq1kW0nvktSvkP8MSUMlDSQNrd2Y0/uReo6r87YL\n",
       "ahxrCum82EsRcXeN7a+Se3aHALcAvwem18hzmKR/zL29taQhxb/nzU+z4e+6XkdLemv+nV8MzMpD\n",
       "p8tJweZESZtK+hDpfGDF08BQtTEJh/T7O0XSfvnc4ueBe/JQs/VRDmBWbQwwT2lm3uXAuHx+6jnS\n",
       "+Znf5GGyg0gTF75NGvZ6HHgB+BhAPkf1MdKJ9qXAOmAZ6dxQWz5F6mU8QwoKN7aTt7ParGsjIuLB\n",
       "XNZ/RMQc4DRSkFlFmtxxctUu3wN+DjwG/BmozK77KrA18FdgFvCzGof7NmmCynfqqNqVkp4hBYSv\n",
       "AjcDY/IXkmqvI33RWEs6r3cn63t4lwPvVZoZeUUdx634HikIryT1/E4sbDsN+A/S0N9ewG8L235J\n",
       "uozhKUl/rS40In4BfCZ/nqWk4DeuE/WyFiQ/D8y6Q+71rCYNDz7ew9XpVpKeAP49/xNuZP+tScF/\n",
       "ZETMb2bdzMrMPTDrMpLenYeytiXd6eJB4ImerVUpfRSY7eBltiFfTW9daSxpSEqka5HGhbv8nZJ7\n",
       "byJdf2VmBR5CNDOzUvIQopmZlZIDmJmZlZIDmJmZlZIDmJmZlZIDmJmZlZIDmJmZlZIDmJmZlZID\n",
       "mJmZlZIDmJmZlZIDmJmZlZIDmJmZlZIDmJmZlZIDmJmZlZIDmJmZlZIDmJmZlZIDWAuRNEnS5zay\n",
       "jEMlLW5Wncy6k6SQtHsb206Q9PPurpN1HQewEpH0hKTnJa2TtErSTyUN6+E67STpm5KezPV6LAfS\n",
       "PXqyXlZ+ks6TdFtV2vw20sZ1VF5EfDcijijs12awq7N+knSmpAckPSfpKUl31FMXaw4HsPJ5d0Rs\n",
       "B+wEPA18racqImlH4LfANsDbgH7ASOBO4J/b2Gezbqugld1dwMGSNoX0ZQnYHNi/Km33nLe7XQF8\n",
       "EjgH2BEYApwPjKmVOQc8/89tIv8wSyoiXgBuAvastV3SAEm3Slqee2u3Shpa2D5Q0vW557RK0o/b\n",
       "KOfjkh4u7ltwFrAW+GBE/DmS1RFxfUR8Le8/PH/TPVXSX4BfStpE0vmSFkpaJmmKpB1y/lcNYeae\n",
       "5zvz8oWSbpJ0o6RnJN0rad9O/wCtDGaTAtZ+ef1twK+AR6vS/hwRTxb2e2fula2W9HVJApB0sqS7\n",
       "83Il4N2fRw7en9OPkXRf3ve3kvapVTFJbwROB8ZFxMyIeD4iXomIuyPi5EK+OyRdIuk3wHPAbpIO\n",
       "ljRb0pr8fnAh//+19bx+oaTv5OXK39KE/He7VNKnOv1TbSEOYCUlaRvg/cCsNrJsAlwP7ALsDDwP\n",
       "XFnY/m1Sz2kv4LXAV2oc47+Bk4FDIqLWebF3Aj+KiL/XUeVDgH8AjsxlngwcBuwGbFdVt46MBX4A\n",
       "DAS+B/xY0uad2N9KICL+BtwDvD0nvR34NXB3VVp17+sY4J+AfYDjSG2uuuzK/vtGxHYRcaOk/YGJ\n",
       "wIdJPaprgGmStqxRvXcAiyJiTh0f5YPABNIIxTPAT0m9tx2By4Cf5tGMeh0GjACOAD5dDHh9jQNY\n",
       "+fxY0mpgDWmY7ku1MkXEioi4OSKei4hngEtIQaQy7HIU8JGIWBURL0XEnYXdJeky0h/IYRGxvI26\n",
       "vAZ4qrDTe/I312f06pPlF0bEsxHxPHACcFlEPBYR64DzgHGdGF6cGxE3RcRLpH8AWwEH1bmvlcud\n",
       "rA9WbyMFsF9Xpd1Ztc+leSTgL6Qe2351HmsCcE1E3JN7U5OBF6ndtjZo+wCSFuf2/4KkXQqbJkXE\n",
       "vIh4mfQ3NT8ivh0RL0fE94E/Au+us44AF+W/pQdJX1KP78S+LcUBrHyOjYj+pH/aZwJ3SnpddSZJ\n",
       "20i6Jg/TrSV9S+2fzx0MA1ZGxKo2jtGf9Mf8hYhY005dVpDOxQEQEdNy3c4CtqjKu6iw/HpgYWF9\n",
       "IbAZMLidY9UsK/f+FucyrfXcBbxV0kBgUETMJ513PTin7c2re2DFwPIcqYdfj12Ac3IQWp2/KA6j\n",
       "dtvaoO0DRMRQUmDbElBhU3ttn7w+pM46Vpe3sI369QkOYCWVvyH+EHgFeGuNLOcAbwJGR8T2rP/G\n",
       "KtIfwEBJ/dsofhVpGOZ6SW9ppxq3A8fWeWI6CstPkv5ZVOwMvEyalPIsaWgzVTYF3EFVZQ0rbN8E\n",
       "GJrLtNbzO2AH4DTgNwARsZb0+z4NeDIiHm/SsRYBl0RE/8Jrm9xLqvZLYKikUXWU217bh9T+l+Tl\n",
       "Ddo/8KovpxTaf963z7Z9B7CSyjOaxgIDgEdqZOlHOu+1On9TvaCyISKWArcBV+XJHptLentx54i4\n",
       "gzTU90NJB7ZRjcvy8b8t6Q25Tv3oeMjm+8BZknaVtB3weeDGPMTyJ2ArSe/K57XOJ32jLTpA0r/m\n",
       "IcdPkoZ52joXaCWWh5znAGeThg4r7s5pGzP78GnSOdiKbwIfkTQ6t+VtczvsV6Nej5LOkd0g6Z8l\n",
       "bZ2/bB1cnbfKdOCNkj4gabM8eWRP4Na8/T7ScPrmOTi+t0YZn8kjLHsBpwA3duIztxQHsPL5iaR1\n",
       "pNl/lwDjI2JejXxfBbYG/kr65/6zqu0fBF4ijb8vIwWCDUTETOBD+Zgja2z/K+n8wAukfyjPkP4A\n",
       "+wEfbeczTCRNIrkLeDzv/7Fc5hrS7K7rSN9KnyUNERbdQprAsip/jn/N58OsNd1Jmmh0dyHt1zlt\n",
       "YwLYhcDkPFx4XJ6QcRppQtEqYAFpslFbziBNxrgMWElqpxeT2uZfau0QEStIoxvnkIYh/xM4Jv8t\n",
       "AXwGeEM+/kWkSUrV7sx1ux3434josxdnKyI6zmXWS0i6ENg9Ik7s6bqYdSdJw0lf+DbPoxV9nntg\n",
       "ZmZWSt0WwCS9KV8gWHmtlfRJpQtqZypdeDhT0oCcX5KukLRA6VYtIwtljc/550saX0g/QNKDeZ8r\n",
       "JKlWXczMrPx6ZAgxn+xcAowmjSOvjIhLJZ0LDIiIT0s6mnRe5Oic7/KIGJ0nJMwBRpFm98wFDoiI\n",
       "VZJ+D3ycdPHjdOCKiLit+vhmZlZ+PTWEeDjp9i8LSXdVmJzTJwPH5uWxwJR8e6JZpGuYdiJdVT8z\n",
       "IirXMc0ExuRt20fErEhReUqhLDMzazE9FcDGkaZSAwzO07ohXYBYuZh1CBtesLc4p7WXvrhGupmZ\n",
       "taBuvzO4pC2A95BuH7SBiAhJXTqmKWkC6S4TbLvttgfssYef+mE9Y+7cuX+NiOqLtLuE2731Fs1s\n",
       "9z3xaIujgHsj4um8/rSknSJiaR4GXJbTl7DhFedDc9oS4NCq9Dty+tAa+TcQEdcC1wKMGjUq5syp\n",
       "516cZs0nqfqWQl3G7d56i2a2+54YQjye9cOHANOAykzC8aSLVCvpJ+XZiAcBa/JQ4wzgiHwHiQGk\n",
       "m2POyNvWSjoozz48qVCWmZm1mG7tgUnalnQH9Q8Xki8Fpko6lXRjyuNy+nTSDMQFpBtyngIQESsl\n",
       "XUx6VhDAZyNiZV4+HZhEugPFbfllZmYtqFsDWEQ8S3oGTjFtBWlWYnXeIE2xr1XORNLtiKrT55Du\n",
       "Tm1mZi3Od+IwM7NScgAzM7NScgAzM7NScgAzM7NS6onrwMzMSmv4uT/t6Sr0ak9c+q5uO5Z7YGZm\n",
       "VkoOYGZmVkoOYGZmVkoOYGZmVkoOYGZmVkoOYGZmVkoOYGZmVkoOYGZmVkoOYGZmVkoOYGZmVkoO\n",
       "YGZmVkoOYGZmVkoOYGZmVkoOYGZmVkrdGsAk9Zd0k6Q/SnpE0pslDZQ0U9L8/D4g55WkKyQtkPSA\n",
       "pJGFcsbn/PMljS+kHyDpwbzPFZLUnZ/PzMy6T3f3wC4HfhYRewD7Ao8A5wK3R8QI4Pa8DnAUMCK/\n",
       "JgBXA0gaCFwAjAYOBC6oBL2c57TCfmO64TOZmVkP6LYAJmkH4O3AtwAi4m8RsRoYC0zO2SYDx+bl\n",
       "scCUSGYB/SXtBBwJzIyIlRGxCpgJjMnbto+IWRERwJRCWWZm1mK6swe2K7AcuF7SHyRdJ2lbYHBE\n",
       "LM15ngIG5+UhwKLC/otzWnvpi2ukm5lZC+rOALYZMBK4OiL2B55l/XAhALnnFF1ZCUkTJM2RNGf5\n",
       "8uVdeSizXsPt3lpRdwawxcDiiLgnr99ECmhP5+E/8vuyvH0JMKyw/9Cc1l760BrpG4iIayNiVESM\n",
       "GjRo0EZ/KLMycLu3VtRtASwingIWSXpTTjoceBiYBlRmEo4HbsnL04CT8mzEg4A1eahxBnCEpAF5\n",
       "8sYRwIy8ba2kg/Lsw5MKZZmZWYvZrJuP9zHgu5K2AB4DTiEF0amSTgUWAsflvNOBo4EFwHM5LxGx\n",
       "UtLFwOyc77MRsTIvnw5MArYGbssvMzNrQd0awCLiPmBUjU2H18gbwBltlDMRmFgjfQ6w98bV0szM\n",
       "ysB34jAzs1JyADMzs1JyADMzs1JyADMzs1JyADMzs1JyADMzs1JyADMzs1JyADMzs1JyADMzs1Jy\n",
       "ADMzs1JyADMzs1JyADMzs1JyADMzs1JyADMzs1JyADMzs1JyADMzs1JyADMzs1JyADMzs1JyADMz\n",
       "s1Lq1gAm6QlJD0q6T9KcnDZQ0kxJ8/P7gJwuSVdIWiDpAUkjC+WMz/nnSxpfSD8gl78g76vu/Hxm\n",
       "ZtZ9eqIHdlhE7BcRo/L6ucDtETECuD2vAxwFjMivCcDVkAIecAEwGjgQuKAS9HKe0wr7jen6j2Nm\n",
       "Zj2hNwwhjgUm5+XJwLGF9CmRzAL6S9oJOBKYGRErI2IVMBMYk7dtHxGzIiKAKYWyzMysxWxUAJM0\n",
       "QNI+ndglgJ9LmitpQk4bHBFL8/JTwOC8PARYVNh3cU5rL31xjXQzM2tBm3V2B0l3AO/J+84Flkn6\n",
       "TUScXcfub42IJZJeC8yU9MfixogISdHZOnVGDpwTAHbeeeeuPJRZr+F2b62okR7YDhGxFvhX0hDf\n",
       "aOCd9ewYEUvy+zLgR6RzWE/n4T/y+7KcfQkwrLD70JzWXvrQGunVdbg2IkZFxKhBgwbVU22z0nO7\n",
       "t1bUSADbLAea44Bb691J0raS+lWWgSOAh4BpQGUm4Xjglrw8DTgpz0Y8CFiThxpnAEfk4csBuZwZ\n",
       "edtaSQfl2YcnFcoyM7MW0+khROCzpCByd0TMlrQbML+O/QYDP8oz2zcDvhcRP5M0G5gq6VRgISkw\n",
       "AkwHjgYWAM8BpwBExEpJFwOzK/WJiJV5+XRgErA1cFt+mZlZC+p0AIuIHwA/KKw/BvxbHfs9Buxb\n",
       "I30FcHiN9ADOaKOsicDEGulzgL07qouZmZVf3QFM0tdIswhrioiPN6VGZmZmdehMD2xOl9XCzMys\n",
       "k+oOYBExueNcZmZm3aOR68AGAZ8G9gS2qqRHxDuaWC8zM7N2NTKN/rvAI8CuwEXAE6yfEWhmZtYt\n",
       "GglgO0bEt4CXIuLOiPgQ4N6XmZl1q0auA3spvy+V9C7gSWBg86pkZmbWsUYC2Ock7QCcA3wN2B44\n",
       "q6m1MjMz60AjFzJXbh+1BjisudUxMzOrTyOzEK+nxgXN+VyYmZlZt2hkCLF4A9+tgH8hnQczMzPr\n",
       "No0MId5cXJf0feDuptXIzMysDhv1ROZsBPDaJpRjZmZWt0bOgT1DOgem/P4U6c4cZmZm3aaRIcR+\n",
       "XVERMzOzzujM41RGtrc9Iu7d+OqYmZnVpzM9sC/n962AUcD9pGHEfUiPWnlzc6tmZmbWtroncUTE\n",
       "YRFxGLAUGBkRoyLiAGB/YElXVdDMzKyWRmYhvikiHqysRMRDwD80r0pmZmYdaySAPSDpOkmH5tc3\n",
       "gQfq2VHSppL+IOnWvL6rpHskLZB0o6QtcvqWeX1B3j68UMZ5Of1RSUcW0sfktAWSzm3gc5mZWYk0\n",
       "EsBOAeYBn8ivh3NaPT5BepZYxReBr0TE7sAq4NScfiqwKqd/JedD0p7AOGAvYAxwVQ6KmwJfB44i\n",
       "PWjz+JzXzMxaVKcDWES8EBFfiYh/ya+vRMQLHe0naSjwLuC6vC7Sc8RuylkmA8fm5bF5nbz98Jx/\n",
       "LHBDRLwYEY8DC4AD82tBRDwWEX8Dbsh5zcysRXVmGv3UiDhO0oPUvpnvPh0U8VXgP4HKdWQ7Aqsj\n",
       "4uW8vhgYkpeHAItyuS9LWpPzDwFmFcos7rOoKn10HR/LzMxKqjPT6D+R34/p7EEkHQMsi4i5kg7t\n",
       "7P7NJGkCMAFg55137smqmHUbt3trRZ2ZRr80L/4b8FJELCy+Otj9LcB7JD1BGt57B3A50F9SJYgO\n",
       "Zf10/CXAMIC8fQdgRTG9ap+20mt9jmvzJQCjBg0a1EG1zVqD2721okYmcfQDZkr6taQzJQ3uaIeI\n",
       "OC8ihkbEcNIkjF9GxAnAr4D35mzjgVvy8rS8Tt7+y4iInD4uz1LclXQj4d8Ds4EReVbjFvkY0xr4\n",
       "bGZmVhKNTOK4KCL2As4AdgLulPSLBo//aeBsSQtI57i+ldO/BeyY088Gzs3HngdMJc18/BlwRkS8\n",
       "ks+jnQnMIM1ynJrzmplZi2rkgZYVy0h3ol9BJx6nEhF3AHfk5cdIMwir87wAvK+N/S8BLqmRPh2Y\n",
       "Xm89zMys3DrdA5N0uqQ7gNtJvabT6piBaGZm1lSN9MCGAZ+MiPuaXBczM7O6deY6sO0jYi3wpbw+\n",
       "sLg9IlY2uW5mZmZt6kwP7Huka8Dmsv6JzBUB7NbEepmZmbWr7gAWEcfk9127rjpmZmb18ROZzcys\n",
       "lPxEZjMzKyU/kdnMzErJT2Q2M7NSauQ6sAckXQd8J6+fQJ1PZDYzM2uWRgLYKcBHWf94lbuAq5tW\n",
       "IzMzszp0OoDl+xR+Jb/MzMx6RKcDmKS3ABcCuxT3jwhfyGxmZt2mkSHEbwFnke7I8Upzq2NmZlaf\n",
       "RgLYmoi4rek1MTMz64RGAtivJH0J+CHwYiXRd+IwM7Pu1EgAG53fRxXSAnjHxlfHzMysPo3MQjys\n",
       "KypiZmbWGZ25me/Z7W2PiMs2vjpmZmb16cytpPp18GqXpK0k/V7S/ZLmSboop+8q6R5JCyTdKGmL\n",
       "nL5lXl+Qtw8vlHVeTn9U0pGF9DE5bYGkczvx2czMrGQ68zywizbyWC8C74iIdZI2B+6WdBtwNvCV\n",
       "iLhB0jeAU0l39jgVWBURu0saB3wReL+kPYFxwF7A64FfSHpjPsbXgX8GFgOzJU2LiIc3st5mZtYL\n",
       "NXIz34ZEsi6vbp5flckfN+X0ycCxeXlsXidvP1yScvoNEfFiRDwOLAAOzK8FEfFYRPwNuCHnNTOz\n",
       "FtRtAQxA0qaS7gOWATOBPwOrI+LlnGUxMCQvDwEWAeTta4Adi+lV+7SVbmZmLajuACbpE/n9LY0e\n",
       "LCJeiYj9gKGkHtMejZbVKEkTJM2RNGf58uXdfXizHuF2b62oMz2wU/L71zb2oBGxGvgV6SnO/SVV\n",
       "zsUNZf3DMZcAwwDy9h2AFcX0qn3aSq8+9rX5YZyjBg0atLEfxawU3O6tFXUmgD0iaT7wJkkPFF4P\n",
       "SurweWCSBknqn5e3Jk22eIQUyN6bs40HbsnL0/I6efsvIyJy+rg8S3FXYATwe2A2MCLPatyCNNFj\n",
       "Wic+n5mZlUhnZiEeL+l1wAzgPQ0caydgsqRNSYFzakTcKulh4AZJnwP+QLpZMPn925IWACtJAYmI\n",
       "mCdpKvAw8DJwRkS8AiDpzFy/TYGJETGvgXqamVkJdOpOHBHxFLBv7uFUpq4/GhEv1bHvA8D+NdIf\n",
       "I50Pq05/AXhfG2VdAlxSI306ML2jupiZWfk18jywQ4ApwBOAgGGSxkfEXU2um5mZWZsauZnvZcAR\n",
       "EfEoQL6I+PvAAc2smJmZWXsauQ5s80rwAoiIP5EuSjYzM+s2jfTA5ki6DvhOXj8BmNO8KpmZmXWs\n",
       "kQD2UeAM4ON5/dfAVU2rkZmZWR0aeR7Yi6TzYH58ipmZ9ZhuvReimZlZsziAmZlZKTmAmZlZKTUl\n",
       "gEma0IxyzMzM6tWsHpiaVI6ZmVldmhLAIuKaZpRjZmZWr04HMElDJf1I0nJJyyTdLGloV1TOzMys\n",
       "LY30wK4nPWdrJ+D1wE9ympmZWbdpJIANiojrI+Ll/JoE+BGvZmbWrRoJYCsknShp0/w6EVjR7IqZ\n",
       "mZm1p5EA9iHgOOApYCnwXuCUZlbKzMysI43cC3Eh8J4uqIuZmVnd6g5gkv67nc0RERd3sP8w0pOc\n",
       "BwMBXBsRl0saCNwIDCc95fm4iFglScDlwNHAc8DJEXFvLms8cH4u+nMRMTmnHwBMArYGpgOfiIio\n",
       "9zOamVl5dKYH9myNtG2BU4EdgXYDGPAycE5E3CupHzBX0kzgZOD2iLhU0rnAucCngaOAEfk1Grga\n",
       "GJ0D3gXAKFIgnCtpWkSsynlOA+4hBbAxwG2d+Ixmfd7wc3/a01Uwq0vdASwivlxZzgHoE6RzXzcA\n",
       "X25rv8L+S0nnzIiIZyQ9AgwBxgKH5myTgTtIAWwsMCX3oGZJ6i9pp5x3ZkSszHWZCYyRdAewfUTM\n",
       "yulTgGNxADMza0mdOgeWez9nk57CPBkYmXs+nSJpOLA/qac0OAc3SBNDBuflIcCiwm6Lc1p76Ytr\n",
       "pJuZWQuqexaipC8Bs4FngH+MiAsbDF7bATcDn4yItcVtubfVpeesJE2QNEfSnOXLl3flocx6Dbd7\n",
       "a0WdmUZ/DunOG+cDT0pam1/PSFrbwb4ASNqcFLy+GxE/zMlP56FB8vuynL4EGFbYfWhOay99aI30\n",
       "DUTEtRExKiJGDRrk66+tb3C7t1ZUdwCLiE0iYuuI6BcR2xde/SJi+472z7MKvwU8EhGXFTZNA8bn\n",
       "5fHALYX0k5QcBKzJQ40zgCMkDZA0ADgCmJG3rZV0UD7WSYWyzMysxXT6OrCN8Bbgg8CDku7Laf8F\n",
       "XApMlXQqsJB0kTSkWYRHAwtI0+hPAYiIlZIuJg1nAny2MqEDOJ310+hvwxM4zMxaVrcFsIi4m7af\n",
       "G3Z4jfwBnNFGWROBiTXS5wB7b0Q1zcysJJr1QEszM7Nu5QBmZmal5ABmZmal5ABmZmal5ABmZmal\n",
       "5ABmZmal5ABmZmal5ABmZmal5ABmZmal5ABmZmal5ABmZmal5ABmZmal5ABmZmal5ABmZmal5ABm\n",
       "Zmal5ABmZmal5ABmZmal5ABmZmal5ABmZmal1G0BTNJEScskPVRIGyhppqT5+X1ATpekKyQtkPSA\n",
       "pJGFfcbn/PMljS+kHyDpwbzPFZLUXZ/NzMy6X3f2wCYBY6rSzgVuj4gRwO15HeAoYER+TQCuhhTw\n",
       "gAuA0cCBwAWVoJfznFbYr/pYZmbWQrotgEXEXcDKquSxwOS8PBk4tpA+JZJZQH9JOwFHAjMjYmVE\n",
       "rAJmAmPytu0jYlZEBDClUJaZmbWgnj4HNjgilublp4DBeXkIsKiQb3FOay99cY10MzNrUT0dwP5P\n",
       "7jlFVx9H0gRJcyTNWb58eVcfzqxXcLu3VtTTAezpPPxHfl+W05cAwwr5hua09tKH1kh/lYi4NiJG\n",
       "RcSoQYMGNeVDmPV2bvfWino6gE0DKjMJxwO3FNJPyrMRDwLW5KHGGcARkgbkyRtHADPytrWSDsqz\n",
       "D08qlGVmZi1os+46kKTvA4cCr5G0mDSb8FJgqqRTgYXAcTn7dOBoYAHwHHAKQESslHQxMDvn+2xE\n",
       "VCaGnE6a6bg1cFt+mZlZi+q2ABYRx7ex6fAaeQM4o41yJgITa6TPAfbemDqamVl59PQQopmZWUO6\n",
       "rQdWNsPP/WlPV6HXe+LSd/V0FcysD3MPzMzMSskBzMzMSskBzMzMSskBzMzMSskBzMzMSskBzMzM\n",
       "SskBzMzMSskBzMzMSskBzMzMSskBzMzMSsm3krKG+XZb7fOttsy6lntgZmZWSg5gZmZWSg5gZmZW\n",
       "Sg5gZmZWSg5gZmZWSg5gZmZWSi0XwCSNkfSopAWSzu3p+piZWddoqQAmaVPg68BRwJ7A8ZL27Nla\n",
       "mZlZV2ipAAYcCCyIiMci4m/ADcDYHq6TmZl1gVYLYEOARYX1xTnNzMxaTJ+7lZSkCcCEvLpO0qNt\n",
       "ZH0N8NfuqZW1In2xwza0S7fVpf52D277thG6s90rIppVVo+T9Gbgwog4Mq+fBxARX2igrDkRMarJ\n",
       "VbQ+pKxtqKz1tt6hO9tPqw0hzgZGSNpV0hbAOGBaD9fJzMy6QEsNIUbEy5LOBGYAmwITI2JeD1fL\n",
       "zMy6QEsFMICImA5Mb0JR1zahDOvbytqGylpv6x26rf201DkwMzPrO1rtHJiZmfURLRnAJL0i6T5J\n",
       "8yTdL+kcSR1+Vklfyvt8qcHjrsvvwyV9oJEyrPcptKeHJP1EUv+erlMtbvfWTGVo9y05hChpXURs\n",
       "l5dfC3wP+E1EXNDBfmuAgRHxysYcV9KhwKci4phGyrHepao9TQb+FBGX9HC1XsXt3pqpDO2+JXtg\n",
       "RRGxjHQB55lKNs3fOGdLekDShwEkTQO2A+ZKer+kd0u6R9IfJP1C0uCc70JJn6qUn7+dDK867KXA\n",
       "2/K3l7O65YNad/kd+e4ukt4g6WeS5kr6taQ9cvokSd+QNEfSnyQdk9OH53z35tfBOX2KpGMrB5D0\n",
       "XUkbdQs0t3trst7Z7iOi5V7Auhppq4HBpD/q83PalsAcYNfq/YABrO+h/jvw5bx8IelbZiXfQ8Dw\n",
       "4v7AocCtPf1z8Ku57Yl0acYPgDF5/XZgRF4eDfwyL08Cfkb6gjiCdEuzrYBtgK1ynhHAnLx8CPDj\n",
       "vLwD8DiwWaP1rEpzu/eroVcZ2n3LTaOvwxHAPpLem9d3IP1QH6/KNxS4UdJOwBY1tlvfsbWk+0jf\n",
       "QB8BZkraDjgY+IGkSr4tC/tMjYi/A/MlPQbsQWpDV0raD3gFeCNARNwp6SpJg4B/A26OiJeb/Bnc\n",
       "7q2zen277xMBTNJupB/cMkDAxyJiRge7fQ24LCKm5bH9C3P6y2w49LpVUytrvdHzEbGfpG1IF8mf\n",
       "Qfq2uToi9mtjn+qTywGcBTwN7EtqQy8Utk8BTiTdPeaUZlTa7d42Uq9v9y1/DixH928AV0bqq84A\n",
       "Pipp87z9jZK2rbHrDsCSvDy+kP4EMDLvOxLYtca+zwD9mvIBrNeIiOeAjwPnAM8Bj0t6H0A+z7Rv\n",
       "Ifv7JG0i6Q3AbsCjpDa1NH9D/SBpaKZiEvDJfJyHN7aubvfWLL253bdqANs6n0ieB/wC+DlwUd52\n",
       "HfAwcK+kh4BrqN0TvZDUTZ7LhndWvhkYmMs+E/hTjX0fAF5Rmsrsk9ktJCL+QPr9Hg+cAJwq6X5g\n",
       "Hhs+e+4vwO+B24CPRMQLwFXA+Jx/D+DZQrlPk4Zprt+I6rndW5fore2+JafRm/UkSZNIkxlu6sQ+\n",
       "2wAPAiMjYk1X1c2sq/REu2/VHphZaUh6J+lb6NccvKyvaEa7dw/MzMxKyT0wMzMrJQcwMzMrJQcw\n",
       "MzMrJQewFqFecOfofM+zhzqRf1LhzhBNL99an9t93+YA1jqej4j9ImJvYCXpqnmzVud234c5gLWm\n",
       "XnXnaEmnKd0F/X5JN+drPyreWaMONe+cbtYBt/u+pqfveOxX69w5GhgOPFSjbjsWlj9Huidfe3Wo\n",
       "eef0tsr3q+++3O779qtP3My3j+jNd47eW9LngP6kZ08Vbyhbqw5t3Tm91u2LrG9zu+/DHMBaR2++\n",
       "c/Qk4NiIuF/SyaTnRrVXh5p3TterH6Bo5nbfh/kcWIuJ3nnn6H7AUqU7oZ9Qta1WHeq9c7oZ4Hbf\n",
       "V7kH1oIi4g+SineOvlrS+cDmwA3A/Tlr5c7R25PvHC3pKuBmSSeRxuk3uHO0pEeAH7dz+DdJWlxY\n",
       "Pwv4DHAPsDy/Fx+5UasO15HG/e9VGgNaDhzb2Z+D9S1u932P74XYR8l3TLc+yO2+tXgI0eoi3zHd\n",
       "+iC3+97NPTAzMysl98DMzKyUHMDMzKyUHMDMzKyUHMDMzKyUHMDMzKyUHMDMzKyUHMDMzKyUHMDM\n",
       "zKyUHMDMzKyUHMDMzKyU/j9O4vKSZbE6UAAAAABJRU5ErkJggg==\n",
       "' alt='None' />\n",
       "    </div>\n",
       "  \n",
       "  </div>\n",
       "\n",
       "            \n",
       "        </div>\n",
       "      </div>\n",
       "    \n",
       "      <div class=\"row\">\n",
       "        <div class=\"col card\">\n",
       "          \n",
       "            \n",
       "            \n",
       "            \n",
       "        </div>\n",
       "      </div>\n",
       "    \n",
       "  </div>\n",
       "\n",
       "    \n",
       "    \n",
       "      \n",
       "<div class=\"col card\">\n",
       "  <h2>Quantitative Analysis</h2>\n",
       "  \n",
       "  \n",
       "    \n",
       "  <div class=\"row\">\n",
       "    <div class=\"col\">\n",
       "      GBT Unmitigated Confusion Matrix\n",
       "      \n",
       "  <div class=\"img-container\">\n",
       "  \n",
       "  \n",
       "    <div class=\"img-item\">\n",
       "      <img src='data:image/jpeg;base64,iVBORw0KGgoAAAANSUhEUgAAAbAAAAEgCAYAAADVKCZpAAAAOXRFWHRTb2Z0d2FyZQBNYXRwbG90\n",
       "bGliIHZlcnNpb24zLjMuMywgaHR0cHM6Ly9tYXRwbG90bGliLm9yZy/Il7ecAAAACXBIWXMAAAsT\n",
       "AAALEwEAmpwYAAAlCUlEQVR4nO3de5gU1Z3/8feHYbiDgCAilwgKZsEoUVZRE+8Kuhcv8YImkU1M\n",
       "0ERjNMlmNXGjMbrxp1Gj0RiJ8hOTDcS7aFREVqPZaBQUCaAIKAoDAsNdRGBmvvtH12CDwPQMRfU0\n",
       "83k9Tz1Tdaq66vTAM58+p06fUkRgZmZWapoVuwJmZmYN4QAzM7OS5AAzM7OS5AAzM7OS5AAzM7OS\n",
       "5AAzM7OS5AAzM7OS5AAzM7OS5AAzM7OS5AAzM7OS5AAzM7OS5AAzM7OS5AAzM7OS5AAzM7OS5AAz\n",
       "M7OS5AAzM7OS5AAzM7OS5AAzM7OS5AAzM7OS5AAzM7OS5AAzM7OS5AAzM7OS5AAzM7OS5AAzM7OS\n",
       "5AAzM7OS5AAzM7OS5AAzM7OS5AAzM7OS5AAzM7OS5AAzM7OS5AAzM7OS5AAzM7OS5AAzM7OS5AAz\n",
       "M7OS1LzYFbDtK2/VNlq07Vzsalg9NF+5rthVsHpaXbOsMiK67sg5hh7TNpYtr67zuCnT1k+IiGE7\n",
       "ci3LcYA1ci3admb/YZcWuxpWDx0fm1bsKlg9PbP2vvd29ByVy6v524SedR5X3n1ulx29luU4wMzM\n",
       "UhFUR02xK9GkOMDMzFIQQBV1dyFaehxgZmYpCILqiGJXo0lxgJmZpaQGB1iWHGBmZikIoNoBlikH\n",
       "mJlZStwCy5YDzMwsBQG+B5YxB5iZWQqCYKNbYJlygJmZpSGg2vmVKQeYmVkKAvDXmLPlADMzS4Wo\n",
       "RsWuRJPiADMzS0EANe5CzJQDzMwsBQFs8BOqMuUAMzNLSU24CzFLDjAzsxTkZuJwgGXJAWZmloJA\n",
       "VLsLMVMOMDOzlLgLMVsOMDOzFLgLMXsOMDOzFARiY/hPapb82zYzS4lbYNlygJmZpSBCVIcHcWTJ\n",
       "v20zs5TUoDqXQkgaLWmJpOl5ZX+UNDVZ5kmampTvLWld3r7f5L3mYEl/lzRH0m2SlJR3ljRR0uzk\n",
       "Z6d0fxPZcICZmaUgN4ijWZ1Lge4Fhm12/oizI2JQRAwCHgIezts9t3ZfRFyYV34n8E2gX7LUnvNy\n",
       "YFJE9AMmJdslxwFmZpaKXBdiXUshIuIFYPlWr5JrRZ0FjN1ubaTuQIeIeDkiArgPODXZfQowJlkf\n",
       "k1deUhxgZmYpCGBjlNW5pOCLwOKImJ1X1kfS65L+LOmLSVkPYEHeMQuSMoBuEbEoWf8A6JZGxbLm\n",
       "QRxmZimox0wcXSRNztseFRGj6nGpc9i89bUI6B0RyyQdDDwqaWChJ4uIkFSS8+g7wMzMUlJTWBdh\n",
       "ZUQMbsj5JTUHTgcOri2LiPXA+mR9iqS5QH+gAuiZ9/KeSRnAYkndI2JR0tW4pCH1KTZ3IZqZpSDl\n",
       "QRzbcjzwVkRs6hqU1FVSWbLel9xgjXeSLsLVkoYk983OAx5LXjYeGJGsj8grLykOMDOzFASiOupe\n",
       "CiFpLPASsJ+kBZLOT3YN59ODN44EpiXD6h8ELoyI2gEg3wbuBuYAc4GnkvLrgRMkzSYXitc36E0X\n",
       "mbsQzcxSEEFqU0lFxDnbKP+3rZQ9RG5Y/daOnwzsv5XyZcBxO1bL4nOAmZmlovAvKls6HGBmZikI\n",
       "8FRSGXOAmZmlxA+0zJYDzMwsBYH8QMuMOcDMzFLiFli2HGBmZinIPdAylamirEAOMDOzFAQFz8Rh\n",
       "KXGAmZmlxE9kzpYDzMwsBRFyCyxjDjAzs5T4e2DZcoCZmaUgwDNxZMwBZmaWgkBsrPEoxCw5wMzM\n",
       "UuLvgWXLAWZmlgLPxJE9B5iZWUpq3ALLlAPMzCwFERT8wEpLhwPMzCwFgajyII5MOcAsVe1areeK\n",
       "s/7MPt1XEAHX/fEopr+3J2d8YTpnHDGD6hrx1zd7c8cTQ9iz0xrG/ccfeW9JRwBmvLcHNzx0JAC3\n",
       "fPNP7N7hI8qaBW+8sye/ePgL/pLoTtCl+3p+cOMcOnXZSAQ8Na4bj43pTrvdNnLFrbPp1nM9ixe0\n",
       "5OeX9OfD1c055l+XcubIhaBg3doybv9JX959qy09+qzjilvf3nTe7r3X87tf9uLRe7sX8d1lzzNx\n",
       "ZMsBVgSShgG3AmXA3RFxfZGrlJrLTv0rL8/qxY/vO5HmZdW0Kq/ioH0qOHLgPL76izPYWF1Gp3br\n",
       "Nh2/oLIDI24+41Pn+fF9J/DR+hZA8F8jJnLsge/w7NR9M3wnTUN1lfjtzz/D3BntaN22mtsencbr\n",
       "/7sbx5++lKkv7cYDd/XgzAsqOOuCCkbf+Bk+mN+KH547kA9XN2fwkSu45Np3uOyMz1Hxbmsu/tcD\n",
       "AWjWLPjd/07hr890LvK7y1ZuLkQHWJb8kTZjksqAO4CTgAHAOZIGFLdW6Wjbaj2D+i7i8b99FoCq\n",
       "6jI+/Lglpx8+k9/9zyA2Vue6V1Z82LrOc+XCC8qa1VBeVk3svGo3aSuWtmDujHYArFtbxvy5rdm9\n",
       "2wYOO345zz7cFYBnH+7KYScsB+DN19vz4erc5963prany57rP3XOQYevYtH7rViysGVG76KxyE0l\n",
       "Vddi6XELLHuHAHMi4h0ASeOAU4CZRa1VCvbqvIaVa1tx5fDn6bfXMt5a0JVbHj2cXl1XcWDfRVxw\n",
       "0qtsqCrjV48P4c35e2x6zZjvPcjaj1tw11P/yBvvftLldMvIPzGg1xJefqs3z73Rt1hvq8nYo8fH\n",
       "7DNgLbPeaEfHLhtZsTT3IWLF0nI6dtn4qeOHnrmEyS90+lT5Uf9UyZ+f2H2n17cx8kwc2fLHgez1\n",
       "AObnbS9IykpeWbOgf49KHv7rAEbcfAbr1jfnvGOnUtashg5t1vON207l9seHcO1XnwWCZavbcOq1\n",
       "X2bEzWdw6/jD+OlXJtGm5YZN57ts1D/xLz/9KuXNqzm438LivbEmoFWbaq68423uunZvPvpwy8+1\n",
       "IrZoAh8wZBUnnrmE0Tf03qy8eXkNhx63ghefbHoBVjsKsa6lEJJGS1oiaXpe2dWSKiRNTZaT8/Zd\n",
       "IWmOpFmShuaVD0vK5ki6PK+8j6S/JeV/lNQipV9DphxgjZCkkZImS5pc9fHaYlenYEtWtWXpqrbM\n",
       "fL8bAM9N60v/HpUsXdWW56f1AcTM+XtQE6Jj24/ZWF3G6o9aATBrQVcqKjvQu+uqzc65oao5L07f\n",
       "myMHzsv43TQdZc1ruPKOWTw3vgt/fSYXPCsry+nUNfdholPXDaxaVr7p+L33W8ul/zWXay7cjzUr\n",
       "yzc71+CjVjJ3ZltWLivJv4c7pHYUYl1Lge4Fhm2l/JaIGJQsTwIktyCGAwOT1/xaUlkdtyv+X3Ku\n",
       "fYEVwPkNfNtF5QDLXgXQK2+7Z1K2SUSMiojBETG4eau2mVZuRyxf04bFK9vRu+tKAAb3q2De4o68\n",
       "ML0PB++ba0H16rKS8ubVrFzbio5t19FMNQDs1Xk1vbquYuGy9rRusZHd2+eCu6xZDYcPeG/TSEVL\n",
       "W3Dpz+cyf05rHhm916bSlyd14vjTlwJw/OlLeenZ3ICMrt3X85+/nsWN3+9HxbxP38s8+p8ref7x\n",
       "LtlUvRGqQXUuhYiIF4DlBV72FGBcRKyPiHeBOeRuVWy6XRERG4BxwCmSBBwLPJi8fgxwasFvshHx\n",
       "PbDsvQr0k9SHXHANB84tbpXSc/MjR3D1lydRXlZDxfIOXDfuaNZtaM6Pz36e3//gfqqqy/jZ2GMA\n",
       "MajvIr45bDJV1c2IEDc8+EVWr2tFp3YfccPXJ9CieTVS8NrcvXjkpV1inEujM/DgNRx/WiXvvtWG\n",
       "28e/AcCYm3pz/109+NFtbzP0zCUsqWjJf13SD4Bzv7OA9h2ruOin7wBQXS2+e9oBALRsXc3nj1jF\n",
       "bVc2zfuVGY1CvFjSecBk4PsRsYLcLYiX847Jvy2x5e2KQ4HdgZURUbWV40uKYsvObdvpkr7rX5Ib\n",
       "Rj86Iq7b1rFtd+8V+w+7NKOaWRo6Pjat2FWwenpm7X1TImLwjpyj8z90jRNGf6nO4+4//K73gMq8\n",
       "olERMWrL4yTtDTwREfsn292S1wXwM6B7RHxd0u3AyxHx++S4e4CnktMMi4hvJOVfJRdgVyfH75uU\n",
       "9wKeqr1OKXELrAiSvusni10PM0tRFDyZb2VDwjIiFteuS/ot8ESyub3bElsrXwZ0lNQ8aYV96jZG\n",
       "qfA9MDOzFNQ+0DKNe2BbIyl/WpPTgNoRiuOB4ZJaJrcm+gGvkHe7IhllOBwYH7lut+eA2hkERgCP\n",
       "NbhiReQWmJlZCgKoqkmnTSBpLHA00EXSAuAq4GhJg5JLzQMuAIiIGZLuJ/dd0irgooioTs5zMTCB\n",
       "T25XzEgu8R/AOEnXAq8D96RS8Yw5wMzMUpLWII6IOGcrxdsMmeQ++qfupW/rdkUykcIhO1LHxsAB\n",
       "ZmaWAj/QMnsOMDOzlHgqqWw5wMzM0hCejT5rDjAzsxSkOYjDCuMAMzNLge+BZc8BZmaWknCAZcoB\n",
       "ZmaWEg/iyJYDzMwsBeFBHJlzgJmZpcRdiNlygJmZpUJUexRiphxgZmYpyOh5YJbHAWZmlobI3Qez\n",
       "7DjAzMxS4lGI2XKAmZmlIPAgjqw5wMzMUuGZOLLmADMzS0lNjQMsSw4wM7MURLgLMWsOMDOzlLgL\n",
       "MVsOMDOzlHgYfbYcYGZmKXEXYrY874mZWQpqnwdW11IISaMlLZE0Pa/sRklvSZom6RFJHZPyvSWt\n",
       "kzQ1WX6T95qDJf1d0hxJt0lSUt5Z0kRJs5OfndL9bWTDAWZmloZkEEddS4HuBYZtUTYR2D8iDgDe\n",
       "Bq7I2zc3IgYly4V55XcC3wT6JUvtOS8HJkVEP2BSsl1yHGBmZmmJApZCThPxArB8i7JnIqIq2XwZ\n",
       "6Lm9c0jqDnSIiJcjIoD7gFOT3acAY5L1MXnlJcUBZmaWkhRbYHX5OvBU3nYfSa9L+rOkLyZlPYAF\n",
       "eccsSMoAukXEomT9A6BbWhXLkgdx1JOkX7Gdz1ERcUmG1TGzRqTAUYhdJE3O2x4VEaMKvYakHwNV\n",
       "wH8nRYuA3hGxTNLBwKOSBhZ6vogISSU5ftIBVn+T6z7EzJqaesyFWBkRgxtyDUn/BvwzcFzSLUhE\n",
       "rAfWJ+tTJM0F+gMVbN7N2DMpA1gsqXtELEq6Gpc0pD7F5gCrp4gYk78tqU1EfFSs+phZIxEQO3Eq\n",
       "KUnDgB8CR+X/zZHUFVgeEdWS+pIbrPFORCyXtFrSEOBvwHnAr5KXjQdGANcnPx/baRXfiXwPrIEk\n",
       "HSZpJvBWsn2gpF8XuVpmVkwpDeKQNBZ4CdhP0gJJ5wO3A+2BiVsMlz8SmCZpKvAgcGFE1A4A+TZw\n",
       "NzAHmMsn982uB06QNBs4PtkuOW6BNdwvgaHkPskQEW9IOrKoNTKzIkpvkEZEnLOV4nu2cexDwEPb\n",
       "2DcZ2H8r5cuA43akjo2BA2wHRMT85HuBtaqLVRczawRKcihE6XKANdx8SYcDIakc+C7wZpHrZGbF\n",
       "4tnoM+d7YA13IXARue9VLAQGJdtm1lSF6l4sNW6BNVBEVAJfLnY9zKwRcRdiptwCayBJfSU9Lmlp\n",
       "MunmY8kQVjNrqlIahWiFcYA13B+A+4HuwF7AA8DYotbIzIoncBdixhxgDdcmIn4XEVXJ8nugVbEr\n",
       "ZWbFE1H3YunxPbB6ktQ5WX1K0uXAOHKfvc4Gnixaxcys+BxQmXKA1d8Ucv9Na/sCLsjbF2z+jB4z\n",
       "a0K0E6eSsk9zgNVTRPQpdh3MrBHyII3MOcB2gKT9gQHk3fuKiPuKVyMzKx4P0siaA6yBJF0FHE0u\n",
       "wJ4ETgL+Qu6pp2bWFLkFlimPQmy4M8hNhvlBRHwNOBDYrbhVMrOi8vfAMuUWWMOti4gaSVWSOpB7\n",
       "IFyvYlfKzIrIAZUpB1jDTZbUEfgtuZGJH5J7fo+ZNUXhUYhZc4A1UER8O1n9jaSngQ4RMa2YdTKz\n",
       "InMLLFMOsHqSdND29kXEa1nWx8ysqXKA1d9N29kXwLFpXqxs+Vo6jH05zVPaTvbUwqnFroLVU1n3\n",
       "dM4jt8Ay5QCrp4g4pth1MLNGyt8Dy5QDzMwsDQHUFLsSTYsDzMwsJe5CzJa/yGxmlpaUvsgsaXTy\n",
       "oNzpeWWdJU2UNDv52Skpl6TbJM2RNC1/oJmkEcnxsyWNyCs/WNLfk9fcJqkk+z4dYA2U/Kf5iqSf\n",
       "JNu9JR1S7HqZWRGlNxPHvcCwLcouByZFRD9gUrINuWns+iXLSOBO2PTop6uAQ4FDgKtqQy855pt5\n",
       "r9vyWiXBAdZwvwYOA85JttcAdxSvOmZWTIrClkJExAvA8i2KTwHGJOtjgFPzyu+LnJeBjpK6A0OB\n",
       "iRGxPCJWABOBYcm+DhHxckQEuflbT6UE+R5Ywx0aEQdJeh0gIlZIalHsSplZEe3cUYjdImJRsv4B\n",
       "0C1Z7wHMzztuQVK2vfIFWykvOQ6whtsoqYykU0BSVzwGyaxJU2F/AbpImpy3PSoiRtXnOhERkoeM\n",
       "OMAa7jbgEWAPSdeRm53+yuJWycyKqrBIqYyIwQ04+2JJ3SNiUdINuCQpr2DzicR7JmUV5B75lF/+\n",
       "fFLecyvHlxzfA2ugiPhv4IfAz4FFwKkR8UBxa2VmRZPiPbBtGA/UjiQcATyWV35eMrBsCLAq6Wqc\n",
       "AJwoqVMyeONEYEKyb7WkIcnow/PyzlVS3AJrIEm9gY+Ax/PLIuL94tXKzIoqpU49SWPJtZ66SFpA\n",
       "bjTh9cD9ks4H3gPOSg5/EjgZmEPub9LXACJiuaSfAa8mx10TEbUDQ75NbqRja+CpZCk5DrCG+xO5\n",
       "/64CWgF9gFnAwGJWysyKKKUAi4hztrHruK0cG8BF2zjPaGD0VsonA/vvSB0bAwdYA0XE5/K3ky8P\n",
       "fnsbh5tZE+BhFdlygKUkIl6TdGix62FmReQAy5QDrIEkfS9vsxlwELCwSNUxs2Lb8UEaVk8OsIZr\n",
       "n7deRe6e2ENFqouZNQYOsEw5wBog+QJz+4j4QbHrYmaNiAMsUw6wepLUPCKqJB1R7LqYWeMh3IWY\n",
       "NQdY/b1C7n7XVEnjgQeAtbU7I+LhYlXMzIooCp5KylLiAGu4VsAy4Fg++T5YAA4ws6bKLbBMOcDq\n",
       "b49kBOJ0PgmuWv7va9aU+S9Aphxg9VcGtGPz4Krl/75mTZjvgWXLAVZ/iyLimmJXwswaIQdYphxg\n",
       "9bdTn1hnZiUqcIBlzAFWf5+aTNPMDDwKMWsOsHrKexyBmdlmfA8sWw4wM7O0OMAy5QAzM0uD74Fl\n",
       "zgFmZpYC4RFeWXOAmZmlxS2wTDnAzMxS4lGI2XKAmZmlxS2wTDnAzMzS4CcyZ65ZsStgZrbLiAKW\n",
       "OkjaT9LUvGW1pEslXS2pIq/85LzXXCFpjqRZkobmlQ9LyuZIujzdN1t8boGZmaUkjRZYRMwCBsGm\n",
       "p79XAI8AXwNuiYhfbHZNaQAwHBgI7AU8K6l/svsO4ARgAfCqpPERMXPHa9k4OMDMzFKyEwZxHAfM\n",
       "jYj3pG0O0j8FGBcR64F3Jc0BDkn2zYmIdwAkjUuO3WUCzF2IZmZpKKT7sP4ttOHA2LztiyVNkzRa\n",
       "UqekrAcwP++YBUnZtsp3GQ4wM7O0FBZgXSRNzltGbu1UkloA/wo8kBTdCexDrntxEXDTTnsfJcJd\n",
       "iGZmKRAF3wOrjIjBBRx3EvBaRCwGqP0JIOm3wBPJZgXQK+91PZMytlO+S3ALzMwsLel2IZ5DXveh\n",
       "pO55+04Dpifr44HhklpK6gP0A14BXgX6SeqTtOaGJ8fuMtwCMzNLiSKdL4JJaktu9OAFecU3SBpE\n",
       "Lgbn1e6LiBmS7ic3OKMKuCgiqpPzXAxMAMqA0RExI5UKNhIOMDOzNER6oxAjYi2w+xZlX93O8dcB\n",
       "122l/EngyXRq1fg4wMzM0uKZODLlADMzS4mnksqWA8zMLC0OsEw5wMzM0uDJfDPnADMzS4Hw88Cy\n",
       "5gAzM0tLSsPorTAOMDOzlLgLMVsOMEvN925+n0OPX8PKyuZccOx+m+370gVLGHnVIs7cfyCrlzfn\n",
       "jG8t4djTVwBQVga9+n3M2Z8byJqVzWnboZrLfjGfvT/7MRFw8/d68eaUtsV4S7ucJRXl3Pjd3qxc\n",
       "Wg4KTv7KMk77RuUOnXPi/Z34w617AnDudz/ghLNWbLb/qhF9WPR+C0Y9N2uHrtPoNWyyXtsBDrCM\n",
       "SRoN/DOwJCL2L3Z90vTMHzsz/v934d9vnb9Zede9NnDQUWtYvKB8U9mDd+7Bg3fuAcChJ6zi9G9W\n",
       "smZl7r/jt66pYPLz7bl25N40L6+hZWv/VUhLWfNg5E8W0u+AdXz0YTMuHtafg45cw2f6r6/ztf/+\n",
       "pX35/i/fZ89eGzaVrV5Rxu9v3pNfPfU2Elw8rD9DTlxN+47VAPzlyd1o1bbp3BjyPbBseS7E7N0L\n",
       "DCt2JXaG6X9rx5oVn/5MdMHVC7nn2r22eXvgmFNX8vyjHQFo076azw1Zy9N/6AxA1cZmrF1dtrOq\n",
       "3OTs3q2KfgesA6BNuxp67bueykXlLJzXgh+d25eLhvbne6fuy/uzWxZ0vinPt+egI9fQoVM17TtW\n",
       "c9CRa5j8XHsA1q1txsN3deXcSz/Yae+n0Un/cSq2HW6BZSwiXpC0d7HrkZXDhq6i8oNy3pnZeqv7\n",
       "W7auYfDRa7jjx7nHFO3ZewOrlpXx/Vvm03fgOmZPa8Od/7kX69c5xNL2wfwWzJ3ems8e9BHXnN+H\n",
       "S66fT4++G3jrtTbc/qOe3PDA3DrPUflBOV332rhpu0v3jVR+kGtpj7lhT7504dKm04IOUE0Tea+N\n",
       "hAPMdpqWrWsY/p0lXHFO320eM+SEVcyY3HZT92FZWbDv59Zxx5U9mPV6Wy68poKzL17CfTd23+Y5\n",
       "rP7WrW3Gz76xNxdeU0GzZjBzcluuHdln0/6NG3JP/50wrjOP3t0VgIXzWvCfX+lL8/Jgz97ruWr0\n",
       "vG2ef+701iya15ILf7qQD+a32KnvpTHxII5sOcAaoeQBdyMBWtGmyLVpuO6fWc+evTdw57O5m/dd\n",
       "u2/kjglvc8nJ/VixNPcp/ahTPuk+BKhcVM7SReXMej03aOMvT+zGWRcvybzuu7KqjfCzb+zNsaev\n",
       "4Asnr2Ltmma061C96d8p39Dhyxk6fDmw9XtgXfbcyLSX2m3arlxUzgGHfcjMKW14e1obzjtkANXV\n",
       "sLKyOf/+pX258aE5O/8NFpMDLFO+B9YIRcSoiBgcEYPLKexeRGM0763WnH3AQEYcOoARhw5g6aJy\n",
       "Lhraf1N4tWlfzQFD1vLXpztses2KpeVULmxBz30+BmDQFz/k/dmtilL/XVEE3Pz93vTqt54vXbAU\n",
       "gLbta+jWawMvPL7bpmPmzijsd37w0WuY8uf2rFlZxpqVZUz5c3sOPnoN/zJiGWNfn8F9r8zkpkfn\n",
       "0KPv+l0+vGofaFnXYulxC8xSc/mv3+OAwz5kt85V/H7yTH53UzcmjN19m8cfcdIqprzQ/lP3t+64\n",
       "sgf/cfv7NC8PPni/BTdd1msbZ7D6mvFKWyY92Jk+/7CObx2f+6rD165YyOV3vMdtl/fkD7fuSfVG\n",
       "cdQpK9hn4Md1nq9Dp2q+fOlivnNyfwC+fNliOnSq3qnvodGK8BeZM6bwLzxTksYCRwNdgMXAVRFx\n",
       "z7aO76DOcaiOy6h2loYJC6cWuwpWT2Xd50yJiME7co72HXvG54/6bp3HvTj+hzt8LctxCyxjEXFO\n",
       "setgZjuHvweWLQeYmVkaAvAw+kw5wMzM0uL8ypQDzMwsJR5lmC0PozczS0vtSMTtLQWQNE/S3yVN\n",
       "lTQ5KessaaKk2cnPTkm5JN0maY6kaZIOyjvPiOT42ZJG7JT3XEQOMDOzNERuEEddSz0cExGD8kYs\n",
       "Xg5Mioh+wKRkG+AkoF+yjATuhFzgAVcBhwKHAFfVht6uwgFmZpaC3BeZo85lB5wCjEnWxwCn5pXf\n",
       "FzkvAx0ldQeGAhMjYnlErAAmsotNJO4AMzNLS00BS2ECeEbSlGRqOYBuEbEoWf8A6Jas9wDyn2G0\n",
       "ICnbVvkuw4M4zMxSUmALq0vtfa3EqIgYtcUxX4iICkl7ABMlvZW/MyJC8pARB5iZWRoKf95XZV0z\n",
       "cURERfJziaRHyN3DWiype0QsSroIa2e5rgDy51vrmZRVkJv1J7/8+YJqWCLchWhmlooCRiAW0EKT\n",
       "1FZS+9p14ERgOjAeqB1JOAJ4LFkfD5yXjEYcAqxKuhonACdK6pQM3jgxKdtluAVmZpaSlB5o2Q14\n",
       "RBLk/kb/ISKelvQqcL+k84H3gLOS458ETgbmAB8BXwOIiOWSfga8mhx3TUQsT6OCjYUDzMwsDZHO\n",
       "XIgR8Q5w4FbKlwGfmtk7cjOyX7SNc40GRu94rRonB5iZWVr8dI9MOcDMzNLi/MqUA8zMLCU7+EVl\n",
       "qycHmJlZWhxgmXKAmZmlQBGo2gGWJQeYmVla3ALLlAPMzCwtDrBMOcDMzNIQ1GeyXkuBA8zMLCUe\n",
       "hZgtB5iZWSoCatwEy5IDzMwsDYHvgWXMAWZmlhY3wDLlADMzS4nvgWXLAWZmlhYHWKYcYGZmaQgg\n",
       "neeBWYEcYGZmqfAoxKw5wMzM0uIuxEw5wMzM0uAuxMw5wMzMUhEQ7kLMkgPMzCwt7kLMlAPMzCwN\n",
       "7kLMXLNiV8DMbJdRU1P3UgdJvSQ9J2mmpBmSvpuUXy2pQtLUZDk57zVXSJojaZakoXnlw5KyOZIu\n",
       "3ynvuYjcAjMzS0Wk1YVYBXw/Il6T1B6YImlisu+WiPhF/sGSBgDDgYHAXsCzkvonu+8ATgAWAK9K\n",
       "Gh8RM9OoZGPgADMzS0OQyvfAImIRsChZXyPpTaDHdl5yCjAuItYD70qaAxyS7JsTEe8ASBqXHLvL\n",
       "BJi7EM3M0hJR91IPkvYGPg/8LSm6WNI0SaMldUrKegDz8162ICnbVvkuwwFmZpaWwgKsi6TJecvI\n",
       "rZ1KUjvgIeDSiFgN3AnsAwwi10K7KZs31Xi5C9HMLA0RRHV1IUdWRsTg7R0gqZxceP13RDycO30s\n",
       "ztv/W+CJZLMC6JX38p5JGdsp3yW4BWZmlpaaqHupgyQB9wBvRsTNeeXd8w47DZierI8HhktqKakP\n",
       "0A94BXgV6Cepj6QW5AZ6jE/lfTYSboGZmaUlnVGIRwBfBf4uaWpS9iPgHEmDyA0XmQdckLtkzJB0\n",
       "P7nBGVXARRFRDSDpYmACUAaMjogZaVSwsXCAmZmlIdKZjT4i/gJoK7ue3M5rrgOu20r5k9t7Xalz\n",
       "gJmZpcVTSWXKAWZmlpLw88Ay5QAzM0tDBFQ7wLLkADMzS4sfp5IpB5iZWQoCCM9GnykHmJlZGsIP\n",
       "tMyaA8zMLCVugWVL4WGfjZqkpcB7xa7HTtIFqCx2Jaxgu/K/12ciouuOnEDS0+R+R3WpjIhhO3It\n",
       "y3GAWdFImlzXnHDWePjfyxobz4VoZmYlyQFmZmYlyQFmxTSq2BWwevG/lzUqvgdmZmYlyS0wMzMr\n",
       "SQ4wy5ykYZJmSZoj6fJi18e2T9JoSUskTa/7aLPsOMAsU5LKgDuAk4AB5B7SN6C4tbI63Av4e0vW\n",
       "6DjALGuHAHMi4p2I2ACMA04pcp1sOyLiBWB5sethtiUHmGWtBzA/b3tBUmZmVi8OMDMzK0kOMMta\n",
       "BdArb7tnUmZmVi8OMMvaq0A/SX0ktQCGA+OLXCczK0EOMMtURFQBFwMTgDeB+yNiRnFrZdsjaSzw\n",
       "ErCfpAWSzi92nczAM3GYmVmJcgvMzMxKkgPMzMxKkgPMzMxKkgPMzMxKkgPMzMxKkgPMSp6kaklT\n",
       "JU2X9ICkNjtwrnslnZGs3729iYYlHS3p8AZcY56kLoWWb3HMh/W81tWSflDfOpqVAgeY7QrWRcSg\n",
       "iNgf2ABcmL9TUvOGnDQivhERM7dzyNFAvQPMzNLhALNdzYvAvknr6EVJ44GZksok3SjpVUnTJF0A\n",
       "oJzbk+eTPQvsUXsiSc9LGpysD5P0mqQ3JE2StDe5oLwsaf19UVJXSQ8l13hV0hHJa3eX9IykGZLu\n",
       "BlTXm5D0qKQpyWtGbrHvlqR8kqSuSdk+kp5OXvOipM+m8ts0a8Qa9MnUrDFKWlonAU8nRQcB+0fE\n",
       "u0kIrIqIf5TUEvhfSc8Anwf2I/dssm7ATGD0FuftCvwWODI5V+eIWC7pN8CHEfGL5Lg/ALdExF8k\n",
       "9SY328g/AFcBf4mIayT9E1DITBZfT67RGnhV0kMRsQxoC0yOiMsk/SQ598XAKODCiJgt6VDg18Cx\n",
       "Dfg1mpUMB5jtClpLmpqsvwjcQ65r75WIeDcpPxE4oPb+FrAb0A84EhgbEdXAQkn/s5XzDwFeqD1X\n",
       "RGzr2VjHAwOkTQ2sDpLaJdc4PXntnyStKOA9XSLptGS9V1LXZUAN8Mek/PfAw8k1DgceyLt2ywKu\n",
       "YVbSHGC2K1gXEYPyC5I/5Gvzi4DvRMSELY47OcV6NAOGRMTHW6lLwSQdTS4MD4uIjyQ9D7TaxuGR\n",
       "XHfllr8Ds12d74FZUzEB+JakcgBJ/SW1BV4Azk7ukXUHjtnKa18GjpTUJ3lt56R8DdA+77hngO/U\n",
       "bkgalKy+AJyblJ0EdKqjrrsBK5Lw+iy5FmCtZkBtK/Jccl2Tq4F3JZ2ZXEOSDqzjGmYlzwFmTcXd\n",
       "5O5vvSZpOnAXuR6IR4DZyb77yM26vpmIWAqMJNdd9wafdOE9DpxWO4gDuAQYnAwSmcknoyF/Si4A\n",
       "Z5DrSny/jro+DTSX9CZwPbkArbUWOCR5D8cC1yTlXwbOT+o3AzilgN+JWUnzbPRmZlaS3AIzM7OS\n",
       "5AAzM7OS5AAzM7OS5AAzM7OS5AAzM7OS5AAzM7OS9H+xnlvksv2+MQAAAABJRU5ErkJggg==\n",
       "' alt='None' />\n",
       "    </div>\n",
       "  \n",
       "  </div>\n",
       "\n",
       "    </div>\n",
       "  </div>\n",
       "\n",
       "  \n",
       "</div>\n",
       "\n",
       "    \n",
       "</body>\n",
       "</html>"
      ],
      "text/plain": [
       "<IPython.core.display.HTML object>"
      ]
     },
     "metadata": {},
     "output_type": "display_data"
    }
   ],
   "source": [
    "# Return the model card document as an HTML page\n",
    "\n",
    "html = mct.export_format()\n",
    "\n",
    "display.display(display.HTML(html))"
   ]
  },
  {
   "cell_type": "markdown",
   "metadata": {},
   "source": [
    "## Exponentiated Gradient Reduction Alg for Adding Fairness Constraints"
   ]
  },
  {
   "cell_type": "code",
   "execution_count": null,
   "metadata": {},
   "outputs": [],
   "source": [
    "from IPython.core.display import display, HTML\n",
    "display(HTML(\"<style>div.output_scroll { height: 60em; }</style>\"))"
   ]
  },
  {
   "cell_type": "markdown",
   "metadata": {},
   "source": [
    "### Demographic Parity"
   ]
  },
  {
   "cell_type": "code",
   "execution_count": null,
   "metadata": {},
   "outputs": [],
   "source": [
    "mitigator, results_overall, results_black, results_white= add_constraint(model, 'DP', 'EG', X_train, y_train, race_train, race_test, X_test, y_test, y_predict, sample_weight_test, True)"
   ]
  },
  {
   "cell_type": "markdown",
   "metadata": {},
   "source": [
    "### Save results to dictionaries"
   ]
  },
  {
   "cell_type": "code",
   "execution_count": null,
   "metadata": {},
   "outputs": [],
   "source": [
    "run_key = 'EG DP Mitigated'\n",
    "overall_results_dict = add_values_in_dict(overall_results_dict, run_key, results_overall)\n",
    "black_results_dict = add_values_in_dict(black_results_dict, run_key, results_black)\n",
    "white_results_dict = add_values_in_dict(white_results_dict, run_key, results_white)\n",
    "print(overall_results_dict)\n",
    "print(black_results_dict)\n",
    "print(white_results_dict)"
   ]
  },
  {
   "cell_type": "markdown",
   "metadata": {},
   "source": [
    "### Equalized Odds"
   ]
  },
  {
   "cell_type": "code",
   "execution_count": null,
   "metadata": {},
   "outputs": [],
   "source": [
    "mitigator, results_overall, results_black, results_white= add_constraint(model, 'EO', 'EG', X_train, y_train, race_train, race_test, X_test, y_test, y_predict, sample_weight_test, True)"
   ]
  },
  {
   "cell_type": "markdown",
   "metadata": {},
   "source": [
    "### Save results to dictionaries"
   ]
  },
  {
   "cell_type": "code",
   "execution_count": null,
   "metadata": {},
   "outputs": [],
   "source": [
    "run_key = 'EG EO Mitigated'\n",
    "overall_results_dict = add_values_in_dict(overall_results_dict, run_key, results_overall)\n",
    "black_results_dict = add_values_in_dict(black_results_dict, run_key, results_black)\n",
    "white_results_dict = add_values_in_dict(white_results_dict, run_key, results_white)\n",
    "print(overall_results_dict)\n",
    "print(black_results_dict)\n",
    "print(white_results_dict)"
   ]
  },
  {
   "cell_type": "markdown",
   "metadata": {},
   "source": [
    "### EOO (True Positive Rate Parity)"
   ]
  },
  {
   "cell_type": "code",
   "execution_count": null,
   "metadata": {},
   "outputs": [],
   "source": [
    "mitigator, results_overall, results_black, results_white= add_constraint(model, 'TPRP', 'EG', X_train, y_train, race_train, race_test, X_test, y_test, y_predict, sample_weight_test, True)"
   ]
  },
  {
   "cell_type": "markdown",
   "metadata": {},
   "source": [
    "### Save results to dictionaries"
   ]
  },
  {
   "cell_type": "code",
   "execution_count": null,
   "metadata": {},
   "outputs": [],
   "source": [
    "run_key = 'EG EOO Mitigated'\n",
    "overall_results_dict = add_values_in_dict(overall_results_dict, run_key, results_overall)\n",
    "black_results_dict = add_values_in_dict(black_results_dict, run_key, results_black)\n",
    "white_results_dict = add_values_in_dict(white_results_dict, run_key, results_white)\n",
    "print(overall_results_dict)\n",
    "print(black_results_dict)\n",
    "print(white_results_dict)"
   ]
  },
  {
   "cell_type": "markdown",
   "metadata": {},
   "source": [
    "### False Positive Rate Parity"
   ]
  },
  {
   "cell_type": "code",
   "execution_count": null,
   "metadata": {},
   "outputs": [],
   "source": [
    "mitigator, results_overall, results_black, results_white= add_constraint(model, 'FPRP', 'EG', X_train, y_train, race_train, race_test, X_test, y_test, y_predict, sample_weight_test, True)"
   ]
  },
  {
   "cell_type": "markdown",
   "metadata": {},
   "source": [
    "### Save results to dictionaries"
   ]
  },
  {
   "cell_type": "code",
   "execution_count": null,
   "metadata": {},
   "outputs": [],
   "source": [
    "run_key = 'EG FPRP Mitigated'\n",
    "overall_results_dict = add_values_in_dict(overall_results_dict, run_key, results_overall)\n",
    "black_results_dict = add_values_in_dict(black_results_dict, run_key, results_black)\n",
    "white_results_dict = add_values_in_dict(white_results_dict, run_key, results_white)\n",
    "print(overall_results_dict)\n",
    "print(black_results_dict)\n",
    "print(white_results_dict)"
   ]
  },
  {
   "cell_type": "markdown",
   "metadata": {},
   "source": [
    "### Error Rate Parity"
   ]
  },
  {
   "cell_type": "code",
   "execution_count": null,
   "metadata": {},
   "outputs": [],
   "source": [
    "mitigator, results_overall, results_black, results_white= add_constraint(model, 'ERP', 'EG', X_train, y_train, race_train, race_test, X_test, y_test, y_predict, sample_weight_test, True)"
   ]
  },
  {
   "cell_type": "markdown",
   "metadata": {},
   "source": [
    "### Save results to dictionaries"
   ]
  },
  {
   "cell_type": "code",
   "execution_count": null,
   "metadata": {},
   "outputs": [],
   "source": [
    "run_key = 'EG ERP Mitigated'\n",
    "overall_results_dict = add_values_in_dict(overall_results_dict, run_key, results_overall)\n",
    "black_results_dict = add_values_in_dict(black_results_dict, run_key, results_black)\n",
    "white_results_dict = add_values_in_dict(white_results_dict, run_key, results_white)\n",
    "print(overall_results_dict)\n",
    "print(black_results_dict)\n",
    "print(white_results_dict)"
   ]
  },
  {
   "cell_type": "markdown",
   "metadata": {},
   "source": [
    "### Bounded Group Loss (issue, need to figure out loss parameter)"
   ]
  },
  {
   "cell_type": "code",
   "execution_count": null,
   "metadata": {},
   "outputs": [],
   "source": [
    "'''\n",
    "mitigator, results_overall, results_black, results_white= add_constraint(model, 'BGL', 'EG', X_train, y_train, race_train, race_test, X_test, y_test, y_predict, sample_weight_test, False)\n",
    "run_key = 'EG DP Mitigated'\n",
    "overall_results_dict = add_values_in_dict(overall_results_dict, run_key, results_overall)\n",
    "black_results_dict = add_values_in_dict(black_results_dict, run_key, results_black)\n",
    "white_results_dict = add_values_in_dict(white_results_dict, run_key, results_white)\n",
    "print(overall_results_dict)\n",
    "print(black_results_dict)\n",
    "print(white_results_dict)\n",
    "'''"
   ]
  },
  {
   "cell_type": "markdown",
   "metadata": {},
   "source": [
    "## Grid Search Reduction Alg for Adding Fairness Constraints"
   ]
  },
  {
   "cell_type": "markdown",
   "metadata": {},
   "source": [
    "### Demographic Parity"
   ]
  },
  {
   "cell_type": "code",
   "execution_count": null,
   "metadata": {},
   "outputs": [],
   "source": [
    "mitigator, results_overall, results_black, results_white= add_constraint(model, 'DP', 'GS', X_train, y_train, race_train, race_test, X_test, y_test, y_predict, sample_weight_test, True)"
   ]
  },
  {
   "cell_type": "code",
   "execution_count": null,
   "metadata": {},
   "outputs": [],
   "source": [
    "# We can examine the values of lambda_i chosen for us:\n",
    "lambda_vecs = mitigator.lambda_vecs_\n",
    "print(lambda_vecs[0])"
   ]
  },
  {
   "cell_type": "markdown",
   "metadata": {},
   "source": [
    "The next few cells come from: https://github.com/fairlearn/fairlearn/blob/main/notebooks/Binary%20Classification%20with%20the%20UCI%20Credit-card%20Default%20Dataset.ipynb\n",
    "\n",
    "Note: we train multiple models corresponding to different trade-off points between the performance metric (balanced accuracy) and fairness metric."
   ]
  },
  {
   "cell_type": "code",
   "execution_count": null,
   "metadata": {},
   "outputs": [],
   "source": [
    "grid_search_show(mitigator, demographic_parity_difference, y_predict, X_test, y_test, race_test, 'DemParityDifference','GS DPD', models_dict, 0.3)"
   ]
  },
  {
   "cell_type": "code",
   "execution_count": null,
   "metadata": {},
   "outputs": [],
   "source": [
    "models_dict.pop('GS DPD')\n",
    "models_dict"
   ]
  },
  {
   "cell_type": "markdown",
   "metadata": {},
   "source": [
    "### Save results to dictionaries"
   ]
  },
  {
   "cell_type": "code",
   "execution_count": null,
   "metadata": {},
   "outputs": [],
   "source": [
    "run_key = 'GS DP Mitigated'\n",
    "overall_results_dict = add_values_in_dict(overall_results_dict, run_key, results_overall)\n",
    "black_results_dict = add_values_in_dict(black_results_dict, run_key, results_black)\n",
    "white_results_dict = add_values_in_dict(white_results_dict, run_key, results_white)\n",
    "print(overall_results_dict)\n",
    "print(black_results_dict)\n",
    "print(white_results_dict)"
   ]
  },
  {
   "cell_type": "markdown",
   "metadata": {},
   "source": [
    "### Equalized Odds Used"
   ]
  },
  {
   "cell_type": "code",
   "execution_count": null,
   "metadata": {},
   "outputs": [],
   "source": [
    "mitigator, results_overall, results_black, results_white= add_constraint(model, 'EO', 'GS', X_train, y_train, race_train, race_test, X_test, y_test, y_predict, sample_weight_test, True)"
   ]
  },
  {
   "cell_type": "code",
   "execution_count": null,
   "metadata": {},
   "outputs": [],
   "source": [
    "# We can examine the values of lambda_i chosen for us:\n",
    "lambda_vecs = mitigator.lambda_vecs_\n",
    "print(lambda_vecs[0])"
   ]
  },
  {
   "cell_type": "code",
   "execution_count": null,
   "metadata": {},
   "outputs": [],
   "source": [
    "grid_search_show(mitigator, equalized_odds_difference, y_predict, X_test, y_test, race_test, 'EOddsDifference','GS EO', models_dict, 0.3)"
   ]
  },
  {
   "cell_type": "code",
   "execution_count": null,
   "metadata": {},
   "outputs": [],
   "source": [
    "models_dict.pop('GS EO')\n",
    "models_dict"
   ]
  },
  {
   "cell_type": "code",
   "execution_count": null,
   "metadata": {},
   "outputs": [],
   "source": [
    "run_key = 'GS EO Mitigated'\n",
    "overall_results_dict = add_values_in_dict(overall_results_dict, run_key, results_overall)\n",
    "black_results_dict = add_values_in_dict(black_results_dict, run_key, results_black)\n",
    "white_results_dict = add_values_in_dict(white_results_dict, run_key, results_white)\n",
    "print(overall_results_dict)\n",
    "print(black_results_dict)\n",
    "print(white_results_dict)"
   ]
  },
  {
   "cell_type": "markdown",
   "metadata": {},
   "source": [
    "### EOO (True Positive Rate Parity)"
   ]
  },
  {
   "cell_type": "code",
   "execution_count": null,
   "metadata": {},
   "outputs": [],
   "source": [
    "mitigator, results_overall, results_black, results_white= add_constraint(model, 'TPRP', 'GS', X_train, y_train, race_train, race_test, X_test, y_test, y_predict, sample_weight_test, True)"
   ]
  },
  {
   "cell_type": "code",
   "execution_count": null,
   "metadata": {},
   "outputs": [],
   "source": [
    "# We can examine the values of lambda_i chosen for us:\n",
    "lambda_vecs = mitigator.lambda_vecs_\n",
    "print(lambda_vecs[0])"
   ]
  },
  {
   "cell_type": "code",
   "execution_count": null,
   "metadata": {},
   "outputs": [],
   "source": [
    "grid_search_show(mitigator, true_positive_rate_difference, y_predict, X_test, y_test, race_test, 'TPRPDifference','GS TPRP', models_dict, 0.3)"
   ]
  },
  {
   "cell_type": "code",
   "execution_count": null,
   "metadata": {},
   "outputs": [],
   "source": [
    "models_dict.pop('GS TPRP')\n",
    "models_dict"
   ]
  },
  {
   "cell_type": "code",
   "execution_count": null,
   "metadata": {},
   "outputs": [],
   "source": [
    "run_key = 'GS EOO Mitigated'\n",
    "overall_results_dict = add_values_in_dict(overall_results_dict, run_key, results_overall)\n",
    "black_results_dict = add_values_in_dict(black_results_dict, run_key, results_black)\n",
    "white_results_dict = add_values_in_dict(white_results_dict, run_key, results_white)\n",
    "print(overall_results_dict)\n",
    "print(black_results_dict)\n",
    "print(white_results_dict)"
   ]
  },
  {
   "cell_type": "markdown",
   "metadata": {},
   "source": [
    "### False Positive Rate Parity"
   ]
  },
  {
   "cell_type": "code",
   "execution_count": null,
   "metadata": {},
   "outputs": [],
   "source": [
    "mitigator, results_overall, results_black, results_white= add_constraint(model, 'FPRP', 'GS', X_train, y_train, race_train, race_test, X_test, y_test, y_predict, sample_weight_test, True)"
   ]
  },
  {
   "cell_type": "code",
   "execution_count": null,
   "metadata": {},
   "outputs": [],
   "source": [
    "# We can examine the values of lambda_i chosen for us:\n",
    "lambda_vecs = mitigator.lambda_vecs_\n",
    "print(lambda_vecs[0])"
   ]
  },
  {
   "cell_type": "code",
   "execution_count": null,
   "metadata": {},
   "outputs": [],
   "source": [
    "# NOTE: the below models are the same for DT classifier!!"
   ]
  },
  {
   "cell_type": "code",
   "execution_count": null,
   "metadata": {},
   "outputs": [],
   "source": [
    "grid_search_show(mitigator, false_positive_rate_difference, y_predict, X_test, y_test, race_test, 'FPRPDifference','GS FPRP', models_dict, 0.4)"
   ]
  },
  {
   "cell_type": "code",
   "execution_count": null,
   "metadata": {},
   "outputs": [],
   "source": [
    "models_dict.pop('GS FPRP')\n",
    "models_dict"
   ]
  },
  {
   "cell_type": "code",
   "execution_count": null,
   "metadata": {},
   "outputs": [],
   "source": [
    "run_key = 'GS FPRP Mitigated'\n",
    "overall_results_dict = add_values_in_dict(overall_results_dict, run_key, results_overall)\n",
    "black_results_dict = add_values_in_dict(black_results_dict, run_key, results_black)\n",
    "white_results_dict = add_values_in_dict(white_results_dict, run_key, results_white)\n",
    "print(overall_results_dict)\n",
    "print(black_results_dict)\n",
    "print(white_results_dict)"
   ]
  },
  {
   "cell_type": "markdown",
   "metadata": {},
   "source": [
    "### Error Rate Parity"
   ]
  },
  {
   "cell_type": "code",
   "execution_count": null,
   "metadata": {},
   "outputs": [],
   "source": [
    "mitigator, results_overall, results_black, results_white= add_constraint(model, 'ERP', 'GS', X_train, y_train, race_train, race_test, X_test, y_test, y_predict, sample_weight_test, True)"
   ]
  },
  {
   "cell_type": "code",
   "execution_count": null,
   "metadata": {},
   "outputs": [],
   "source": [
    "# We can examine the values of lambda_i chosen for us:\n",
    "lambda_vecs = mitigator.lambda_vecs_\n",
    "print(lambda_vecs[0])"
   ]
  },
  {
   "cell_type": "code",
   "execution_count": null,
   "metadata": {},
   "outputs": [],
   "source": [
    "# Fairlearn doesnt have an erp difference metric for the below\n",
    "#grid_search_show(gs_erp, error_difference, y_predict, X_test, y_test, race_test, 'ERDifference','GS ERP', models_dict, 0.3)\n",
    "#models_dict.pop('GS FPRP')\n",
    "#models_dict"
   ]
  },
  {
   "cell_type": "code",
   "execution_count": null,
   "metadata": {},
   "outputs": [],
   "source": [
    "run_key = 'GS ERP Mitigated'\n",
    "overall_results_dict = add_values_in_dict(overall_results_dict, run_key, results_overall)\n",
    "black_results_dict = add_values_in_dict(black_results_dict, run_key, results_black)\n",
    "white_results_dict = add_values_in_dict(white_results_dict, run_key, results_white)\n",
    "print(overall_results_dict)\n",
    "print(black_results_dict)\n",
    "print(white_results_dict)"
   ]
  },
  {
   "cell_type": "markdown",
   "metadata": {},
   "source": [
    "### Bounded Group Loss (issue, need to figure out loss parameter)"
   ]
  },
  {
   "cell_type": "code",
   "execution_count": null,
   "metadata": {},
   "outputs": [],
   "source": [
    "'''\n",
    "mitigator, results_overall, results_black, results_white= add_constraint(model, 'BGL', 'GS', X_train, y_train, race_train, race_test, X_test, y_test, y_predict, sample_weight_test, False)\n",
    "run_key = 'GS EO Mitigated'\n",
    "overall_results_dict = add_values_in_dict(overall_results_dict, run_key, results_overall)\n",
    "black_results_dict = add_values_in_dict(black_results_dict, run_key, results_black)\n",
    "white_results_dict = add_values_in_dict(white_results_dict, run_key, results_white)\n",
    "print(overall_results_dict)\n",
    "print(black_results_dict)\n",
    "print(white_results_dict)\n",
    "'''"
   ]
  },
  {
   "cell_type": "code",
   "execution_count": null,
   "metadata": {},
   "outputs": [],
   "source": [
    "# We can examine the values of lambda_i chosen for us:\n",
    "#lambda_vecs = gs_dp.lambda_vecs_\n",
    "#print(lambda_vecs[0])"
   ]
  },
  {
   "cell_type": "markdown",
   "metadata": {},
   "source": [
    "# 4. Save results to csv files"
   ]
  },
  {
   "cell_type": "code",
   "execution_count": null,
   "metadata": {},
   "outputs": [],
   "source": [
    "# To use below!!\n",
    "if save == True:\n",
    "    overall_fieldnames = ['Run', 'Acc', 'F1micro/F1w/F1bsr', 'SelectionRate', 'TNR rate', 'TPR rate', 'FNER', 'FPER', 'DIB/DIW', 'DP Diff', 'EO Diff', 'TPR Diff', 'FPR Diff', 'ER Diff']\n",
    "    byrace_fieldnames = ['Run', 'Acc', 'F1micro/F1w/F1bsr', 'SelectionRate', 'TNR rate', 'TPR rate', 'FNER', 'FPER', 'DI']\n",
    "    save_dict_2_csv(overall_results_dict, overall_fieldnames, model_name+'_overall_results.csv')\n",
    "    save_dict_2_csv(black_results_dict, byrace_fieldnames, model_name+'_black_results.csv')\n",
    "    save_dict_2_csv(white_results_dict, byrace_fieldnames, model_name+'_white_results.csv')"
   ]
  }
 ],
 "metadata": {
  "kernelspec": {
   "display_name": "venv",
   "language": "python",
   "name": "venv"
  },
  "language_info": {
   "codemirror_mode": {
    "name": "ipython",
    "version": 3
   },
   "file_extension": ".py",
   "mimetype": "text/x-python",
   "name": "python",
   "nbconvert_exporter": "python",
   "pygments_lexer": "ipython3",
   "version": "3.8.10"
  }
 },
 "nbformat": 4,
 "nbformat_minor": 4
}
