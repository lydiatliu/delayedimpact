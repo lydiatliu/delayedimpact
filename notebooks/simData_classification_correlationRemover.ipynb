{
 "cells": [
  {
   "cell_type": "markdown",
   "metadata": {},
   "source": [
    "# 0. IMPORTANT--Specify classifier to be trained and dataset"
   ]
  },
  {
   "cell_type": "code",
   "execution_count": 1,
   "metadata": {},
   "outputs": [],
   "source": [
    "model_name = 'lgr'  # options include: {'Decision Tree': 'dt', 'Gaussian Naive Bayes':'gnb',\\\n",
    "                           #                  'Logistic Regression': 'lgr', \\\n",
    "                           #                  'Gradient_Boosted_Trees': 'gbt'} \n",
    "data_file = '/home/mackenzie/git_repositories/delayedimpact/data/simData_oom100.csv'  # ...oom10, ...oom50, ...oom100\n",
    "save = False"
   ]
  },
  {
   "cell_type": "markdown",
   "metadata": {},
   "source": [
    "# 1. Imports and Set Up"
   ]
  },
  {
   "cell_type": "code",
   "execution_count": 2,
   "metadata": {},
   "outputs": [],
   "source": [
    "from impt_functions import *\n",
    "import csv\n",
    "from sklearn.tree import DecisionTreeClassifier\n",
    "from sklearn.naive_bayes import GaussianNB\n",
    "from sklearn.linear_model import LogisticRegression\n",
    "from sklearn import svm\n",
    "from sklearn.ensemble import GradientBoostingClassifier\n",
    "from sklearn.metrics import classification_report, confusion_matrix, accuracy_score, f1_score\n",
    "import pandas as pd \n",
    "import numpy as np\n",
    "import matplotlib.pyplot as plt\n",
    "from matplotlib import colors\n",
    "from fairlearn.metrics import *\n",
    "from fairlearn.preprocessing import CorrelationRemover\n",
    "from raiwidgets import FairnessDashboard\n",
    "%matplotlib inline"
   ]
  },
  {
   "cell_type": "code",
   "execution_count": 3,
   "metadata": {},
   "outputs": [],
   "source": [
    "# Dict used for saving overall results to a csv later\n",
    "# Example: overall = {'Unmitigated':[], 'EG DP': [], 'EG EO': [],\n",
    "#                   'EG EOO': [], 'EG FPRP': [], 'EG ERP': [],\n",
    "#                   'GS DP': [], 'GS EO': [],\n",
    "#                   'GS EOO': [], 'GS FPRP': [], 'GS ERP': []}\n",
    "# Example: black_results = {'Unmitigated Black': [], \n",
    "#                          'EG DP Black': [], ..., 'GS ERP Black': []}\n",
    "\n",
    "# Instantiate lists for holding results\n",
    "pp_mitigated, pp_mitigated_black, pp_mitigated_white = [], [], []"
   ]
  },
  {
   "cell_type": "markdown",
   "metadata": {},
   "source": [
    "# 2. Prepare data"
   ]
  },
  {
   "cell_type": "code",
   "execution_count": 4,
   "metadata": {},
   "outputs": [
    {
     "name": "stdout",
     "output_type": "stream",
     "text": [
      "       score  repay_probability  race  repay_indices\n",
      "0        601              75.21     1              1\n",
      "1        693              95.15     1              1\n",
      "2        791              98.62     1              1\n",
      "3        637              86.69     1              1\n",
      "4        775              98.45     1              1\n",
      "...      ...                ...   ...            ...\n",
      "99995    797              98.73     1              1\n",
      "99996    562              58.57     1              1\n",
      "99997    687              94.60     1              1\n",
      "99998    589              70.61     1              1\n",
      "99999    555              52.97     1              0\n",
      "\n",
      "[100000 rows x 4 columns]\n"
     ]
    }
   ],
   "source": [
    "data = get_data(data_file)"
   ]
  },
  {
   "cell_type": "code",
   "execution_count": 5,
   "metadata": {},
   "outputs": [
    {
     "name": "stdout",
     "output_type": "stream",
     "text": [
      "<class 'pandas.core.frame.DataFrame'>\n",
      "       score  repay_probability  race  repay_indices\n",
      "0        601              75.21     1              1\n",
      "1        693              95.15     1              1\n",
      "2        791              98.62     1              1\n",
      "3        637              86.69     1              1\n",
      "4        775              98.45     1              1\n",
      "...      ...                ...   ...            ...\n",
      "99995    797              98.73     1              1\n",
      "99996    562              58.57     1              1\n",
      "99997    687              94.60     1              1\n",
      "99998    589              70.61     1              1\n",
      "99999    555              52.97     1              0\n",
      "\n",
      "[100000 rows x 4 columns]\n"
     ]
    }
   ],
   "source": [
    "print(type(data))\n",
    "print(data)"
   ]
  },
  {
   "cell_type": "code",
   "execution_count": null,
   "metadata": {},
   "outputs": [],
   "source": [
    "# Reference\n",
    "# https://fairlearn.org/main/api_reference/fairlearn.preprocessing.html\n",
    "\n",
    "# TODO: when running experiments, alter the alpha\n",
    "alpha = 0.5  # between 0-1, alpha=1.0 filters out all information while for alpha=0.0 no mitigation applied\n",
    "\n",
    "sensitive_feature_ids = 1  # list of columns to filter out this can be a sequence of either int ,in the case of numpy, or string, in the case of pandas\n",
    "correl_remover = CorrelationRemover(sensitive_feature_ids, alpha) \n",
    "\n",
    "# TODO: figure out if it needs to be all the data or just training data?? check og paper\n",
    "correl_remover.fit(data)\n",
    "pp_data = correl_remover.transform(data)"
   ]
  },
  {
   "cell_type": "code",
   "execution_count": 6,
   "metadata": {},
   "outputs": [
    {
     "name": "stdout",
     "output_type": "stream",
     "text": [
      "Here are the x values:  [[601   1]\n",
      " [693   1]\n",
      " [791   1]\n",
      " ...\n",
      " [687   1]\n",
      " [589   1]\n",
      " [555   1]] \n",
      "\n",
      "Here are the y values:  [1 1 1 ... 1 1 0]\n",
      "Sample weights are all equal.\n"
     ]
    }
   ],
   "source": [
    "X_train, X_test, y_train, y_test, race_train, race_test, sample_weight_train, sample_weight_test = prep_data(data=data, test_size=0.3, weight_index=1)"
   ]
  },
  {
   "cell_type": "code",
   "execution_count": 7,
   "metadata": {},
   "outputs": [],
   "source": [
    "x = data[['score', 'race']].values\n",
    "y = data['repay_indices'].values"
   ]
  },
  {
   "cell_type": "markdown",
   "metadata": {},
   "source": [
    "# 3. Classifier"
   ]
  },
  {
   "cell_type": "code",
   "execution_count": 10,
   "metadata": {},
   "outputs": [
    {
     "name": "stdout",
     "output_type": "stream",
     "text": [
      "The classifier trained below is:  lgr\n"
     ]
    }
   ],
   "source": [
    "print('The classifier trained below is: ', model_name)"
   ]
  },
  {
   "cell_type": "code",
   "execution_count": 11,
   "metadata": {},
   "outputs": [],
   "source": [
    "if model_name == 'dt':\n",
    "    # Initialize classifier:\n",
    "    classifier = DecisionTreeClassifier()\n",
    "elif model_name == 'gnb':\n",
    "    classifier = GaussianNB()\n",
    "elif model_name == 'lgr':\n",
    "    # Reference: https://towardsdatascience.com/logistic-regression-using-python-sklearn-numpy-mnist-handwriting-recognition-matplotlib-a6b31e2b166a\n",
    "    classifier = LogisticRegression()\n",
    "elif model_name == 'svm_linear':\n",
    "    # Reference: https://www.datacamp.com/community/tutorials/svm-classification-scikit-learn-python\n",
    "    classifier = svm.SVC(kernel='linear', probability=True)\n",
    "elif model_name == 'gbt':\n",
    "    # Reference: https://scikit-learn.org/stable/modules/generated/sklearn.ensemble.GradientBoostingClassifier.html\n",
    "    # Note: max_depth default is 3 but tune this parameter for best performance\n",
    "    classifier = GradientBoostingClassifier(n_estimators=100) \n",
    "else:\n",
    "    print('PROBLEM: input a specified classifier above')"
   ]
  },
  {
   "cell_type": "markdown",
   "metadata": {},
   "source": [
    "## Train classifier and collect predictions\n",
    "NOTE: atm sample_weight are all 1s"
   ]
  },
  {
   "cell_type": "code",
   "execution_count": 12,
   "metadata": {},
   "outputs": [],
   "source": [
    "# Reference: https://www.datacamp.com/community/tutorials/decision-tree-classification-python\n",
    "\n",
    "# Train the classifier:\n",
    "model = classifier.fit(X_train,y_train, sample_weight_train)\n",
    "\n",
    "# Make predictions with the classifier:\n",
    "y_predict = model.predict(X_test)\n",
    "\n",
    "# Scores on test set\n",
    "test_scores = model.predict_proba(X_test)[:, 1]"
   ]
  },
  {
   "cell_type": "markdown",
   "metadata": {},
   "source": [
    "### Evaluation of classifier overall"
   ]
  },
  {
   "cell_type": "code",
   "execution_count": 13,
   "metadata": {},
   "outputs": [
    {
     "data": {
      "text/html": [
       "<div>\n",
       "<style scoped>\n",
       "    .dataframe tbody tr th:only-of-type {\n",
       "        vertical-align: middle;\n",
       "    }\n",
       "\n",
       "    .dataframe tbody tr th {\n",
       "        vertical-align: top;\n",
       "    }\n",
       "\n",
       "    .dataframe thead th {\n",
       "        text-align: right;\n",
       "    }\n",
       "</style>\n",
       "<table border=\"1\" class=\"dataframe\">\n",
       "  <thead>\n",
       "    <tr style=\"text-align: right;\">\n",
       "      <th></th>\n",
       "      <th>Unmitigated</th>\n",
       "    </tr>\n",
       "  </thead>\n",
       "  <tbody>\n",
       "    <tr>\n",
       "      <th>Overall selection rate</th>\n",
       "      <td>0.7368</td>\n",
       "    </tr>\n",
       "    <tr>\n",
       "      <th>Demographic parity difference</th>\n",
       "      <td>0.487291</td>\n",
       "    </tr>\n",
       "    <tr>\n",
       "      <th>Demographic parity ratio</th>\n",
       "      <td>0.38659</td>\n",
       "    </tr>\n",
       "    <tr>\n",
       "      <th>------</th>\n",
       "      <td></td>\n",
       "    </tr>\n",
       "    <tr>\n",
       "      <th>Overall balanced error rate</th>\n",
       "      <td>0.154262</td>\n",
       "    </tr>\n",
       "    <tr>\n",
       "      <th>Balanced error rate difference</th>\n",
       "      <td>0.0161394</td>\n",
       "    </tr>\n",
       "    <tr>\n",
       "      <th>------</th>\n",
       "      <td></td>\n",
       "    </tr>\n",
       "    <tr>\n",
       "      <th>True positive rate difference</th>\n",
       "      <td>0.232589</td>\n",
       "    </tr>\n",
       "    <tr>\n",
       "      <th>True negative rate difference</th>\n",
       "      <td>0.20031</td>\n",
       "    </tr>\n",
       "    <tr>\n",
       "      <th>False positive rate difference</th>\n",
       "      <td>0.20031</td>\n",
       "    </tr>\n",
       "    <tr>\n",
       "      <th>False negative rate difference</th>\n",
       "      <td>0.232589</td>\n",
       "    </tr>\n",
       "    <tr>\n",
       "      <th>Equalized odds difference</th>\n",
       "      <td>0.232589</td>\n",
       "    </tr>\n",
       "    <tr>\n",
       "      <th>------</th>\n",
       "      <td></td>\n",
       "    </tr>\n",
       "    <tr>\n",
       "      <th>Overall AUC</th>\n",
       "      <td>0.934345</td>\n",
       "    </tr>\n",
       "    <tr>\n",
       "      <th>AUC difference</th>\n",
       "      <td>0.0328764</td>\n",
       "    </tr>\n",
       "  </tbody>\n",
       "</table>\n",
       "</div>"
      ],
      "text/plain": [
       "                               Unmitigated\n",
       "Overall selection rate              0.7368\n",
       "Demographic parity difference     0.487291\n",
       "Demographic parity ratio           0.38659\n",
       "------                                    \n",
       "Overall balanced error rate       0.154262\n",
       "Balanced error rate difference   0.0161394\n",
       " ------                                   \n",
       "True positive rate difference     0.232589\n",
       "True negative rate difference      0.20031\n",
       "False positive rate difference     0.20031\n",
       "False negative rate difference    0.232589\n",
       "Equalized odds difference         0.232589\n",
       "  ------                                  \n",
       "Overall AUC                       0.934345\n",
       "AUC difference                   0.0328764"
      ]
     },
     "execution_count": 13,
     "metadata": {},
     "output_type": "execute_result"
    }
   ],
   "source": [
    "# Metrics\n",
    "models_dict = {\"pp_mitigated\": (y_predict, test_scores)}\n",
    "get_metrics_df(models_dict, y_test, race_test)"
   ]
  },
  {
   "cell_type": "code",
   "execution_count": 14,
   "metadata": {},
   "outputs": [
    {
     "name": "stdout",
     "output_type": "stream",
     "text": [
      "[[ 6550  2130]\n",
      " [ 1346 19974]]\n",
      "              precision    recall  f1-score   support\n",
      "\n",
      "           0       0.83      0.75      0.79      8680\n",
      "           1       0.90      0.94      0.92     21320\n",
      "\n",
      "    accuracy                           0.88     30000\n",
      "   macro avg       0.87      0.85      0.86     30000\n",
      "weighted avg       0.88      0.88      0.88     30000\n",
      "\n",
      "F1 score micro: \n",
      "0.8841333333333333\n",
      "F1 score weighted: \n",
      "0.8824392024670211\n",
      "F1 score binary: \n",
      "0.9199521002210759\n",
      "\n"
     ]
    },
    {
     "name": "stderr",
     "output_type": "stream",
     "text": [
      "The positional argument 'metric' has been replaced by a keyword argument 'metrics'. From version 0.10.0 passing it as a positional argument or as a keyword argument 'metric' will result in an error\n"
     ]
    },
    {
     "name": "stdout",
     "output_type": "stream",
     "text": [
      "Selection Rate Overall:  0.7368\n",
      "TNR=TN/(TN+FP)=  0.7546082949308756\n",
      "TPR=TP/(FP+FN)=  0.9368667917448406\n",
      "FNER=FN/(FN+TP)=  0.06313320825515947\n",
      "FPER=FP/(FP+TN)=  0.24539170506912442\n"
     ]
    }
   ],
   "source": [
    "cm = confusion_matrix(y_test, y_predict)\n",
    "print(cm)\n",
    "results_dict = classification_report(y_test, y_predict, output_dict=True)\n",
    "print(classification_report(y_test, y_predict))\n",
    "# Add accuracy to the results list\n",
    "pp_mitigated.append(round(results_dict['accuracy']*100, 2))\n",
    "f1_micro, f1_weighted, f1_binary = get_f1_scores(y_test, y_predict)\n",
    "f1_str = str(round(f1_micro*100, 2))+\"/\"+str(round(f1_weighted*100, 2))+\"/\"+str(round(f1_binary*100, 2))\n",
    "# Add f1 scores to results list\n",
    "pp_mitigated.append(f1_str)\n",
    "# Add Selection rate to results list\n",
    "sr = get_selection_rates(y_test, y_predict, race_test, 0)\n",
    "unmitigated.append(round(sr*100, 2))\n",
    "# Add Outcome rates to results list\n",
    "tnr, tpr, fner, fper = evaluation_outcome_rates(y_test, y_predict, sample_weight_test)\n",
    "pp_mitigated.append(round(tnr*100, 2))\n",
    "pp_mitigated.append(round(tpr*100, 2))\n",
    "pp_mitigated.append(round(fner*100, 2))\n",
    "pp_mitigated.append(round(fper*100, 2))"
   ]
  },
  {
   "cell_type": "markdown",
   "metadata": {},
   "source": [
    "### Cross-validated metrics"
   ]
  },
  {
   "cell_type": "code",
   "execution_count": 15,
   "metadata": {},
   "outputs": [
    {
     "name": "stdout",
     "output_type": "stream",
     "text": [
      "[0.87973325 0.88484126 0.88081539 0.87985374 0.87599261]\n"
     ]
    }
   ],
   "source": [
    "from sklearn.model_selection import cross_val_score\n",
    "scores = cross_val_score(model, x, y, cv=5, scoring='f1_weighted')\n",
    "print(scores)"
   ]
  },
  {
   "cell_type": "markdown",
   "metadata": {},
   "source": [
    "### Delayed impact calculated"
   ]
  },
  {
   "cell_type": "code",
   "execution_count": null,
   "metadata": {},
   "outputs": [],
   "source": [
    "di_black, di_white = calculate_delayed_impact(X_test, y_test, y_predict, race_test)\n",
    "# Add DI to results list\n",
    "di_str = str(round(di_black, 2))+\"/\"+str(round(di_white, 2))\n",
    "pp_mitigated.append(di_str)"
   ]
  },
  {
   "cell_type": "markdown",
   "metadata": {},
   "source": [
    "### Fairness Metric Evaluation of classifier"
   ]
  },
  {
   "cell_type": "code",
   "execution_count": null,
   "metadata": {},
   "outputs": [],
   "source": [
    "dp_diff, eod_diff, eoo_dif, fpr_dif, er_dif = print_fairness_metrics(y_test, y_predict, race_test, sample_weight_test)\n",
    "\n",
    "# Add the fairness metric differences to results list\n",
    "pp_mitigated.append(round(dp_diff*100, 2))\n",
    "pp_nmitigated.append(round(eod_diff*100, 2))\n",
    "pp_mitigated.append(round(eoo_dif*100, 2))\n",
    "pp_mitigated.append(round(fpr_dif*100, 2))\n",
    "pp_mitigated.append(round(er_dif*100, 2))\n",
    "pp_mitigated.append(alpha)"
   ]
  },
  {
   "cell_type": "markdown",
   "metadata": {},
   "source": [
    "### Evaluation of classifier by race"
   ]
  },
  {
   "cell_type": "code",
   "execution_count": null,
   "metadata": {},
   "outputs": [],
   "source": [
    "results_black, results_white = evaluation_by_race(X_test, y_test, race_test, y_predict, sample_weight_test)\n",
    "pp_mitigated_black.extend(results_black)\n",
    "pp_mitigated_black.append(alpha)\n",
    "pp_mitigated_white.extend(results_white)\n",
    "pp_mitigated_white.append(alpha)"
   ]
  },
  {
   "cell_type": "markdown",
   "metadata": {},
   "source": [
    "### Save results to dictionaries"
   ]
  },
  {
   "cell_type": "code",
   "execution_count": null,
   "metadata": {},
   "outputs": [],
   "source": [
    "run_key = 'Pre-proc Mitigated'\n",
    "overall_results_dict = add_values_in_dict({}, run_key, pp_mitigated)\n",
    "black_results_dict = add_values_in_dict({}, run_key, pp_mitigated_black)\n",
    "white_results_dict = add_values_in_dict({}, run_key, pp_mitigated_white)\n",
    "print(overall_results_dict)\n",
    "print(black_results_dict)\n",
    "print(white_results_dict)"
   ]
  },
  {
   "cell_type": "markdown",
   "metadata": {},
   "source": [
    "# 4. Save results to csv files"
   ]
  },
  {
   "cell_type": "code",
   "execution_count": null,
   "metadata": {},
   "outputs": [],
   "source": [
    "# I'll want to compare the preproc mitigated to the unmitigated results from before\n",
    "# TODO: add alpha as a dict key!!"
   ]
  },
  {
   "cell_type": "code",
   "execution_count": null,
   "metadata": {},
   "outputs": [],
   "source": [
    "# To use below!!\n",
    "if save == True:\n",
    "    overall_fieldnames = ['Run', 'Acc', 'F1micro/F1w/F1bsr', 'SelectionRate', 'TNR rate', 'TPR rate', 'FNER', 'FPER', 'DIB/DIW', 'DP Diff', 'EO Diff', 'TPR Diff', 'FPR Diff', 'ER Diff', 'Alpha']\n",
    "    byrace_fieldnames = ['Run', 'Acc', 'F1micro/F1w/F1bsr', 'SelectionRate', 'TNR rate', 'TPR rate', 'FNER', 'FPER', 'DI', 'Alpha']\n",
    "    save_dict_2_csv(overall_results_dict, overall_fieldnames, model_name+'_overall_results.csv')\n",
    "    save_dict_2_csv(black_results_dict, byrace_fieldnames, model_name+'_black_results.csv')\n",
    "    save_dict_2_csv(white_results_dict, byrace_fieldnames, model_name+'_white_results.csv')"
   ]
  }
 ],
 "metadata": {
  "kernelspec": {
   "display_name": "venv",
   "language": "python",
   "name": "venv"
  },
  "language_info": {
   "codemirror_mode": {
    "name": "ipython",
    "version": 3
   },
   "file_extension": ".py",
   "mimetype": "text/x-python",
   "name": "python",
   "nbconvert_exporter": "python",
   "pygments_lexer": "ipython3",
   "version": "3.8.10"
  }
 },
 "nbformat": 4,
 "nbformat_minor": 4
}
