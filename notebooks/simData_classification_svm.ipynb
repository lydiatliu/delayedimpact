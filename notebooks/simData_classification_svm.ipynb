{
 "cells": [
  {
   "cell_type": "markdown",
   "metadata": {},
   "source": [
    "# 1. Imports"
   ]
  },
  {
   "cell_type": "code",
   "execution_count": 1,
   "metadata": {},
   "outputs": [],
   "source": [
    "from impt_functions import *\n",
    "from sklearn import svm\n",
    "from sklearn.metrics import classification_report, confusion_matrix, accuracy_score\n",
    "import pandas as pd \n",
    "import numpy as np\n",
    "from fairlearn.reductions import ExponentiatedGradient, GridSearch, DemographicParity, EqualizedOdds, \\\n",
    "    TruePositiveRateParity, FalsePositiveRateParity, ErrorRateParity, BoundedGroupLoss\n",
    "from fairlearn.metrics import *\n",
    "from raiwidgets import FairnessDashboard"
   ]
  },
  {
   "cell_type": "markdown",
   "metadata": {},
   "source": [
    "# 2. Prepare data"
   ]
  },
  {
   "cell_type": "code",
   "execution_count": 2,
   "metadata": {},
   "outputs": [
    {
     "name": "stdout",
     "output_type": "stream",
     "text": [
      "      score  repay_probability  race  repay_indices\n",
      "0       610              78.90     1              1\n",
      "1       568              47.77     0              0\n",
      "2       750              98.13     1              1\n",
      "3       775              98.45     1              1\n",
      "4       704              95.88     1              1\n",
      "...     ...                ...   ...            ...\n",
      "9995    832              98.99     1              1\n",
      "9996    416              10.91     1              0\n",
      "9997    444              14.63     1              0\n",
      "9998    778              98.47     1              1\n",
      "9999    738              97.68     1              1\n",
      "\n",
      "[10000 rows x 4 columns]\n"
     ]
    }
   ],
   "source": [
    "data = get_data('/home/mackenzie/git_repositories/delayedimpact/data/simData_oom10.csv')"
   ]
  },
  {
   "cell_type": "code",
   "execution_count": 3,
   "metadata": {},
   "outputs": [
    {
     "name": "stdout",
     "output_type": "stream",
     "text": [
      "Here are the x values:  [[610   1]\n",
      " [568   0]\n",
      " [750   1]\n",
      " ...\n",
      " [444   1]\n",
      " [778   1]\n",
      " [738   1]] \n",
      "\n",
      "Here are the y values:  [1 0 1 ... 0 1 1]\n",
      "Sample weights are all equal.\n"
     ]
    }
   ],
   "source": [
    "X_train, X_test, y_train, y_test, race_train, race_test, sample_weight_train, sample_weight_test = prep_data(data=data, test_size=0.3, weight_index=1)"
   ]
  },
  {
   "cell_type": "markdown",
   "metadata": {},
   "source": [
    "# 3. Support Vector Machines with Fairlearn\n",
    "\n",
    "Reference: https://www.datacamp.com/community/tutorials/svm-classification-scikit-learn-python"
   ]
  },
  {
   "cell_type": "markdown",
   "metadata": {},
   "source": [
    "## SVM classifier + Collect Predictions"
   ]
  },
  {
   "cell_type": "code",
   "execution_count": 4,
   "metadata": {},
   "outputs": [],
   "source": [
    "# TODO: add cells from above!!\n",
    "# TODO: try other svm kernels??"
   ]
  },
  {
   "cell_type": "markdown",
   "metadata": {},
   "source": [
    "## Linear Kernel"
   ]
  },
  {
   "cell_type": "code",
   "execution_count": 5,
   "metadata": {},
   "outputs": [],
   "source": [
    "# Instantiate classifier:\n",
    "clf = svm.SVC(kernel='linear')  # can try other kernels\n",
    "\n",
    "#Train the model using the training sets\n",
    "model = clf.fit(X_train, y_train)\n",
    "\n",
    "# Make predictions with the classifier:\n",
    "y_predict = model.predict(X_test)"
   ]
  },
  {
   "cell_type": "markdown",
   "metadata": {},
   "source": [
    "### Evaluation of classifier overall"
   ]
  },
  {
   "cell_type": "code",
   "execution_count": 6,
   "metadata": {},
   "outputs": [
    {
     "name": "stdout",
     "output_type": "stream",
     "text": [
      "[[ 646  203]\n",
      " [ 131 2020]]\n",
      "              precision    recall  f1-score   support\n",
      "\n",
      "           0       0.83      0.76      0.79       849\n",
      "           1       0.91      0.94      0.92      2151\n",
      "\n",
      "    accuracy                           0.89      3000\n",
      "   macro avg       0.87      0.85      0.86      3000\n",
      "weighted avg       0.89      0.89      0.89      3000\n",
      "\n",
      "FNER=FN/(FN+TP)=  0.06090190609019061\n",
      "FPER=FP/(FP+TN)=  0.23910482921083628\n",
      "TNR=TN/(TN+FP)=  0.7608951707891637\n",
      "TPR=TP/(FP+FN)=  0.9390980939098094\n"
     ]
    }
   ],
   "source": [
    "cm = confusion_matrix(y_test, y_predict)\n",
    "print(cm)\n",
    "print(classification_report(y_test, y_predict)) \n",
    "evaluation_outcome_rates(y_test, y_predict, sample_weight_test)"
   ]
  },
  {
   "cell_type": "markdown",
   "metadata": {},
   "source": [
    "### Evaluation of classifier by race"
   ]
  },
  {
   "cell_type": "code",
   "execution_count": 7,
   "metadata": {},
   "outputs": [
    {
     "name": "stdout",
     "output_type": "stream",
     "text": [
      "EVALUATION FOR BLACK GROUP\n",
      "[[213  20]\n",
      " [ 40  86]]\n",
      "              precision    recall  f1-score   support\n",
      "\n",
      "           0       0.84      0.91      0.88       233\n",
      "           1       0.81      0.68      0.74       126\n",
      "\n",
      "    accuracy                           0.83       359\n",
      "   macro avg       0.83      0.80      0.81       359\n",
      "weighted avg       0.83      0.83      0.83       359\n",
      "\n",
      "FNER=FN/(FN+TP)=  0.31746031746031744\n",
      "FPER=FP/(FP+TN)=  0.08583690987124463\n",
      "TNR=TN/(TN+FP)=  0.9141630901287554\n",
      "TPR=TP/(FP+FN)=  0.6825396825396826\n",
      "\n",
      "EVALUATION FOR WHITE GROUP\n",
      "[[ 433  183]\n",
      " [  91 1934]]\n",
      "              precision    recall  f1-score   support\n",
      "\n",
      "           0       0.83      0.70      0.76       616\n",
      "           1       0.91      0.96      0.93      2025\n",
      "\n",
      "    accuracy                           0.90      2641\n",
      "   macro avg       0.87      0.83      0.85      2641\n",
      "weighted avg       0.89      0.90      0.89      2641\n",
      "\n",
      "FNER=FN/(FN+TP)=  0.044938271604938275\n",
      "FPER=FP/(FP+TN)=  0.29707792207792205\n",
      "TNR=TN/(TN+FP)=  0.702922077922078\n",
      "TPR=TP/(FP+FN)=  0.9550617283950618\n"
     ]
    }
   ],
   "source": [
    "evaluation_by_race(X_test, y_test, race_test, y_predict, sample_weight_test)"
   ]
  },
  {
   "cell_type": "markdown",
   "metadata": {},
   "source": [
    "### Delayed impact calculated by race"
   ]
  },
  {
   "cell_type": "code",
   "execution_count": 8,
   "metadata": {},
   "outputs": [
    {
     "name": "stdout",
     "output_type": "stream",
     "text": [
      "The delayed impact of the black group is:  9.610027855153204\n",
      "The delayed impact of the white group is:  44.52858765619084\n"
     ]
    }
   ],
   "source": [
    "calculate_delayed_impact(X_test, y_test, y_predict, race_test)"
   ]
  },
  {
   "cell_type": "markdown",
   "metadata": {},
   "source": [
    "### Fairness Metric Evaluation of classifier"
   ]
  },
  {
   "cell_type": "code",
   "execution_count": 9,
   "metadata": {},
   "outputs": [
    {
     "name": "stdout",
     "output_type": "stream",
     "text": [
      "Selection Rate Overall:  0.741\n",
      "Selection Rate By Group:  sensitive_feature_0\n",
      "0    0.295265\n",
      "1     0.80159\n",
      "Name: selection_rate, dtype: object \n",
      "\n",
      "DP Difference:  0.5063256827465751\n",
      "-->difference of 0 means that all groups have the same selection rate\n",
      "DP Ratio: 0.3683485459925816\n",
      "-->ratio of 1 means that all groups have the same selection rate \n",
      "\n",
      "EOD Difference:  0.2725220458553792\n",
      "-->difference of 0 means that all groups have the same TN, TN, FP, and FN rates\n",
      "EOD Ratio: 0.2889373578179601\n",
      "-->ratio of 1 means that all groups have the same TN, TN, FP, and FN rates rates \n",
      "\n"
     ]
    },
    {
     "name": "stderr",
     "output_type": "stream",
     "text": [
      "The positional argument 'metric' has been replaced by a keyword argument 'metrics'. From version 0.10.0 passing it as a positional argument or as a keyword argument 'metric' will result in an error\n"
     ]
    }
   ],
   "source": [
    "print_fairness_metrics(y_test, y_predict, race_test)"
   ]
  },
  {
   "cell_type": "markdown",
   "metadata": {},
   "source": [
    "## Exponentiated Gradient Reduction Alg for Adding Fairness Constraints"
   ]
  },
  {
   "cell_type": "markdown",
   "metadata": {},
   "source": [
    "### Demographic Parity"
   ]
  },
  {
   "cell_type": "code",
   "execution_count": 10,
   "metadata": {},
   "outputs": [
    {
     "name": "stdout",
     "output_type": "stream",
     "text": [
      "Exponentiated Gradient Reduction Alg is used here with  DP  as the fairness constraint.\n",
      "\n",
      "Evaluation of  DP -constrained classifier overall:\n",
      "[[ 527  322]\n",
      " [ 114 2037]]\n",
      "              precision    recall  f1-score   support\n",
      "\n",
      "           0       0.82      0.62      0.71       849\n",
      "           1       0.86      0.95      0.90      2151\n",
      "\n",
      "    accuracy                           0.85      3000\n",
      "   macro avg       0.84      0.78      0.81      3000\n",
      "weighted avg       0.85      0.85      0.85      3000\n",
      "\n",
      "FNER=FN/(FN+TP)=  0.05299860529986053\n",
      "FPER=FP/(FP+TN)=  0.3792697290930506\n",
      "TNR=TN/(TN+FP)=  0.6207302709069493\n",
      "TPR=TP/(FP+FN)=  0.9470013947001394\n",
      "\n",
      "\n",
      "Evaluation of  DP -constrained classifier by race:\n",
      "EVALUATION FOR BLACK GROUP\n",
      "[[ 66 167]\n",
      " [  1 125]]\n",
      "              precision    recall  f1-score   support\n",
      "\n",
      "           0       0.99      0.28      0.44       233\n",
      "           1       0.43      0.99      0.60       126\n",
      "\n",
      "    accuracy                           0.53       359\n",
      "   macro avg       0.71      0.64      0.52       359\n",
      "weighted avg       0.79      0.53      0.50       359\n",
      "\n",
      "FNER=FN/(FN+TP)=  0.007936507936507936\n",
      "FPER=FP/(FP+TN)=  0.7167381974248928\n",
      "TNR=TN/(TN+FP)=  0.2832618025751073\n",
      "TPR=TP/(FP+FN)=  0.9920634920634921\n",
      "\n",
      "EVALUATION FOR WHITE GROUP\n",
      "[[ 461  155]\n",
      " [ 113 1912]]\n",
      "              precision    recall  f1-score   support\n",
      "\n",
      "           0       0.80      0.75      0.77       616\n",
      "           1       0.93      0.94      0.93      2025\n",
      "\n",
      "    accuracy                           0.90      2641\n",
      "   macro avg       0.86      0.85      0.85      2641\n",
      "weighted avg       0.90      0.90      0.90      2641\n",
      "\n",
      "FNER=FN/(FN+TP)=  0.05580246913580247\n",
      "FPER=FP/(FP+TN)=  0.25162337662337664\n",
      "TNR=TN/(TN+FP)=  0.7483766233766234\n",
      "TPR=TP/(FP+FN)=  0.9441975308641976\n",
      "\n",
      "\n",
      "Fairness metric evaluation of  DP -constrained classifier\n",
      "Selection Rate Overall:  0.7863333333333333\n",
      "Selection Rate By Group:  sensitive_feature_0\n",
      "0     0.81337\n",
      "1    0.782658\n",
      "Name: selection_rate, dtype: object \n",
      "\n",
      "DP Difference:  0.03071238947853594\n",
      "-->difference of 0 means that all groups have the same selection rate\n",
      "DP Ratio: 0.9622405896479643\n",
      "-->ratio of 1 means that all groups have the same selection rate \n",
      "\n",
      "EOD Difference:  0.4651148208015161\n",
      "-->difference of 0 means that all groups have the same TN, TN, FP, and FN rates\n",
      "EOD Ratio: 0.35106734582782484\n",
      "-->ratio of 1 means that all groups have the same TN, TN, FP, and FN rates rates \n",
      "\n",
      "The delayed impact of the black group is:  -43.66295264623955\n",
      "The delayed impact of the white group is:  45.49413101098069\n"
     ]
    },
    {
     "name": "stderr",
     "output_type": "stream",
     "text": [
      "The positional argument 'metric' has been replaced by a keyword argument 'metrics'. From version 0.10.0 passing it as a positional argument or as a keyword argument 'metric' will result in an error\n"
     ]
    }
   ],
   "source": [
    "add_contraint(model, 'DP', 'EG', X_train, y_train, race_train, race_test, X_test, y_test, y_predict, sample_weight_test, False)"
   ]
  },
  {
   "cell_type": "markdown",
   "metadata": {},
   "source": [
    "### Equalized Odds"
   ]
  },
  {
   "cell_type": "code",
   "execution_count": 11,
   "metadata": {},
   "outputs": [
    {
     "name": "stdout",
     "output_type": "stream",
     "text": [
      "Exponentiated Gradient Reduction Alg is used here with  EO  as the fairness constraint.\n",
      "\n",
      "Evaluation of  EO -constrained classifier overall:\n",
      "[[ 664  185]\n",
      " [ 300 1851]]\n",
      "              precision    recall  f1-score   support\n",
      "\n",
      "           0       0.69      0.78      0.73       849\n",
      "           1       0.91      0.86      0.88      2151\n",
      "\n",
      "    accuracy                           0.84      3000\n",
      "   macro avg       0.80      0.82      0.81      3000\n",
      "weighted avg       0.85      0.84      0.84      3000\n",
      "\n",
      "FNER=FN/(FN+TP)=  0.1394700139470014\n",
      "FPER=FP/(FP+TN)=  0.21790341578327443\n",
      "TNR=TN/(TN+FP)=  0.7820965842167256\n",
      "TPR=TP/(FP+FN)=  0.8605299860529986\n",
      "\n",
      "\n",
      "Evaluation of  EO -constrained classifier by race:\n",
      "EVALUATION FOR BLACK GROUP\n",
      "[[177  56]\n",
      " [ 17 109]]\n",
      "              precision    recall  f1-score   support\n",
      "\n",
      "           0       0.91      0.76      0.83       233\n",
      "           1       0.66      0.87      0.75       126\n",
      "\n",
      "    accuracy                           0.80       359\n",
      "   macro avg       0.79      0.81      0.79       359\n",
      "weighted avg       0.82      0.80      0.80       359\n",
      "\n",
      "FNER=FN/(FN+TP)=  0.1349206349206349\n",
      "FPER=FP/(FP+TN)=  0.24034334763948498\n",
      "TNR=TN/(TN+FP)=  0.759656652360515\n",
      "TPR=TP/(FP+FN)=  0.8650793650793651\n",
      "\n",
      "EVALUATION FOR WHITE GROUP\n",
      "[[ 487  129]\n",
      " [ 283 1742]]\n",
      "              precision    recall  f1-score   support\n",
      "\n",
      "           0       0.63      0.79      0.70       616\n",
      "           1       0.93      0.86      0.89      2025\n",
      "\n",
      "    accuracy                           0.84      2641\n",
      "   macro avg       0.78      0.83      0.80      2641\n",
      "weighted avg       0.86      0.84      0.85      2641\n",
      "\n",
      "FNER=FN/(FN+TP)=  0.1397530864197531\n",
      "FPER=FP/(FP+TN)=  0.20941558441558442\n",
      "TNR=TN/(TN+FP)=  0.7905844155844156\n",
      "TPR=TP/(FP+FN)=  0.860246913580247\n",
      "\n",
      "\n",
      "Fairness metric evaluation of  EO -constrained classifier\n",
      "Selection Rate Overall:  0.6786666666666666\n",
      "Selection Rate By Group:  sensitive_feature_0\n",
      "0     0.45961\n",
      "1    0.708444\n",
      "Name: selection_rate, dtype: object \n",
      "\n",
      "DP Difference:  0.24883374344359727\n",
      "-->difference of 0 means that all groups have the same selection rate\n",
      "DP Ratio: 0.648760066042469\n",
      "-->ratio of 1 means that all groups have the same selection rate \n",
      "\n",
      "EOD Difference:  0.030927763223900562\n",
      "-->difference of 0 means that all groups have the same TN, TN, FP, and FN rates\n",
      "EOD Ratio: 0.871318413729128\n",
      "-->ratio of 1 means that all groups have the same TN, TN, FP, and FN rates rates \n",
      "\n",
      "The delayed impact of the black group is:  -0.6267409470752089\n",
      "The delayed impact of the white group is:  42.143127603180616\n"
     ]
    },
    {
     "name": "stderr",
     "output_type": "stream",
     "text": [
      "The positional argument 'metric' has been replaced by a keyword argument 'metrics'. From version 0.10.0 passing it as a positional argument or as a keyword argument 'metric' will result in an error\n"
     ]
    }
   ],
   "source": [
    "add_contraint(model, 'EO', 'EG', X_train, y_train, race_train, race_test, X_test, y_test, y_predict, sample_weight_test, False)"
   ]
  },
  {
   "cell_type": "markdown",
   "metadata": {},
   "source": [
    "### True Positive Rate Parity"
   ]
  },
  {
   "cell_type": "code",
   "execution_count": 12,
   "metadata": {},
   "outputs": [
    {
     "name": "stdout",
     "output_type": "stream",
     "text": [
      "Exponentiated Gradient Reduction Alg is used here with  TPRP  as the fairness constraint.\n",
      "\n",
      "Evaluation of  TPRP -constrained classifier overall:\n",
      "[[ 604  245]\n",
      " [ 159 1992]]\n",
      "              precision    recall  f1-score   support\n",
      "\n",
      "           0       0.79      0.71      0.75       849\n",
      "           1       0.89      0.93      0.91      2151\n",
      "\n",
      "    accuracy                           0.87      3000\n",
      "   macro avg       0.84      0.82      0.83      3000\n",
      "weighted avg       0.86      0.87      0.86      3000\n",
      "\n",
      "FNER=FN/(FN+TP)=  0.07391910739191074\n",
      "FPER=FP/(FP+TN)=  0.28857479387514723\n",
      "TNR=TN/(TN+FP)=  0.7114252061248527\n",
      "TPR=TP/(FP+FN)=  0.9260808926080892\n",
      "\n",
      "\n",
      "Evaluation of  TPRP -constrained classifier by race:\n",
      "EVALUATION FOR BLACK GROUP\n",
      "[[122 111]\n",
      " [  5 121]]\n",
      "              precision    recall  f1-score   support\n",
      "\n",
      "           0       0.96      0.52      0.68       233\n",
      "           1       0.52      0.96      0.68       126\n",
      "\n",
      "    accuracy                           0.68       359\n",
      "   macro avg       0.74      0.74      0.68       359\n",
      "weighted avg       0.81      0.68      0.68       359\n",
      "\n",
      "FNER=FN/(FN+TP)=  0.03968253968253968\n",
      "FPER=FP/(FP+TN)=  0.47639484978540775\n",
      "TNR=TN/(TN+FP)=  0.5236051502145923\n",
      "TPR=TP/(FP+FN)=  0.9603174603174603\n",
      "\n",
      "EVALUATION FOR WHITE GROUP\n",
      "[[ 482  134]\n",
      " [ 154 1871]]\n",
      "              precision    recall  f1-score   support\n",
      "\n",
      "           0       0.76      0.78      0.77       616\n",
      "           1       0.93      0.92      0.93      2025\n",
      "\n",
      "    accuracy                           0.89      2641\n",
      "   macro avg       0.85      0.85      0.85      2641\n",
      "weighted avg       0.89      0.89      0.89      2641\n",
      "\n",
      "FNER=FN/(FN+TP)=  0.07604938271604939\n",
      "FPER=FP/(FP+TN)=  0.21753246753246752\n",
      "TNR=TN/(TN+FP)=  0.7824675324675324\n",
      "TPR=TP/(FP+FN)=  0.9239506172839507\n",
      "\n",
      "\n",
      "Fairness metric evaluation of  TPRP -constrained classifier\n",
      "Selection Rate Overall:  0.7456666666666667\n",
      "Selection Rate By Group:  sensitive_feature_0\n",
      "0     0.64624\n",
      "1    0.759182\n",
      "Name: selection_rate, dtype: object \n",
      "\n",
      "DP Difference:  0.11294257366427629\n",
      "-->difference of 0 means that all groups have the same selection rate\n",
      "DP Ratio: 0.8512312533429658\n",
      "-->ratio of 1 means that all groups have the same selection rate \n",
      "\n",
      "EOD Difference:  0.2588623822529402\n",
      "-->difference of 0 means that all groups have the same TN, TN, FP, and FN rates\n",
      "EOD Ratio: 0.4566222066222066\n",
      "-->ratio of 1 means that all groups have the same TN, TN, FP, and FN rates rates \n",
      "\n",
      "The delayed impact of the black group is:  -21.100278551532032\n",
      "The delayed impact of the white group is:  45.5225293449451\n"
     ]
    },
    {
     "name": "stderr",
     "output_type": "stream",
     "text": [
      "The positional argument 'metric' has been replaced by a keyword argument 'metrics'. From version 0.10.0 passing it as a positional argument or as a keyword argument 'metric' will result in an error\n"
     ]
    }
   ],
   "source": [
    "add_contraint(model, 'TPRP', 'EG', X_train, y_train, race_train, race_test, X_test, y_test, y_predict, sample_weight_test, False)"
   ]
  },
  {
   "cell_type": "markdown",
   "metadata": {},
   "source": [
    "### False Positive Rate Parity"
   ]
  },
  {
   "cell_type": "code",
   "execution_count": 13,
   "metadata": {},
   "outputs": [
    {
     "name": "stdout",
     "output_type": "stream",
     "text": [
      "Exponentiated Gradient Reduction Alg is used here with  FPRP  as the fairness constraint.\n",
      "\n",
      "Evaluation of  FPRP -constrained classifier overall:\n",
      "[[ 637  212]\n",
      " [ 128 2023]]\n",
      "              precision    recall  f1-score   support\n",
      "\n",
      "           0       0.83      0.75      0.79       849\n",
      "           1       0.91      0.94      0.92      2151\n",
      "\n",
      "    accuracy                           0.89      3000\n",
      "   macro avg       0.87      0.85      0.86      3000\n",
      "weighted avg       0.88      0.89      0.88      3000\n",
      "\n",
      "FNER=FN/(FN+TP)=  0.05950720595072059\n",
      "FPER=FP/(FP+TN)=  0.2497055359246172\n",
      "TNR=TN/(TN+FP)=  0.7502944640753828\n",
      "TPR=TP/(FP+FN)=  0.9404927940492794\n",
      "\n",
      "\n",
      "Evaluation of  FPRP -constrained classifier by race:\n",
      "EVALUATION FOR BLACK GROUP\n",
      "[[177  56]\n",
      " [ 16 110]]\n",
      "              precision    recall  f1-score   support\n",
      "\n",
      "           0       0.92      0.76      0.83       233\n",
      "           1       0.66      0.87      0.75       126\n",
      "\n",
      "    accuracy                           0.80       359\n",
      "   macro avg       0.79      0.82      0.79       359\n",
      "weighted avg       0.83      0.80      0.80       359\n",
      "\n",
      "FNER=FN/(FN+TP)=  0.12698412698412698\n",
      "FPER=FP/(FP+TN)=  0.24034334763948498\n",
      "TNR=TN/(TN+FP)=  0.759656652360515\n",
      "TPR=TP/(FP+FN)=  0.873015873015873\n",
      "\n",
      "EVALUATION FOR WHITE GROUP\n",
      "[[ 460  156]\n",
      " [ 112 1913]]\n",
      "              precision    recall  f1-score   support\n",
      "\n",
      "           0       0.80      0.75      0.77       616\n",
      "           1       0.92      0.94      0.93      2025\n",
      "\n",
      "    accuracy                           0.90      2641\n",
      "   macro avg       0.86      0.85      0.85      2641\n",
      "weighted avg       0.90      0.90      0.90      2641\n",
      "\n",
      "FNER=FN/(FN+TP)=  0.055308641975308645\n",
      "FPER=FP/(FP+TN)=  0.2532467532467532\n",
      "TNR=TN/(TN+FP)=  0.7467532467532467\n",
      "TPR=TP/(FP+FN)=  0.9446913580246914\n",
      "\n",
      "\n",
      "Fairness metric evaluation of  FPRP -constrained classifier\n",
      "Selection Rate Overall:  0.745\n",
      "Selection Rate By Group:  sensitive_feature_0\n",
      "0    0.462396\n",
      "1    0.783415\n",
      "Name: selection_rate, dtype: object \n",
      "\n",
      "DP Difference:  0.32101982978929855\n",
      "-->difference of 0 means that all groups have the same selection rate\n",
      "DP Ratio: 0.5902303670983385\n",
      "-->ratio of 1 means that all groups have the same selection rate \n",
      "\n",
      "EOD Difference:  0.07167548500881837\n",
      "-->difference of 0 means that all groups have the same TN, TN, FP, and FN rates\n",
      "EOD Ratio: 0.9241281457695467\n",
      "-->ratio of 1 means that all groups have the same TN, TN, FP, and FN rates rates \n",
      "\n",
      "The delayed impact of the black group is:  -0.4178272980501393\n",
      "The delayed impact of the white group is:  45.465732677016284\n"
     ]
    },
    {
     "name": "stderr",
     "output_type": "stream",
     "text": [
      "The positional argument 'metric' has been replaced by a keyword argument 'metrics'. From version 0.10.0 passing it as a positional argument or as a keyword argument 'metric' will result in an error\n"
     ]
    }
   ],
   "source": [
    "add_contraint(model, 'FPRP', 'EG', X_train, y_train, race_train, race_test, X_test, y_test, y_predict, sample_weight_test, False)"
   ]
  },
  {
   "cell_type": "markdown",
   "metadata": {},
   "source": [
    "### Error Rate Parity"
   ]
  },
  {
   "cell_type": "code",
   "execution_count": 14,
   "metadata": {},
   "outputs": [
    {
     "name": "stdout",
     "output_type": "stream",
     "text": [
      "Exponentiated Gradient Reduction Alg is used here with  ERP  as the fairness constraint.\n",
      "\n",
      "Evaluation of  ERP -constrained classifier overall:\n",
      "[[ 662  187]\n",
      " [ 271 1880]]\n",
      "              precision    recall  f1-score   support\n",
      "\n",
      "           0       0.71      0.78      0.74       849\n",
      "           1       0.91      0.87      0.89      2151\n",
      "\n",
      "    accuracy                           0.85      3000\n",
      "   macro avg       0.81      0.83      0.82      3000\n",
      "weighted avg       0.85      0.85      0.85      3000\n",
      "\n",
      "FNER=FN/(FN+TP)=  0.12598791259879125\n",
      "FPER=FP/(FP+TN)=  0.22025912838633688\n",
      "TNR=TN/(TN+FP)=  0.7797408716136631\n",
      "TPR=TP/(FP+FN)=  0.8740120874012087\n",
      "\n",
      "\n",
      "Evaluation of  ERP -constrained classifier by race:\n",
      "EVALUATION FOR BLACK GROUP\n",
      "[[213  20]\n",
      " [ 40  86]]\n",
      "              precision    recall  f1-score   support\n",
      "\n",
      "           0       0.84      0.91      0.88       233\n",
      "           1       0.81      0.68      0.74       126\n",
      "\n",
      "    accuracy                           0.83       359\n",
      "   macro avg       0.83      0.80      0.81       359\n",
      "weighted avg       0.83      0.83      0.83       359\n",
      "\n",
      "FNER=FN/(FN+TP)=  0.31746031746031744\n",
      "FPER=FP/(FP+TN)=  0.08583690987124463\n",
      "TNR=TN/(TN+FP)=  0.9141630901287554\n",
      "TPR=TP/(FP+FN)=  0.6825396825396826\n",
      "\n",
      "EVALUATION FOR WHITE GROUP\n",
      "[[ 449  167]\n",
      " [ 231 1794]]\n",
      "              precision    recall  f1-score   support\n",
      "\n",
      "           0       0.66      0.73      0.69       616\n",
      "           1       0.91      0.89      0.90      2025\n",
      "\n",
      "    accuracy                           0.85      2641\n",
      "   macro avg       0.79      0.81      0.80      2641\n",
      "weighted avg       0.86      0.85      0.85      2641\n",
      "\n",
      "FNER=FN/(FN+TP)=  0.11407407407407408\n",
      "FPER=FP/(FP+TN)=  0.2711038961038961\n",
      "TNR=TN/(TN+FP)=  0.7288961038961039\n",
      "TPR=TP/(FP+FN)=  0.8859259259259259\n",
      "\n",
      "\n",
      "Fairness metric evaluation of  ERP -constrained classifier\n",
      "Selection Rate Overall:  0.689\n",
      "Selection Rate By Group:  sensitive_feature_0\n",
      "0    0.295265\n",
      "1    0.742522\n",
      "Name: selection_rate, dtype: object \n",
      "\n",
      "DP Difference:  0.4472571481006077\n",
      "-->difference of 0 means that all groups have the same selection rate\n",
      "DP Ratio: 0.39765113302717753\n",
      "-->ratio of 1 means that all groups have the same selection rate \n",
      "\n",
      "EOD Difference:  0.20338624338624334\n",
      "-->difference of 0 means that all groups have the same TN, TN, FP, and FN rates\n",
      "EOD Ratio: 0.3166199789262676\n",
      "-->ratio of 1 means that all groups have the same TN, TN, FP, and FN rates rates \n",
      "\n",
      "The delayed impact of the black group is:  9.610027855153204\n",
      "The delayed impact of the white group is:  41.46156758803483\n"
     ]
    },
    {
     "name": "stderr",
     "output_type": "stream",
     "text": [
      "The positional argument 'metric' has been replaced by a keyword argument 'metrics'. From version 0.10.0 passing it as a positional argument or as a keyword argument 'metric' will result in an error\n"
     ]
    }
   ],
   "source": [
    "add_contraint(model, 'ERP', 'EG', X_train, y_train, race_train, race_test, X_test, y_test, y_predict, sample_weight_test, False)"
   ]
  },
  {
   "cell_type": "markdown",
   "metadata": {},
   "source": [
    "### Bounded Group Loss (TODO: issue, need to figure out loss parameter)"
   ]
  },
  {
   "cell_type": "code",
   "execution_count": 15,
   "metadata": {},
   "outputs": [],
   "source": [
    "#add_contraint(model, 'BGL', 'EG', X_train, y_train, race_train, race_test, X_test, y_test, y_predict, sample_weight_test, False)"
   ]
  },
  {
   "cell_type": "markdown",
   "metadata": {},
   "source": [
    "## Grid Search Reduction Alg for Adding Fairness Constraints"
   ]
  },
  {
   "cell_type": "markdown",
   "metadata": {},
   "source": [
    "### Demographic Parity"
   ]
  },
  {
   "cell_type": "code",
   "execution_count": 16,
   "metadata": {},
   "outputs": [
    {
     "name": "stdout",
     "output_type": "stream",
     "text": [
      "Grid Search Reduction Alg is used here with  DP  as the fairness constraint.\n",
      "\n",
      "Evaluation of  DP -constrained classifier overall:\n",
      "[[ 572  277]\n",
      " [ 116 2035]]\n",
      "              precision    recall  f1-score   support\n",
      "\n",
      "           0       0.83      0.67      0.74       849\n",
      "           1       0.88      0.95      0.91      2151\n",
      "\n",
      "    accuracy                           0.87      3000\n",
      "   macro avg       0.86      0.81      0.83      3000\n",
      "weighted avg       0.87      0.87      0.86      3000\n",
      "\n",
      "FNER=FN/(FN+TP)=  0.05392840539284054\n",
      "FPER=FP/(FP+TN)=  0.32626619552414604\n",
      "TNR=TN/(TN+FP)=  0.673733804475854\n",
      "TPR=TP/(FP+FN)=  0.9460715946071595\n",
      "\n",
      "\n",
      "Evaluation of  DP -constrained classifier by race:\n",
      "EVALUATION FOR BLACK GROUP\n",
      "[[113 120]\n",
      " [  4 122]]\n",
      "              precision    recall  f1-score   support\n",
      "\n",
      "           0       0.97      0.48      0.65       233\n",
      "           1       0.50      0.97      0.66       126\n",
      "\n",
      "    accuracy                           0.65       359\n",
      "   macro avg       0.73      0.73      0.65       359\n",
      "weighted avg       0.80      0.65      0.65       359\n",
      "\n",
      "FNER=FN/(FN+TP)=  0.031746031746031744\n",
      "FPER=FP/(FP+TN)=  0.5150214592274678\n",
      "TNR=TN/(TN+FP)=  0.48497854077253216\n",
      "TPR=TP/(FP+FN)=  0.9682539682539683\n",
      "\n",
      "EVALUATION FOR WHITE GROUP\n",
      "[[ 459  157]\n",
      " [ 112 1913]]\n",
      "              precision    recall  f1-score   support\n",
      "\n",
      "           0       0.80      0.75      0.77       616\n",
      "           1       0.92      0.94      0.93      2025\n",
      "\n",
      "    accuracy                           0.90      2641\n",
      "   macro avg       0.86      0.84      0.85      2641\n",
      "weighted avg       0.90      0.90      0.90      2641\n",
      "\n",
      "FNER=FN/(FN+TP)=  0.055308641975308645\n",
      "FPER=FP/(FP+TN)=  0.25487012987012986\n",
      "TNR=TN/(TN+FP)=  0.7451298701298701\n",
      "TPR=TP/(FP+FN)=  0.9446913580246914\n",
      "\n",
      "\n",
      "Fairness metric evaluation of  DP -constrained classifier\n",
      "Selection Rate Overall:  0.7706666666666667\n",
      "Selection Rate By Group:  sensitive_feature_0\n",
      "0    0.674095\n",
      "1    0.783794\n",
      "Name: selection_rate, dtype: object \n",
      "\n",
      "DP Difference:  0.10969930989675347\n",
      "-->difference of 0 means that all groups have the same selection rate\n",
      "DP Ratio: 0.8600406389191663\n",
      "-->ratio of 1 means that all groups have the same selection rate \n",
      "\n",
      "EOD Difference:  0.2601513293573379\n",
      "-->difference of 0 means that all groups have the same TN, TN, FP, and FN rates\n",
      "EOD Ratio: 0.4948728354978355\n",
      "-->ratio of 1 means that all groups have the same TN, TN, FP, and FN rates rates \n",
      "\n",
      "The delayed impact of the black group is:  -24.651810584958216\n",
      "The delayed impact of the white group is:  45.40893600908747\n"
     ]
    },
    {
     "name": "stderr",
     "output_type": "stream",
     "text": [
      "The positional argument 'metric' has been replaced by a keyword argument 'metrics'. From version 0.10.0 passing it as a positional argument or as a keyword argument 'metric' will result in an error\n"
     ]
    }
   ],
   "source": [
    "add_contraint(model, 'DP', 'GS', X_train, y_train, race_train, race_test, X_test, y_test, y_predict, sample_weight_test, False)"
   ]
  },
  {
   "cell_type": "markdown",
   "metadata": {},
   "source": [
    "### Equalized Odds Used"
   ]
  },
  {
   "cell_type": "code",
   "execution_count": 17,
   "metadata": {},
   "outputs": [
    {
     "name": "stdout",
     "output_type": "stream",
     "text": [
      "Grid Search Reduction Alg is used here with  EO  as the fairness constraint.\n",
      "\n",
      "Evaluation of  EO -constrained classifier overall:\n",
      "[[ 608  241]\n",
      " [ 116 2035]]\n",
      "              precision    recall  f1-score   support\n",
      "\n",
      "           0       0.84      0.72      0.77       849\n",
      "           1       0.89      0.95      0.92      2151\n",
      "\n",
      "    accuracy                           0.88      3000\n",
      "   macro avg       0.87      0.83      0.85      3000\n",
      "weighted avg       0.88      0.88      0.88      3000\n",
      "\n",
      "FNER=FN/(FN+TP)=  0.05392840539284054\n",
      "FPER=FP/(FP+TN)=  0.2838633686690224\n",
      "TNR=TN/(TN+FP)=  0.7161366313309776\n",
      "TPR=TP/(FP+FN)=  0.9460715946071595\n",
      "\n",
      "\n",
      "Evaluation of  EO -constrained classifier by race:\n",
      "EVALUATION FOR BLACK GROUP\n",
      "[[157  76]\n",
      " [ 10 116]]\n",
      "              precision    recall  f1-score   support\n",
      "\n",
      "           0       0.94      0.67      0.79       233\n",
      "           1       0.60      0.92      0.73       126\n",
      "\n",
      "    accuracy                           0.76       359\n",
      "   macro avg       0.77      0.80      0.76       359\n",
      "weighted avg       0.82      0.76      0.77       359\n",
      "\n",
      "FNER=FN/(FN+TP)=  0.07936507936507936\n",
      "FPER=FP/(FP+TN)=  0.3261802575107296\n",
      "TNR=TN/(TN+FP)=  0.6738197424892703\n",
      "TPR=TP/(FP+FN)=  0.9206349206349206\n",
      "\n",
      "EVALUATION FOR WHITE GROUP\n",
      "[[ 451  165]\n",
      " [ 106 1919]]\n",
      "              precision    recall  f1-score   support\n",
      "\n",
      "           0       0.81      0.73      0.77       616\n",
      "           1       0.92      0.95      0.93      2025\n",
      "\n",
      "    accuracy                           0.90      2641\n",
      "   macro avg       0.87      0.84      0.85      2641\n",
      "weighted avg       0.89      0.90      0.90      2641\n",
      "\n",
      "FNER=FN/(FN+TP)=  0.05234567901234568\n",
      "FPER=FP/(FP+TN)=  0.26785714285714285\n",
      "TNR=TN/(TN+FP)=  0.7321428571428571\n",
      "TPR=TP/(FP+FN)=  0.9476543209876543\n",
      "\n",
      "\n",
      "Fairness metric evaluation of  EO -constrained classifier\n",
      "Selection Rate Overall:  0.7586666666666667\n",
      "Selection Rate By Group:  sensitive_feature_0\n",
      "0    0.534819\n",
      "1    0.789095\n",
      "Name: selection_rate, dtype: object \n",
      "\n",
      "DP Difference:  0.2542760982534893\n",
      "-->difference of 0 means that all groups have the same selection rate\n",
      "DP Ratio: 0.6777623918006405\n",
      "-->ratio of 1 means that all groups have the same selection rate \n",
      "\n",
      "EOD Difference:  0.05832311465358675\n",
      "-->difference of 0 means that all groups have the same TN, TN, FP, and FN rates\n",
      "EOD Ratio: 0.8211936090225564\n",
      "-->ratio of 1 means that all groups have the same TN, TN, FP, and FN rates rates \n",
      "\n",
      "The delayed impact of the black group is:  -7.520891364902507\n",
      "The delayed impact of the white group is:  45.124952669443395\n"
     ]
    },
    {
     "name": "stderr",
     "output_type": "stream",
     "text": [
      "The positional argument 'metric' has been replaced by a keyword argument 'metrics'. From version 0.10.0 passing it as a positional argument or as a keyword argument 'metric' will result in an error\n"
     ]
    }
   ],
   "source": [
    "add_contraint(model, 'EO', 'GS', X_train, y_train, race_train, race_test, X_test, y_test, y_predict, sample_weight_test, False)"
   ]
  },
  {
   "cell_type": "markdown",
   "metadata": {},
   "source": [
    "### True Positive Rate Parity"
   ]
  },
  {
   "cell_type": "code",
   "execution_count": 18,
   "metadata": {},
   "outputs": [
    {
     "name": "stdout",
     "output_type": "stream",
     "text": [
      "Grid Search Reduction Alg is used here with  TPRP  as the fairness constraint.\n",
      "\n",
      "Evaluation of  TPRP -constrained classifier overall:\n",
      "[[ 604  245]\n",
      " [ 111 2040]]\n",
      "              precision    recall  f1-score   support\n",
      "\n",
      "           0       0.84      0.71      0.77       849\n",
      "           1       0.89      0.95      0.92      2151\n",
      "\n",
      "    accuracy                           0.88      3000\n",
      "   macro avg       0.87      0.83      0.85      3000\n",
      "weighted avg       0.88      0.88      0.88      3000\n",
      "\n",
      "FNER=FN/(FN+TP)=  0.05160390516039052\n",
      "FPER=FP/(FP+TN)=  0.28857479387514723\n",
      "TNR=TN/(TN+FP)=  0.7114252061248527\n",
      "TPR=TP/(FP+FN)=  0.9483960948396095\n",
      "\n",
      "\n",
      "Evaluation of  TPRP -constrained classifier by race:\n",
      "EVALUATION FOR BLACK GROUP\n",
      "[[161  72]\n",
      " [ 12 114]]\n",
      "              precision    recall  f1-score   support\n",
      "\n",
      "           0       0.93      0.69      0.79       233\n",
      "           1       0.61      0.90      0.73       126\n",
      "\n",
      "    accuracy                           0.77       359\n",
      "   macro avg       0.77      0.80      0.76       359\n",
      "weighted avg       0.82      0.77      0.77       359\n",
      "\n",
      "FNER=FN/(FN+TP)=  0.09523809523809523\n",
      "FPER=FP/(FP+TN)=  0.3090128755364807\n",
      "TNR=TN/(TN+FP)=  0.6909871244635193\n",
      "TPR=TP/(FP+FN)=  0.9047619047619048\n",
      "\n",
      "EVALUATION FOR WHITE GROUP\n",
      "[[ 443  173]\n",
      " [  99 1926]]\n",
      "              precision    recall  f1-score   support\n",
      "\n",
      "           0       0.82      0.72      0.77       616\n",
      "           1       0.92      0.95      0.93      2025\n",
      "\n",
      "    accuracy                           0.90      2641\n",
      "   macro avg       0.87      0.84      0.85      2641\n",
      "weighted avg       0.89      0.90      0.89      2641\n",
      "\n",
      "FNER=FN/(FN+TP)=  0.04888888888888889\n",
      "FPER=FP/(FP+TN)=  0.28084415584415584\n",
      "TNR=TN/(TN+FP)=  0.7191558441558441\n",
      "TPR=TP/(FP+FN)=  0.9511111111111111\n",
      "\n",
      "\n",
      "Fairness metric evaluation of  TPRP -constrained classifier\n",
      "Selection Rate Overall:  0.7616666666666667\n",
      "Selection Rate By Group:  sensitive_feature_0\n",
      "0    0.518106\n",
      "1    0.794775\n",
      "Name: selection_rate, dtype: object \n",
      "\n",
      "DP Difference:  0.2766688569683764\n",
      "-->difference of 0 means that all groups have the same selection rate\n",
      "DP Ratio: 0.6518902090264497\n",
      "-->ratio of 1 means that all groups have the same selection rate \n",
      "\n",
      "EOD Difference:  0.04634920634920636\n",
      "-->difference of 0 means that all groups have the same TN, TN, FP, and FN rates\n",
      "EOD Ratio: 0.9088428932178931\n",
      "-->ratio of 1 means that all groups have the same TN, TN, FP, and FN rates rates \n",
      "\n",
      "The delayed impact of the black group is:  -6.2674094707520895\n",
      "The delayed impact of the white group is:  44.869367663763725\n"
     ]
    },
    {
     "name": "stderr",
     "output_type": "stream",
     "text": [
      "The positional argument 'metric' has been replaced by a keyword argument 'metrics'. From version 0.10.0 passing it as a positional argument or as a keyword argument 'metric' will result in an error\n"
     ]
    }
   ],
   "source": [
    "add_contraint(model, 'TPRP', 'GS', X_train, y_train, race_train, race_test, X_test, y_test, y_predict, sample_weight_test, False)"
   ]
  },
  {
   "cell_type": "markdown",
   "metadata": {},
   "source": [
    "### False Positive Rate Parity"
   ]
  },
  {
   "cell_type": "code",
   "execution_count": 19,
   "metadata": {},
   "outputs": [
    {
     "name": "stdout",
     "output_type": "stream",
     "text": [
      "Grid Search Reduction Alg is used here with  FPRP  as the fairness constraint.\n",
      "\n",
      "Evaluation of  FPRP -constrained classifier overall:\n",
      "[[ 646  203]\n",
      " [ 131 2020]]\n",
      "              precision    recall  f1-score   support\n",
      "\n",
      "           0       0.83      0.76      0.79       849\n",
      "           1       0.91      0.94      0.92      2151\n",
      "\n",
      "    accuracy                           0.89      3000\n",
      "   macro avg       0.87      0.85      0.86      3000\n",
      "weighted avg       0.89      0.89      0.89      3000\n",
      "\n",
      "FNER=FN/(FN+TP)=  0.06090190609019061\n",
      "FPER=FP/(FP+TN)=  0.23910482921083628\n",
      "TNR=TN/(TN+FP)=  0.7608951707891637\n",
      "TPR=TP/(FP+FN)=  0.9390980939098094\n",
      "\n",
      "\n",
      "Evaluation of  FPRP -constrained classifier by race:\n",
      "EVALUATION FOR BLACK GROUP\n",
      "[[213  20]\n",
      " [ 40  86]]\n",
      "              precision    recall  f1-score   support\n",
      "\n",
      "           0       0.84      0.91      0.88       233\n",
      "           1       0.81      0.68      0.74       126\n",
      "\n",
      "    accuracy                           0.83       359\n",
      "   macro avg       0.83      0.80      0.81       359\n",
      "weighted avg       0.83      0.83      0.83       359\n",
      "\n",
      "FNER=FN/(FN+TP)=  0.31746031746031744\n",
      "FPER=FP/(FP+TN)=  0.08583690987124463\n",
      "TNR=TN/(TN+FP)=  0.9141630901287554\n",
      "TPR=TP/(FP+FN)=  0.6825396825396826\n",
      "\n",
      "EVALUATION FOR WHITE GROUP\n",
      "[[ 433  183]\n",
      " [  91 1934]]\n",
      "              precision    recall  f1-score   support\n",
      "\n",
      "           0       0.83      0.70      0.76       616\n",
      "           1       0.91      0.96      0.93      2025\n",
      "\n",
      "    accuracy                           0.90      2641\n",
      "   macro avg       0.87      0.83      0.85      2641\n",
      "weighted avg       0.89      0.90      0.89      2641\n",
      "\n",
      "FNER=FN/(FN+TP)=  0.044938271604938275\n",
      "FPER=FP/(FP+TN)=  0.29707792207792205\n",
      "TNR=TN/(TN+FP)=  0.702922077922078\n",
      "TPR=TP/(FP+FN)=  0.9550617283950618\n",
      "\n",
      "\n",
      "Fairness metric evaluation of  FPRP -constrained classifier\n",
      "Selection Rate Overall:  0.741\n",
      "Selection Rate By Group:  sensitive_feature_0\n",
      "0    0.295265\n",
      "1     0.80159\n",
      "Name: selection_rate, dtype: object \n",
      "\n",
      "DP Difference:  0.5063256827465751\n",
      "-->difference of 0 means that all groups have the same selection rate\n",
      "DP Ratio: 0.3683485459925816\n",
      "-->ratio of 1 means that all groups have the same selection rate \n",
      "\n",
      "EOD Difference:  0.2725220458553792\n",
      "-->difference of 0 means that all groups have the same TN, TN, FP, and FN rates\n",
      "EOD Ratio: 0.2889373578179601\n",
      "-->ratio of 1 means that all groups have the same TN, TN, FP, and FN rates rates \n",
      "\n",
      "The delayed impact of the black group is:  9.610027855153204\n",
      "The delayed impact of the white group is:  44.52858765619084\n"
     ]
    },
    {
     "name": "stderr",
     "output_type": "stream",
     "text": [
      "The positional argument 'metric' has been replaced by a keyword argument 'metrics'. From version 0.10.0 passing it as a positional argument or as a keyword argument 'metric' will result in an error\n"
     ]
    }
   ],
   "source": [
    "add_contraint(model, 'FPRP', 'GS', X_train, y_train, race_train, race_test, X_test, y_test, y_predict, sample_weight_test, False)"
   ]
  },
  {
   "cell_type": "markdown",
   "metadata": {},
   "source": [
    "### Error Rate Parity"
   ]
  },
  {
   "cell_type": "code",
   "execution_count": 20,
   "metadata": {},
   "outputs": [
    {
     "name": "stdout",
     "output_type": "stream",
     "text": [
      "Grid Search Reduction Alg is used here with  ERP  as the fairness constraint.\n",
      "\n",
      "Evaluation of  ERP -constrained classifier overall:\n",
      "[[ 646  203]\n",
      " [ 131 2020]]\n",
      "              precision    recall  f1-score   support\n",
      "\n",
      "           0       0.83      0.76      0.79       849\n",
      "           1       0.91      0.94      0.92      2151\n",
      "\n",
      "    accuracy                           0.89      3000\n",
      "   macro avg       0.87      0.85      0.86      3000\n",
      "weighted avg       0.89      0.89      0.89      3000\n",
      "\n",
      "FNER=FN/(FN+TP)=  0.06090190609019061\n",
      "FPER=FP/(FP+TN)=  0.23910482921083628\n",
      "TNR=TN/(TN+FP)=  0.7608951707891637\n",
      "TPR=TP/(FP+FN)=  0.9390980939098094\n",
      "\n",
      "\n",
      "Evaluation of  ERP -constrained classifier by race:\n",
      "EVALUATION FOR BLACK GROUP\n",
      "[[213  20]\n",
      " [ 40  86]]\n",
      "              precision    recall  f1-score   support\n",
      "\n",
      "           0       0.84      0.91      0.88       233\n",
      "           1       0.81      0.68      0.74       126\n",
      "\n",
      "    accuracy                           0.83       359\n",
      "   macro avg       0.83      0.80      0.81       359\n",
      "weighted avg       0.83      0.83      0.83       359\n",
      "\n",
      "FNER=FN/(FN+TP)=  0.31746031746031744\n",
      "FPER=FP/(FP+TN)=  0.08583690987124463\n",
      "TNR=TN/(TN+FP)=  0.9141630901287554\n",
      "TPR=TP/(FP+FN)=  0.6825396825396826\n",
      "\n",
      "EVALUATION FOR WHITE GROUP\n",
      "[[ 433  183]\n",
      " [  91 1934]]\n",
      "              precision    recall  f1-score   support\n",
      "\n",
      "           0       0.83      0.70      0.76       616\n",
      "           1       0.91      0.96      0.93      2025\n",
      "\n",
      "    accuracy                           0.90      2641\n",
      "   macro avg       0.87      0.83      0.85      2641\n",
      "weighted avg       0.89      0.90      0.89      2641\n",
      "\n",
      "FNER=FN/(FN+TP)=  0.044938271604938275\n",
      "FPER=FP/(FP+TN)=  0.29707792207792205\n",
      "TNR=TN/(TN+FP)=  0.702922077922078\n",
      "TPR=TP/(FP+FN)=  0.9550617283950618\n",
      "\n",
      "\n",
      "Fairness metric evaluation of  ERP -constrained classifier\n",
      "Selection Rate Overall:  0.741\n",
      "Selection Rate By Group:  sensitive_feature_0\n",
      "0    0.295265\n",
      "1     0.80159\n",
      "Name: selection_rate, dtype: object \n",
      "\n",
      "DP Difference:  0.5063256827465751\n",
      "-->difference of 0 means that all groups have the same selection rate\n",
      "DP Ratio: 0.3683485459925816\n",
      "-->ratio of 1 means that all groups have the same selection rate \n",
      "\n",
      "EOD Difference:  0.2725220458553792\n",
      "-->difference of 0 means that all groups have the same TN, TN, FP, and FN rates\n",
      "EOD Ratio: 0.2889373578179601\n",
      "-->ratio of 1 means that all groups have the same TN, TN, FP, and FN rates rates \n",
      "\n",
      "The delayed impact of the black group is:  9.610027855153204\n",
      "The delayed impact of the white group is:  44.52858765619084\n"
     ]
    },
    {
     "name": "stderr",
     "output_type": "stream",
     "text": [
      "The positional argument 'metric' has been replaced by a keyword argument 'metrics'. From version 0.10.0 passing it as a positional argument or as a keyword argument 'metric' will result in an error\n"
     ]
    }
   ],
   "source": [
    "add_contraint(model, 'ERP', 'GS', X_train, y_train, race_train, race_test, X_test, y_test, y_predict, sample_weight_test, False)"
   ]
  },
  {
   "cell_type": "markdown",
   "metadata": {},
   "source": [
    "### Bounded Group Loss (TODO: issue, need to figure out loss parameter)"
   ]
  },
  {
   "cell_type": "code",
   "execution_count": 21,
   "metadata": {},
   "outputs": [],
   "source": [
    "#add_contraint(model, 'BGL', 'GS', X_train, y_train, race_train, race_test, X_test, y_test, y_predict, sample_weight_test, False)"
   ]
  }
 ],
 "metadata": {
  "kernelspec": {
   "display_name": "venv",
   "language": "python",
   "name": "venv"
  },
  "language_info": {
   "codemirror_mode": {
    "name": "ipython",
    "version": 3
   },
   "file_extension": ".py",
   "mimetype": "text/x-python",
   "name": "python",
   "nbconvert_exporter": "python",
   "pygments_lexer": "ipython3",
   "version": "3.8.10"
  }
 },
 "nbformat": 4,
 "nbformat_minor": 4
}
