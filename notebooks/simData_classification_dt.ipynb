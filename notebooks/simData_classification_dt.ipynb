{
 "cells": [
  {
   "cell_type": "markdown",
   "metadata": {},
   "source": [
    "# 0. Mess around space"
   ]
  },
  {
   "cell_type": "code",
   "execution_count": 1,
   "metadata": {},
   "outputs": [],
   "source": [
    "import csv\n",
    "from impt_functions import *"
   ]
  },
  {
   "cell_type": "code",
   "execution_count": 2,
   "metadata": {},
   "outputs": [],
   "source": [
    "dt_dict_overall = {'Run1': [0.8, 0.9], 'Run2': [3.0, 2], 'Run3': [10, 11]}\n",
    "save_dict_2_csv(dt_dict_overall, 'dt_overall_results.csv')"
   ]
  },
  {
   "cell_type": "markdown",
   "metadata": {},
   "source": [
    "# 1. Imports and Set Up"
   ]
  },
  {
   "cell_type": "code",
   "execution_count": 3,
   "metadata": {},
   "outputs": [],
   "source": [
    "from impt_functions import *\n",
    "import csv\n",
    "from sklearn.tree import DecisionTreeClassifier\n",
    "from sklearn.naive_bayes import GaussianNB\n",
    "from sklearn.metrics import classification_report, confusion_matrix, accuracy_score, f1_score\n",
    "import pandas as pd \n",
    "import numpy as np\n",
    "from fairlearn.reductions import ExponentiatedGradient, GridSearch, DemographicParity, EqualizedOdds, \\\n",
    "    TruePositiveRateParity, FalsePositiveRateParity, ErrorRateParity, BoundedGroupLoss\n",
    "from fairlearn.metrics import *\n",
    "from raiwidgets import FairnessDashboard\n",
    "from sklearn.metrics import balanced_accuracy_score, roc_auc_score\n",
    "%matplotlib inline"
   ]
  },
  {
   "cell_type": "code",
   "execution_count": 4,
   "metadata": {},
   "outputs": [],
   "source": [
    "# Dict used for saving overall results to a csv later\n",
    "# Example: overall = {'Unmitigated':[], 'EG DP': [], 'EG EO': [],\n",
    "#                   'EG EOO': [], 'EG FPRP': [], 'EG ERP': [],\n",
    "#                   'GS DP': [], 'GS EO': [],\n",
    "#                   'GS EOO': [], 'GS FPRP': [], 'GS ERP': []}\n",
    "# Example: black_results = {'Unmitigated Black': [], \n",
    "#                          'EG DP Black': [], ..., 'GS ERP Black': []}\n",
    "\n",
    "# Instantiate lists for holding results\n",
    "unmitigated, unmitigated_black, unmitigated_white = [], [], []\n",
    "\n",
    "eg_dp, eg_dp_black, eg_dp_white = [], [], []\n",
    "eg_eo, eg_eo_black, eg_eo_white = [], [], []\n",
    "eg_eoo, eg_eoo_black, eg_eoo_white = [], [], []\n",
    "eg_fprp, eg_fprp_black, eg_fprp_white = [], [], []\n",
    "eg_erp, eg_erp_black, eg_erp_white = [], [], []\n",
    "\n",
    "gs_dp, gs_dp_black, gs_dp_white = [], [], []\n",
    "gs_eo, gs_eo_black, gs_eo_white = [], [], []\n",
    "gs_eoo, gs_eoo_black, gs_eoo_white = [], [], []\n",
    "gs_fprp, gs_fprp_black, gs_fprp_white = [], [], []\n",
    "gs_erp, gs_erp_black, gs_erp_white = [], [], []"
   ]
  },
  {
   "cell_type": "markdown",
   "metadata": {},
   "source": [
    "# 2. Prepare data"
   ]
  },
  {
   "cell_type": "code",
   "execution_count": 5,
   "metadata": {},
   "outputs": [
    {
     "name": "stdout",
     "output_type": "stream",
     "text": [
      "       score  repay_probability  race  repay_indices\n",
      "0        601              75.21     1              1\n",
      "1        693              95.15     1              1\n",
      "2        791              98.62     1              1\n",
      "3        637              86.69     1              1\n",
      "4        775              98.45     1              1\n",
      "...      ...                ...   ...            ...\n",
      "99995    797              98.73     1              1\n",
      "99996    562              58.57     1              1\n",
      "99997    687              94.60     1              1\n",
      "99998    589              70.61     1              1\n",
      "99999    555              52.97     1              0\n",
      "\n",
      "[100000 rows x 4 columns]\n"
     ]
    }
   ],
   "source": [
    "data = get_data('/home/mackenzie/git_repositories/delayedimpact/data/simData_oom100.csv')"
   ]
  },
  {
   "cell_type": "code",
   "execution_count": 6,
   "metadata": {},
   "outputs": [
    {
     "name": "stdout",
     "output_type": "stream",
     "text": [
      "Here are the x values:  [[601   1]\n",
      " [693   1]\n",
      " [791   1]\n",
      " ...\n",
      " [687   1]\n",
      " [589   1]\n",
      " [555   1]] \n",
      "\n",
      "Here are the y values:  [1 1 1 ... 1 1 0]\n",
      "Sample weights are all equal.\n"
     ]
    }
   ],
   "source": [
    "X_train, X_test, y_train, y_test, race_train, race_test, sample_weight_train, sample_weight_test = prep_data(data=data, test_size=0.3, weight_index=1)"
   ]
  },
  {
   "cell_type": "markdown",
   "metadata": {},
   "source": [
    "# Decision Tree Classifier"
   ]
  },
  {
   "cell_type": "markdown",
   "metadata": {},
   "source": [
    "## Train DTC classifier + Collect Predictions\n",
    "NOTE: atm sample_weight are all 1s"
   ]
  },
  {
   "cell_type": "code",
   "execution_count": 7,
   "metadata": {},
   "outputs": [],
   "source": [
    "# Reference: https://www.datacamp.com/community/tutorials/decision-tree-classification-python\n",
    "\n",
    "# Initialize classifier:\n",
    "clf = DecisionTreeClassifier()\n",
    "\n",
    "# Train the classifier:\n",
    "model = clf.fit(X_train,y_train)\n",
    "\n",
    "# Make predictions with the classifier:\n",
    "y_predict = model.predict(X_test)\n",
    "\n",
    "# Scores on test set\n",
    "test_scores = model.predict_proba(X_test)[:, 1]"
   ]
  },
  {
   "cell_type": "markdown",
   "metadata": {},
   "source": [
    "### Evaluation of classifier overall"
   ]
  },
  {
   "cell_type": "code",
   "execution_count": 8,
   "metadata": {},
   "outputs": [
    {
     "data": {
      "text/html": [
       "<div>\n",
       "<style scoped>\n",
       "    .dataframe tbody tr th:only-of-type {\n",
       "        vertical-align: middle;\n",
       "    }\n",
       "\n",
       "    .dataframe tbody tr th {\n",
       "        vertical-align: top;\n",
       "    }\n",
       "\n",
       "    .dataframe thead th {\n",
       "        text-align: right;\n",
       "    }\n",
       "</style>\n",
       "<table border=\"1\" class=\"dataframe\">\n",
       "  <thead>\n",
       "    <tr style=\"text-align: right;\">\n",
       "      <th></th>\n",
       "      <th>Unmitigated</th>\n",
       "    </tr>\n",
       "  </thead>\n",
       "  <tbody>\n",
       "    <tr>\n",
       "      <th>Overall selection rate</th>\n",
       "      <td>0.729567</td>\n",
       "    </tr>\n",
       "    <tr>\n",
       "      <th>Demographic parity difference</th>\n",
       "      <td>0.450625</td>\n",
       "    </tr>\n",
       "    <tr>\n",
       "      <th>Demographic parity ratio</th>\n",
       "      <td>0.424364</td>\n",
       "    </tr>\n",
       "    <tr>\n",
       "      <th>------</th>\n",
       "      <td></td>\n",
       "    </tr>\n",
       "    <tr>\n",
       "      <th>Overall balanced error rate</th>\n",
       "      <td>0.151732</td>\n",
       "    </tr>\n",
       "    <tr>\n",
       "      <th>Balanced error rate difference</th>\n",
       "      <td>0.0170221</td>\n",
       "    </tr>\n",
       "    <tr>\n",
       "      <th>------</th>\n",
       "      <td></td>\n",
       "    </tr>\n",
       "    <tr>\n",
       "      <th>True positive rate difference</th>\n",
       "      <td>0.190934</td>\n",
       "    </tr>\n",
       "    <tr>\n",
       "      <th>True negative rate difference</th>\n",
       "      <td>0.156889</td>\n",
       "    </tr>\n",
       "    <tr>\n",
       "      <th>False positive rate difference</th>\n",
       "      <td>0.156889</td>\n",
       "    </tr>\n",
       "    <tr>\n",
       "      <th>False negative rate difference</th>\n",
       "      <td>0.190934</td>\n",
       "    </tr>\n",
       "    <tr>\n",
       "      <th>Equalized odds difference</th>\n",
       "      <td>0.190934</td>\n",
       "    </tr>\n",
       "    <tr>\n",
       "      <th>------</th>\n",
       "      <td></td>\n",
       "    </tr>\n",
       "    <tr>\n",
       "      <th>Overall AUC</th>\n",
       "      <td>0.933059</td>\n",
       "    </tr>\n",
       "    <tr>\n",
       "      <th>AUC difference</th>\n",
       "      <td>0.0352201</td>\n",
       "    </tr>\n",
       "  </tbody>\n",
       "</table>\n",
       "</div>"
      ],
      "text/plain": [
       "                               Unmitigated\n",
       "Overall selection rate            0.729567\n",
       "Demographic parity difference     0.450625\n",
       "Demographic parity ratio          0.424364\n",
       "------                                    \n",
       "Overall balanced error rate       0.151732\n",
       "Balanced error rate difference   0.0170221\n",
       " ------                                   \n",
       "True positive rate difference     0.190934\n",
       "True negative rate difference     0.156889\n",
       "False positive rate difference    0.156889\n",
       "False negative rate difference    0.190934\n",
       "Equalized odds difference         0.190934\n",
       "  ------                                  \n",
       "Overall AUC                       0.933059\n",
       "AUC difference                   0.0352201"
      ]
     },
     "execution_count": 8,
     "metadata": {},
     "output_type": "execute_result"
    }
   ],
   "source": [
    "# Metrics\n",
    "models_dict = {\"Unmitigated\": (y_predict, test_scores)}\n",
    "get_metrics_df(models_dict, y_test, race_test)"
   ]
  },
  {
   "cell_type": "code",
   "execution_count": 9,
   "metadata": {},
   "outputs": [
    {
     "name": "stdout",
     "output_type": "stream",
     "text": [
      "[[ 6644  2036]\n",
      " [ 1469 19851]]\n",
      "              precision    recall  f1-score   support\n",
      "\n",
      "           0       0.82      0.77      0.79      8680\n",
      "           1       0.91      0.93      0.92     21320\n",
      "\n",
      "    accuracy                           0.88     30000\n",
      "   macro avg       0.86      0.85      0.86     30000\n",
      "weighted avg       0.88      0.88      0.88     30000\n",
      "\n",
      "F1 score micro: \n",
      "0.8831666666666667\n",
      "F1 score weighted: \n",
      "0.8819608768731572\n",
      "F1 score binary: \n",
      "0.9188788853657973\n",
      "\n"
     ]
    },
    {
     "name": "stderr",
     "output_type": "stream",
     "text": [
      "The positional argument 'metric' has been replaced by a keyword argument 'metrics'. From version 0.10.0 passing it as a positional argument or as a keyword argument 'metric' will result in an error\n"
     ]
    },
    {
     "name": "stdout",
     "output_type": "stream",
     "text": [
      "Selection Rate Overall:  0.7295666666666667\n",
      "TNR=TN/(TN+FP)=  0.7654377880184332\n",
      "TPR=TP/(FP+FN)=  0.9310975609756098\n",
      "FNER=FN/(FN+TP)=  0.06890243902439025\n",
      "FPER=FP/(FP+TN)=  0.23456221198156682\n"
     ]
    }
   ],
   "source": [
    "cm = confusion_matrix(y_test, y_predict)\n",
    "print(cm)\n",
    "results_dict = classification_report(y_test, y_predict, output_dict=True)\n",
    "print(classification_report(y_test, y_predict))\n",
    "# Add accuracy to the results list\n",
    "unmitigated.append(round(results_dict['accuracy']*100, 2))\n",
    "f1_micro, f1_weighted, f1_binary = get_f1_scores(y_test, y_predict)\n",
    "f1_str = str(round(f1_micro*100, 2))+\"/\"+str(round(f1_weighted*100, 2))+\"/\"+str(round(f1_binary*100, 2))\n",
    "# Add f1 scores to results list\n",
    "unmitigated.append(f1_str)\n",
    "# Add Selection rate to results list\n",
    "sr = get_selection_rates(y_test, y_predict, race_test, 0)\n",
    "unmitigated.append(round(sr*100, 2))\n",
    "# Add Outcome rates to results list\n",
    "tnr, tpr, fner, fper = evaluation_outcome_rates(y_test, y_predict, sample_weight_test)\n",
    "unmitigated.append(round(tnr*100, 2))\n",
    "unmitigated.append(round(tpr*100, 2))\n",
    "unmitigated.append(round(fner*100, 2))\n",
    "unmitigated.append(round(fper*100, 2))"
   ]
  },
  {
   "cell_type": "markdown",
   "metadata": {},
   "source": [
    "### Delayed impact calculated"
   ]
  },
  {
   "cell_type": "code",
   "execution_count": 10,
   "metadata": {},
   "outputs": [
    {
     "name": "stdout",
     "output_type": "stream",
     "text": [
      "The delayed impact of the black group is:  6.958544839255499\n",
      "The delayed impact of the white group is:  43.80244953504196\n"
     ]
    }
   ],
   "source": [
    "di_black, di_white = calculate_delayed_impact(X_test, y_test, y_predict, race_test)\n",
    "# Add DI to results list\n",
    "di_str = str(round(di_black, 2))+\"/\"+str(round(di_white, 2))\n",
    "unmitigated.append(di_str)"
   ]
  },
  {
   "cell_type": "markdown",
   "metadata": {},
   "source": [
    "### Fairness Metric Evaluation of classifier"
   ]
  },
  {
   "cell_type": "code",
   "execution_count": 11,
   "metadata": {},
   "outputs": [
    {
     "name": "stdout",
     "output_type": "stream",
     "text": [
      "DP Difference:  0.45062527207781544\n",
      "-->difference of 0 means that all groups have the same selection rate\n",
      "DP Ratio: 0.42436424030390024\n",
      "-->ratio of 1 means that all groups have the same selection rate \n",
      "\n",
      "EOD Difference:  0.1909337288334525\n",
      "-->difference of 0 means that all groups have the same TN, TN, FP, and FN rates\n",
      "EOD Ratio: 0.4338376595335293\n",
      "-->ratio of 1 means that all groups have the same TN, TN, FP, and FN rates rates \n",
      "\n"
     ]
    }
   ],
   "source": [
    "dp_diff, eod_diff = print_fairness_metrics(y_test, y_predict, race_test)\n",
    "# Add Demographic Parity and Equalized Odds Differences to results list\n",
    "unmitigated.append(round(dp_diff*100, 2))\n",
    "unmitigated.append(round(eod_diff*100, 2))"
   ]
  },
  {
   "cell_type": "code",
   "execution_count": 12,
   "metadata": {},
   "outputs": [
    {
     "name": "stdout",
     "output_type": "stream",
     "text": [
      "True Positive Rate Difference:  0.1909337288334525\n",
      "True Negative Rate Difference:  0.1568894376917046\n",
      "False Positive Rate Difference:  0.15688943769170458\n",
      "False Negative Rate Difference:  0.19093372883345247\n"
     ]
    }
   ],
   "source": [
    "tprd = true_positive_rate_difference(y_test, y_predict, sensitive_features=race_test)\n",
    "unmitigated.append(round(tprd*100, 2))\n",
    "print('True Positive Rate Difference: ', tprd)\n",
    "tnrd = true_negative_rate_difference(y_test, y_predict, sensitive_features=race_test)\n",
    "unmitigated.append(round(tnrd*100, 2))\n",
    "print('True Negative Rate Difference: ', tnrd)\n",
    "fprd = false_positive_rate_difference(y_test, y_predict, sensitive_features=race_test)\n",
    "unmitigated.append(round(fprd*100, 2))\n",
    "print('False Positive Rate Difference: ', fprd)\n",
    "fnrd = false_negative_rate_difference(y_test, y_predict, sensitive_features=race_test)\n",
    "unmitigated.append(round(fnrd*100, 2))\n",
    "print('False Negative Rate Difference: ', fnrd)"
   ]
  },
  {
   "cell_type": "markdown",
   "metadata": {},
   "source": [
    "### Evaluation of classifier by race"
   ]
  },
  {
   "cell_type": "code",
   "execution_count": 13,
   "metadata": {},
   "outputs": [
    {
     "name": "stdout",
     "output_type": "stream",
     "text": [
      "EVALUATION FOR BLACK GROUP\n",
      "[[2071  283]\n",
      " [ 297  895]]\n",
      "              precision    recall  f1-score   support\n",
      "\n",
      "           0       0.87      0.88      0.88      2354\n",
      "           1       0.76      0.75      0.76      1192\n",
      "\n",
      "    accuracy                           0.84      3546\n",
      "   macro avg       0.82      0.82      0.82      3546\n",
      "weighted avg       0.84      0.84      0.84      3546\n",
      "\n",
      "F1 score micro: \n",
      "0.8364354201917654\n",
      "F1 score weighted: \n",
      "0.8361947899037017\n",
      "F1 score binary: \n",
      "0.7552742616033755\n",
      "\n",
      "TNR=TN/(TN+FP)=  0.8797790994052677\n",
      "TPR=TP/(FP+FN)=  0.7508389261744967\n",
      "FNER=FN/(FN+TP)=  0.24916107382550334\n",
      "FPER=FP/(FP+TN)=  0.12022090059473237\n",
      "\n",
      "EVALUATION FOR WHITE GROUP\n",
      "[[ 4573  1753]\n",
      " [ 1172 18956]]\n",
      "              precision    recall  f1-score   support\n",
      "\n",
      "           0       0.80      0.72      0.76      6326\n",
      "           1       0.92      0.94      0.93     20128\n",
      "\n",
      "    accuracy                           0.89     26454\n",
      "   macro avg       0.86      0.83      0.84     26454\n",
      "weighted avg       0.89      0.89      0.89     26454\n",
      "\n",
      "F1 score micro: \n",
      "0.8894307099115446\n",
      "F1 score weighted: \n",
      "0.8875563065518303\n",
      "F1 score binary: \n",
      "0.928373778681098\n",
      "\n",
      "TNR=TN/(TN+FP)=  0.7228896617135631\n",
      "TPR=TP/(FP+FN)=  0.9417726550079492\n",
      "FNER=FN/(FN+TP)=  0.05822734499205087\n",
      "FPER=FP/(FP+TN)=  0.27711033828643694\n",
      "Selection Rate By Group:  sensitive_feature_0\n",
      "0    0.332205\n",
      "1    0.782831\n",
      "Name: selection_rate, dtype: object \n",
      "\n"
     ]
    },
    {
     "name": "stderr",
     "output_type": "stream",
     "text": [
      "The positional argument 'metric' has been replaced by a keyword argument 'metrics'. From version 0.10.0 passing it as a positional argument or as a keyword argument 'metric' will result in an error\n"
     ]
    },
    {
     "name": "stdout",
     "output_type": "stream",
     "text": [
      "The delayed impact of the black group is:  6.958544839255499\n",
      "The delayed impact of the white group is:  43.80244953504196\n"
     ]
    }
   ],
   "source": [
    "results_black, results_white = evaluation_by_race(X_test, y_test, race_test, y_predict, sample_weight_test)\n",
    "unmitigated_black.extend(results_black)\n",
    "unmitigated_white.extend(results_white)"
   ]
  },
  {
   "cell_type": "markdown",
   "metadata": {},
   "source": [
    "### Save results to dictionaries"
   ]
  },
  {
   "cell_type": "code",
   "execution_count": 14,
   "metadata": {},
   "outputs": [],
   "source": [
    "unmitigated_key = 'Unmitigated DT'\n",
    "overall_results_dict = add_values_in_dict({}, unmitigated_key, unmitigated)\n",
    "black_results_dict = add_values_in_dict({}, unmitigated_key, unmitigated_black)\n",
    "white_results_dict = add_values_in_dict({}, unmitigated_key, unmitigated_white)\n",
    "# To use below!!\n",
    "#save_dict_2_csv(overall_results_dict, 'DT Overall Results')\n",
    "#save_dict_2_csv(byrace_results_dict, 'DT By Race Results')"
   ]
  },
  {
   "cell_type": "code",
   "execution_count": 15,
   "metadata": {},
   "outputs": [
    {
     "name": "stdout",
     "output_type": "stream",
     "text": [
      "{'Unmitigated DT': [88.32, '88.32/88.2/91.89', 72.96, 76.54, 93.11, 6.89, 23.46, '6.96/43.8', 45.06, 19.09, 19.09, 15.69, 15.69, 19.09]}\n",
      "{'Unmitigated DT': [83.64, '83.64/83.62/75.53', 33.22, 87.98, 24.92, 12.02, 6.96]}\n",
      "{'Unmitigated DT': [88.94, '88.94/88.76/92.84', 78.28, 72.29, 5.82, 27.71, 43.8]}\n"
     ]
    }
   ],
   "source": [
    "print(overall_results_dict)\n",
    "print(black_results_dict)\n",
    "print(white_results_dict)"
   ]
  },
  {
   "cell_type": "markdown",
   "metadata": {},
   "source": [
    "## Exponentiated Gradient Reduction Alg for Adding Fairness Constraints"
   ]
  },
  {
   "cell_type": "markdown",
   "metadata": {},
   "source": [
    "### Demographic Parity"
   ]
  },
  {
   "cell_type": "code",
   "execution_count": null,
   "metadata": {},
   "outputs": [],
   "source": [
    "eg_dp, tnr, tpr, fner, fper, sr_overall, di_black, di_white, dp_diff, eod_diff = add_constraint(model, 'DP', 'EG', X_train, y_train, race_train, race_test, X_test, y_test, y_predict, sample_weight_test, False)"
   ]
  },
  {
   "cell_type": "markdown",
   "metadata": {},
   "source": [
    "### Equalized Odds"
   ]
  },
  {
   "cell_type": "code",
   "execution_count": null,
   "metadata": {},
   "outputs": [],
   "source": [
    "eg_eo, tnr, tpr, fner, fper, sr_overall, di_black, di_white, dp_diff, eod_diff = add_constraint(model, 'EO', 'EG', X_train, y_train, race_train, race_test, X_test, y_test, y_predict, sample_weight_test, False)"
   ]
  },
  {
   "cell_type": "markdown",
   "metadata": {},
   "source": [
    "### EOO (True Positive Rate Parity)"
   ]
  },
  {
   "cell_type": "code",
   "execution_count": null,
   "metadata": {
    "scrolled": true
   },
   "outputs": [],
   "source": [
    "eg_tprp, tnr, tpr, fner, fper, sr_overall, di_black, di_white, dp_diff, eod_diff = add_constraint(model, 'TPRP', 'EG', X_train, y_train, race_train, race_test, X_test, y_test, y_predict, sample_weight_test, False)"
   ]
  },
  {
   "cell_type": "markdown",
   "metadata": {},
   "source": [
    "### False Positive Rate Parity"
   ]
  },
  {
   "cell_type": "code",
   "execution_count": null,
   "metadata": {
    "scrolled": true
   },
   "outputs": [],
   "source": [
    "eg_fprp, tnr, tpr, fner, fper, sr_overall, di_black, di_white, dp_diff, eod_diff = add_constraint(model, 'FPRP', 'EG', X_train, y_train, race_train, race_test, X_test, y_test, y_predict, sample_weight_test, False)"
   ]
  },
  {
   "cell_type": "markdown",
   "metadata": {},
   "source": [
    "### Error Rate Parity"
   ]
  },
  {
   "cell_type": "code",
   "execution_count": null,
   "metadata": {},
   "outputs": [],
   "source": [
    "eg_erp, tnr, tpr, fner, fper, sr_overall, di_black, di_white, dp_diff, eod_diff = add_constraint(model, 'ERP', 'EG', X_train, y_train, race_train, race_test, X_test, y_test, y_predict, sample_weight_test, False)"
   ]
  },
  {
   "cell_type": "markdown",
   "metadata": {},
   "source": [
    "### Bounded Group Loss (issue, need to figure out loss parameter)"
   ]
  },
  {
   "cell_type": "code",
   "execution_count": null,
   "metadata": {},
   "outputs": [],
   "source": [
    "#eg_bgl, tnr, tpr, fner, fper, sr_overall, di_black, di_white, dp_diff, eod_diff = add_constraint(model, 'BGL', 'EG', X_train, y_train, race_train, race_test, X_test, y_test, y_predict, sample_weight_test, False)"
   ]
  },
  {
   "cell_type": "markdown",
   "metadata": {},
   "source": [
    "## Grid Search Reduction Alg for Adding Fairness Constraints"
   ]
  },
  {
   "cell_type": "markdown",
   "metadata": {},
   "source": [
    "### Demographic Parity"
   ]
  },
  {
   "cell_type": "code",
   "execution_count": null,
   "metadata": {},
   "outputs": [],
   "source": [
    "gs_dp, tnr, tpr, fner, fper, sr_overall, di_black, di_white, dp_diff, eod_diff = add_constraint(model, 'DP', 'GS', X_train, y_train, race_train, race_test, X_test, y_test, y_predict, sample_weight_test, False)"
   ]
  },
  {
   "cell_type": "code",
   "execution_count": null,
   "metadata": {},
   "outputs": [],
   "source": [
    "# We can examine the values of lambda_i chosen for us:\n",
    "lambda_vecs = gs_dp.lambda_vecs_\n",
    "print(lambda_vecs[0])"
   ]
  },
  {
   "cell_type": "markdown",
   "metadata": {},
   "source": [
    "The next few cells come from: https://github.com/fairlearn/fairlearn/blob/main/notebooks/Binary%20Classification%20with%20the%20UCI%20Credit-card%20Default%20Dataset.ipynb\n",
    "\n",
    "Note: we train multiple models corresponding to different trade-off points between the performance metric (balanced accuracy) and fairness metric."
   ]
  },
  {
   "cell_type": "code",
   "execution_count": null,
   "metadata": {},
   "outputs": [],
   "source": [
    "grid_search_show(gs_dp, demographic_parity_difference, y_predict, X_test, y_test, race_test, 'DemParityDifference','GS DPD', models_dict, 0.3)"
   ]
  },
  {
   "cell_type": "code",
   "execution_count": null,
   "metadata": {},
   "outputs": [],
   "source": [
    "models_dict.pop('GS DPD')\n",
    "models_dict"
   ]
  },
  {
   "cell_type": "markdown",
   "metadata": {},
   "source": [
    "### Equalized Odds Used"
   ]
  },
  {
   "cell_type": "code",
   "execution_count": null,
   "metadata": {},
   "outputs": [],
   "source": [
    "gs_eo, tnr, tpr, fner, fper, sr_overall, di_black, di_white, dp_diff, eod_diff = add_constraint(model, 'EO', 'GS', X_train, y_train, race_train, race_test, X_test, y_test, y_predict, sample_weight_test, False)"
   ]
  },
  {
   "cell_type": "code",
   "execution_count": null,
   "metadata": {},
   "outputs": [],
   "source": [
    "# We can examine the values of lambda_i chosen for us:\n",
    "lambda_vecs = gs_eo.lambda_vecs_\n",
    "print(lambda_vecs[0])"
   ]
  },
  {
   "cell_type": "code",
   "execution_count": null,
   "metadata": {},
   "outputs": [],
   "source": [
    "grid_search_show(gs_eo, equalized_odds_difference, y_predict, X_test, y_test, race_test, 'EOddsDifference','GS EO', models_dict, 0.3)"
   ]
  },
  {
   "cell_type": "code",
   "execution_count": null,
   "metadata": {},
   "outputs": [],
   "source": [
    "models_dict.pop('GS EO')\n",
    "models_dict"
   ]
  },
  {
   "cell_type": "markdown",
   "metadata": {},
   "source": [
    "### EOO (True Positive Rate Parity)"
   ]
  },
  {
   "cell_type": "code",
   "execution_count": null,
   "metadata": {},
   "outputs": [],
   "source": [
    "gs_tprp, tnr, tpr, fner, fper, sr_overall, di_black, di_white, dp_diff, eod_diff = add_constraint(model, 'TPRP', 'GS', X_train, y_train, race_train, race_test, X_test, y_test, y_predict, sample_weight_test, False)"
   ]
  },
  {
   "cell_type": "code",
   "execution_count": null,
   "metadata": {},
   "outputs": [],
   "source": [
    "# We can examine the values of lambda_i chosen for us:\n",
    "lambda_vecs = gs_tprp.lambda_vecs_\n",
    "print(lambda_vecs[0])"
   ]
  },
  {
   "cell_type": "code",
   "execution_count": null,
   "metadata": {},
   "outputs": [],
   "source": [
    "grid_search_show(gs_tprp, true_positive_rate_difference, y_predict, X_test, y_test, race_test, 'TPRPDifference','GS TPRP', models_dict, 0.3)"
   ]
  },
  {
   "cell_type": "code",
   "execution_count": null,
   "metadata": {},
   "outputs": [],
   "source": [
    "models_dict.pop('GS TPRP')\n",
    "models_dict"
   ]
  },
  {
   "cell_type": "markdown",
   "metadata": {},
   "source": [
    "### False Positive Rate Parity"
   ]
  },
  {
   "cell_type": "code",
   "execution_count": null,
   "metadata": {},
   "outputs": [],
   "source": [
    "gs_fprp, tnr, tpr, fner, fper, di_black, di_white, dp_diff, eod_diff = add_constraint(model, 'FPRP', 'GS', X_train, y_train, race_train, race_test, X_test, y_test, y_predict, sample_weight_test, False)"
   ]
  },
  {
   "cell_type": "code",
   "execution_count": null,
   "metadata": {},
   "outputs": [],
   "source": [
    "# We can examine the values of lambda_i chosen for us:\n",
    "lambda_vecs = gs_fprp.lambda_vecs_\n",
    "print(lambda_vecs[0])"
   ]
  },
  {
   "cell_type": "code",
   "execution_count": null,
   "metadata": {},
   "outputs": [],
   "source": [
    "# NOTE: the below models are the same!!"
   ]
  },
  {
   "cell_type": "code",
   "execution_count": null,
   "metadata": {},
   "outputs": [],
   "source": [
    "grid_search_show(gs_fprp, false_positive_rate_difference, y_predict, X_test, y_test, race_test, 'FPRPDifference','GS FPRP', models_dict, 0.4)"
   ]
  },
  {
   "cell_type": "code",
   "execution_count": null,
   "metadata": {},
   "outputs": [],
   "source": [
    "models_dict.pop('GS FPRP')\n",
    "models_dict"
   ]
  },
  {
   "cell_type": "markdown",
   "metadata": {},
   "source": [
    "### Error Rate Parity"
   ]
  },
  {
   "cell_type": "code",
   "execution_count": null,
   "metadata": {},
   "outputs": [],
   "source": [
    "gs_erp, tnr, tpr, fner, fper, sr_overall, di_black, di_white, dp_diff, eod_diff = add_constraint(model, 'ERP', 'GS', X_train, y_train, race_train, race_test, X_test, y_test, y_predict, sample_weight_test, False)"
   ]
  },
  {
   "cell_type": "code",
   "execution_count": null,
   "metadata": {},
   "outputs": [],
   "source": [
    "# We can examine the values of lambda_i chosen for us:\n",
    "lambda_vecs = gs_erp.lambda_vecs_\n",
    "print(lambda_vecs[0])"
   ]
  },
  {
   "cell_type": "code",
   "execution_count": null,
   "metadata": {},
   "outputs": [],
   "source": [
    "# Fairlearn doesnt have an erp difference metric for the below\n",
    "#grid_search_show(gs_erp, error_difference, y_predict, X_test, y_test, race_test, 'ERDifference','GS ERP', models_dict, 0.3)\n",
    "#models_dict.pop('GS FPRP')\n",
    "#models_dict"
   ]
  },
  {
   "cell_type": "markdown",
   "metadata": {},
   "source": [
    "### Bounded Group Loss (issue, need to figure out loss parameter)"
   ]
  },
  {
   "cell_type": "code",
   "execution_count": null,
   "metadata": {},
   "outputs": [],
   "source": [
    "#gs_bgl, tnr, tpr, fner, fper, sr_overall, di_black, di_white, dp_diff, eod_diff = add_constraint(model, 'BGL', 'GS', X_train, y_train, race_train, race_test, X_test, y_test, y_predict, sample_weight_test, False)"
   ]
  },
  {
   "cell_type": "code",
   "execution_count": null,
   "metadata": {},
   "outputs": [],
   "source": [
    "# We can examine the values of lambda_i chosen for us:\n",
    "#lambda_vecs = gs_dp.lambda_vecs_\n",
    "#print(lambda_vecs[0])"
   ]
  }
 ],
 "metadata": {
  "kernelspec": {
   "display_name": "venv",
   "language": "python",
   "name": "venv"
  },
  "language_info": {
   "codemirror_mode": {
    "name": "ipython",
    "version": 3
   },
   "file_extension": ".py",
   "mimetype": "text/x-python",
   "name": "python",
   "nbconvert_exporter": "python",
   "pygments_lexer": "ipython3",
   "version": "3.8.10"
  }
 },
 "nbformat": 4,
 "nbformat_minor": 4
}
