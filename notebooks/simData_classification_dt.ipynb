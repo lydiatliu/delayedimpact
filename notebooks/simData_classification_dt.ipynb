{
 "cells": [
  {
   "cell_type": "markdown",
   "metadata": {},
   "source": [
    "# 1. Imports"
   ]
  },
  {
   "cell_type": "code",
   "execution_count": 1,
   "metadata": {},
   "outputs": [],
   "source": [
    "from impt_functions import *\n",
    "from sklearn.tree import DecisionTreeClassifier\n",
    "from sklearn.naive_bayes import GaussianNB\n",
    "from sklearn.metrics import classification_report, confusion_matrix, accuracy_score\n",
    "import pandas as pd \n",
    "import numpy as np\n",
    "from fairlearn.reductions import ExponentiatedGradient, GridSearch, DemographicParity, EqualizedOdds, \\\n",
    "    TruePositiveRateParity, FalsePositiveRateParity, ErrorRateParity, BoundedGroupLoss\n",
    "from fairlearn.metrics import *\n",
    "from raiwidgets import FairnessDashboard\n",
    "from sklearn.metrics import balanced_accuracy_score, roc_auc_score\n",
    "%matplotlib inline"
   ]
  },
  {
   "cell_type": "markdown",
   "metadata": {},
   "source": [
    "# 2. Prepare data"
   ]
  },
  {
   "cell_type": "code",
   "execution_count": 2,
   "metadata": {},
   "outputs": [
    {
     "name": "stdout",
     "output_type": "stream",
     "text": [
      "      score  repay_probability  race  repay_indices\n",
      "0       610              78.90     1              1\n",
      "1       568              47.77     0              0\n",
      "2       750              98.13     1              1\n",
      "3       775              98.45     1              1\n",
      "4       704              95.88     1              1\n",
      "...     ...                ...   ...            ...\n",
      "9995    832              98.99     1              1\n",
      "9996    416              10.91     1              0\n",
      "9997    444              14.63     1              0\n",
      "9998    778              98.47     1              1\n",
      "9999    738              97.68     1              1\n",
      "\n",
      "[10000 rows x 4 columns]\n"
     ]
    }
   ],
   "source": [
    "data = get_data('/home/mackenzie/git_repositories/delayedimpact/data/simData_oom10.csv')"
   ]
  },
  {
   "cell_type": "code",
   "execution_count": 3,
   "metadata": {},
   "outputs": [
    {
     "name": "stdout",
     "output_type": "stream",
     "text": [
      "Here are the x values:  [[610   1]\n",
      " [568   0]\n",
      " [750   1]\n",
      " ...\n",
      " [444   1]\n",
      " [778   1]\n",
      " [738   1]] \n",
      "\n",
      "Here are the y values:  [1 0 1 ... 0 1 1]\n",
      "Sample weights are all equal.\n"
     ]
    }
   ],
   "source": [
    "X_train, X_test, y_train, y_test, race_train, race_test, sample_weight_train, sample_weight_test = prep_data(data=data, test_size=0.3, weight_index=1)"
   ]
  },
  {
   "cell_type": "markdown",
   "metadata": {},
   "source": [
    "# Decision Tree Classifier with Fairlearn"
   ]
  },
  {
   "cell_type": "markdown",
   "metadata": {},
   "source": [
    "## Train DTC classifier + Collect Predictions\n",
    "NOTE: atm sample_weight are all 1s"
   ]
  },
  {
   "cell_type": "code",
   "execution_count": 4,
   "metadata": {},
   "outputs": [],
   "source": [
    "# Reference: https://www.datacamp.com/community/tutorials/decision-tree-classification-python\n",
    "\n",
    "# Initialize classifier:\n",
    "clf = DecisionTreeClassifier()\n",
    "\n",
    "# Train the classifier:\n",
    "model = clf.fit(X_train,y_train)\n",
    "\n",
    "# Make predictions with the classifier:\n",
    "y_predict = model.predict(X_test)\n",
    "\n",
    "# Scores on test set\n",
    "test_scores = model.predict_proba(X_test)[:, 1]"
   ]
  },
  {
   "cell_type": "markdown",
   "metadata": {},
   "source": [
    "### Evaluation of classifier overall"
   ]
  },
  {
   "cell_type": "code",
   "execution_count": 5,
   "metadata": {},
   "outputs": [
    {
     "data": {
      "text/html": [
       "<div>\n",
       "<style scoped>\n",
       "    .dataframe tbody tr th:only-of-type {\n",
       "        vertical-align: middle;\n",
       "    }\n",
       "\n",
       "    .dataframe tbody tr th {\n",
       "        vertical-align: top;\n",
       "    }\n",
       "\n",
       "    .dataframe thead th {\n",
       "        text-align: right;\n",
       "    }\n",
       "</style>\n",
       "<table border=\"1\" class=\"dataframe\">\n",
       "  <thead>\n",
       "    <tr style=\"text-align: right;\">\n",
       "      <th></th>\n",
       "      <th>Unmitigated</th>\n",
       "    </tr>\n",
       "  </thead>\n",
       "  <tbody>\n",
       "    <tr>\n",
       "      <th>Overall selection rate</th>\n",
       "      <td>0.722667</td>\n",
       "    </tr>\n",
       "    <tr>\n",
       "      <th>Demographic parity difference</th>\n",
       "      <td>0.507649</td>\n",
       "    </tr>\n",
       "    <tr>\n",
       "      <th>Demographic parity ratio</th>\n",
       "      <td>0.352005</td>\n",
       "    </tr>\n",
       "    <tr>\n",
       "      <th>------</th>\n",
       "      <td></td>\n",
       "    </tr>\n",
       "    <tr>\n",
       "      <th>Overall balanced error rate</th>\n",
       "      <td>0.142254</td>\n",
       "    </tr>\n",
       "    <tr>\n",
       "      <th>Balanced error rate difference</th>\n",
       "      <td>0.087377</td>\n",
       "    </tr>\n",
       "    <tr>\n",
       "      <th>------</th>\n",
       "      <td></td>\n",
       "    </tr>\n",
       "    <tr>\n",
       "      <th>False positive rate difference</th>\n",
       "      <td>0.158826</td>\n",
       "    </tr>\n",
       "    <tr>\n",
       "      <th>False negative rate difference</th>\n",
       "      <td>0.33358</td>\n",
       "    </tr>\n",
       "    <tr>\n",
       "      <th>Equalized odds difference</th>\n",
       "      <td>0.33358</td>\n",
       "    </tr>\n",
       "    <tr>\n",
       "      <th>------</th>\n",
       "      <td></td>\n",
       "    </tr>\n",
       "    <tr>\n",
       "      <th>Overall AUC</th>\n",
       "      <td>0.937583</td>\n",
       "    </tr>\n",
       "    <tr>\n",
       "      <th>AUC difference</th>\n",
       "      <td>0.100627</td>\n",
       "    </tr>\n",
       "  </tbody>\n",
       "</table>\n",
       "</div>"
      ],
      "text/plain": [
       "                               Unmitigated\n",
       "Overall selection rate            0.722667\n",
       "Demographic parity difference     0.507649\n",
       "Demographic parity ratio          0.352005\n",
       "------                                    \n",
       "Overall balanced error rate       0.142254\n",
       "Balanced error rate difference    0.087377\n",
       " ------                                   \n",
       "False positive rate difference    0.158826\n",
       "False negative rate difference     0.33358\n",
       "Equalized odds difference          0.33358\n",
       "  ------                                  \n",
       "Overall AUC                       0.937583\n",
       "AUC difference                    0.100627"
      ]
     },
     "execution_count": 5,
     "metadata": {},
     "output_type": "execute_result"
    }
   ],
   "source": [
    "# Metrics\n",
    "models_dict = {\"Unmitigated\": (y_predict, test_scores)}\n",
    "get_metrics_df(models_dict, y_test, race_test)"
   ]
  },
  {
   "cell_type": "code",
   "execution_count": 6,
   "metadata": {},
   "outputs": [
    {
     "name": "stdout",
     "output_type": "stream",
     "text": [
      "[[ 671  178]\n",
      " [ 161 1990]]\n",
      "              precision    recall  f1-score   support\n",
      "\n",
      "           0       0.81      0.79      0.80       849\n",
      "           1       0.92      0.93      0.92      2151\n",
      "\n",
      "    accuracy                           0.89      3000\n",
      "   macro avg       0.86      0.86      0.86      3000\n",
      "weighted avg       0.89      0.89      0.89      3000\n",
      "\n",
      "FNER=FN/(FN+TP)=  0.07484890748489074\n",
      "FPER=FP/(FP+TN)=  0.20965842167255594\n",
      "TNR=TN/(TN+FP)=  0.790341578327444\n",
      "TPR=TP/(FP+FN)=  0.9251510925151093\n"
     ]
    }
   ],
   "source": [
    "cm = confusion_matrix(y_test, y_predict)\n",
    "print(cm)\n",
    "print(classification_report(y_test, y_predict)) \n",
    "evaluation_outcome_rates(y_test, y_predict, sample_weight_test)"
   ]
  },
  {
   "cell_type": "markdown",
   "metadata": {},
   "source": [
    "### Evaluation of classifier by race"
   ]
  },
  {
   "cell_type": "code",
   "execution_count": 7,
   "metadata": {},
   "outputs": [
    {
     "name": "stdout",
     "output_type": "stream",
     "text": [
      "EVALUATION FOR BLACK GROUP\n",
      "[[211  22]\n",
      " [ 49  77]]\n",
      "              precision    recall  f1-score   support\n",
      "\n",
      "           0       0.81      0.91      0.86       233\n",
      "           1       0.78      0.61      0.68       126\n",
      "\n",
      "    accuracy                           0.80       359\n",
      "   macro avg       0.79      0.76      0.77       359\n",
      "weighted avg       0.80      0.80      0.80       359\n",
      "\n",
      "FNER=FN/(FN+TP)=  0.3888888888888889\n",
      "FPER=FP/(FP+TN)=  0.0944206008583691\n",
      "TNR=TN/(TN+FP)=  0.9055793991416309\n",
      "TPR=TP/(FP+FN)=  0.6111111111111112\n",
      "\n",
      "EVALUATION FOR WHITE GROUP\n",
      "[[ 460  156]\n",
      " [ 112 1913]]\n",
      "              precision    recall  f1-score   support\n",
      "\n",
      "           0       0.80      0.75      0.77       616\n",
      "           1       0.92      0.94      0.93      2025\n",
      "\n",
      "    accuracy                           0.90      2641\n",
      "   macro avg       0.86      0.85      0.85      2641\n",
      "weighted avg       0.90      0.90      0.90      2641\n",
      "\n",
      "FNER=FN/(FN+TP)=  0.055308641975308645\n",
      "FPER=FP/(FP+TN)=  0.2532467532467532\n",
      "TNR=TN/(TN+FP)=  0.7467532467532467\n",
      "TPR=TP/(FP+FN)=  0.9446913580246914\n"
     ]
    }
   ],
   "source": [
    "evaluation_by_race(X_test, y_test, race_test, y_predict, sample_weight_test)"
   ]
  },
  {
   "cell_type": "markdown",
   "metadata": {},
   "source": [
    "### Delayed impact calculated by race"
   ]
  },
  {
   "cell_type": "code",
   "execution_count": 8,
   "metadata": {},
   "outputs": [
    {
     "name": "stdout",
     "output_type": "stream",
     "text": [
      "The delayed impact of the black group is:  6.894150417827298\n",
      "The delayed impact of the white group is:  45.465732677016284\n"
     ]
    }
   ],
   "source": [
    "calculate_delayed_impact(X_test, y_test, y_predict, race_test)"
   ]
  },
  {
   "cell_type": "markdown",
   "metadata": {},
   "source": [
    "### Fairness Metric Evaluation of classifier"
   ]
  },
  {
   "cell_type": "code",
   "execution_count": 9,
   "metadata": {},
   "outputs": [
    {
     "name": "stdout",
     "output_type": "stream",
     "text": [
      "Selection Rate Overall:  0.7226666666666667\n",
      "Selection Rate By Group:  sensitive_feature_0\n",
      "0    0.275766\n",
      "1    0.783415\n",
      "Name: selection_rate, dtype: object \n",
      "\n",
      "DP Difference:  0.5076493562516942\n",
      "-->difference of 0 means that all groups have the same selection rate\n",
      "DP Ratio: 0.3520048574863585\n",
      "-->ratio of 1 means that all groups have the same selection rate \n",
      "\n",
      "EOD Difference:  0.33358024691358024\n",
      "-->difference of 0 means that all groups have the same TN, TN, FP, and FN rates\n",
      "EOD Ratio: 0.37284032133817546\n",
      "-->ratio of 1 means that all groups have the same TN, TN, FP, and FN rates rates \n",
      "\n"
     ]
    },
    {
     "name": "stderr",
     "output_type": "stream",
     "text": [
      "The positional argument 'metric' has been replaced by a keyword argument 'metrics'. From version 0.10.0 passing it as a positional argument or as a keyword argument 'metric' will result in an error\n"
     ]
    }
   ],
   "source": [
    "print_fairness_metrics(y_test, y_predict, race_test)"
   ]
  },
  {
   "cell_type": "markdown",
   "metadata": {},
   "source": [
    "## Exponentiated Gradient Reduction Alg for Adding Fairness Constraints"
   ]
  },
  {
   "cell_type": "markdown",
   "metadata": {},
   "source": [
    "### Demographic Parity"
   ]
  },
  {
   "cell_type": "code",
   "execution_count": 10,
   "metadata": {},
   "outputs": [
    {
     "name": "stdout",
     "output_type": "stream",
     "text": [
      "Exponentiated Gradient Reduction Alg is used here with  DP  as the fairness constraint.\n",
      "\n",
      "Evaluation of  DP -constrained classifier overall:\n",
      "[[ 543  306]\n",
      " [ 130 2021]]\n",
      "              precision    recall  f1-score   support\n",
      "\n",
      "           0       0.81      0.64      0.71       849\n",
      "           1       0.87      0.94      0.90      2151\n",
      "\n",
      "    accuracy                           0.85      3000\n",
      "   macro avg       0.84      0.79      0.81      3000\n",
      "weighted avg       0.85      0.85      0.85      3000\n",
      "\n",
      "FNER=FN/(FN+TP)=  0.06043700604370061\n",
      "FPER=FP/(FP+TN)=  0.36042402826855124\n",
      "TNR=TN/(TN+FP)=  0.6395759717314488\n",
      "TPR=TP/(FP+FN)=  0.9395629939562994\n",
      "\n",
      "\n",
      "Evaluation of  DP -constrained classifier by race:\n",
      "EVALUATION FOR BLACK GROUP\n",
      "[[ 71 162]\n",
      " [  7 119]]\n",
      "              precision    recall  f1-score   support\n",
      "\n",
      "           0       0.91      0.30      0.46       233\n",
      "           1       0.42      0.94      0.58       126\n",
      "\n",
      "    accuracy                           0.53       359\n",
      "   macro avg       0.67      0.62      0.52       359\n",
      "weighted avg       0.74      0.53      0.50       359\n",
      "\n",
      "FNER=FN/(FN+TP)=  0.05555555555555555\n",
      "FPER=FP/(FP+TN)=  0.6952789699570815\n",
      "TNR=TN/(TN+FP)=  0.30472103004291845\n",
      "TPR=TP/(FP+FN)=  0.9444444444444444\n",
      "\n",
      "EVALUATION FOR WHITE GROUP\n",
      "[[ 472  144]\n",
      " [ 123 1902]]\n",
      "              precision    recall  f1-score   support\n",
      "\n",
      "           0       0.79      0.77      0.78       616\n",
      "           1       0.93      0.94      0.93      2025\n",
      "\n",
      "    accuracy                           0.90      2641\n",
      "   macro avg       0.86      0.85      0.86      2641\n",
      "weighted avg       0.90      0.90      0.90      2641\n",
      "\n",
      "FNER=FN/(FN+TP)=  0.06074074074074074\n",
      "FPER=FP/(FP+TN)=  0.23376623376623376\n",
      "TNR=TN/(TN+FP)=  0.7662337662337663\n",
      "TPR=TP/(FP+FN)=  0.9392592592592592\n",
      "\n",
      "\n",
      "Fairness metric evaluation of  DP -constrained classifier\n",
      "Selection Rate Overall:  0.7756666666666666\n",
      "Selection Rate By Group:  sensitive_feature_0\n",
      "0     0.78273\n",
      "1    0.774707\n",
      "Name: selection_rate, dtype: object \n",
      "\n",
      "DP Difference:  0.008023254464893048\n",
      "-->difference of 0 means that all groups have the same selection rate\n",
      "DP Ratio: 0.9897496499896918\n",
      "-->ratio of 1 means that all groups have the same selection rate \n",
      "\n",
      "EOD Difference:  0.46151273619084776\n",
      "-->difference of 0 means that all groups have the same TN, TN, FP, and FN rates\n",
      "EOD Ratio: 0.33621933621933625\n",
      "-->ratio of 1 means that all groups have the same TN, TN, FP, and FN rates rates \n",
      "\n",
      "The delayed impact of the black group is:  -42.82729805013928\n",
      "The delayed impact of the white group is:  45.834911018553576\n"
     ]
    },
    {
     "name": "stderr",
     "output_type": "stream",
     "text": [
      "The positional argument 'metric' has been replaced by a keyword argument 'metrics'. From version 0.10.0 passing it as a positional argument or as a keyword argument 'metric' will result in an error\n"
     ]
    }
   ],
   "source": [
    "eg_dp = add_contraint(model, 'DP', 'EG', X_train, y_train, race_train, race_test, X_test, y_test, y_predict, sample_weight_test, False)"
   ]
  },
  {
   "cell_type": "markdown",
   "metadata": {},
   "source": [
    "### Equalized Odds"
   ]
  },
  {
   "cell_type": "code",
   "execution_count": 11,
   "metadata": {},
   "outputs": [
    {
     "name": "stdout",
     "output_type": "stream",
     "text": [
      "Exponentiated Gradient Reduction Alg is used here with  EO  as the fairness constraint.\n",
      "\n",
      "Evaluation of  EO -constrained classifier overall:\n",
      "[[ 621  228]\n",
      " [ 165 1986]]\n",
      "              precision    recall  f1-score   support\n",
      "\n",
      "           0       0.79      0.73      0.76       849\n",
      "           1       0.90      0.92      0.91      2151\n",
      "\n",
      "    accuracy                           0.87      3000\n",
      "   macro avg       0.84      0.83      0.83      3000\n",
      "weighted avg       0.87      0.87      0.87      3000\n",
      "\n",
      "FNER=FN/(FN+TP)=  0.07670850767085077\n",
      "FPER=FP/(FP+TN)=  0.26855123674911663\n",
      "TNR=TN/(TN+FP)=  0.7314487632508834\n",
      "TPR=TP/(FP+FN)=  0.9232914923291492\n",
      "\n",
      "\n",
      "Evaluation of  EO -constrained classifier by race:\n",
      "EVALUATION FOR BLACK GROUP\n",
      "[[153  80]\n",
      " [ 22 104]]\n",
      "              precision    recall  f1-score   support\n",
      "\n",
      "           0       0.87      0.66      0.75       233\n",
      "           1       0.57      0.83      0.67       126\n",
      "\n",
      "    accuracy                           0.72       359\n",
      "   macro avg       0.72      0.74      0.71       359\n",
      "weighted avg       0.77      0.72      0.72       359\n",
      "\n",
      "FNER=FN/(FN+TP)=  0.1746031746031746\n",
      "FPER=FP/(FP+TN)=  0.34334763948497854\n",
      "TNR=TN/(TN+FP)=  0.6566523605150214\n",
      "TPR=TP/(FP+FN)=  0.8253968253968254\n",
      "\n",
      "EVALUATION FOR WHITE GROUP\n",
      "[[ 468  148]\n",
      " [ 143 1882]]\n",
      "              precision    recall  f1-score   support\n",
      "\n",
      "           0       0.77      0.76      0.76       616\n",
      "           1       0.93      0.93      0.93      2025\n",
      "\n",
      "    accuracy                           0.89      2641\n",
      "   macro avg       0.85      0.84      0.85      2641\n",
      "weighted avg       0.89      0.89      0.89      2641\n",
      "\n",
      "FNER=FN/(FN+TP)=  0.07061728395061728\n",
      "FPER=FP/(FP+TN)=  0.24025974025974026\n",
      "TNR=TN/(TN+FP)=  0.7597402597402597\n",
      "TPR=TP/(FP+FN)=  0.9293827160493827\n",
      "\n",
      "\n",
      "Fairness metric evaluation of  EO -constrained classifier\n",
      "Selection Rate Overall:  0.738\n",
      "Selection Rate By Group:  sensitive_feature_0\n",
      "0    0.512535\n",
      "1    0.768648\n",
      "Name: selection_rate, dtype: object \n",
      "\n",
      "DP Difference:  0.25611342036178997\n",
      "-->difference of 0 means that all groups have the same selection rate\n",
      "DP Ratio: 0.6668002250367058\n",
      "-->ratio of 1 means that all groups have the same selection rate \n",
      "\n",
      "EOD Difference:  0.10398589065255737\n",
      "-->difference of 0 means that all groups have the same TN, TN, FP, and FN rates\n",
      "EOD Ratio: 0.6997564935064935\n",
      "-->ratio of 1 means that all groups have the same TN, TN, FP, and FN rates rates \n",
      "\n",
      "The delayed impact of the black group is:  -11.699164345403899\n",
      "The delayed impact of the white group is:  45.03975766755017\n"
     ]
    },
    {
     "name": "stderr",
     "output_type": "stream",
     "text": [
      "The positional argument 'metric' has been replaced by a keyword argument 'metrics'. From version 0.10.0 passing it as a positional argument or as a keyword argument 'metric' will result in an error\n"
     ]
    }
   ],
   "source": [
    "eg_eo = add_contraint(model, 'EO', 'EG', X_train, y_train, race_train, race_test, X_test, y_test, y_predict, sample_weight_test, False)"
   ]
  },
  {
   "cell_type": "markdown",
   "metadata": {},
   "source": [
    "### True Positive Rate Parity"
   ]
  },
  {
   "cell_type": "code",
   "execution_count": 12,
   "metadata": {},
   "outputs": [
    {
     "name": "stdout",
     "output_type": "stream",
     "text": [
      "Exponentiated Gradient Reduction Alg is used here with  TPRP  as the fairness constraint.\n",
      "\n",
      "Evaluation of  TPRP -constrained classifier overall:\n",
      "[[ 621  228]\n",
      " [ 148 2003]]\n",
      "              precision    recall  f1-score   support\n",
      "\n",
      "           0       0.81      0.73      0.77       849\n",
      "           1       0.90      0.93      0.91      2151\n",
      "\n",
      "    accuracy                           0.87      3000\n",
      "   macro avg       0.85      0.83      0.84      3000\n",
      "weighted avg       0.87      0.87      0.87      3000\n",
      "\n",
      "FNER=FN/(FN+TP)=  0.06880520688052069\n",
      "FPER=FP/(FP+TN)=  0.26855123674911663\n",
      "TNR=TN/(TN+FP)=  0.7314487632508834\n",
      "TPR=TP/(FP+FN)=  0.9311947931194793\n",
      "\n",
      "\n",
      "Evaluation of  TPRP -constrained classifier by race:\n",
      "EVALUATION FOR BLACK GROUP\n",
      "[[146  87]\n",
      " [ 19 107]]\n",
      "              precision    recall  f1-score   support\n",
      "\n",
      "           0       0.88      0.63      0.73       233\n",
      "           1       0.55      0.85      0.67       126\n",
      "\n",
      "    accuracy                           0.70       359\n",
      "   macro avg       0.72      0.74      0.70       359\n",
      "weighted avg       0.77      0.70      0.71       359\n",
      "\n",
      "FNER=FN/(FN+TP)=  0.15079365079365079\n",
      "FPER=FP/(FP+TN)=  0.37339055793991416\n",
      "TNR=TN/(TN+FP)=  0.6266094420600858\n",
      "TPR=TP/(FP+FN)=  0.8492063492063492\n",
      "\n",
      "EVALUATION FOR WHITE GROUP\n",
      "[[ 475  141]\n",
      " [ 129 1896]]\n",
      "              precision    recall  f1-score   support\n",
      "\n",
      "           0       0.79      0.77      0.78       616\n",
      "           1       0.93      0.94      0.93      2025\n",
      "\n",
      "    accuracy                           0.90      2641\n",
      "   macro avg       0.86      0.85      0.86      2641\n",
      "weighted avg       0.90      0.90      0.90      2641\n",
      "\n",
      "FNER=FN/(FN+TP)=  0.0637037037037037\n",
      "FPER=FP/(FP+TN)=  0.2288961038961039\n",
      "TNR=TN/(TN+FP)=  0.7711038961038961\n",
      "TPR=TP/(FP+FN)=  0.9362962962962963\n",
      "\n",
      "\n",
      "Fairness metric evaluation of  TPRP -constrained classifier\n",
      "Selection Rate Overall:  0.7436666666666667\n",
      "Selection Rate By Group:  sensitive_feature_0\n",
      "0     0.54039\n",
      "1    0.771299\n",
      "Name: selection_rate, dtype: object \n",
      "\n",
      "DP Difference:  0.2309087783284588\n",
      "-->difference of 0 means that all groups have the same selection rate\n",
      "DP Ratio: 0.7006234248574081\n",
      "-->ratio of 1 means that all groups have the same selection rate \n",
      "\n",
      "EOD Difference:  0.14449445404381026\n",
      "-->difference of 0 means that all groups have the same TN, TN, FP, and FN rates\n",
      "EOD Ratio: 0.6130206000895656\n",
      "-->ratio of 1 means that all groups have the same TN, TN, FP, and FN rates rates \n",
      "\n",
      "The delayed impact of the black group is:  -13.997214484679665\n",
      "The delayed impact of the white group is:  45.834911018553576\n"
     ]
    },
    {
     "name": "stderr",
     "output_type": "stream",
     "text": [
      "The positional argument 'metric' has been replaced by a keyword argument 'metrics'. From version 0.10.0 passing it as a positional argument or as a keyword argument 'metric' will result in an error\n"
     ]
    }
   ],
   "source": [
    "eg_tprp = add_contraint(model, 'TPRP', 'EG', X_train, y_train, race_train, race_test, X_test, y_test, y_predict, sample_weight_test, False)"
   ]
  },
  {
   "cell_type": "markdown",
   "metadata": {},
   "source": [
    "### False Positive Rate Parity"
   ]
  },
  {
   "cell_type": "code",
   "execution_count": 13,
   "metadata": {},
   "outputs": [
    {
     "name": "stdout",
     "output_type": "stream",
     "text": [
      "Exponentiated Gradient Reduction Alg is used here with  FPRP  as the fairness constraint.\n",
      "\n",
      "Evaluation of  FPRP -constrained classifier overall:\n",
      "[[ 635  214]\n",
      " [ 147 2004]]\n",
      "              precision    recall  f1-score   support\n",
      "\n",
      "           0       0.81      0.75      0.78       849\n",
      "           1       0.90      0.93      0.92      2151\n",
      "\n",
      "    accuracy                           0.88      3000\n",
      "   macro avg       0.86      0.84      0.85      3000\n",
      "weighted avg       0.88      0.88      0.88      3000\n",
      "\n",
      "FNER=FN/(FN+TP)=  0.06834030683403068\n",
      "FPER=FP/(FP+TN)=  0.25206124852767964\n",
      "TNR=TN/(TN+FP)=  0.7479387514723204\n",
      "TPR=TP/(FP+FN)=  0.9316596931659693\n",
      "\n",
      "\n",
      "Evaluation of  FPRP -constrained classifier by race:\n",
      "EVALUATION FOR BLACK GROUP\n",
      "[[163  70]\n",
      " [ 24 102]]\n",
      "              precision    recall  f1-score   support\n",
      "\n",
      "           0       0.87      0.70      0.78       233\n",
      "           1       0.59      0.81      0.68       126\n",
      "\n",
      "    accuracy                           0.74       359\n",
      "   macro avg       0.73      0.75      0.73       359\n",
      "weighted avg       0.77      0.74      0.74       359\n",
      "\n",
      "FNER=FN/(FN+TP)=  0.19047619047619047\n",
      "FPER=FP/(FP+TN)=  0.30042918454935624\n",
      "TNR=TN/(TN+FP)=  0.6995708154506438\n",
      "TPR=TP/(FP+FN)=  0.8095238095238095\n",
      "\n",
      "EVALUATION FOR WHITE GROUP\n",
      "[[ 472  144]\n",
      " [ 123 1902]]\n",
      "              precision    recall  f1-score   support\n",
      "\n",
      "           0       0.79      0.77      0.78       616\n",
      "           1       0.93      0.94      0.93      2025\n",
      "\n",
      "    accuracy                           0.90      2641\n",
      "   macro avg       0.86      0.85      0.86      2641\n",
      "weighted avg       0.90      0.90      0.90      2641\n",
      "\n",
      "FNER=FN/(FN+TP)=  0.06074074074074074\n",
      "FPER=FP/(FP+TN)=  0.23376623376623376\n",
      "TNR=TN/(TN+FP)=  0.7662337662337663\n",
      "TPR=TP/(FP+FN)=  0.9392592592592592\n",
      "\n",
      "\n",
      "Fairness metric evaluation of  FPRP -constrained classifier\n",
      "Selection Rate Overall:  0.7393333333333333\n",
      "Selection Rate By Group:  sensitive_feature_0\n",
      "0    0.479109\n",
      "1    0.774707\n",
      "Name: selection_rate, dtype: object \n",
      "\n",
      "DP Difference:  0.29559791545154146\n",
      "-->difference of 0 means that all groups have the same selection rate\n",
      "DP Ratio: 0.6184388588917298\n",
      "-->ratio of 1 means that all groups have the same selection rate \n",
      "\n",
      "EOD Difference:  0.1297354497354497\n",
      "-->difference of 0 means that all groups have the same TN, TN, FP, and FN rates\n",
      "EOD Ratio: 0.7781076066790352\n",
      "-->ratio of 1 means that all groups have the same TN, TN, FP, and FN rates rates \n",
      "\n",
      "The delayed impact of the black group is:  -7.938718662952646\n",
      "The delayed impact of the white group is:  45.834911018553576\n"
     ]
    },
    {
     "name": "stderr",
     "output_type": "stream",
     "text": [
      "The positional argument 'metric' has been replaced by a keyword argument 'metrics'. From version 0.10.0 passing it as a positional argument or as a keyword argument 'metric' will result in an error\n"
     ]
    }
   ],
   "source": [
    "eg_fprp = add_contraint(model, 'FPRP', 'EG', X_train, y_train, race_train, race_test, X_test, y_test, y_predict, sample_weight_test, False)"
   ]
  },
  {
   "cell_type": "markdown",
   "metadata": {},
   "source": [
    "### Error Rate Parity"
   ]
  },
  {
   "cell_type": "code",
   "execution_count": 14,
   "metadata": {},
   "outputs": [
    {
     "name": "stdout",
     "output_type": "stream",
     "text": [
      "Exponentiated Gradient Reduction Alg is used here with  ERP  as the fairness constraint.\n",
      "\n",
      "Evaluation of  ERP -constrained classifier overall:\n",
      "[[ 661  188]\n",
      " [ 191 1960]]\n",
      "              precision    recall  f1-score   support\n",
      "\n",
      "           0       0.78      0.78      0.78       849\n",
      "           1       0.91      0.91      0.91      2151\n",
      "\n",
      "    accuracy                           0.87      3000\n",
      "   macro avg       0.84      0.84      0.84      3000\n",
      "weighted avg       0.87      0.87      0.87      3000\n",
      "\n",
      "FNER=FN/(FN+TP)=  0.08879590887959089\n",
      "FPER=FP/(FP+TN)=  0.22143698468786807\n",
      "TNR=TN/(TN+FP)=  0.7785630153121319\n",
      "TPR=TP/(FP+FN)=  0.9112040911204091\n",
      "\n",
      "\n",
      "Evaluation of  ERP -constrained classifier by race:\n",
      "EVALUATION FOR BLACK GROUP\n",
      "[[211  22]\n",
      " [ 49  77]]\n",
      "              precision    recall  f1-score   support\n",
      "\n",
      "           0       0.81      0.91      0.86       233\n",
      "           1       0.78      0.61      0.68       126\n",
      "\n",
      "    accuracy                           0.80       359\n",
      "   macro avg       0.79      0.76      0.77       359\n",
      "weighted avg       0.80      0.80      0.80       359\n",
      "\n",
      "FNER=FN/(FN+TP)=  0.3888888888888889\n",
      "FPER=FP/(FP+TN)=  0.0944206008583691\n",
      "TNR=TN/(TN+FP)=  0.9055793991416309\n",
      "TPR=TP/(FP+FN)=  0.6111111111111112\n",
      "\n",
      "EVALUATION FOR WHITE GROUP\n",
      "[[ 450  166]\n",
      " [ 142 1883]]\n",
      "              precision    recall  f1-score   support\n",
      "\n",
      "           0       0.76      0.73      0.75       616\n",
      "           1       0.92      0.93      0.92      2025\n",
      "\n",
      "    accuracy                           0.88      2641\n",
      "   macro avg       0.84      0.83      0.83      2641\n",
      "weighted avg       0.88      0.88      0.88      2641\n",
      "\n",
      "FNER=FN/(FN+TP)=  0.07012345679012345\n",
      "FPER=FP/(FP+TN)=  0.2694805194805195\n",
      "TNR=TN/(TN+FP)=  0.7305194805194806\n",
      "TPR=TP/(FP+FN)=  0.9298765432098766\n",
      "\n",
      "\n",
      "Fairness metric evaluation of  ERP -constrained classifier\n",
      "Selection Rate Overall:  0.716\n",
      "Selection Rate By Group:  sensitive_feature_0\n",
      "0    0.275766\n",
      "1    0.775842\n",
      "Name: selection_rate, dtype: object \n",
      "\n",
      "DP Difference:  0.5000764671945188\n",
      "-->difference of 0 means that all groups have the same selection rate\n",
      "DP Ratio: 0.35544072725196474\n",
      "-->ratio of 1 means that all groups have the same selection rate \n",
      "\n",
      "EOD Difference:  0.3187654320987654\n",
      "-->difference of 0 means that all groups have the same TN, TN, FP, and FN rates\n",
      "EOD Ratio: 0.3503800610165986\n",
      "-->ratio of 1 means that all groups have the same TN, TN, FP, and FN rates rates \n",
      "\n",
      "The delayed impact of the black group is:  6.894150417827298\n",
      "The delayed impact of the white group is:  44.04581597879591\n"
     ]
    },
    {
     "name": "stderr",
     "output_type": "stream",
     "text": [
      "The positional argument 'metric' has been replaced by a keyword argument 'metrics'. From version 0.10.0 passing it as a positional argument or as a keyword argument 'metric' will result in an error\n"
     ]
    }
   ],
   "source": [
    "eg_erp = add_contraint(model, 'ERP', 'EG', X_train, y_train, race_train, race_test, X_test, y_test, y_predict, sample_weight_test, False)"
   ]
  },
  {
   "cell_type": "markdown",
   "metadata": {},
   "source": [
    "### Bounded Group Loss (TODO: issue, need to figure out loss parameter)"
   ]
  },
  {
   "cell_type": "code",
   "execution_count": 15,
   "metadata": {},
   "outputs": [],
   "source": [
    "#add_contraint(model, 'BGL', 'EG', X_train, y_train, race_train, race_test, X_test, y_test, y_predict, sample_weight_test, False)"
   ]
  },
  {
   "cell_type": "markdown",
   "metadata": {},
   "source": [
    "## Grid Search Reduction Alg for Adding Fairness Constraints"
   ]
  },
  {
   "cell_type": "markdown",
   "metadata": {},
   "source": [
    "### Demographic Parity"
   ]
  },
  {
   "cell_type": "code",
   "execution_count": 16,
   "metadata": {},
   "outputs": [
    {
     "name": "stdout",
     "output_type": "stream",
     "text": [
      "Grid Search Reduction Alg is used here with  DP  as the fairness constraint.\n",
      "\n",
      "Evaluation of  DP -constrained classifier overall:\n",
      "[[ 581  268]\n",
      " [ 135 2016]]\n",
      "              precision    recall  f1-score   support\n",
      "\n",
      "           0       0.81      0.68      0.74       849\n",
      "           1       0.88      0.94      0.91      2151\n",
      "\n",
      "    accuracy                           0.87      3000\n",
      "   macro avg       0.85      0.81      0.83      3000\n",
      "weighted avg       0.86      0.87      0.86      3000\n",
      "\n",
      "FNER=FN/(FN+TP)=  0.06276150627615062\n",
      "FPER=FP/(FP+TN)=  0.31566548881036516\n",
      "TNR=TN/(TN+FP)=  0.6843345111896348\n",
      "TPR=TP/(FP+FN)=  0.9372384937238494\n",
      "\n",
      "\n",
      "Evaluation of  DP -constrained classifier by race:\n",
      "EVALUATION FOR BLACK GROUP\n",
      "[[109 124]\n",
      " [ 12 114]]\n",
      "              precision    recall  f1-score   support\n",
      "\n",
      "           0       0.90      0.47      0.62       233\n",
      "           1       0.48      0.90      0.63       126\n",
      "\n",
      "    accuracy                           0.62       359\n",
      "   macro avg       0.69      0.69      0.62       359\n",
      "weighted avg       0.75      0.62      0.62       359\n",
      "\n",
      "FNER=FN/(FN+TP)=  0.09523809523809523\n",
      "FPER=FP/(FP+TN)=  0.5321888412017167\n",
      "TNR=TN/(TN+FP)=  0.4678111587982833\n",
      "TPR=TP/(FP+FN)=  0.9047619047619048\n",
      "\n",
      "EVALUATION FOR WHITE GROUP\n",
      "[[ 472  144]\n",
      " [ 123 1902]]\n",
      "              precision    recall  f1-score   support\n",
      "\n",
      "           0       0.79      0.77      0.78       616\n",
      "           1       0.93      0.94      0.93      2025\n",
      "\n",
      "    accuracy                           0.90      2641\n",
      "   macro avg       0.86      0.85      0.86      2641\n",
      "weighted avg       0.90      0.90      0.90      2641\n",
      "\n",
      "FNER=FN/(FN+TP)=  0.06074074074074074\n",
      "FPER=FP/(FP+TN)=  0.23376623376623376\n",
      "TNR=TN/(TN+FP)=  0.7662337662337663\n",
      "TPR=TP/(FP+FN)=  0.9392592592592592\n",
      "\n",
      "\n",
      "Fairness metric evaluation of  DP -constrained classifier\n",
      "Selection Rate Overall:  0.7613333333333333\n",
      "Selection Rate By Group:  sensitive_feature_0\n",
      "0    0.662953\n",
      "1    0.774707\n",
      "Name: selection_rate, dtype: object \n",
      "\n",
      "DP Difference:  0.11175390430948018\n",
      "-->difference of 0 means that all groups have the same selection rate\n",
      "DP Ratio: 0.855746793117626\n",
      "-->ratio of 1 means that all groups have the same selection rate \n",
      "\n",
      "EOD Difference:  0.298422607435483\n",
      "-->difference of 0 means that all groups have the same TN, TN, FP, and FN rates\n",
      "EOD Ratio: 0.43925429409300376\n",
      "-->ratio of 1 means that all groups have the same TN, TN, FP, and FN rates rates \n",
      "\n",
      "The delayed impact of the black group is:  -27.99442896935933\n",
      "The delayed impact of the white group is:  45.834911018553576\n"
     ]
    },
    {
     "name": "stderr",
     "output_type": "stream",
     "text": [
      "The positional argument 'metric' has been replaced by a keyword argument 'metrics'. From version 0.10.0 passing it as a positional argument or as a keyword argument 'metric' will result in an error\n"
     ]
    }
   ],
   "source": [
    "gs_dp = add_contraint(model, 'DP', 'GS', X_train, y_train, race_train, race_test, X_test, y_test, y_predict, sample_weight_test, False)"
   ]
  },
  {
   "cell_type": "code",
   "execution_count": 17,
   "metadata": {},
   "outputs": [
    {
     "name": "stdout",
     "output_type": "stream",
     "text": [
      "sign  event  group_id\n",
      "+     all    0           0.0\n",
      "             1           0.0\n",
      "-     all    0           0.0\n",
      "             1           2.0\n",
      "Name: 0, dtype: float64\n"
     ]
    }
   ],
   "source": [
    "# We can examine the values of lambda_i chosen for us:\n",
    "lambda_vecs = gs_dp.lambda_vecs_\n",
    "print(lambda_vecs[0])"
   ]
  },
  {
   "cell_type": "markdown",
   "metadata": {},
   "source": [
    "The next few cells come from: https://github.com/fairlearn/fairlearn/blob/main/notebooks/Binary%20Classification%20with%20the%20UCI%20Credit-card%20Default%20Dataset.ipynb\n",
    "\n",
    "Note: we train multiple models corresponding to different trade-off points between the performance metric (balanced accuracy) and fairness metric."
   ]
  },
  {
   "cell_type": "code",
   "execution_count": 18,
   "metadata": {},
   "outputs": [
    {
     "data": {
      "image/png": "[encoded data removed]",
      "text/plain": [
       "<Figure size 432x288 with 1 Axes>"
      ]
     },
     "metadata": {
      "needs_background": "light"
     },
     "output_type": "display_data"
    }
   ],
   "source": [
    "models_dict = grid_search_show(gs_dp, demographic_parity_difference, y_predict, X_test, y_test, race_test, 'DemParityDifference','GS DPD', models_dict, 0.3)"
   ]
  },
  {
   "cell_type": "code",
   "execution_count": null,
   "metadata": {},
   "outputs": [],
   "source": [
    "# Compare GridSearch models with low values of equalized odds difference with the previously constructed models\n",
    "#grid_search_dict = {\"GS_DP\".format(i): (sweep_preds[i], sweep_scores[i])\n",
    "                    for i in range(len(sweep_preds))\n",
    "                    if non_dominated[i] and sweep[i]<0.3}\n",
    "#models_dict.update(grid_search_dict)\n",
    "#get_metrics_df(models_dict, y_test, race_test)"
   ]
  },
  {
   "cell_type": "markdown",
   "metadata": {},
   "source": [
    "### Equalized Odds Used"
   ]
  },
  {
   "cell_type": "code",
   "execution_count": null,
   "metadata": {},
   "outputs": [],
   "source": [
    "gs_eo = add_contraint(model, 'EO', 'GS', X_train, y_train, race_train, race_test, X_test, y_test, y_predict, sample_weight_test, False)"
   ]
  },
  {
   "cell_type": "markdown",
   "metadata": {},
   "source": [
    "### True Positive Rate Parity"
   ]
  },
  {
   "cell_type": "code",
   "execution_count": null,
   "metadata": {},
   "outputs": [],
   "source": [
    "gs_tprp = add_contraint(model, 'TPRP', 'GS', X_train, y_train, race_train, race_test, X_test, y_test, y_predict, sample_weight_test, False)"
   ]
  },
  {
   "cell_type": "markdown",
   "metadata": {},
   "source": [
    "### False Positive Rate Parity"
   ]
  },
  {
   "cell_type": "code",
   "execution_count": null,
   "metadata": {},
   "outputs": [],
   "source": [
    "gs_fprp = add_contraint(model, 'FPRP', 'GS', X_train, y_train, race_train, race_test, X_test, y_test, y_predict, sample_weight_test, False)"
   ]
  },
  {
   "cell_type": "markdown",
   "metadata": {},
   "source": [
    "### Error Rate Parity"
   ]
  },
  {
   "cell_type": "code",
   "execution_count": null,
   "metadata": {},
   "outputs": [],
   "source": [
    "gs_erp = add_contraint(model, 'ERP', 'GS', X_train, y_train, race_train, race_test, X_test, y_test, y_predict, sample_weight_test, False)"
   ]
  },
  {
   "cell_type": "markdown",
   "metadata": {},
   "source": [
    "### Bounded Group Loss (TODO: issue, need to figure out loss parameter)"
   ]
  },
  {
   "cell_type": "code",
   "execution_count": null,
   "metadata": {},
   "outputs": [],
   "source": [
    "#add_contraint(model, 'BGL', 'GS', X_train, y_train, race_train, race_test, X_test, y_test, y_predict, sample_weight_test, False)"
   ]
  }
 ],
 "metadata": {
  "kernelspec": {
   "display_name": "venv",
   "language": "python",
   "name": "venv"
  },
  "language_info": {
   "codemirror_mode": {
    "name": "ipython",
    "version": 3
   },
   "file_extension": ".py",
   "mimetype": "text/x-python",
   "name": "python",
   "nbconvert_exporter": "python",
   "pygments_lexer": "ipython3",
   "version": "3.8.10"
  }
 },
 "nbformat": 4,
 "nbformat_minor": 4
}
