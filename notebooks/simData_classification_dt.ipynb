{
 "cells": [
  {
   "cell_type": "markdown",
   "metadata": {},
   "source": [
    "# 1. Imports"
   ]
  },
  {
   "cell_type": "code",
   "execution_count": 1,
   "metadata": {},
   "outputs": [],
   "source": [
    "from impt_functions import *\n",
    "from sklearn.tree import DecisionTreeClassifier\n",
    "from sklearn.naive_bayes import GaussianNB\n",
    "from sklearn.metrics import classification_report, confusion_matrix, accuracy_score, f1_score\n",
    "import pandas as pd \n",
    "import numpy as np\n",
    "from fairlearn.reductions import ExponentiatedGradient, GridSearch, DemographicParity, EqualizedOdds, \\\n",
    "    TruePositiveRateParity, FalsePositiveRateParity, ErrorRateParity, BoundedGroupLoss\n",
    "from fairlearn.metrics import *\n",
    "from raiwidgets import FairnessDashboard\n",
    "from sklearn.metrics import balanced_accuracy_score, roc_auc_score\n",
    "%matplotlib inline"
   ]
  },
  {
   "cell_type": "markdown",
   "metadata": {},
   "source": [
    "# 2. Prepare data"
   ]
  },
  {
   "cell_type": "code",
   "execution_count": 2,
   "metadata": {},
   "outputs": [
    {
     "name": "stdout",
     "output_type": "stream",
     "text": [
      "       score  repay_probability  race  repay_indices\n",
      "0        601              75.21     1              1\n",
      "1        693              95.15     1              1\n",
      "2        791              98.62     1              1\n",
      "3        637              86.69     1              1\n",
      "4        775              98.45     1              1\n",
      "...      ...                ...   ...            ...\n",
      "99995    797              98.73     1              1\n",
      "99996    562              58.57     1              1\n",
      "99997    687              94.60     1              1\n",
      "99998    589              70.61     1              1\n",
      "99999    555              52.97     1              0\n",
      "\n",
      "[100000 rows x 4 columns]\n"
     ]
    }
   ],
   "source": [
    "data = get_data('/home/mackenzie/git_repositories/delayedimpact/data/simData_oom100.csv')"
   ]
  },
  {
   "cell_type": "code",
   "execution_count": 3,
   "metadata": {},
   "outputs": [
    {
     "name": "stdout",
     "output_type": "stream",
     "text": [
      "Here are the x values:  [[601   1]\n",
      " [693   1]\n",
      " [791   1]\n",
      " ...\n",
      " [687   1]\n",
      " [589   1]\n",
      " [555   1]] \n",
      "\n",
      "Here are the y values:  [1 1 1 ... 1 1 0]\n",
      "Sample weights are all equal.\n"
     ]
    }
   ],
   "source": [
    "X_train, X_test, y_train, y_test, race_train, race_test, sample_weight_train, sample_weight_test = prep_data(data=data, test_size=0.3, weight_index=1)"
   ]
  },
  {
   "cell_type": "markdown",
   "metadata": {},
   "source": [
    "# Decision Tree Classifier"
   ]
  },
  {
   "cell_type": "markdown",
   "metadata": {},
   "source": [
    "## Train DTC classifier + Collect Predictions\n",
    "NOTE: atm sample_weight are all 1s"
   ]
  },
  {
   "cell_type": "code",
   "execution_count": 4,
   "metadata": {},
   "outputs": [],
   "source": [
    "# Reference: https://www.datacamp.com/community/tutorials/decision-tree-classification-python\n",
    "\n",
    "# Initialize classifier:\n",
    "clf = DecisionTreeClassifier()\n",
    "\n",
    "# Train the classifier:\n",
    "model = clf.fit(X_train,y_train)\n",
    "\n",
    "# Make predictions with the classifier:\n",
    "y_predict = model.predict(X_test)\n",
    "\n",
    "# Scores on test set\n",
    "test_scores = model.predict_proba(X_test)[:, 1]"
   ]
  },
  {
   "cell_type": "markdown",
   "metadata": {},
   "source": [
    "### Evaluation of classifier overall"
   ]
  },
  {
   "cell_type": "code",
   "execution_count": 5,
   "metadata": {},
   "outputs": [
    {
     "data": {
      "text/html": [
       "<div>\n",
       "<style scoped>\n",
       "    .dataframe tbody tr th:only-of-type {\n",
       "        vertical-align: middle;\n",
       "    }\n",
       "\n",
       "    .dataframe tbody tr th {\n",
       "        vertical-align: top;\n",
       "    }\n",
       "\n",
       "    .dataframe thead th {\n",
       "        text-align: right;\n",
       "    }\n",
       "</style>\n",
       "<table border=\"1\" class=\"dataframe\">\n",
       "  <thead>\n",
       "    <tr style=\"text-align: right;\">\n",
       "      <th></th>\n",
       "      <th>Unmitigated</th>\n",
       "    </tr>\n",
       "  </thead>\n",
       "  <tbody>\n",
       "    <tr>\n",
       "      <th>Overall selection rate</th>\n",
       "      <td>0.729567</td>\n",
       "    </tr>\n",
       "    <tr>\n",
       "      <th>Demographic parity difference</th>\n",
       "      <td>0.450625</td>\n",
       "    </tr>\n",
       "    <tr>\n",
       "      <th>Demographic parity ratio</th>\n",
       "      <td>0.424364</td>\n",
       "    </tr>\n",
       "    <tr>\n",
       "      <th>------</th>\n",
       "      <td></td>\n",
       "    </tr>\n",
       "    <tr>\n",
       "      <th>Overall balanced error rate</th>\n",
       "      <td>0.151732</td>\n",
       "    </tr>\n",
       "    <tr>\n",
       "      <th>Balanced error rate difference</th>\n",
       "      <td>0.0170221</td>\n",
       "    </tr>\n",
       "    <tr>\n",
       "      <th>------</th>\n",
       "      <td></td>\n",
       "    </tr>\n",
       "    <tr>\n",
       "      <th>True positive rate difference</th>\n",
       "      <td>0.190934</td>\n",
       "    </tr>\n",
       "    <tr>\n",
       "      <th>True negative rate difference</th>\n",
       "      <td>0.156889</td>\n",
       "    </tr>\n",
       "    <tr>\n",
       "      <th>False positive rate difference</th>\n",
       "      <td>0.156889</td>\n",
       "    </tr>\n",
       "    <tr>\n",
       "      <th>False negative rate difference</th>\n",
       "      <td>0.190934</td>\n",
       "    </tr>\n",
       "    <tr>\n",
       "      <th>Equalized odds difference</th>\n",
       "      <td>0.190934</td>\n",
       "    </tr>\n",
       "    <tr>\n",
       "      <th>------</th>\n",
       "      <td></td>\n",
       "    </tr>\n",
       "    <tr>\n",
       "      <th>Overall AUC</th>\n",
       "      <td>0.933059</td>\n",
       "    </tr>\n",
       "    <tr>\n",
       "      <th>AUC difference</th>\n",
       "      <td>0.0352201</td>\n",
       "    </tr>\n",
       "  </tbody>\n",
       "</table>\n",
       "</div>"
      ],
      "text/plain": [
       "                               Unmitigated\n",
       "Overall selection rate            0.729567\n",
       "Demographic parity difference     0.450625\n",
       "Demographic parity ratio          0.424364\n",
       "------                                    \n",
       "Overall balanced error rate       0.151732\n",
       "Balanced error rate difference   0.0170221\n",
       " ------                                   \n",
       "True positive rate difference     0.190934\n",
       "True negative rate difference     0.156889\n",
       "False positive rate difference    0.156889\n",
       "False negative rate difference    0.190934\n",
       "Equalized odds difference         0.190934\n",
       "  ------                                  \n",
       "Overall AUC                       0.933059\n",
       "AUC difference                   0.0352201"
      ]
     },
     "execution_count": 5,
     "metadata": {},
     "output_type": "execute_result"
    }
   ],
   "source": [
    "# Metrics\n",
    "models_dict = {\"Unmitigated\": (y_predict, test_scores)}\n",
    "get_metrics_df(models_dict, y_test, race_test)"
   ]
  },
  {
   "cell_type": "code",
   "execution_count": 6,
   "metadata": {},
   "outputs": [
    {
     "name": "stdout",
     "output_type": "stream",
     "text": [
      "[[ 6644  2036]\n",
      " [ 1469 19851]]\n",
      "              precision    recall  f1-score   support\n",
      "\n",
      "           0       0.82      0.77      0.79      8680\n",
      "           1       0.91      0.93      0.92     21320\n",
      "\n",
      "    accuracy                           0.88     30000\n",
      "   macro avg       0.86      0.85      0.86     30000\n",
      "weighted avg       0.88      0.88      0.88     30000\n",
      "\n",
      "TNR=TN/(TN+FP)=  0.7654377880184332\n",
      "TPR=TP/(FP+FN)=  0.9310975609756098\n",
      "FNER=FN/(FN+TP)=  0.06890243902439025\n",
      "FPER=FP/(FP+TN)=  0.23456221198156682\n",
      "F1 score micro: \n",
      "0.8831666666666667\n",
      "F1 score weighted: \n",
      "0.8819608768731572\n",
      "F1 score binary: \n",
      "0.9188788853657973\n",
      "Selection Rate Overall:  0.7295666666666667\n"
     ]
    },
    {
     "name": "stderr",
     "output_type": "stream",
     "text": [
      "The positional argument 'metric' has been replaced by a keyword argument 'metrics'. From version 0.10.0 passing it as a positional argument or as a keyword argument 'metric' will result in an error\n"
     ]
    }
   ],
   "source": [
    "cm = confusion_matrix(y_test, y_predict)\n",
    "print(cm)\n",
    "print(classification_report(y_test, y_predict)) \n",
    "evaluation_outcome_rates(y_test, y_predict, sample_weight_test)\n",
    "get_f1_scores(y_test, y_predict)\n",
    "get_selection_rates(y_test, y_predict, race_test, 0)"
   ]
  },
  {
   "cell_type": "markdown",
   "metadata": {},
   "source": [
    "### Evaluation of classifier by race"
   ]
  },
  {
   "cell_type": "code",
   "execution_count": 7,
   "metadata": {},
   "outputs": [
    {
     "name": "stdout",
     "output_type": "stream",
     "text": [
      "Selection Rate By Group:  sensitive_feature_0\n",
      "0    0.332205\n",
      "1    0.782831\n",
      "Name: selection_rate, dtype: object \n",
      "\n",
      "EVALUATION FOR BLACK GROUP\n",
      "[[2071  283]\n",
      " [ 297  895]]\n",
      "              precision    recall  f1-score   support\n",
      "\n",
      "           0       0.87      0.88      0.88      2354\n",
      "           1       0.76      0.75      0.76      1192\n",
      "\n",
      "    accuracy                           0.84      3546\n",
      "   macro avg       0.82      0.82      0.82      3546\n",
      "weighted avg       0.84      0.84      0.84      3546\n",
      "\n",
      "TNR=TN/(TN+FP)=  0.8797790994052677\n",
      "TPR=TP/(FP+FN)=  0.7508389261744967\n",
      "FNER=FN/(FN+TP)=  0.24916107382550334\n",
      "FPER=FP/(FP+TN)=  0.12022090059473237\n",
      "F1 score micro: \n",
      "0.8364354201917654\n",
      "F1 score weighted: \n",
      "0.8361947899037017\n",
      "F1 score binary: \n",
      "0.7552742616033755\n",
      "\n",
      "EVALUATION FOR WHITE GROUP\n",
      "[[ 4573  1753]\n",
      " [ 1172 18956]]\n",
      "              precision    recall  f1-score   support\n",
      "\n",
      "           0       0.80      0.72      0.76      6326\n",
      "           1       0.92      0.94      0.93     20128\n",
      "\n",
      "    accuracy                           0.89     26454\n",
      "   macro avg       0.86      0.83      0.84     26454\n",
      "weighted avg       0.89      0.89      0.89     26454\n",
      "\n",
      "TNR=TN/(TN+FP)=  0.7228896617135631\n",
      "TPR=TP/(FP+FN)=  0.9417726550079492\n",
      "FNER=FN/(FN+TP)=  0.05822734499205087\n",
      "FPER=FP/(FP+TN)=  0.27711033828643694\n",
      "F1 score micro: \n",
      "0.8894307099115446\n",
      "F1 score weighted: \n",
      "0.8875563065518303\n",
      "F1 score binary: \n",
      "0.928373778681098\n"
     ]
    }
   ],
   "source": [
    "evaluation_by_race(X_test, y_test, race_test, y_predict, sample_weight_test)"
   ]
  },
  {
   "cell_type": "markdown",
   "metadata": {},
   "source": [
    "### Delayed impact calculated by race"
   ]
  },
  {
   "cell_type": "code",
   "execution_count": 8,
   "metadata": {},
   "outputs": [
    {
     "name": "stdout",
     "output_type": "stream",
     "text": [
      "The delayed impact of the black group is:  6.958544839255499\n",
      "The delayed impact of the white group is:  43.80244953504196\n"
     ]
    }
   ],
   "source": [
    "calculate_delayed_impact(X_test, y_test, y_predict, race_test)"
   ]
  },
  {
   "cell_type": "markdown",
   "metadata": {},
   "source": [
    "### Fairness Metric Evaluation of classifier"
   ]
  },
  {
   "cell_type": "code",
   "execution_count": 9,
   "metadata": {},
   "outputs": [
    {
     "name": "stdout",
     "output_type": "stream",
     "text": [
      "DP Difference:  0.45062527207781544\n",
      "-->difference of 0 means that all groups have the same selection rate\n",
      "DP Ratio: 0.42436424030390024\n",
      "-->ratio of 1 means that all groups have the same selection rate \n",
      "\n",
      "EOD Difference:  0.1909337288334525\n",
      "-->difference of 0 means that all groups have the same TN, TN, FP, and FN rates\n",
      "EOD Ratio: 0.4338376595335293\n",
      "-->ratio of 1 means that all groups have the same TN, TN, FP, and FN rates rates \n",
      "\n"
     ]
    }
   ],
   "source": [
    "print_fairness_metrics(y_test, y_predict, race_test)"
   ]
  },
  {
   "cell_type": "markdown",
   "metadata": {},
   "source": [
    "## Exponentiated Gradient Reduction Alg for Adding Fairness Constraints"
   ]
  },
  {
   "cell_type": "markdown",
   "metadata": {},
   "source": [
    "### Demographic Parity"
   ]
  },
  {
   "cell_type": "code",
   "execution_count": null,
   "metadata": {},
   "outputs": [
    {
     "name": "stdout",
     "output_type": "stream",
     "text": [
      "Exponentiated Gradient Reduction Alg is used here with  DP  as the fairness constraint.\n",
      "\n"
     ]
    }
   ],
   "source": [
    "eg_dp = add_contraint(model, 'DP', 'EG', X_train, y_train, race_train, race_test, X_test, y_test, y_predict, sample_weight_test, False)"
   ]
  },
  {
   "cell_type": "markdown",
   "metadata": {},
   "source": [
    "### Equalized Odds"
   ]
  },
  {
   "cell_type": "code",
   "execution_count": 12,
   "metadata": {},
   "outputs": [
    {
     "name": "stdout",
     "output_type": "stream",
     "text": [
      "Exponentiated Gradient Reduction Alg is used here with  EO  as the fairness constraint.\n",
      "\n",
      "Evaluation of  EO -constrained classifier overall:\n",
      "[[ 6561  2119]\n",
      " [ 2192 19128]]\n",
      "              precision    recall  f1-score   support\n",
      "\n",
      "           0       0.75      0.76      0.75      8680\n",
      "           1       0.90      0.90      0.90     21320\n",
      "\n",
      "    accuracy                           0.86     30000\n",
      "   macro avg       0.82      0.83      0.83     30000\n",
      "weighted avg       0.86      0.86      0.86     30000\n",
      "\n",
      "TNR=TN/(TN+FP)=  0.7558755760368664\n",
      "TPR=TP/(FP+FN)=  0.8971857410881802\n",
      "FNER=FN/(FN+TP)=  0.10281425891181989\n",
      "FPER=FP/(FP+TN)=  0.24412442396313364\n",
      "F1 score micro: \n",
      "0.8563\n",
      "F1 score weighted: \n",
      "0.8564776503509381\n",
      "F1 score binary: \n",
      "0.8987243639439002\n",
      "\n",
      "\n",
      "Evaluation of  EO -constrained classifier by race:\n",
      "EVALUATION FOR BLACK GROUP\n",
      "[[1748  606]\n",
      " [ 144 1048]]\n",
      "              precision    recall  f1-score   support\n",
      "\n",
      "           0       0.92      0.74      0.82      2354\n",
      "           1       0.63      0.88      0.74      1192\n",
      "\n",
      "    accuracy                           0.79      3546\n",
      "   macro avg       0.78      0.81      0.78      3546\n",
      "weighted avg       0.83      0.79      0.79      3546\n",
      "\n",
      "TNR=TN/(TN+FP)=  0.7425658453695837\n",
      "TPR=TP/(FP+FN)=  0.8791946308724832\n",
      "FNER=FN/(FN+TP)=  0.12080536912751678\n",
      "FPER=FP/(FP+TN)=  0.2574341546304163\n",
      "F1 score micro: \n",
      "0.7884940778341794\n",
      "F1 score weighted: \n",
      "0.7941544848700293\n",
      "F1 score binary: \n",
      "0.7364722417427969\n",
      "\n",
      "EVALUATION FOR WHITE GROUP\n",
      "[[ 4813  1513]\n",
      " [ 2048 18080]]\n",
      "              precision    recall  f1-score   support\n",
      "\n",
      "           0       0.70      0.76      0.73      6326\n",
      "           1       0.92      0.90      0.91     20128\n",
      "\n",
      "    accuracy                           0.87     26454\n",
      "   macro avg       0.81      0.83      0.82     26454\n",
      "weighted avg       0.87      0.87      0.87     26454\n",
      "\n",
      "TNR=TN/(TN+FP)=  0.7608283275371482\n",
      "TPR=TP/(FP+FN)=  0.8982511923688394\n",
      "FNER=FN/(FN+TP)=  0.10174880763116058\n",
      "FPER=FP/(FP+TN)=  0.23917167246285173\n",
      "F1 score micro: \n",
      "0.8653889770923112\n",
      "F1 score weighted: \n",
      "0.867213044804007\n",
      "F1 score binary: \n",
      "0.9103496890813424\n",
      "\n",
      "\n",
      "Fairness metric evaluation of  EO -constrained classifier\n",
      "Selection Rate Overall:  0.7082333333333334\n",
      "Selection Rate By Group:  sensitive_feature_0\n",
      "0    0.466441\n",
      "1    0.740644\n",
      "Name: selection_rate, dtype: object \n",
      "\n"
     ]
    },
    {
     "name": "stderr",
     "output_type": "stream",
     "text": [
      "The positional argument 'metric' has been replaced by a keyword argument 'metrics'. From version 0.10.0 passing it as a positional argument or as a keyword argument 'metric' will result in an error\n"
     ]
    },
    {
     "name": "stdout",
     "output_type": "stream",
     "text": [
      "DP Difference:  0.2742030766428255\n",
      "-->difference of 0 means that all groups have the same selection rate\n",
      "DP Ratio: 0.6297775639509362\n",
      "-->ratio of 1 means that all groups have the same selection rate \n",
      "\n",
      "EOD Difference:  0.01905656149635626\n",
      "-->difference of 0 means that all groups have the same TN, TN, FP, and FN rates\n",
      "EOD Ratio: 0.9290595989728597\n",
      "-->ratio of 1 means that all groups have the same TN, TN, FP, and FN rates rates \n",
      "\n",
      "The delayed impact of the black group is:  -3.4686971235194584\n",
      "The delayed impact of the white group is:  42.6797459741438\n"
     ]
    }
   ],
   "source": [
    "eg_eo = add_contraint(model, 'EO', 'EG', X_train, y_train, race_train, race_test, X_test, y_test, y_predict, sample_weight_test, False)"
   ]
  },
  {
   "cell_type": "markdown",
   "metadata": {},
   "source": [
    "### EOO (True Positive Rate Parity)"
   ]
  },
  {
   "cell_type": "code",
   "execution_count": 13,
   "metadata": {
    "scrolled": true
   },
   "outputs": [
    {
     "name": "stdout",
     "output_type": "stream",
     "text": [
      "Exponentiated Gradient Reduction Alg is used here with  TPRP  as the fairness constraint.\n",
      "\n",
      "Evaluation of  TPRP -constrained classifier overall:\n",
      "[[ 6216  2464]\n",
      " [ 1448 19872]]\n",
      "              precision    recall  f1-score   support\n",
      "\n",
      "           0       0.81      0.72      0.76      8680\n",
      "           1       0.89      0.93      0.91     21320\n",
      "\n",
      "    accuracy                           0.87     30000\n",
      "   macro avg       0.85      0.82      0.84     30000\n",
      "weighted avg       0.87      0.87      0.87     30000\n",
      "\n",
      "TNR=TN/(TN+FP)=  0.7161290322580646\n",
      "TPR=TP/(FP+FN)=  0.9320825515947467\n",
      "FNER=FN/(FN+TP)=  0.06791744840525328\n",
      "FPER=FP/(FP+TN)=  0.2838709677419355\n",
      "F1 score micro: \n",
      "0.8695999999999999\n",
      "F1 score weighted: \n",
      "0.8670643312809774\n",
      "F1 score binary: \n",
      "0.9103903243540407\n",
      "\n",
      "\n",
      "Evaluation of  TPRP -constrained classifier by race:\n",
      "EVALUATION FOR BLACK GROUP\n",
      "[[1496  858]\n",
      " [ 110 1082]]\n",
      "              precision    recall  f1-score   support\n",
      "\n",
      "           0       0.93      0.64      0.76      2354\n",
      "           1       0.56      0.91      0.69      1192\n",
      "\n",
      "    accuracy                           0.73      3546\n",
      "   macro avg       0.74      0.77      0.72      3546\n",
      "weighted avg       0.81      0.73      0.73      3546\n",
      "\n",
      "TNR=TN/(TN+FP)=  0.6355140186915887\n",
      "TPR=TP/(FP+FN)=  0.9077181208053692\n",
      "FNER=FN/(FN+TP)=  0.09228187919463088\n",
      "FPER=FP/(FP+TN)=  0.3644859813084112\n",
      "F1 score micro: \n",
      "0.7270163564579808\n",
      "F1 score weighted: \n",
      "0.7338322315936725\n",
      "F1 score binary: \n",
      "0.6909323116219669\n",
      "\n",
      "EVALUATION FOR WHITE GROUP\n",
      "[[ 4720  1606]\n",
      " [ 1338 18790]]\n",
      "              precision    recall  f1-score   support\n",
      "\n",
      "           0       0.78      0.75      0.76      6326\n",
      "           1       0.92      0.93      0.93     20128\n",
      "\n",
      "    accuracy                           0.89     26454\n",
      "   macro avg       0.85      0.84      0.84     26454\n",
      "weighted avg       0.89      0.89      0.89     26454\n",
      "\n",
      "TNR=TN/(TN+FP)=  0.746127094530509\n",
      "TPR=TP/(FP+FN)=  0.9335254372019078\n",
      "FNER=FN/(FN+TP)=  0.0664745627980922\n",
      "FPER=FP/(FP+TN)=  0.253872905469491\n",
      "F1 score micro: \n",
      "0.8887124820443033\n",
      "F1 score weighted: \n",
      "0.8878762975732954\n",
      "F1 score binary: \n",
      "0.9273516928240055\n",
      "\n",
      "\n",
      "Fairness metric evaluation of  TPRP -constrained classifier\n"
     ]
    },
    {
     "name": "stderr",
     "output_type": "stream",
     "text": [
      "The positional argument 'metric' has been replaced by a keyword argument 'metrics'. From version 0.10.0 passing it as a positional argument or as a keyword argument 'metric' will result in an error\n"
     ]
    },
    {
     "name": "stdout",
     "output_type": "stream",
     "text": [
      "Selection Rate Overall:  0.7445333333333334\n",
      "Selection Rate By Group:  sensitive_feature_0\n",
      "0    0.547095\n",
      "1    0.770999\n",
      "Name: selection_rate, dtype: object \n",
      "\n",
      "DP Difference:  0.22390339608120957\n",
      "-->difference of 0 means that all groups have the same selection rate\n",
      "DP Ratio: 0.7095930358927085\n",
      "-->ratio of 1 means that all groups have the same selection rate \n",
      "\n",
      "EOD Difference:  0.11061307583892022\n",
      "-->difference of 0 means that all groups have the same TN, TN, FP, and FN rates\n",
      "EOD Ratio: 0.696523099621424\n",
      "-->ratio of 1 means that all groups have the same TN, TN, FP, and FN rates rates \n",
      "\n",
      "The delayed impact of the black group is:  -13.40947546531303\n",
      "The delayed impact of the white group is:  44.165343615332276\n"
     ]
    }
   ],
   "source": [
    "eg_tprp = add_contraint(model, 'TPRP', 'EG', X_train, y_train, race_train, race_test, X_test, y_test, y_predict, sample_weight_test, False)"
   ]
  },
  {
   "cell_type": "markdown",
   "metadata": {},
   "source": [
    "### False Positive Rate Parity"
   ]
  },
  {
   "cell_type": "code",
   "execution_count": 14,
   "metadata": {},
   "outputs": [
    {
     "name": "stdout",
     "output_type": "stream",
     "text": [
      "Exponentiated Gradient Reduction Alg is used here with  FPRP  as the fairness constraint.\n",
      "\n",
      "Evaluation of  FPRP -constrained classifier overall:\n",
      "[[ 6393  2287]\n",
      " [ 1388 19932]]\n",
      "              precision    recall  f1-score   support\n",
      "\n",
      "           0       0.82      0.74      0.78      8680\n",
      "           1       0.90      0.93      0.92     21320\n",
      "\n",
      "    accuracy                           0.88     30000\n",
      "   macro avg       0.86      0.84      0.85     30000\n",
      "weighted avg       0.88      0.88      0.88     30000\n",
      "\n",
      "TNR=TN/(TN+FP)=  0.7365207373271889\n",
      "TPR=TP/(FP+FN)=  0.9348968105065666\n",
      "FNER=FN/(FN+TP)=  0.0651031894934334\n",
      "FPER=FP/(FP+TN)=  0.2634792626728111\n",
      "F1 score micro: \n",
      "0.8775\n",
      "F1 score weighted: \n",
      "0.8754195958866932\n",
      "F1 score binary: \n",
      "0.9155929166953766\n",
      "\n",
      "\n",
      "Evaluation of  FPRP -constrained classifier by race:\n",
      "EVALUATION FOR BLACK GROUP\n",
      "[[1742  612]\n",
      " [ 146 1046]]\n",
      "              precision    recall  f1-score   support\n",
      "\n",
      "           0       0.92      0.74      0.82      2354\n",
      "           1       0.63      0.88      0.73      1192\n",
      "\n",
      "    accuracy                           0.79      3546\n",
      "   macro avg       0.78      0.81      0.78      3546\n",
      "weighted avg       0.82      0.79      0.79      3546\n",
      "\n",
      "TNR=TN/(TN+FP)=  0.740016992353441\n",
      "TPR=TP/(FP+FN)=  0.87751677852349\n",
      "FNER=FN/(FN+TP)=  0.12248322147651007\n",
      "FPER=FP/(FP+TN)=  0.2599830076465591\n",
      "F1 score micro: \n",
      "0.7862380146644106\n",
      "F1 score weighted: \n",
      "0.7919727067804931\n",
      "F1 score binary: \n",
      "0.7340350877192983\n",
      "\n",
      "EVALUATION FOR WHITE GROUP\n",
      "[[ 4651  1675]\n",
      " [ 1242 18886]]\n",
      "              precision    recall  f1-score   support\n",
      "\n",
      "           0       0.79      0.74      0.76      6326\n",
      "           1       0.92      0.94      0.93     20128\n",
      "\n",
      "    accuracy                           0.89     26454\n",
      "   macro avg       0.85      0.84      0.84     26454\n",
      "weighted avg       0.89      0.89      0.89     26454\n",
      "\n",
      "TNR=TN/(TN+FP)=  0.7352197281062283\n",
      "TPR=TP/(FP+FN)=  0.9382949125596184\n",
      "FNER=FN/(FN+TP)=  0.061705087440381556\n",
      "FPER=FP/(FP+TN)=  0.26478027189377173\n",
      "F1 score micro: \n",
      "0.8897331216451199\n",
      "F1 score weighted: \n",
      "0.888366092523213\n",
      "F1 score binary: \n",
      "0.9283098626164319\n",
      "\n",
      "\n",
      "Fairness metric evaluation of  FPRP -constrained classifier\n"
     ]
    },
    {
     "name": "stderr",
     "output_type": "stream",
     "text": [
      "The positional argument 'metric' has been replaced by a keyword argument 'metrics'. From version 0.10.0 passing it as a positional argument or as a keyword argument 'metric' will result in an error\n"
     ]
    },
    {
     "name": "stdout",
     "output_type": "stream",
     "text": [
      "Selection Rate Overall:  0.7406333333333334\n",
      "Selection Rate By Group:  sensitive_feature_0\n",
      "0    0.467569\n",
      "1    0.777236\n",
      "Name: selection_rate, dtype: object \n",
      "\n",
      "DP Difference:  0.30966686482054795\n",
      "-->difference of 0 means that all groups have the same selection rate\n",
      "DP Ratio: 0.6015793374853959\n",
      "-->ratio of 1 means that all groups have the same selection rate \n",
      "\n",
      "EOD Difference:  0.06077813403612842\n",
      "-->difference of 0 means that all groups have the same TN, TN, FP, and FN rates\n",
      "EOD Ratio: 0.9352249135931805\n",
      "-->ratio of 1 means that all groups have the same TN, TN, FP, and FN rates rates \n",
      "\n",
      "The delayed impact of the black group is:  -3.7648054145516077\n",
      "The delayed impact of the white group is:  44.046268995237014\n"
     ]
    }
   ],
   "source": [
    "eg_fprp = add_contraint(model, 'FPRP', 'EG', X_train, y_train, race_train, race_test, X_test, y_test, y_predict, sample_weight_test, False)"
   ]
  },
  {
   "cell_type": "markdown",
   "metadata": {},
   "source": [
    "### Error Rate Parity"
   ]
  },
  {
   "cell_type": "code",
   "execution_count": 15,
   "metadata": {},
   "outputs": [
    {
     "name": "stdout",
     "output_type": "stream",
     "text": [
      "Exponentiated Gradient Reduction Alg is used here with  ERP  as the fairness constraint.\n",
      "\n",
      "Evaluation of  ERP -constrained classifier overall:\n",
      "[[ 6499  2181]\n",
      " [ 2199 19121]]\n",
      "              precision    recall  f1-score   support\n",
      "\n",
      "           0       0.75      0.75      0.75      8680\n",
      "           1       0.90      0.90      0.90     21320\n",
      "\n",
      "    accuracy                           0.85     30000\n",
      "   macro avg       0.82      0.82      0.82     30000\n",
      "weighted avg       0.85      0.85      0.85     30000\n",
      "\n",
      "TNR=TN/(TN+FP)=  0.7487327188940092\n",
      "TPR=TP/(FP+FN)=  0.8968574108818012\n",
      "FNER=FN/(FN+TP)=  0.10314258911819887\n",
      "FPER=FP/(FP+TN)=  0.2512672811059908\n",
      "F1 score micro: \n",
      "0.854\n",
      "F1 score weighted: \n",
      "0.8540447836945598\n",
      "F1 score binary: \n",
      "0.8972361691145418\n",
      "\n",
      "\n",
      "Evaluation of  ERP -constrained classifier by race:\n",
      "EVALUATION FOR BLACK GROUP\n",
      "[[2071  283]\n",
      " [ 297  895]]\n",
      "              precision    recall  f1-score   support\n",
      "\n",
      "           0       0.87      0.88      0.88      2354\n",
      "           1       0.76      0.75      0.76      1192\n",
      "\n",
      "    accuracy                           0.84      3546\n",
      "   macro avg       0.82      0.82      0.82      3546\n",
      "weighted avg       0.84      0.84      0.84      3546\n",
      "\n",
      "TNR=TN/(TN+FP)=  0.8797790994052677\n",
      "TPR=TP/(FP+FN)=  0.7508389261744967\n",
      "FNER=FN/(FN+TP)=  0.24916107382550334\n",
      "FPER=FP/(FP+TN)=  0.12022090059473237\n",
      "F1 score micro: \n",
      "0.8364354201917654\n",
      "F1 score weighted: \n",
      "0.8361947899037017\n",
      "F1 score binary: \n",
      "0.7552742616033755\n",
      "\n",
      "EVALUATION FOR WHITE GROUP\n",
      "[[ 4428  1898]\n",
      " [ 1902 18226]]\n",
      "              precision    recall  f1-score   support\n",
      "\n",
      "           0       0.70      0.70      0.70      6326\n",
      "           1       0.91      0.91      0.91     20128\n",
      "\n",
      "    accuracy                           0.86     26454\n",
      "   macro avg       0.80      0.80      0.80     26454\n",
      "weighted avg       0.86      0.86      0.86     26454\n",
      "\n",
      "TNR=TN/(TN+FP)=  0.699968384445147\n",
      "TPR=TP/(FP+FN)=  0.9055047694753577\n",
      "FNER=FN/(FN+TP)=  0.09449523052464229\n",
      "FPER=FP/(FP+TN)=  0.30003161555485297\n",
      "F1 score micro: \n",
      "0.8563544265517502\n",
      "F1 score weighted: \n",
      "0.8563699892339576\n",
      "F1 score binary: \n",
      "0.9055947530557488\n",
      "\n",
      "\n",
      "Fairness metric evaluation of  ERP -constrained classifier\n",
      "Selection Rate Overall:  0.7100666666666666\n",
      "Selection Rate By Group:  sensitive_feature_0\n",
      "0    0.332205\n",
      "1    0.760717\n",
      "Name: selection_rate, dtype: object \n",
      "\n"
     ]
    },
    {
     "name": "stderr",
     "output_type": "stream",
     "text": [
      "The positional argument 'metric' has been replaced by a keyword argument 'metrics'. From version 0.10.0 passing it as a positional argument or as a keyword argument 'metric' will result in an error\n"
     ]
    },
    {
     "name": "stdout",
     "output_type": "stream",
     "text": [
      "DP Difference:  0.4285114140601244\n",
      "-->difference of 0 means that all groups have the same selection rate\n",
      "DP Ratio: 0.43670041008017635\n",
      "-->ratio of 1 means that all groups have the same selection rate \n",
      "\n",
      "EOD Difference:  0.1798107149601206\n",
      "-->difference of 0 means that all groups have the same TN, TN, FP, and FN rates\n",
      "EOD Ratio: 0.40069410809392886\n",
      "-->ratio of 1 means that all groups have the same TN, TN, FP, and FN rates rates \n",
      "\n",
      "The delayed impact of the black group is:  6.958544839255499\n",
      "The delayed impact of the white group is:  40.91063733272851\n"
     ]
    }
   ],
   "source": [
    "eg_erp = add_contraint(model, 'ERP', 'EG', X_train, y_train, race_train, race_test, X_test, y_test, y_predict, sample_weight_test, False)"
   ]
  },
  {
   "cell_type": "markdown",
   "metadata": {},
   "source": [
    "### Bounded Group Loss (TODO: issue, need to figure out loss parameter)"
   ]
  },
  {
   "cell_type": "code",
   "execution_count": 16,
   "metadata": {},
   "outputs": [],
   "source": [
    "#add_contraint(model, 'BGL', 'EG', X_train, y_train, race_train, race_test, X_test, y_test, y_predict, sample_weight_test, False)"
   ]
  },
  {
   "cell_type": "markdown",
   "metadata": {},
   "source": [
    "## Grid Search Reduction Alg for Adding Fairness Constraints"
   ]
  },
  {
   "cell_type": "markdown",
   "metadata": {},
   "source": [
    "### Demographic Parity"
   ]
  },
  {
   "cell_type": "code",
   "execution_count": 17,
   "metadata": {},
   "outputs": [
    {
     "name": "stdout",
     "output_type": "stream",
     "text": [
      "Grid Search Reduction Alg is used here with  DP  as the fairness constraint.\n",
      "\n",
      "Evaluation of  DP -constrained classifier overall:\n",
      "[[ 5907  2773]\n",
      " [ 1317 20003]]\n",
      "              precision    recall  f1-score   support\n",
      "\n",
      "           0       0.82      0.68      0.74      8680\n",
      "           1       0.88      0.94      0.91     21320\n",
      "\n",
      "    accuracy                           0.86     30000\n",
      "   macro avg       0.85      0.81      0.83     30000\n",
      "weighted avg       0.86      0.86      0.86     30000\n",
      "\n",
      "TNR=TN/(TN+FP)=  0.6805299539170507\n",
      "TPR=TP/(FP+FN)=  0.9382270168855534\n",
      "FNER=FN/(FN+TP)=  0.06177298311444653\n",
      "FPER=FP/(FP+TN)=  0.3194700460829493\n",
      "F1 score micro: \n",
      "0.8636666666666667\n",
      "F1 score weighted: \n",
      "0.8596768425015502\n",
      "F1 score binary: \n",
      "0.9072478229317851\n",
      "\n",
      "\n",
      "Evaluation of  DP -constrained classifier by race:\n",
      "EVALUATION FOR BLACK GROUP\n",
      "[[1256 1098]\n",
      " [  75 1117]]\n",
      "              precision    recall  f1-score   support\n",
      "\n",
      "           0       0.94      0.53      0.68      2354\n",
      "           1       0.50      0.94      0.66      1192\n",
      "\n",
      "    accuracy                           0.67      3546\n",
      "   macro avg       0.72      0.74      0.67      3546\n",
      "weighted avg       0.80      0.67      0.67      3546\n",
      "\n",
      "TNR=TN/(TN+FP)=  0.5335598980458793\n",
      "TPR=TP/(FP+FN)=  0.9370805369127517\n",
      "FNER=FN/(FN+TP)=  0.06291946308724833\n",
      "FPER=FP/(FP+TN)=  0.46644010195412067\n",
      "F1 score micro: \n",
      "0.6692047377326565\n",
      "F1 score weighted: \n",
      "0.6729513615452023\n",
      "F1 score binary: \n",
      "0.6557088347519813\n",
      "\n",
      "EVALUATION FOR WHITE GROUP\n",
      "[[ 4651  1675]\n",
      " [ 1242 18886]]\n",
      "              precision    recall  f1-score   support\n",
      "\n",
      "           0       0.79      0.74      0.76      6326\n",
      "           1       0.92      0.94      0.93     20128\n",
      "\n",
      "    accuracy                           0.89     26454\n",
      "   macro avg       0.85      0.84      0.84     26454\n",
      "weighted avg       0.89      0.89      0.89     26454\n",
      "\n",
      "TNR=TN/(TN+FP)=  0.7352197281062283\n",
      "TPR=TP/(FP+FN)=  0.9382949125596184\n",
      "FNER=FN/(FN+TP)=  0.061705087440381556\n",
      "FPER=FP/(FP+TN)=  0.26478027189377173\n",
      "F1 score micro: \n",
      "0.8897331216451199\n",
      "F1 score weighted: \n",
      "0.888366092523213\n",
      "F1 score binary: \n",
      "0.9283098626164319\n",
      "\n",
      "\n",
      "Fairness metric evaluation of  DP -constrained classifier\n"
     ]
    },
    {
     "name": "stderr",
     "output_type": "stream",
     "text": [
      "The positional argument 'metric' has been replaced by a keyword argument 'metrics'. From version 0.10.0 passing it as a positional argument or as a keyword argument 'metric' will result in an error\n"
     ]
    },
    {
     "name": "stdout",
     "output_type": "stream",
     "text": [
      "Selection Rate Overall:  0.7592\n",
      "Selection Rate By Group:  sensitive_feature_0\n",
      "0    0.624647\n",
      "1    0.777236\n",
      "Name: selection_rate, dtype: object \n",
      "\n",
      "DP Difference:  0.1525884666253985\n",
      "-->difference of 0 means that all groups have the same selection rate\n",
      "DP Ratio: 0.8036780654584752\n",
      "-->ratio of 1 means that all groups have the same selection rate \n",
      "\n",
      "EOD Difference:  0.20165983006034893\n",
      "-->difference of 0 means that all groups have the same TN, TN, FP, and FN rates\n",
      "EOD Ratio: 0.5676618943879223\n",
      "-->ratio of 1 means that all groups have the same TN, TN, FP, and FN rates rates \n",
      "\n",
      "The delayed impact of the black group is:  -22.821489001692047\n",
      "The delayed impact of the white group is:  44.046268995237014\n"
     ]
    }
   ],
   "source": [
    "gs_dp = add_contraint(model, 'DP', 'GS', X_train, y_train, race_train, race_test, X_test, y_test, y_predict, sample_weight_test, False)"
   ]
  },
  {
   "cell_type": "code",
   "execution_count": 18,
   "metadata": {},
   "outputs": [
    {
     "name": "stdout",
     "output_type": "stream",
     "text": [
      "sign  event  group_id\n",
      "+     all    0           0.0\n",
      "             1           0.0\n",
      "-     all    0           0.0\n",
      "             1           2.0\n",
      "Name: 0, dtype: float64\n"
     ]
    }
   ],
   "source": [
    "# We can examine the values of lambda_i chosen for us:\n",
    "lambda_vecs = gs_dp.lambda_vecs_\n",
    "print(lambda_vecs[0])"
   ]
  },
  {
   "cell_type": "markdown",
   "metadata": {},
   "source": [
    "The next few cells come from: https://github.com/fairlearn/fairlearn/blob/main/notebooks/Binary%20Classification%20with%20the%20UCI%20Credit-card%20Default%20Dataset.ipynb\n",
    "\n",
    "Note: we train multiple models corresponding to different trade-off points between the performance metric (balanced accuracy) and fairness metric."
   ]
  },
  {
   "cell_type": "code",
   "execution_count": 19,
   "metadata": {},
   "outputs": [
    {
     "data": {
      "image/png": "[encoded data removed]",
      "text/plain": [
       "<Figure size 432x288 with 1 Axes>"
      ]
     },
     "metadata": {
      "needs_background": "light"
     },
     "output_type": "display_data"
    },
    {
     "name": "stdout",
     "output_type": "stream",
     "text": [
      "                               Unmitigated      GS DPD\n",
      "Overall selection rate            0.729567      0.7592\n",
      "Demographic parity difference     0.450625    0.152588\n",
      "Demographic parity ratio          0.424364    0.803678\n",
      "------                                                \n",
      "Overall balanced error rate       0.151732    0.190622\n",
      "Balanced error rate difference   0.0170221    0.101437\n",
      " ------                                               \n",
      "True positive rate difference     0.190934  0.00121438\n",
      "True negative rate difference     0.156889     0.20166\n",
      "False positive rate difference    0.156889     0.20166\n",
      "False negative rate difference    0.190934  0.00121438\n",
      "Equalized odds difference         0.190934     0.20166\n",
      "  ------                                              \n",
      "Overall AUC                       0.933059    0.915544\n",
      "AUC difference                   0.0352201   0.0352706\n"
     ]
    }
   ],
   "source": [
    "grid_search_show(gs_dp, demographic_parity_difference, y_predict, X_test, y_test, race_test, 'DemParityDifference','GS DPD', models_dict, 0.3)"
   ]
  },
  {
   "cell_type": "code",
   "execution_count": 20,
   "metadata": {},
   "outputs": [
    {
     "data": {
      "text/plain": [
       "{'Unmitigated': (array([1, 1, 1, ..., 1, 1, 1]),\n",
       "  array([0.985     , 0.98409091, 1.        , ..., 0.88352273, 0.90196078,\n",
       "         0.69662921]))}"
      ]
     },
     "execution_count": 20,
     "metadata": {},
     "output_type": "execute_result"
    }
   ],
   "source": [
    "models_dict.pop('GS DPD')\n",
    "models_dict"
   ]
  },
  {
   "cell_type": "markdown",
   "metadata": {},
   "source": [
    "### Equalized Odds Used"
   ]
  },
  {
   "cell_type": "code",
   "execution_count": 21,
   "metadata": {},
   "outputs": [
    {
     "name": "stdout",
     "output_type": "stream",
     "text": [
      "Grid Search Reduction Alg is used here with  EO  as the fairness constraint.\n",
      "\n",
      "Evaluation of  EO -constrained classifier overall:\n",
      "[[ 6459  2221]\n",
      " [ 1402 19918]]\n",
      "              precision    recall  f1-score   support\n",
      "\n",
      "           0       0.82      0.74      0.78      8680\n",
      "           1       0.90      0.93      0.92     21320\n",
      "\n",
      "    accuracy                           0.88     30000\n",
      "   macro avg       0.86      0.84      0.85     30000\n",
      "weighted avg       0.88      0.88      0.88     30000\n",
      "\n",
      "TNR=TN/(TN+FP)=  0.7441244239631336\n",
      "TPR=TP/(FP+FN)=  0.9342401500938087\n",
      "FNER=FN/(FN+TP)=  0.06575984990619137\n",
      "FPER=FP/(FP+TN)=  0.25587557603686634\n",
      "F1 score micro: \n",
      "0.8792333333333333\n",
      "F1 score weighted: \n",
      "0.8773814983521971\n",
      "F1 score binary: \n",
      "0.9166340688925194\n",
      "\n",
      "\n",
      "Evaluation of  EO -constrained classifier by race:\n",
      "EVALUATION FOR BLACK GROUP\n",
      "[[1808  546]\n",
      " [ 160 1032]]\n",
      "              precision    recall  f1-score   support\n",
      "\n",
      "           0       0.92      0.77      0.84      2354\n",
      "           1       0.65      0.87      0.75      1192\n",
      "\n",
      "    accuracy                           0.80      3546\n",
      "   macro avg       0.79      0.82      0.79      3546\n",
      "weighted avg       0.83      0.80      0.81      3546\n",
      "\n",
      "TNR=TN/(TN+FP)=  0.7680543755310111\n",
      "TPR=TP/(FP+FN)=  0.8657718120805369\n",
      "FNER=FN/(FN+TP)=  0.1342281879194631\n",
      "FPER=FP/(FP+TN)=  0.23194562446898895\n",
      "F1 score micro: \n",
      "0.8009024252679074\n",
      "F1 score weighted: \n",
      "0.8058838143447783\n",
      "F1 score binary: \n",
      "0.7451263537906138\n",
      "\n",
      "EVALUATION FOR WHITE GROUP\n",
      "[[ 4651  1675]\n",
      " [ 1242 18886]]\n",
      "              precision    recall  f1-score   support\n",
      "\n",
      "           0       0.79      0.74      0.76      6326\n",
      "           1       0.92      0.94      0.93     20128\n",
      "\n",
      "    accuracy                           0.89     26454\n",
      "   macro avg       0.85      0.84      0.84     26454\n",
      "weighted avg       0.89      0.89      0.89     26454\n",
      "\n",
      "TNR=TN/(TN+FP)=  0.7352197281062283\n",
      "TPR=TP/(FP+FN)=  0.9382949125596184\n",
      "FNER=FN/(FN+TP)=  0.061705087440381556\n",
      "FPER=FP/(FP+TN)=  0.26478027189377173\n",
      "F1 score micro: \n",
      "0.8897331216451199\n",
      "F1 score weighted: \n",
      "0.888366092523213\n",
      "F1 score binary: \n",
      "0.9283098626164319\n",
      "\n",
      "\n",
      "Fairness metric evaluation of  EO -constrained classifier\n",
      "Selection Rate Overall:  0.7379666666666667\n",
      "Selection Rate By Group:  sensitive_feature_0\n",
      "0    0.445008\n",
      "1    0.777236\n",
      "Name: selection_rate, dtype: object \n",
      "\n"
     ]
    },
    {
     "name": "stderr",
     "output_type": "stream",
     "text": [
      "The positional argument 'metric' has been replaced by a keyword argument 'metrics'. From version 0.10.0 passing it as a positional argument or as a keyword argument 'metric' will result in an error\n"
     ]
    },
    {
     "name": "stdout",
     "output_type": "stream",
     "text": [
      "DP Difference:  0.3322274965182355\n",
      "-->difference of 0 means that all groups have the same selection rate\n",
      "DP Ratio: 0.5725525902002139\n",
      "-->ratio of 1 means that all groups have the same selection rate \n",
      "\n",
      "EOD Difference:  0.0725231004790815\n",
      "-->difference of 0 means that all groups have the same TN, TN, FP, and FN rates\n",
      "EOD Ratio: 0.8759928479945218\n",
      "-->ratio of 1 means that all groups have the same TN, TN, FP, and FN rates rates \n",
      "\n",
      "The delayed impact of the black group is:  -1.2690355329949239\n",
      "The delayed impact of the white group is:  44.046268995237014\n"
     ]
    }
   ],
   "source": [
    "gs_eo = add_contraint(model, 'EO', 'GS', X_train, y_train, race_train, race_test, X_test, y_test, y_predict, sample_weight_test, False)"
   ]
  },
  {
   "cell_type": "code",
   "execution_count": 22,
   "metadata": {},
   "outputs": [
    {
     "name": "stdout",
     "output_type": "stream",
     "text": [
      "sign  event    group_id\n",
      "+     label=0  0           0.0\n",
      "               1           0.0\n",
      "      label=1  0           0.0\n",
      "               1           0.0\n",
      "-     label=0  0           0.0\n",
      "               1           2.0\n",
      "      label=1  0           0.0\n",
      "               1           0.0\n",
      "Name: 0, dtype: float64\n"
     ]
    }
   ],
   "source": [
    "# We can examine the values of lambda_i chosen for us:\n",
    "lambda_vecs = gs_eo.lambda_vecs_\n",
    "print(lambda_vecs[0])"
   ]
  },
  {
   "cell_type": "code",
   "execution_count": 23,
   "metadata": {},
   "outputs": [
    {
     "data": {
      "image/png": "[encoded data removed]",
      "text/plain": [
       "<Figure size 432x288 with 1 Axes>"
      ]
     },
     "metadata": {
      "needs_background": "light"
     },
     "output_type": "display_data"
    },
    {
     "name": "stdout",
     "output_type": "stream",
     "text": [
      "                               Unmitigated      GS EO\n",
      "Overall selection rate            0.729567   0.737967\n",
      "Demographic parity difference     0.450625   0.332227\n",
      "Demographic parity ratio          0.424364   0.572553\n",
      "------                                               \n",
      "Overall balanced error rate       0.151732   0.160818\n",
      "Balanced error rate difference   0.0170221  0.0198442\n",
      " ------                                              \n",
      "True positive rate difference     0.190934  0.0725231\n",
      "True negative rate difference     0.156889  0.0328346\n",
      "False positive rate difference    0.156889  0.0328346\n",
      "False negative rate difference    0.190934  0.0725231\n",
      "Equalized odds difference         0.190934  0.0725231\n",
      "  ------                                             \n",
      "Overall AUC                       0.933059   0.926258\n",
      "AUC difference                   0.0352201  0.0352513\n"
     ]
    }
   ],
   "source": [
    "grid_search_show(gs_eo, equalized_odds_difference, y_predict, X_test, y_test, race_test, 'EOddsDifference','GS EO', models_dict, 0.3)"
   ]
  },
  {
   "cell_type": "code",
   "execution_count": 24,
   "metadata": {},
   "outputs": [
    {
     "data": {
      "text/plain": [
       "{'Unmitigated': (array([1, 1, 1, ..., 1, 1, 1]),\n",
       "  array([0.985     , 0.98409091, 1.        , ..., 0.88352273, 0.90196078,\n",
       "         0.69662921]))}"
      ]
     },
     "execution_count": 24,
     "metadata": {},
     "output_type": "execute_result"
    }
   ],
   "source": [
    "models_dict.pop('GS EO')\n",
    "models_dict"
   ]
  },
  {
   "cell_type": "markdown",
   "metadata": {},
   "source": [
    "### EOO (True Positive Rate Parity)"
   ]
  },
  {
   "cell_type": "code",
   "execution_count": 25,
   "metadata": {},
   "outputs": [
    {
     "name": "stdout",
     "output_type": "stream",
     "text": [
      "Grid Search Reduction Alg is used here with  TPRP  as the fairness constraint.\n",
      "\n",
      "Evaluation of  TPRP -constrained classifier overall:\n",
      "[[ 6411  2269]\n",
      " [ 1342 19978]]\n",
      "              precision    recall  f1-score   support\n",
      "\n",
      "           0       0.83      0.74      0.78      8680\n",
      "           1       0.90      0.94      0.92     21320\n",
      "\n",
      "    accuracy                           0.88     30000\n",
      "   macro avg       0.86      0.84      0.85     30000\n",
      "weighted avg       0.88      0.88      0.88     30000\n",
      "\n",
      "TNR=TN/(TN+FP)=  0.7385944700460829\n",
      "TPR=TP/(FP+FN)=  0.9370544090056285\n",
      "FNER=FN/(FN+TP)=  0.06294559099437148\n",
      "FPER=FP/(FP+TN)=  0.261405529953917\n",
      "F1 score micro: \n",
      "0.8796333333333334\n",
      "F1 score weighted: \n",
      "0.8775188937426138\n",
      "F1 score binary: \n",
      "0.9171161659053871\n",
      "\n",
      "\n",
      "Evaluation of  TPRP -constrained classifier by race:\n",
      "EVALUATION FOR BLACK GROUP\n",
      "[[1838  516]\n",
      " [ 170 1022]]\n",
      "              precision    recall  f1-score   support\n",
      "\n",
      "           0       0.92      0.78      0.84      2354\n",
      "           1       0.66      0.86      0.75      1192\n",
      "\n",
      "    accuracy                           0.81      3546\n",
      "   macro avg       0.79      0.82      0.80      3546\n",
      "weighted avg       0.83      0.81      0.81      3546\n",
      "\n",
      "TNR=TN/(TN+FP)=  0.7807986406117248\n",
      "TPR=TP/(FP+FN)=  0.8573825503355704\n",
      "FNER=FN/(FN+TP)=  0.14261744966442952\n",
      "FPER=FP/(FP+TN)=  0.21920135938827529\n",
      "F1 score micro: \n",
      "0.8065425831923294\n",
      "F1 score weighted: \n",
      "0.8111293148585688\n",
      "F1 score binary: \n",
      "0.7487179487179488\n",
      "\n",
      "EVALUATION FOR WHITE GROUP\n",
      "[[ 4573  1753]\n",
      " [ 1172 18956]]\n",
      "              precision    recall  f1-score   support\n",
      "\n",
      "           0       0.80      0.72      0.76      6326\n",
      "           1       0.92      0.94      0.93     20128\n",
      "\n",
      "    accuracy                           0.89     26454\n",
      "   macro avg       0.86      0.83      0.84     26454\n",
      "weighted avg       0.89      0.89      0.89     26454\n",
      "\n",
      "TNR=TN/(TN+FP)=  0.7228896617135631\n",
      "TPR=TP/(FP+FN)=  0.9417726550079492\n",
      "FNER=FN/(FN+TP)=  0.05822734499205087\n",
      "FPER=FP/(FP+TN)=  0.27711033828643694\n",
      "F1 score micro: \n",
      "0.8894307099115446\n",
      "F1 score weighted: \n",
      "0.8875563065518303\n",
      "F1 score binary: \n",
      "0.928373778681098\n",
      "\n",
      "\n",
      "Fairness metric evaluation of  TPRP -constrained classifier\n"
     ]
    },
    {
     "name": "stderr",
     "output_type": "stream",
     "text": [
      "The positional argument 'metric' has been replaced by a keyword argument 'metrics'. From version 0.10.0 passing it as a positional argument or as a keyword argument 'metric' will result in an error\n"
     ]
    },
    {
     "name": "stdout",
     "output_type": "stream",
     "text": [
      "Selection Rate Overall:  0.7415666666666667\n",
      "Selection Rate By Group:  sensitive_feature_0\n",
      "0    0.433728\n",
      "1    0.782831\n",
      "Name: selection_rate, dtype: object \n",
      "\n",
      "DP Difference:  0.34910242943822156\n",
      "-->difference of 0 means that all groups have the same selection rate\n",
      "DP Ratio: 0.554051104912902\n",
      "-->ratio of 1 means that all groups have the same selection rate \n",
      "\n",
      "EOD Difference:  0.08439010467237873\n",
      "-->difference of 0 means that all groups have the same TN, TN, FP, and FN rates\n",
      "EOD Ratio: 0.7910255558985906\n",
      "-->ratio of 1 means that all groups have the same TN, TN, FP, and FN rates rates \n",
      "\n",
      "The delayed impact of the black group is:  -0.21150592216582065\n",
      "The delayed impact of the white group is:  43.80244953504196\n"
     ]
    }
   ],
   "source": [
    "gs_tprp = add_contraint(model, 'TPRP', 'GS', X_train, y_train, race_train, race_test, X_test, y_test, y_predict, sample_weight_test, False)"
   ]
  },
  {
   "cell_type": "code",
   "execution_count": 26,
   "metadata": {},
   "outputs": [
    {
     "name": "stdout",
     "output_type": "stream",
     "text": [
      "sign  event    group_id\n",
      "+     label=1  0           0.0\n",
      "               1           0.0\n",
      "-     label=1  0           0.0\n",
      "               1           2.0\n",
      "Name: 0, dtype: float64\n"
     ]
    }
   ],
   "source": [
    "# We can examine the values of lambda_i chosen for us:\n",
    "lambda_vecs = gs_tprp.lambda_vecs_\n",
    "print(lambda_vecs[0])"
   ]
  },
  {
   "cell_type": "code",
   "execution_count": 27,
   "metadata": {},
   "outputs": [
    {
     "data": {
      "image/png": "[encoded data removed]",
      "text/plain": [
       "<Figure size 432x288 with 1 Axes>"
      ]
     },
     "metadata": {
      "needs_background": "light"
     },
     "output_type": "display_data"
    },
    {
     "name": "stdout",
     "output_type": "stream",
     "text": [
      "                               Unmitigated    GS TPRP\n",
      "Overall selection rate            0.729567   0.741567\n",
      "Demographic parity difference     0.450625   0.349102\n",
      "Demographic parity ratio          0.424364   0.554051\n",
      "------                                               \n",
      "Overall balanced error rate       0.151732   0.162176\n",
      "Balanced error rate difference   0.0170221  0.0132406\n",
      " ------                                              \n",
      "True positive rate difference     0.190934  0.0843901\n",
      "True negative rate difference     0.156889   0.057909\n",
      "False positive rate difference    0.156889   0.057909\n",
      "False negative rate difference    0.190934  0.0843901\n",
      "Equalized odds difference         0.190934  0.0843901\n",
      "  ------                                             \n",
      "Overall AUC                       0.933059   0.927991\n",
      "AUC difference                   0.0352201  0.0352615\n"
     ]
    }
   ],
   "source": [
    "grid_search_show(gs_tprp, true_positive_rate_difference, y_predict, X_test, y_test, race_test, 'TPRPDifference','GS TPRP', models_dict, 0.3)"
   ]
  },
  {
   "cell_type": "code",
   "execution_count": 28,
   "metadata": {},
   "outputs": [
    {
     "data": {
      "text/plain": [
       "{'Unmitigated': (array([1, 1, 1, ..., 1, 1, 1]),\n",
       "  array([0.985     , 0.98409091, 1.        , ..., 0.88352273, 0.90196078,\n",
       "         0.69662921]))}"
      ]
     },
     "execution_count": 28,
     "metadata": {},
     "output_type": "execute_result"
    }
   ],
   "source": [
    "models_dict.pop('GS TPRP')\n",
    "models_dict"
   ]
  },
  {
   "cell_type": "markdown",
   "metadata": {},
   "source": [
    "### False Positive Rate Parity"
   ]
  },
  {
   "cell_type": "code",
   "execution_count": 29,
   "metadata": {},
   "outputs": [
    {
     "name": "stdout",
     "output_type": "stream",
     "text": [
      "Grid Search Reduction Alg is used here with  FPRP  as the fairness constraint.\n",
      "\n",
      "Evaluation of  FPRP -constrained classifier overall:\n",
      "[[ 6644  2036]\n",
      " [ 1469 19851]]\n",
      "              precision    recall  f1-score   support\n",
      "\n",
      "           0       0.82      0.77      0.79      8680\n",
      "           1       0.91      0.93      0.92     21320\n",
      "\n",
      "    accuracy                           0.88     30000\n",
      "   macro avg       0.86      0.85      0.86     30000\n",
      "weighted avg       0.88      0.88      0.88     30000\n",
      "\n",
      "TNR=TN/(TN+FP)=  0.7654377880184332\n",
      "TPR=TP/(FP+FN)=  0.9310975609756098\n",
      "FNER=FN/(FN+TP)=  0.06890243902439025\n",
      "FPER=FP/(FP+TN)=  0.23456221198156682\n",
      "F1 score micro: \n",
      "0.8831666666666667\n",
      "F1 score weighted: \n",
      "0.8819608768731572\n",
      "F1 score binary: \n",
      "0.9188788853657973\n",
      "\n",
      "\n",
      "Evaluation of  FPRP -constrained classifier by race:\n",
      "EVALUATION FOR BLACK GROUP\n",
      "[[2071  283]\n",
      " [ 297  895]]\n",
      "              precision    recall  f1-score   support\n",
      "\n",
      "           0       0.87      0.88      0.88      2354\n",
      "           1       0.76      0.75      0.76      1192\n",
      "\n",
      "    accuracy                           0.84      3546\n",
      "   macro avg       0.82      0.82      0.82      3546\n",
      "weighted avg       0.84      0.84      0.84      3546\n",
      "\n",
      "TNR=TN/(TN+FP)=  0.8797790994052677\n",
      "TPR=TP/(FP+FN)=  0.7508389261744967\n",
      "FNER=FN/(FN+TP)=  0.24916107382550334\n",
      "FPER=FP/(FP+TN)=  0.12022090059473237\n",
      "F1 score micro: \n",
      "0.8364354201917654\n",
      "F1 score weighted: \n",
      "0.8361947899037017\n",
      "F1 score binary: \n",
      "0.7552742616033755\n",
      "\n",
      "EVALUATION FOR WHITE GROUP\n",
      "[[ 4573  1753]\n",
      " [ 1172 18956]]\n",
      "              precision    recall  f1-score   support\n",
      "\n",
      "           0       0.80      0.72      0.76      6326\n",
      "           1       0.92      0.94      0.93     20128\n",
      "\n",
      "    accuracy                           0.89     26454\n",
      "   macro avg       0.86      0.83      0.84     26454\n",
      "weighted avg       0.89      0.89      0.89     26454\n",
      "\n",
      "TNR=TN/(TN+FP)=  0.7228896617135631\n",
      "TPR=TP/(FP+FN)=  0.9417726550079492\n",
      "FNER=FN/(FN+TP)=  0.05822734499205087\n",
      "FPER=FP/(FP+TN)=  0.27711033828643694\n",
      "F1 score micro: \n",
      "0.8894307099115446\n",
      "F1 score weighted: \n",
      "0.8875563065518303\n",
      "F1 score binary: \n",
      "0.928373778681098\n",
      "\n",
      "\n",
      "Fairness metric evaluation of  FPRP -constrained classifier\n"
     ]
    },
    {
     "name": "stderr",
     "output_type": "stream",
     "text": [
      "The positional argument 'metric' has been replaced by a keyword argument 'metrics'. From version 0.10.0 passing it as a positional argument or as a keyword argument 'metric' will result in an error\n"
     ]
    },
    {
     "name": "stdout",
     "output_type": "stream",
     "text": [
      "Selection Rate Overall:  0.7295666666666667\n",
      "Selection Rate By Group:  sensitive_feature_0\n",
      "0    0.332205\n",
      "1    0.782831\n",
      "Name: selection_rate, dtype: object \n",
      "\n",
      "DP Difference:  0.45062527207781544\n",
      "-->difference of 0 means that all groups have the same selection rate\n",
      "DP Ratio: 0.42436424030390024\n",
      "-->ratio of 1 means that all groups have the same selection rate \n",
      "\n",
      "EOD Difference:  0.1909337288334525\n",
      "-->difference of 0 means that all groups have the same TN, TN, FP, and FN rates\n",
      "EOD Ratio: 0.4338376595335293\n",
      "-->ratio of 1 means that all groups have the same TN, TN, FP, and FN rates rates \n",
      "\n",
      "The delayed impact of the black group is:  6.958544839255499\n",
      "The delayed impact of the white group is:  43.80244953504196\n"
     ]
    }
   ],
   "source": [
    "gs_fprp = add_contraint(model, 'FPRP', 'GS', X_train, y_train, race_train, race_test, X_test, y_test, y_predict, sample_weight_test, False)"
   ]
  },
  {
   "cell_type": "code",
   "execution_count": 30,
   "metadata": {},
   "outputs": [
    {
     "name": "stdout",
     "output_type": "stream",
     "text": [
      "sign  event    group_id\n",
      "+     label=0  0           0.0\n",
      "               1           0.0\n",
      "-     label=0  0           0.0\n",
      "               1           2.0\n",
      "Name: 0, dtype: float64\n"
     ]
    }
   ],
   "source": [
    "# We can examine the values of lambda_i chosen for us:\n",
    "lambda_vecs = gs_fprp.lambda_vecs_\n",
    "print(lambda_vecs[0])"
   ]
  },
  {
   "cell_type": "code",
   "execution_count": 31,
   "metadata": {},
   "outputs": [],
   "source": [
    "# NOTE: the below models are the same!!"
   ]
  },
  {
   "cell_type": "code",
   "execution_count": 32,
   "metadata": {},
   "outputs": [
    {
     "data": {
      "image/png": "[encoded data removed]",
      "text/plain": [
       "<Figure size 432x288 with 1 Axes>"
      ]
     },
     "metadata": {
      "needs_background": "light"
     },
     "output_type": "display_data"
    },
    {
     "name": "stdout",
     "output_type": "stream",
     "text": [
      "                               Unmitigated    GS FPRP\n",
      "Overall selection rate            0.729567   0.729567\n",
      "Demographic parity difference     0.450625   0.450625\n",
      "Demographic parity ratio          0.424364   0.424364\n",
      "------                                               \n",
      "Overall balanced error rate       0.151732   0.151732\n",
      "Balanced error rate difference   0.0170221  0.0170221\n",
      " ------                                              \n",
      "True positive rate difference     0.190934   0.190934\n",
      "True negative rate difference     0.156889   0.156889\n",
      "False positive rate difference    0.156889   0.156889\n",
      "False negative rate difference    0.190934   0.190934\n",
      "Equalized odds difference         0.190934   0.190934\n",
      "  ------                                             \n",
      "Overall AUC                       0.933059   0.933059\n",
      "AUC difference                   0.0352201  0.0352201\n"
     ]
    }
   ],
   "source": [
    "grid_search_show(gs_fprp, false_positive_rate_difference, y_predict, X_test, y_test, race_test, 'FPRPDifference','GS FPRP', models_dict, 0.4)"
   ]
  },
  {
   "cell_type": "code",
   "execution_count": 33,
   "metadata": {},
   "outputs": [
    {
     "data": {
      "text/plain": [
       "{'Unmitigated': (array([1, 1, 1, ..., 1, 1, 1]),\n",
       "  array([0.985     , 0.98409091, 1.        , ..., 0.88352273, 0.90196078,\n",
       "         0.69662921]))}"
      ]
     },
     "execution_count": 33,
     "metadata": {},
     "output_type": "execute_result"
    }
   ],
   "source": [
    "models_dict.pop('GS FPRP')\n",
    "models_dict"
   ]
  },
  {
   "cell_type": "markdown",
   "metadata": {},
   "source": [
    "### Error Rate Parity"
   ]
  },
  {
   "cell_type": "code",
   "execution_count": 34,
   "metadata": {},
   "outputs": [
    {
     "name": "stdout",
     "output_type": "stream",
     "text": [
      "Grid Search Reduction Alg is used here with  ERP  as the fairness constraint.\n",
      "\n",
      "Evaluation of  ERP -constrained classifier overall:\n",
      "[[ 6644  2036]\n",
      " [ 1469 19851]]\n",
      "              precision    recall  f1-score   support\n",
      "\n",
      "           0       0.82      0.77      0.79      8680\n",
      "           1       0.91      0.93      0.92     21320\n",
      "\n",
      "    accuracy                           0.88     30000\n",
      "   macro avg       0.86      0.85      0.86     30000\n",
      "weighted avg       0.88      0.88      0.88     30000\n",
      "\n",
      "TNR=TN/(TN+FP)=  0.7654377880184332\n",
      "TPR=TP/(FP+FN)=  0.9310975609756098\n",
      "FNER=FN/(FN+TP)=  0.06890243902439025\n",
      "FPER=FP/(FP+TN)=  0.23456221198156682\n",
      "F1 score micro: \n",
      "0.8831666666666667\n",
      "F1 score weighted: \n",
      "0.8819608768731572\n",
      "F1 score binary: \n",
      "0.9188788853657973\n",
      "\n",
      "\n",
      "Evaluation of  ERP -constrained classifier by race:\n",
      "EVALUATION FOR BLACK GROUP\n",
      "[[2071  283]\n",
      " [ 297  895]]\n",
      "              precision    recall  f1-score   support\n",
      "\n",
      "           0       0.87      0.88      0.88      2354\n",
      "           1       0.76      0.75      0.76      1192\n",
      "\n",
      "    accuracy                           0.84      3546\n",
      "   macro avg       0.82      0.82      0.82      3546\n",
      "weighted avg       0.84      0.84      0.84      3546\n",
      "\n",
      "TNR=TN/(TN+FP)=  0.8797790994052677\n",
      "TPR=TP/(FP+FN)=  0.7508389261744967\n",
      "FNER=FN/(FN+TP)=  0.24916107382550334\n",
      "FPER=FP/(FP+TN)=  0.12022090059473237\n",
      "F1 score micro: \n",
      "0.8364354201917654\n",
      "F1 score weighted: \n",
      "0.8361947899037017\n",
      "F1 score binary: \n",
      "0.7552742616033755\n",
      "\n",
      "EVALUATION FOR WHITE GROUP\n",
      "[[ 4573  1753]\n",
      " [ 1172 18956]]\n",
      "              precision    recall  f1-score   support\n",
      "\n",
      "           0       0.80      0.72      0.76      6326\n",
      "           1       0.92      0.94      0.93     20128\n",
      "\n",
      "    accuracy                           0.89     26454\n",
      "   macro avg       0.86      0.83      0.84     26454\n",
      "weighted avg       0.89      0.89      0.89     26454\n",
      "\n",
      "TNR=TN/(TN+FP)=  0.7228896617135631\n",
      "TPR=TP/(FP+FN)=  0.9417726550079492\n",
      "FNER=FN/(FN+TP)=  0.05822734499205087\n",
      "FPER=FP/(FP+TN)=  0.27711033828643694\n",
      "F1 score micro: \n",
      "0.8894307099115446\n",
      "F1 score weighted: \n",
      "0.8875563065518303\n",
      "F1 score binary: \n",
      "0.928373778681098\n",
      "\n",
      "\n",
      "Fairness metric evaluation of  ERP -constrained classifier\n",
      "Selection Rate Overall:  0.7295666666666667\n",
      "Selection Rate By Group:  sensitive_feature_0\n",
      "0    0.332205\n",
      "1    0.782831\n",
      "Name: selection_rate, dtype: object \n",
      "\n"
     ]
    },
    {
     "name": "stderr",
     "output_type": "stream",
     "text": [
      "The positional argument 'metric' has been replaced by a keyword argument 'metrics'. From version 0.10.0 passing it as a positional argument or as a keyword argument 'metric' will result in an error\n"
     ]
    },
    {
     "name": "stdout",
     "output_type": "stream",
     "text": [
      "DP Difference:  0.45062527207781544\n",
      "-->difference of 0 means that all groups have the same selection rate\n",
      "DP Ratio: 0.42436424030390024\n",
      "-->ratio of 1 means that all groups have the same selection rate \n",
      "\n",
      "EOD Difference:  0.1909337288334525\n",
      "-->difference of 0 means that all groups have the same TN, TN, FP, and FN rates\n",
      "EOD Ratio: 0.4338376595335293\n",
      "-->ratio of 1 means that all groups have the same TN, TN, FP, and FN rates rates \n",
      "\n",
      "The delayed impact of the black group is:  6.958544839255499\n",
      "The delayed impact of the white group is:  43.80244953504196\n"
     ]
    }
   ],
   "source": [
    "gs_erp = add_contraint(model, 'ERP', 'GS', X_train, y_train, race_train, race_test, X_test, y_test, y_predict, sample_weight_test, False)"
   ]
  },
  {
   "cell_type": "code",
   "execution_count": 35,
   "metadata": {},
   "outputs": [
    {
     "name": "stdout",
     "output_type": "stream",
     "text": [
      "sign  event  group_id\n",
      "+     all    0           0.0\n",
      "             1           0.0\n",
      "-     all    0           0.0\n",
      "             1           2.0\n",
      "Name: 0, dtype: float64\n"
     ]
    }
   ],
   "source": [
    "# We can examine the values of lambda_i chosen for us:\n",
    "lambda_vecs = gs_erp.lambda_vecs_\n",
    "print(lambda_vecs[0])"
   ]
  },
  {
   "cell_type": "code",
   "execution_count": 36,
   "metadata": {},
   "outputs": [],
   "source": [
    "# Fairlearn doesnt have an erp difference metric for the below\n",
    "#grid_search_show(gs_erp, error_difference, y_predict, X_test, y_test, race_test, 'ERDifference','GS ERP', models_dict, 0.3)\n",
    "#models_dict.pop('GS FPRP')\n",
    "#models_dict"
   ]
  },
  {
   "cell_type": "markdown",
   "metadata": {},
   "source": [
    "### Bounded Group Loss (issue, need to figure out loss parameter)"
   ]
  },
  {
   "cell_type": "code",
   "execution_count": 37,
   "metadata": {},
   "outputs": [],
   "source": [
    "#gs_bgl = add_contraint(model, 'BGL', 'GS', X_train, y_train, race_train, race_test, X_test, y_test, y_predict, sample_weight_test, False)"
   ]
  },
  {
   "cell_type": "code",
   "execution_count": 38,
   "metadata": {},
   "outputs": [],
   "source": [
    "# We can examine the values of lambda_i chosen for us:\n",
    "#lambda_vecs = gs_dp.lambda_vecs_\n",
    "#print(lambda_vecs[0])"
   ]
  }
 ],
 "metadata": {
  "kernelspec": {
   "display_name": "venv",
   "language": "python",
   "name": "venv"
  },
  "language_info": {
   "codemirror_mode": {
    "name": "ipython",
    "version": 3
   },
   "file_extension": ".py",
   "mimetype": "text/x-python",
   "name": "python",
   "nbconvert_exporter": "python",
   "pygments_lexer": "ipython3",
   "version": "3.8.10"
  }
 },
 "nbformat": 4,
 "nbformat_minor": 4
}
