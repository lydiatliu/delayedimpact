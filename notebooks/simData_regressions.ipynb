{
 "cells": [
  {
   "cell_type": "code",
   "execution_count": 8,
   "metadata": {},
   "outputs": [],
   "source": [
    "# For another day...\n",
    "# Maybe try decision tree regression...https://scikit-learn.org/stable/auto_examples/tree/plot_tree_regression.html\n",
    "# Note to self: good ol' stackoverflow link: https://stackoverflow.com/questions/51972637/nonlinear-regression-with-python-whats-a-simple-method-to-fit-this-data-bette"
   ]
  },
  {
   "cell_type": "markdown",
   "metadata": {},
   "source": [
    "# 1. Imports"
   ]
  },
  {
   "cell_type": "code",
   "execution_count": 1,
   "metadata": {},
   "outputs": [],
   "source": [
    "import pandas as pd\n",
    "import numpy as np\n",
    "import matplotlib.pyplot as plt\n",
    "import mglearn \n",
    "\n",
    "from sklearn.model_selection import train_test_split\n",
    "from sklearn.svm import SVR\n",
    "from sklearn.pipeline import make_pipeline\n",
    "from sklearn.preprocessing import StandardScaler\n",
    "from sklearn.model_selection import train_test_split\n",
    "from sklearn.neighbors import KNeighborsRegressor\n",
    "from sklearn.linear_model import LinearRegression"
   ]
  },
  {
   "cell_type": "code",
   "execution_count": 2,
   "metadata": {},
   "outputs": [],
   "source": [
    "# TODO: make data preparation a function!! so I can try different datasets"
   ]
  },
  {
   "cell_type": "markdown",
   "metadata": {},
   "source": [
    "# 2. Extract and show the data \n",
    "#### Remember: Group A includes the black group and Group B includes the white group"
   ]
  },
  {
   "cell_type": "code",
   "execution_count": 3,
   "metadata": {},
   "outputs": [],
   "source": [
    "data_path_A = \"/home/mackenzie/git_repositories/delayedimpact/data/simulated_data/simData_2dec_groupA_black.csv\"\n",
    "data_path_B = \"/home/mackenzie/git_repositories/delayedimpact/data/simulated_data/simData_2dec_groupB_white.csv\"\n",
    "\n",
    "data_A = pd.read_csv(data_path_A)\n",
    "data_B = pd.read_csv(data_path_B)"
   ]
  },
  {
   "cell_type": "code",
   "execution_count": 4,
   "metadata": {},
   "outputs": [
    {
     "name": "stdout",
     "output_type": "stream",
     "text": [
      "Our simulation data for the Black or A Group:\n",
      "      score  repay_probability\n",
      "0    311.90               0.77\n",
      "1    311.90               0.77\n",
      "2    311.90               0.77\n",
      "3    311.90               0.77\n",
      "4    323.81               1.20\n",
      "..      ...                ...\n",
      "115  772.15              95.23\n",
      "116  778.48              95.03\n",
      "117  797.47              96.27\n",
      "118  806.14              96.90\n",
      "119  814.91              97.33\n",
      "\n",
      "[120 rows x 2 columns]\n",
      "Our simulation data for the White or B Group:\n",
      "      score  repay_probability\n",
      "0    300.00               1.46\n",
      "1    311.90               2.05\n",
      "2    311.90               2.05\n",
      "3    323.81               2.64\n",
      "4    323.81               2.64\n",
      "..      ...                ...\n",
      "875  836.84              99.02\n",
      "876  841.23              99.05\n",
      "877  841.23              99.05\n",
      "878  841.23              99.05\n",
      "879  845.61              99.07\n",
      "\n",
      "[880 rows x 2 columns]\n"
     ]
    }
   ],
   "source": [
    "print(\"Our simulation data for the Black or A Group:\")\n",
    "print(data_A)\n",
    "print(\"Our simulation data for the White or B Group:\")\n",
    "print(data_B)"
   ]
  },
  {
   "cell_type": "markdown",
   "metadata": {},
   "source": [
    "# 3. Transform data from pandas df --> numpy array"
   ]
  },
  {
   "cell_type": "code",
   "execution_count": 5,
   "metadata": {},
   "outputs": [],
   "source": [
    "scores_A = data_A['score'].to_numpy()\n",
    "probs_A = data_A['repay_probability'].to_numpy()\n",
    "\n",
    "scores_B = data_B['score'].to_numpy()\n",
    "probs_B = data_B['repay_probability'].to_numpy()"
   ]
  },
  {
   "cell_type": "markdown",
   "metadata": {},
   "source": [
    "# 4. Prepare data for model training/testing"
   ]
  },
  {
   "cell_type": "code",
   "execution_count": 6,
   "metadata": {},
   "outputs": [],
   "source": [
    "def prepare_data(scores, probabilities):\n",
    "    x = scores.reshape(-1,1)\n",
    "    y = probabilities\n",
    "    X_train, X_test, y_train, y_test = train_test_split(x, y, test_size=0.3, random_state=42)\n",
    "    return X_train, X_test, y_train, y_test "
   ]
  },
  {
   "cell_type": "code",
   "execution_count": 7,
   "metadata": {},
   "outputs": [],
   "source": [
    "X_train_A, X_test_A, y_train_A, y_test_A = prepare_data(scores_A, probs_A)\n",
    "X_train_B, X_test_B, y_train_B, y_test_B = prepare_data(scores_B, probs_B)"
   ]
  },
  {
   "cell_type": "markdown",
   "metadata": {},
   "source": [
    "# 5. Non-Linear Regression Methods"
   ]
  },
  {
   "cell_type": "markdown",
   "metadata": {},
   "source": [
    "## 5.1 Helpful functions for below"
   ]
  },
  {
   "cell_type": "code",
   "execution_count": 9,
   "metadata": {},
   "outputs": [],
   "source": [
    "def run_svr(X_train, y_train, X_test, y_test, kernel, C, epsilon):\n",
    "    regr = make_pipeline(StandardScaler(), SVR(kernel=kernel, C=C, epsilon=epsilon))\n",
    "    regr.fit(X_train, y_train)\n",
    "    pred_regr = regr.predict(X_test).reshape(-1,1)\n",
    "    coeff_deter = regr.score(pred_regr, y_test)\n",
    "    print(coeff_deter)\n",
    "    return regr\n",
    "\n",
    "def visualize_svr(regr, X_test, y_test, title):\n",
    "    print('Note: magenta is true, green is predicted')\n",
    "    plt.scatter(X_test, y_test, color = 'magenta')\n",
    "    plt.scatter(X_test, regr.predict(X_test), color = 'green')\n",
    "    plt.title(title)\n",
    "    plt.xlabel('Credit Score')\n",
    "    plt.ylabel('Probability')\n",
    "    plt.show()"
   ]
  },
  {
   "cell_type": "markdown",
   "metadata": {},
   "source": [
    "## 5.1 Support Vector Regression from sklearn"
   ]
  },
  {
   "cell_type": "markdown",
   "metadata": {},
   "source": [
    "Support Vector Regression from sklearn with different kernels <br /> \n",
    "kernel{‘linear’, ‘poly’, ‘rbf’, ‘sigmoid’, ‘precomputed’}, default=’rbf’ <br /> \n",
    "Reference: https://scikit-learn.org/stable/modules/generated/sklearn.svm.SVR.html <br /> \n",
    "Reference: https://medium.com/pursuitnotes/support-vector-regression-in-6-steps-with-python-c4569acd062d <br /> \n",
    "From second ref above: most important SVR parameter is Kernel type  <br /> \n",
    "It can be linear, polynomial or gaussian SVR...non-linear condition...can select polynomial or gaussian"
   ]
  },
  {
   "cell_type": "markdown",
   "metadata": {},
   "source": [
    "### 5.1.1 SVR RBF Kernel"
   ]
  },
  {
   "cell_type": "code",
   "execution_count": 10,
   "metadata": {},
   "outputs": [
    {
     "name": "stdout",
     "output_type": "stream",
     "text": [
      "Run SVR with RBF Kernel for Group A:\n",
      "-0.02559233985925613\n",
      "Note: magenta is true, green is predicted\n"
     ]
    },
    {
     "data": {
      "image/png": "[encoded data removed]",
      "text/plain": [
       "<Figure size 432x288 with 1 Axes>"
      ]
     },
     "metadata": {
      "needs_background": "light"
     },
     "output_type": "display_data"
    },
    {
     "name": "stdout",
     "output_type": "stream",
     "text": [
      "Run SVR with RBF Kernel for Group B:\n",
      "-0.4305603445006858\n",
      "Note: magenta is true, green is predicted\n"
     ]
    },
    {
     "data": {
      "image/png": "[encoded data removed]",
      "text/plain": [
       "<Figure size 432x288 with 1 Axes>"
      ]
     },
     "metadata": {
      "needs_background": "light"
     },
     "output_type": "display_data"
    }
   ],
   "source": [
    "print(\"Run SVR with RBF Kernel for Group A:\")\n",
    "svr_rbf_A = run_svr(X_train_A, y_train_A, X_test_A, y_test_A, kernel='rbf', C=1.0, epsilon=0.3)\n",
    "visualize_svr(svr_rbf_A, X_test_A, y_test_A, 'Test SVR RBF Model for Group A')\n",
    "\n",
    "print(\"Run SVR with RBF Kernel for Group B:\")\n",
    "svr_rbf_B = run_svr(X_train_B, y_train_B, X_test_B, y_test_B, kernel='rbf', C=1.0, epsilon=0.3)\n",
    "visualize_svr(svr_rbf_B, X_test_B, y_test_B, 'Test SVR RBF Model for Group B')"
   ]
  },
  {
   "cell_type": "code",
   "execution_count": 11,
   "metadata": {},
   "outputs": [],
   "source": [
    "# TODO: try other data\n",
    "# TODO: try other epsilon and C values?\n",
    "# try changing epsilon and C/the regularization parameter (how much you want to avoid misclassifying each training example)"
   ]
  },
  {
   "cell_type": "code",
   "execution_count": 12,
   "metadata": {},
   "outputs": [],
   "source": [
    "# RBF Results achieved before on first data\n",
    "\n",
    "# Group B\n",
    "#regr = make_pipeline(StandardScaler(), SVR(C=1.0, epsilon=0.2))  #-->coeff: -0.36296498276294864\n",
    "#regr = make_pipeline(StandardScaler(), SVR(C=1.0, epsilon=0.3))  #-->coeff: -0.3652976042122389\n",
    "#regr = make_pipeline(StandardScaler(), SVR(C=0.5, epsilon=0.3))  #-->coeff: -0.23835375001776704\n",
    "# BEST COEFF OF DETER BELOW\n",
    "#regr = make_pipeline(StandardScaler(), SVR(C=0.1, epsilon=0.3))  #-->coeff: -0.042382992971224054\n",
    "\n",
    "# Group A\n",
    "#regr = make_pipeline(StandardScaler(), SVR(C=1.0, epsilon=0.2)) #-->coeff_deter: -0.012706644468506667\n",
    "#regr = make_pipeline(StandardScaler(), SVR(C=0.1, epsilon=0.3))  #-->coeff: -0.2612896481538065\n",
    "#regr = make_pipeline(StandardScaler(), SVR(C=0.5, epsilon=0.3))  #-->coeff: -0.1093816755100896\n",
    "# BEST COEFF OF DETER BELOW\n",
    "#regr = make_pipeline(StandardScaler(), SVR(C=1.0, epsilon=0.3))  #-->coeff: -0.012641555893034617"
   ]
  },
  {
   "cell_type": "markdown",
   "metadata": {},
   "source": [
    "### 5.1.2 SVR Poly Kernel"
   ]
  },
  {
   "cell_type": "code",
   "execution_count": 13,
   "metadata": {},
   "outputs": [
    {
     "name": "stdout",
     "output_type": "stream",
     "text": [
      "Run SVR with Poly Kernel for Group A:\n",
      "-182.8628496168083\n",
      "Note: magenta is true, green is predicted\n"
     ]
    },
    {
     "data": {
      "image/png": "[encoded data removed]",
      "text/plain": [
       "<Figure size 432x288 with 1 Axes>"
      ]
     },
     "metadata": {
      "needs_background": "light"
     },
     "output_type": "display_data"
    },
    {
     "name": "stdout",
     "output_type": "stream",
     "text": [
      "Run SVR with Poly Kernel for Group B:\n",
      "-403.01304631557355\n",
      "Note: magenta is true, green is predicted\n"
     ]
    },
    {
     "data": {
      "image/png": "[encoded data removed]",
      "text/plain": [
       "<Figure size 432x288 with 1 Axes>"
      ]
     },
     "metadata": {
      "needs_background": "light"
     },
     "output_type": "display_data"
    }
   ],
   "source": [
    "print(\"Run SVR with Poly Kernel for Group A:\")\n",
    "svr_poly_A = run_svr(X_train_A, y_train_A, X_test_A, y_test_A, kernel='poly', C=1.0, epsilon=0.3)\n",
    "visualize_svr(svr_poly_A, X_test_A, y_test_A, 'Test SVR Poly Model for Group A')\n",
    "\n",
    "print(\"Run SVR with Poly Kernel for Group B:\")\n",
    "svr_poly_B = run_svr(X_train_B, y_train_B, X_test_B, y_test_B, kernel='poly', C=1.0, epsilon=0.3)\n",
    "visualize_svr(svr_poly_B, X_test_B, y_test_B, 'Test SVR Poly Model for Group B')"
   ]
  },
  {
   "cell_type": "code",
   "execution_count": 14,
   "metadata": {},
   "outputs": [],
   "source": [
    "# TODO: try other data\n",
    "# TODO: try other epsilon and C values?\n",
    "# try changing epsilon and C/the regularization parameter (how much you want to avoid misclassifying each training example)"
   ]
  },
  {
   "cell_type": "code",
   "execution_count": 15,
   "metadata": {},
   "outputs": [],
   "source": [
    "# Poly results achieved before on first data\n",
    "\n",
    "# Group B\n",
    "#regr = make_pipeline(StandardScaler(), SVR(kernel='poly', C=1.0, epsilon=0.2)) #-->coeff: -536.2309036564716\n",
    "#regr = make_pipeline(StandardScaler(), SVR(kernel='poly', C=1.0, epsilon=0.3)) #-->coeff: -559.4341930966343\n",
    "#regr = make_pipeline(StandardScaler(), SVR(kernel='poly', C=0.5, epsilon=0.3))  #-->coeff: -474.5324357435279\n",
    "# BEST COEFF OF DETER BELOW\n",
    "#regr = make_pipeline(StandardScaler(), SVR(kernel='poly', C=0.1, epsilon=0.3))  #-->coeff: -467.13337490366484\n",
    "\n",
    "# Group A\n",
    "#regr = make_pipeline(StandardScaler(), SVR(kernel='poly', C=1.0, epsilon=0.2)) #-->coeff: -156.2427009940815 \n",
    "#regr = make_pipeline(StandardScaler(), SVR(kernel='poly', C=1.0, epsilon=0.3)) #-->coeff: -155.97656188927664\n",
    "#regr = make_pipeline(StandardScaler(), SVR(kernel='poly', C=0.5, epsilon=0.3))  #-->coeff: -226.4586785310316\n",
    "# BEST COEFF OF DETER BELOW\n",
    "#regr = make_pipeline(StandardScaler(), SVR(kernel='poly', C=0.1, epsilon=0.3))  #-->coeff: -128.6310324010967"
   ]
  },
  {
   "cell_type": "markdown",
   "metadata": {},
   "source": [
    "### 5.1.3 SVR Sigmoid Kernel"
   ]
  },
  {
   "cell_type": "code",
   "execution_count": 16,
   "metadata": {},
   "outputs": [
    {
     "name": "stdout",
     "output_type": "stream",
     "text": [
      "Run SVR with Sigmoid Kernel for Group A:\n",
      "-1.5226086119613211\n",
      "Note: magenta is true, green is predicted\n"
     ]
    },
    {
     "data": {
      "image/png": "[encoded data removed]",
      "text/plain": [
       "<Figure size 432x288 with 1 Axes>"
      ]
     },
     "metadata": {
      "needs_background": "light"
     },
     "output_type": "display_data"
    },
    {
     "name": "stdout",
     "output_type": "stream",
     "text": [
      "Run SVR with Sigmoid Kernel for Group B:\n",
      "-2.085622576775305\n",
      "Note: magenta is true, green is predicted\n"
     ]
    },
    {
     "data": {
      "image/png": "[encoded data removed]",
      "text/plain": [
       "<Figure size 432x288 with 1 Axes>"
      ]
     },
     "metadata": {
      "needs_background": "light"
     },
     "output_type": "display_data"
    }
   ],
   "source": [
    "print(\"Run SVR with Sigmoid Kernel for Group A:\")\n",
    "svr_sig_A = run_svr(X_train_A, y_train_A, X_test_A, y_test_A, kernel='sigmoid', C=1.0, epsilon=0.3)\n",
    "visualize_svr(svr_sig_A, X_test_A, y_test_A, 'Test SVR Sigmoid Model for Group A')\n",
    "\n",
    "print(\"Run SVR with Sigmoid Kernel for Group B:\")\n",
    "svr_sig_B = run_svr(X_train_B, y_train_B, X_test_B, y_test_B, kernel='sigmoid', C=1.0, epsilon=0.3)\n",
    "visualize_svr(svr_sig_B, X_test_B, y_test_B, 'Test SVR Sigmoid Model for Group B')"
   ]
  },
  {
   "cell_type": "code",
   "execution_count": null,
   "metadata": {},
   "outputs": [],
   "source": [
    "# Sigmoid SVR results achieved below on first data\n",
    "\n",
    "# below are for Group B\n",
    "#regr = make_pipeline(StandardScaler(), SVR(kernel='sigmoid', C=1.0, epsilon=0.2)) #-->coeff: -0.41868297133015675\n",
    "#regr = make_pipeline(StandardScaler(), SVR(kernel='sigmoid', C=1.0, epsilon=0.3)) #-->coeff: -0.41868297133015675\n",
    "#regr = make_pipeline(StandardScaler(), SVR(kernel='sigmoid', C=0.1, epsilon=0.3)) #-->coeff: -0.41868297133015675\n",
    "#regr = make_pipeline(StandardScaler(), SVR(kernel='sigmoid', C=0.5, epsilon=0.3))  #-->coeff: -0.41868297133015675\n",
    "\n",
    "# below are for Group A\n",
    "#regr = make_pipeline(StandardScaler(), SVR(kernel='sigmoid', C=1.0, epsilon=0.2)) #-->coeff: -1.6361109468366029\n",
    "#regr = make_pipeline(StandardScaler(), SVR(kernel='sigmoid', C=1.0, epsilon=0.3)) #-->coeff: -1.6434446411199568\n",
    "#regr = make_pipeline(StandardScaler(), SVR(kernel='sigmoid', C=0.5, epsilon=0.3))  #-->coeff: -1.2341282202386221\n",
    "# BEST COEFF OF DETER BELOW\n",
    "#regr = make_pipeline(StandardScaler(), SVR(kernel='sigmoid', C=0.1, epsilon=0.3))  #-->coeff: -0.5210342120547167"
   ]
  },
  {
   "cell_type": "markdown",
   "metadata": {},
   "source": [
    "## 5.2 KNeighbors Regressor from Scikit-Learn"
   ]
  },
  {
   "cell_type": "code",
   "execution_count": null,
   "metadata": {},
   "outputs": [],
   "source": [
    "# TODO: adapt below code with new configs above"
   ]
  },
  {
   "cell_type": "code",
   "execution_count": null,
   "metadata": {},
   "outputs": [],
   "source": [
    "#! pip3 install mglearn"
   ]
  },
  {
   "cell_type": "code",
   "execution_count": null,
   "metadata": {},
   "outputs": [],
   "source": [
    "# Try KNeighbors Regressor\n",
    "# Reference: https://scikit-learn.org/stable/modules/generated/sklearn.neighbors.KNeighborsRegressor.html\n",
    "# Reference for algorithms param: https://scikit-learn.org/stable/modules/neighbors.html#nearest-neighbor-algorithms\n",
    "# Reference for metric param: https://scikit-learn.org/stable/modules/generated/sklearn.neighbors.DistanceMetric.html#sklearn.neighbors.DistanceMetric\n",
    "\n",
    "# CHANGE GROUPS BELOW\n",
    "x = samples_B.reshape(-1,1)\n",
    "y = samples_B_probs\n",
    "#print(x)\n",
    "#print(y)\n",
    "X_train, X_test, y_train, y_test = train_test_split(x, y, test_size=0.3, random_state=42)\n",
    "\n",
    "neigh = KNeighborsRegressor(n_neighbors=20)\n",
    "neigh.fit(X_train, y_train)\n",
    "\n",
    "y_pred = neigh.predict(X_test).reshape(-1,1)\n",
    "print('The coefficient of determination: ', neigh.score(y_pred, y_test))"
   ]
  },
  {
   "cell_type": "code",
   "execution_count": null,
   "metadata": {},
   "outputs": [],
   "source": [
    "# Reference: https://medium.com/analytics-vidhya/k-neighbors-regression-analysis-in-python-61532d56d8e4\n",
    "# ^ Made some changes to above\n",
    "\n",
    "fig, axes = plt.subplots(1, 3, figsize=(15, 4))\n",
    "#line = np.linspace(-3, 3, 1000).reshape(-1, 1)\n",
    "for n_neighbors, ax in zip([1, 3, 9], axes):\n",
    "    # make predictions using 1, 3, or 9 neighbors\n",
    "    reg = KNeighborsRegressor(n_neighbors=n_neighbors)\n",
    "    reg.fit(X_train, y_train)\n",
    "    y_pred = reg.predict(X_test).reshape(-1,1)\n",
    "    print('The coefficient of determination: ', reg.score(y_pred, y_test))\n",
    "    #ax.plot(line, reg.predict(line))\n",
    "    ax.plot(X_test, reg.predict(X_test), color = 'green')\n",
    "    ax.plot(X_train, y_train, '^', c=mglearn.cm2(0),   \n",
    "             markersize=8)\n",
    "    ax.plot(X_test, y_test, 'v', c=mglearn.cm2(1), markersize=8)\n",
    "    ax.set_title('{} neighbors\\n test score: {:.2f}'.format(n_neighbors,    \n",
    "              reg.score(y_pred, y_test)))\n",
    "    ax.set_xlabel(\"Credit Score\")\n",
    "    ax.set_ylabel(\"Repay Probability\")\n",
    "axes[0].legend([\"Model predictions\", \"Training data/target\",\"Test data/target\"], loc=\"best\")"
   ]
  },
  {
   "cell_type": "markdown",
   "metadata": {},
   "source": [
    "# 6. Linear Regression"
   ]
  },
  {
   "cell_type": "code",
   "execution_count": null,
   "metadata": {},
   "outputs": [],
   "source": [
    "# TODO: take the below and try with new data??\n",
    "\n",
    "# NOTE: below might not work because data isn't exactly linear...\n",
    "\n",
    "# Note: much of the linear regression code is adapted from the below link\n",
    "# Reference: https://realpython.com/linear-regression-in-python/\n",
    "\n",
    "'''\n",
    "def run_linear_regression(x_arr, y_arr):\n",
    "    # data prep\n",
    "    x = x_arr.reshape(-1,1)\n",
    "    y = y_arr\n",
    "    x_train, x_test, y_train, y_test = train_test_split(x, y, test_size=0.30, random_state=42)\n",
    "    \n",
    "    # train model\n",
    "    model = LinearRegression().fit(x_train, y_train)\n",
    "\n",
    "    # analyze regression model on training set\n",
    "    # NOTE: the intercept, b0 value or coefficient, tells us what the regression predicts if the x is zero\n",
    "    #       the slope, b1 value, tells us how the predicted response rises/increases when x is increased by 1\n",
    "    # QUESTION: not sure if the input for score here should be our train and test x and y values? or our test values?\n",
    "    r_sq = model.score(x_train, y_train)\n",
    "    print('coefficient of determination:', r_sq)\n",
    "    print('intercept:', model.intercept_)\n",
    "    print('slope/coef:', model.coef_)\n",
    "    \n",
    "    # get predictions\n",
    "    y_pred = model.predict(x_test)\n",
    "    print('predicted response:', y_pred, sep='\\n')\n",
    "    \n",
    "    return model, y_test, y_pred\n",
    "\n",
    "# NOTE: this function came from the Naomi Fridman's answer here \n",
    "# Reference: https://stackoverflow.com/questions/26319259/how-to-get-a-regression-summary-in-python-scikit-like-r-does\n",
    "from sklearn import metrics\n",
    "\n",
    "def regression_results(y_true, y_pred):\n",
    "\n",
    "    # Regression metrics\n",
    "    explained_variance=metrics.explained_variance_score(y_true, y_pred)\n",
    "    mean_absolute_error=metrics.mean_absolute_error(y_true, y_pred) \n",
    "    mse=metrics.mean_squared_error(y_true, y_pred) \n",
    "    mean_squared_log_error=metrics.mean_squared_log_error(y_true, y_pred)\n",
    "    median_absolute_error=metrics.median_absolute_error(y_true, y_pred)\n",
    "    r2=metrics.r2_score(y_true, y_pred)\n",
    "\n",
    "    print('explained_variance: ', round(explained_variance,4))    \n",
    "    print('mean_squared_log_error: ', round(mean_squared_log_error,4))\n",
    "    print('r2: ', round(r2,4))\n",
    "    print('MAE: ', round(mean_absolute_error,4))\n",
    "    print('MSE: ', round(mse,4))\n",
    "    print('RMSE: ', round(np.sqrt(mse),4))\n",
    "\n",
    "# Run linear regression on Group A -- Black\n",
    "\n",
    "model_A, y_test_A, y_pred_A = run_linear_regression(samples_A, samples_A_probs)\n",
    "\n",
    "# Analysis on Group A linear regression predictions\n",
    "# NOTE: can't get regression results because some predicted values are negative...\n",
    "regression_results(y_test_A, y_pred_A)\n",
    "\n",
    "# Run linear regression on Group B -- White\n",
    "\n",
    "model_B, y_test_B, y_pred_B = run_linear_regression(samples_B, samples_B_probs)\n",
    "\n",
    "# Analysis on Group B linear regression predictions\n",
    "# NOTE: can't get regression results because some predicted values are negative...\n",
    "regression_results(y_test_B, y_pred_B)\n",
    "'''"
   ]
  }
 ],
 "metadata": {
  "kernelspec": {
   "display_name": "venv",
   "language": "python",
   "name": "venv"
  },
  "language_info": {
   "codemirror_mode": {
    "name": "ipython",
    "version": 3
   },
   "file_extension": ".py",
   "mimetype": "text/x-python",
   "name": "python",
   "nbconvert_exporter": "python",
   "pygments_lexer": "ipython3",
   "version": "3.8.5"
  }
 },
 "nbformat": 4,
 "nbformat_minor": 4
}
