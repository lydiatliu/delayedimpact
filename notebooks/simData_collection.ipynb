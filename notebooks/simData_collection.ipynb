{
 "cells": [
  {
   "cell_type": "markdown",
   "metadata": {},
   "source": [
    "# 1. Load and parse the data\n",
    "#### Code is primarily from Lydia's FICO-figures.ipynb "
   ]
  },
  {
   "cell_type": "code",
   "execution_count": 1,
   "metadata": {},
   "outputs": [
    {
     "name": "stdout",
     "output_type": "stream",
     "text": [
      "Populating the interactive namespace from numpy and matplotlib\n"
     ]
    }
   ],
   "source": [
    "%load_ext autoreload\n",
    "%autoreload 2\n",
    "%pylab inline"
   ]
  },
  {
   "cell_type": "code",
   "execution_count": 2,
   "metadata": {},
   "outputs": [],
   "source": [
    "import numpy as np\n",
    "import matplotlib.pyplot as plt\n",
    "import seaborn as sns\n",
    "\n",
    "# import all of our files\n",
    "import sys\n",
    "sys.path.append('../')\n",
    "import fico\n",
    "import distribution_to_loans_outcomes as dlo\n",
    "\n",
    "# imports for my own code\n",
    "import pandas as pd\n",
    "from random import choices\n",
    "\n",
    "DATA_DIR = '../data/'"
   ]
  },
  {
   "cell_type": "code",
   "execution_count": 3,
   "metadata": {},
   "outputs": [],
   "source": [
    "# set plotting parameters\n",
    "sns.set_context(\"talk\")\n",
    "sns.set_style(\"white\")\n",
    "\n",
    "# this needs to be here so we can edit figures later\n",
    "plt.rcParams['pdf.fonttype'] = 42"
   ]
  },
  {
   "cell_type": "code",
   "execution_count": 4,
   "metadata": {},
   "outputs": [],
   "source": [
    "all_cdfs, performance, totals = fico.get_FICO_data(data_dir=DATA_DIR);"
   ]
  },
  {
   "cell_type": "code",
   "execution_count": 5,
   "metadata": {},
   "outputs": [],
   "source": [
    "cdfs = all_cdfs[[\"White\",\"Black\"]]\n",
    "\n",
    "# B is White\n",
    "# A is Black\n",
    "\n",
    "cdf_B = cdfs['White'].values\n",
    "cdf_A = cdfs['Black'].values\n",
    "\n",
    "repay_B = performance['White']\n",
    "repay_A = performance['Black']\n",
    "\n",
    "scores = cdfs.index\n",
    "scores_list = scores.tolist()\n",
    "scores_repay = cdfs.index"
   ]
  },
  {
   "cell_type": "code",
   "execution_count": 6,
   "metadata": {},
   "outputs": [],
   "source": [
    "# to populate group distributions\n",
    "def get_pmf(cdf):\n",
    "    pis = np.zeros(cdf.size)\n",
    "    pis[0] = cdf[0]\n",
    "    for score in range(cdf.size-1):\n",
    "        pis[score+1] = cdf[score+1] - cdf[score]\n",
    "    return pis"
   ]
  },
  {
   "cell_type": "code",
   "execution_count": 7,
   "metadata": {},
   "outputs": [
    {
     "name": "stdout",
     "output_type": "stream",
     "text": [
      "[0.12066905 0.87933095]\n"
     ]
    }
   ],
   "source": [
    "# basic parameters\n",
    "N_scores = cdf_B.size\n",
    "N_groups = 2\n",
    "\n",
    "# get probability mass functions of each group\n",
    "pi_A = get_pmf(cdf_A)\n",
    "pi_B = get_pmf(cdf_B)\n",
    "pis = np.vstack([pi_A, pi_B])\n",
    "\n",
    "# demographic statistics \n",
    "group_ratio = np.array((totals[\"Black\"], totals[\"White\"]))\n",
    "group_size_ratio = group_ratio/group_ratio.sum()\n",
    "print(group_size_ratio)"
   ]
  },
  {
   "cell_type": "code",
   "execution_count": 8,
   "metadata": {},
   "outputs": [],
   "source": [
    "# to get loan repay probabilities for a given score\n",
    "loan_repaid_probs = [lambda i: repay_A[scores[scores.get_loc(i,method='nearest')]], \n",
    "                     lambda i: repay_B[scores[scores.get_loc(i,method='nearest')]]]\n",
    "\n",
    "# unpacking repay probability as a function of score\n",
    "loan_repay_fns = [lambda x: loan_repaid_prob(x) for\n",
    "                      loan_repaid_prob in loan_repaid_probs]"
   ]
  },
  {
   "cell_type": "markdown",
   "metadata": {},
   "source": [
    "# 2. Simulate the data grabbed above"
   ]
  },
  {
   "cell_type": "code",
   "execution_count": 9,
   "metadata": {},
   "outputs": [],
   "source": [
    "# TODO: make the below a method in itself in a pyfile and input parameters into a main or function call to run it\n",
    "# relevant params: round_num, sample sizes/ratio, name of csvs, order of magnitude"
   ]
  },
  {
   "cell_type": "code",
   "execution_count": 10,
   "metadata": {},
   "outputs": [],
   "source": [
    "# Round function described below used, round(float_num, num_of_decimals)\n",
    "# Reference: https://www.guru99.com/round-function-python.html\n",
    "\n",
    "def get_repay_probabilities(samples, repay_probs, round_num):\n",
    "    sample_probs = []\n",
    "    \n",
    "    for index, score in enumerate(samples):\n",
    "        prob_index = np.where(scores_arr == score)\n",
    "        if round_num == 0:\n",
    "            repay_prob = repay_probs[prob_index[0][0]]\n",
    "        elif round_num == 1:\n",
    "            repay_prob = round(repay_probs[prob_index[0][0]], 2)\n",
    "        elif round_num == 2:\n",
    "            repay_prob = round(repay_probs[prob_index[0][0]], 0)\n",
    "        else:\n",
    "            print('ISSUE: enter a valid round_num value (0,1,2)')\n",
    "        sample_probs.insert(index, repay_prob)\n",
    "    return sample_probs\n",
    "\n",
    "def get_scores(scores, round_num):  # takes in a list and returns a list\n",
    "    if round_num == 0:  # don't change anything\n",
    "        return scores\n",
    "    updated_scores = []\n",
    "    for index, score in enumerate(scores):\n",
    "        if round_num == 1:  # round to the hundreth decimal\n",
    "            rounded_score = round(score, 2) \n",
    "        elif round_num == 2:  # round to the nearest integer\n",
    "            rounded_score = round(score, 0)\n",
    "        updated_scores.append(rounded_score)\n",
    "    return updated_scores"
   ]
  },
  {
   "cell_type": "markdown",
   "metadata": {},
   "source": [
    "## 2.1 Convert the data in format needed\n",
    "The parameter round_num designates if we will round the credit scores and/or probabilities to a certain degree.<br> \n",
    "round_num = {0,1,2} <br> \n",
    "* 0: don't round at all (we don't recommend this) <br>\n",
    "* 1: round to the hundreth decimal <br>\n",
    "* 2: round to the nearest integer (no decimals left)"
   ]
  },
  {
   "cell_type": "code",
   "execution_count": 11,
   "metadata": {},
   "outputs": [
    {
     "name": "stdout",
     "output_type": "stream",
     "text": [
      "[300. 312. 324. 336. 348. 355. 361. 367. 373. 379. 385. 390. 396. 402.\n",
      " 406. 411. 416. 420. 425. 430. 434. 439. 444. 448. 452. 456. 460. 464.\n",
      " 468. 472. 475. 479. 483. 487. 491. 495. 498. 502. 505. 508. 511. 515.\n",
      " 518. 521. 524. 527. 530. 534. 537. 540. 543. 546. 549. 552. 555. 557.\n",
      " 560. 562. 565. 568. 570. 573. 576. 578. 581. 583. 586. 589. 591. 594.\n",
      " 596. 599. 601. 603. 605. 608. 610. 612. 614. 616. 618. 620. 622. 624.\n",
      " 626. 628. 630. 632. 635. 637. 639. 641. 643. 645. 647. 649. 651. 653.\n",
      " 655. 657. 658. 660. 662. 664. 666. 667. 669. 671. 673. 675. 676. 678.\n",
      " 680. 682. 684. 686. 687. 689. 691. 693. 695. 696. 698. 700. 701. 703.\n",
      " 704. 706. 707. 709. 710. 712. 713. 715. 716. 718. 719. 721. 722. 724.\n",
      " 725. 726. 728. 729. 731. 734. 735. 737. 738. 740. 741. 743. 744. 746.\n",
      " 749. 750. 752. 753. 755. 756. 758. 759. 761. 763. 764. 766. 767. 769.\n",
      " 771. 772. 774. 775. 777. 778. 780. 782. 783. 785. 786. 788. 790. 791.\n",
      " 793. 796. 797. 799. 802. 806. 811. 815. 819. 824. 828. 832. 837. 841.\n",
      " 846. 850.]\n"
     ]
    }
   ],
   "source": [
    "# Make repay probabilities into percentages from decimals\n",
    "# NOTE: A is Black, B is White\n",
    "\n",
    "scores_arr = np.asarray(get_scores(scores=scores_list, round_num=2)) # we recommend 1 or 2 for round_num\n",
    "print(scores_arr)\n",
    "repay_A_arr = pd.Series.to_numpy(repay_A)*100\n",
    "repay_B_arr = pd.Series.to_numpy(repay_B)*100"
   ]
  },
  {
   "cell_type": "markdown",
   "metadata": {},
   "source": [
    "## 2.2 Sample from the data \n",
    "The group size ratio is [0.12066905, 0.87933095]. We need the samples to follow that ratio."
   ]
  },
  {
   "cell_type": "code",
   "execution_count": 12,
   "metadata": {},
   "outputs": [],
   "source": [
    "# Sample data according to the pmf\n",
    "# Reference: https://www.w3schools.com/python/ref_random_choices.asp\n",
    "order_of_magnitude = 2\n",
    "\n",
    "num_A_samples = 120 * order_of_magnitude\n",
    "num_B_samples = 880 * order_of_magnitude\n",
    "\n",
    "samples_A = np.asarray(sorted(choices(scores_arr, pi_A, k=num_A_samples)))\n",
    "samples_B = np.asarray(sorted(choices(scores_arr, pi_B, k=num_B_samples)))"
   ]
  },
  {
   "cell_type": "markdown",
   "metadata": {},
   "source": [
    "## 2.3 Combine the scores and probabilities and convert data types\n",
    "We use round_num with a value of 1 so that we have two decimals for the probabilities. We think rounding to the nearest integer would lead to us losing important data. "
   ]
  },
  {
   "cell_type": "code",
   "execution_count": 13,
   "metadata": {},
   "outputs": [],
   "source": [
    "# Calculate samples groups' probabilities and make arrays for race\n",
    "# A == Black == 0 (later defined as 0.0 when converting to pandas df)\n",
    "# B == White == 1 (later defined as 1.0 when converting to pandas df)\n",
    "\n",
    "samples_A_probs = np.asarray(get_repay_probabilities(samples=samples_A, repay_probs=repay_A_arr, round_num=1))\n",
    "samples_A_race = np.asarray([0] * num_A_samples)\n",
    "\n",
    "samples_B_probs = np.asarray(get_repay_probabilities(samples=samples_B, repay_probs=repay_B_arr, round_num=1))\n",
    "samples_B_race = np.asarray([1] * num_B_samples)\n",
    "\n",
    "# Get data in dict form with score and repay prob\n",
    "data_A_dict = {'score': samples_A, 'repay_probability': samples_A_probs} #,'race': samples_A_race}\n",
    "data_B_dict = {'score': samples_B, 'repay_probability': samples_B_probs} #,'race': samples_B_race}\n",
    "\n",
    "# Get data in dict form with score, repay prob, and race\n",
    "data_A_dict = {'score': samples_A, 'repay_probability': samples_A_probs ,'race': samples_A_race}\n",
    "data_B_dict = {'score': samples_B, 'repay_probability': samples_B_probs,'race': samples_B_race}\n",
    "\n",
    "# Convert from dict to df\n",
    "data_A_df = pd.DataFrame(data=data_A_dict, dtype=np.float64)\n",
    "data_B_df = pd.DataFrame(data=data_B_dict, dtype=np.float64)\n",
    "\n",
    "# Combine all of the data together and shuffle\n",
    "# NOTE: not currently being used but could be useful at a later time\n",
    "data_all_df = pd.concat([data_A_df, data_B_df], ignore_index=True)\n",
    "#print(data_all_df)\n",
    "data_all_df_shuffled = data_all_df.sample(frac=1).reset_index(drop=True)\n",
    "#print(data_all_df_shuffled)"
   ]
  },
  {
   "cell_type": "code",
   "execution_count": 14,
   "metadata": {},
   "outputs": [
    {
     "name": "stdout",
     "output_type": "stream",
     "text": [
      "      score  repay_probability  race\n",
      "0     479.0              20.74   1.0\n",
      "1     722.0              96.99   1.0\n",
      "2     713.0              96.44   1.0\n",
      "3     811.0              98.85   1.0\n",
      "4     396.0               8.55   1.0\n",
      "...     ...                ...   ...\n",
      "1995  524.0              34.32   1.0\n",
      "1996  777.0              98.46   1.0\n",
      "1997  719.0              96.80   1.0\n",
      "1998  767.0              98.39   1.0\n",
      "1999  560.0              42.45   0.0\n",
      "\n",
      "[2000 rows x 3 columns]\n"
     ]
    }
   ],
   "source": [
    "# Add Final Column to dataframe, repay indices\n",
    "# repay: 1.0, default: 0.0\n",
    "\n",
    "# Create a random num and then have that decide given a prob if the person gets a loan or not \n",
    "# (e.g. If 80% prob, then calculate a random num, then if that is below they will get loan, if above, then they don't) \n",
    "\n",
    "print(data_all_df_shuffled)\n",
    "\n",
    "probabilities = data_all_df_shuffled['repay_probability']\n",
    "repay_indices = []\n",
    "\n",
    "for index, prob in enumerate(probabilities):\n",
    "    # Question: should the randnum go from 0 to 100 or 0 to 99, I think the latter?\n",
    "    rand_num = float(random.randint(0,99))\n",
    "    if rand_num > prob:  # default\n",
    "        repay_indices.append(0)\n",
    "    else:\n",
    "        repay_indices.append(1)  # repay\n",
    "\n",
    "data_all_df_shuffled['repay_indices'] = np.array(repay_indices)"
   ]
  },
  {
   "cell_type": "markdown",
   "metadata": {},
   "source": [
    "## 2.4 Save the pandas dataframes to CSVs"
   ]
  },
  {
   "cell_type": "code",
   "execution_count": 15,
   "metadata": {},
   "outputs": [],
   "source": [
    "data_all_df_shuffled.to_csv(index=False, path_or_buf='simData_oom2.csv')\n",
    "\n",
    "# To save the data separately by race\n",
    "#data_A_df.to_csv(index=False, path_or_buf='simData_2decProbs_0decScores_groupA_black.csv')\n",
    "#data_B_df.to_csv(index=False, path_or_buf='simData_2decProbs_0decScores_groupB_white.csv')"
   ]
  },
  {
   "cell_type": "markdown",
   "metadata": {},
   "source": [
    "## 2.5 Inspect the min/max values of the data"
   ]
  },
  {
   "cell_type": "code",
   "execution_count": 16,
   "metadata": {},
   "outputs": [],
   "source": [
    "# TODO: make a function for printing the min/max values of the respective groups for score and probability"
   ]
  },
  {
   "cell_type": "code",
   "execution_count": 17,
   "metadata": {},
   "outputs": [
    {
     "name": "stdout",
     "output_type": "stream",
     "text": [
      "the range of the Group A (Black) repay probabilities is:  97.2\n",
      "the min value is:  0.77\n",
      "the max value is:  97.97\n"
     ]
    }
   ],
   "source": [
    "max_val_A = np.max(samples_A_probs)\n",
    "min_val_A = np.min(samples_A_probs)\n",
    "print('the range of the Group A (Black) repay probabilities is: ', max_val_A-min_val_A)\n",
    "print('the min value is: ', min_val_A)\n",
    "print('the max value is: ', max_val_A)"
   ]
  },
  {
   "cell_type": "code",
   "execution_count": 18,
   "metadata": {},
   "outputs": [
    {
     "name": "stdout",
     "output_type": "stream",
     "text": [
      "the range of the Group B (White) repay probabilities is:  97.02\n",
      "the min value is:  2.05\n",
      "the max value is:  99.07\n"
     ]
    }
   ],
   "source": [
    "max_val_B = np.max(samples_B_probs)\n",
    "min_val_B = np.min(samples_B_probs)\n",
    "print('the range of the Group B (White) repay probabilities is: ', max_val_B-min_val_B)\n",
    "print('the min value is: ', min_val_B)\n",
    "print('the max value is: ', max_val_B)"
   ]
  },
  {
   "cell_type": "markdown",
   "metadata": {},
   "source": [
    "## 2.6 Visualize the data"
   ]
  },
  {
   "cell_type": "code",
   "execution_count": 19,
   "metadata": {
    "scrolled": true
   },
   "outputs": [
    {
     "data": {
      "image/png": "[encoded data removed]",
      "text/plain": [
       "<Figure size 432x288 with 1 Axes>"
      ]
     },
     "metadata": {},
     "output_type": "display_data"
    }
   ],
   "source": [
    "samples_all_A = (samples_A, samples_A_probs)\n",
    "samples_all_B = (samples_B, samples_B_probs)\n",
    "data = (samples_all_A, samples_all_B)\n",
    "colors = ('blue', 'orange')\n",
    "groups = ('Group A (Black)', 'Group B (White)')\n",
    "\n",
    "# Create plot\n",
    "fig = plt.figure()\n",
    "ax = fig.add_subplot(1, 1, 1)\n",
    "\n",
    "for data, color, group in zip(data, colors, groups):\n",
    "    x, y = data\n",
    "    ax.scatter(x, y, alpha=0.8, c=color, edgecolors='none', s=30, label=group)\n",
    "\n",
    "plt.title('Sample Distributions by Group')\n",
    "plt.legend(loc=2)\n",
    "plt.xlabel('Credit Score')\n",
    "plt.ylabel('Repay Probability')\n",
    "plt.show()"
   ]
  }
 ],
 "metadata": {
  "kernelspec": {
   "display_name": "venv",
   "language": "python",
   "name": "venv"
  },
  "language_info": {
   "codemirror_mode": {
    "name": "ipython",
    "version": 3
   },
   "file_extension": ".py",
   "mimetype": "text/x-python",
   "name": "python",
   "nbconvert_exporter": "python",
   "pygments_lexer": "ipython3",
   "version": "3.8.5"
  }
 },
 "nbformat": 4,
 "nbformat_minor": 4
}
