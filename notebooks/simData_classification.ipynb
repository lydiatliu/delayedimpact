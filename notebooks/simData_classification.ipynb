{
 "cells": [
  {
   "cell_type": "markdown",
   "metadata": {},
   "source": [
    "# 0. IMPORTANT--Specify classifier to be trained and dataset"
   ]
  },
  {
   "cell_type": "code",
   "execution_count": null,
   "metadata": {},
   "outputs": [],
   "source": [
    "model_name = 'gbt'  # options include: {'Decision Tree': 'dt', 'Gaussian Naive Bayes':'gnb',\\\n",
    "                           #                  'Logistic Regression': 'lgr', \\\n",
    "                           #                  'Gradient_Boosted_Trees': 'gbt'} \n",
    "data_file = '/home/mackenzie/git_repositories/delayedimpact/data/simData_oom100.csv'  # ...oom10, ...oom50, ...oom100\n",
    "save = True"
   ]
  },
  {
   "cell_type": "markdown",
   "metadata": {},
   "source": [
    "# 1. Imports and Set Up"
   ]
  },
  {
   "cell_type": "code",
   "execution_count": null,
   "metadata": {},
   "outputs": [],
   "source": [
    "from impt_functions import *\n",
    "import csv\n",
    "from itertools import zip_longest\n",
    "from sklearn.tree import DecisionTreeClassifier\n",
    "from sklearn.naive_bayes import GaussianNB\n",
    "from sklearn.linear_model import LogisticRegression\n",
    "from sklearn import svm\n",
    "from sklearn.ensemble import GradientBoostingClassifier\n",
    "from sklearn.metrics import classification_report, confusion_matrix, accuracy_score, f1_score\n",
    "import pandas as pd \n",
    "import numpy as np\n",
    "import matplotlib.pyplot as plt\n",
    "from matplotlib import colors\n",
    "from fairlearn.reductions import ExponentiatedGradient, GridSearch, DemographicParity, EqualizedOdds, \\\n",
    "    TruePositiveRateParity, FalsePositiveRateParity, ErrorRateParity, BoundedGroupLoss\n",
    "from fairlearn.metrics import *\n",
    "from raiwidgets import FairnessDashboard\n",
    "%matplotlib inline"
   ]
  },
  {
   "cell_type": "code",
   "execution_count": null,
   "metadata": {},
   "outputs": [],
   "source": [
    "# Dict used for saving overall results to a csv later\n",
    "# Example: overall = {'Unmitigated':[], 'EG DP': [], 'EG EO': [],\n",
    "#                   'EG EOO': [], 'EG FPRP': [], 'EG ERP': [],\n",
    "#                   'GS DP': [], 'GS EO': [],\n",
    "#                   'GS EOO': [], 'GS FPRP': [], 'GS ERP': []}\n",
    "# Example: black_results = {'Unmitigated Black': [], \n",
    "#                          'EG DP Black': [], ..., 'GS ERP Black': []}\n",
    "\n",
    "# Instantiate lists for holding results\n",
    "unmitigated, unmitigated_black, unmitigated_white = [], [], []\n",
    "\n",
    "eg_dp, eg_dp_black, eg_dp_white = [], [], []\n",
    "eg_eo, eg_eo_black, eg_eo_white = [], [], []\n",
    "eg_eoo, eg_eoo_black, eg_eoo_white = [], [], []\n",
    "eg_fprp, eg_fprp_black, eg_fprp_white = [], [], []\n",
    "eg_erp, eg_erp_black, eg_erp_white = [], [], []\n",
    "\n",
    "gs_dp, gs_dp_black, gs_dp_white = [], [], []\n",
    "gs_eo, gs_eo_black, gs_eo_white = [], [], []\n",
    "gs_eoo, gs_eoo_black, gs_eoo_white = [], [], []\n",
    "gs_fprp, gs_fprp_black, gs_fprp_white = [], [], []\n",
    "gs_erp, gs_erp_black, gs_erp_white = [], [], []"
   ]
  },
  {
   "cell_type": "markdown",
   "metadata": {},
   "source": [
    "# 2. Prepare data"
   ]
  },
  {
   "cell_type": "code",
   "execution_count": null,
   "metadata": {},
   "outputs": [],
   "source": [
    "data = get_data(data_file)"
   ]
  },
  {
   "cell_type": "code",
   "execution_count": null,
   "metadata": {},
   "outputs": [],
   "source": [
    "print(type(data))\n",
    "print(data)"
   ]
  },
  {
   "cell_type": "code",
   "execution_count": null,
   "metadata": {},
   "outputs": [],
   "source": [
    "X_train, X_test, y_train, y_test, race_train, race_test, sample_weight_train, sample_weight_test = prep_data(data=data, test_size=0.3, weight_index=1)"
   ]
  },
  {
   "cell_type": "code",
   "execution_count": null,
   "metadata": {},
   "outputs": [],
   "source": [
    "# split up X_test by race\n",
    "X_test_b = []\n",
    "\n",
    "X_test_w = []\n",
    "\n",
    "for index in range(len(X_test)):\n",
    "    if race_test[index] == 0:  # black\n",
    "        X_test_b.append(X_test[index][0])\n",
    "    elif race_test[index] == 1:  # white\n",
    "        X_test_w.append(X_test[index][0])\n",
    "\n",
    "# given predictions+outcomes, I'll need to do the same \n"
   ]
  },
  {
   "cell_type": "code",
   "execution_count": null,
   "metadata": {},
   "outputs": [],
   "source": [
    "x = data[['score', 'race']].values\n",
    "y = data['repay_indices'].values"
   ]
  },
  {
   "cell_type": "code",
   "execution_count": null,
   "metadata": {},
   "outputs": [],
   "source": [
    "# make histogram of credit scores by race\n",
    "fig, axs = plt.subplots(1, 2, sharey=True, tight_layout=True)\n",
    "\n",
    "fig.suptitle('Histogram Credit Score Distribution')\n",
    "plt.xlabel(\"Credit Score\")\n",
    "#plt.ylabel(\"No. of Individuals\")\n",
    "\n",
    "black_credit_dist = data['score'].loc[data['race']==0]\n",
    "white_credit_dist = data['score'].loc[data['race']==1]\n",
    "\n",
    "n_bins = 50\n",
    "# We can set the number of bins with the *bins* keyword argument.\n",
    "axs[0].hist(black_credit_dist, bins=n_bins)\n",
    "axs[0].set_title('Black Group')\n",
    "axs[0].set_xlabel('Credit Score')\n",
    "axs[0].set_ylabel('No. of Individuals')\n",
    "axs[1].set_title('White Group')\n",
    "axs[1].hist(white_credit_dist, bins=n_bins)"
   ]
  },
  {
   "cell_type": "code",
   "execution_count": null,
   "metadata": {},
   "outputs": [],
   "source": [
    "fig, axs = plt.subplots(1, 2, sharey=True, tight_layout=True)\n",
    "\n",
    "fig.suptitle('Histogram of Repay Distribution')\n",
    "plt.xlabel('Repay Label')\n",
    "\n",
    "black_label_dist = data['repay_indices'].loc[data['race']==0]\n",
    "white_label_dist = data['repay_indices'].loc[data['race']==1]\n",
    "\n",
    "#print(black_label_dist)\n",
    "#print(white_label_dist)\n",
    "\n",
    "# maybe see if the label is an int or a float\n",
    "\n",
    "# default: 0, repay: 1\n",
    "\n",
    "n_bins = 2\n",
    "# We can set the number of bins with the *bins* keyword argument.\n",
    "#start, end = ax.get_xlim()\n",
    "stepsize=1\n",
    "axs[0].xaxis.set_ticks(np.arange(0, 2, stepsize))\n",
    "axs[0].set_xticklabels(['Default','Repay'])\n",
    "axs[0].hist(black_label_dist, bins=n_bins)\n",
    "axs[0].set_title('Black Group')\n",
    "axs[0].set_ylabel('No. of Individuals')\n",
    "axs[0].set_xlabel('Repay Label')\n",
    "\n",
    "axs[1].xaxis.set_ticks(np.arange(0, 2, stepsize))\n",
    "axs[1].set_xticklabels(['Default','Repay'])\n",
    "axs[1].hist(white_label_dist, bins=n_bins)\n",
    "axs[1].set_title('White Group')"
   ]
  },
  {
   "cell_type": "markdown",
   "metadata": {},
   "source": [
    "# 3. Classifier"
   ]
  },
  {
   "cell_type": "code",
   "execution_count": null,
   "metadata": {},
   "outputs": [],
   "source": [
    "print('The classifier trained below is: ', model_name)"
   ]
  },
  {
   "cell_type": "code",
   "execution_count": null,
   "metadata": {},
   "outputs": [],
   "source": [
    "if model_name == 'dt':\n",
    "    # Initialize classifier:\n",
    "    classifier = DecisionTreeClassifier()\n",
    "elif model_name == 'gnb':\n",
    "    classifier = GaussianNB()\n",
    "elif model_name == 'lgr':\n",
    "    # Reference: https://towardsdatascience.com/logistic-regression-using-python-sklearn-numpy-mnist-handwriting-recognition-matplotlib-a6b31e2b166a\n",
    "    classifier = LogisticRegression()\n",
    "elif model_name == 'svm_linear':\n",
    "    # Reference: https://www.datacamp.com/community/tutorials/svm-classification-scikit-learn-python\n",
    "    classifier = svm.SVC(kernel='linear', probability=True)\n",
    "elif model_name == 'gbt':\n",
    "    # Reference: https://scikit-learn.org/stable/modules/generated/sklearn.ensemble.GradientBoostingClassifier.html\n",
    "    # Note: max_depth default is 3 but tune this parameter for best performance\n",
    "    classifier = GradientBoostingClassifier(n_estimators=100) \n",
    "else:\n",
    "    print('PROBLEM: input a specified classifier above')"
   ]
  },
  {
   "cell_type": "markdown",
   "metadata": {},
   "source": [
    "## Train classifier and collect predictions\n",
    "NOTE: atm sample_weight are all 1s"
   ]
  },
  {
   "cell_type": "code",
   "execution_count": null,
   "metadata": {},
   "outputs": [],
   "source": [
    "# Reference: https://www.datacamp.com/community/tutorials/decision-tree-classification-python\n",
    "\n",
    "# Train the classifier:\n",
    "model = classifier.fit(X_train,y_train, sample_weight_train)\n",
    "\n",
    "# Make predictions with the classifier:\n",
    "y_predict = model.predict(X_test)\n",
    "\n",
    "# Scores on test set\n",
    "test_scores = model.predict_proba(X_test)[:, 1]"
   ]
  },
  {
   "cell_type": "markdown",
   "metadata": {},
   "source": [
    "### Get new scores by race"
   ]
  },
  {
   "cell_type": "code",
   "execution_count": null,
   "metadata": {},
   "outputs": [],
   "source": [
    "# think: later on I might want to create a sheet just with the TP and FP scores by race specifically\n",
    "X_unmit_b, X_unmit_w = get_new_scores(X_test, y_predict, y_test, race_test)"
   ]
  },
  {
   "cell_type": "code",
   "execution_count": null,
   "metadata": {},
   "outputs": [],
   "source": [
    "# Code for the above which I turned into a function: get_new_scores\n",
    "'''\n",
    "X_unmit_b = []\n",
    "X_unmit_w = []\n",
    "\n",
    "for index, label in enumerate(y_predict):\n",
    "    # first check for TP or FP\n",
    "    if label == 1 and y_test[index] == 1:  # if it's a TP\n",
    "        if race_test[index] == 0:  # black\n",
    "            X_unmit_b.append(X_test[index][0]+75)\n",
    "        elif race_test[index] == 1:  # white\n",
    "            X_unmit_w.append(X_test[index][0]+75)\n",
    "    elif label == 1 and y_test[index] == 0:  # if it's a FP\n",
    "        if race_test[index] == 0:  # black\n",
    "            X_unmit_b.append(X_test[index][0]-150)\n",
    "        elif race_test[index] == 1:  # white\n",
    "            X_unmit_w.append(X_test[index][0]-150)\n",
    "    else:  # if it's a TN or FN, no change to credit score\n",
    "        if race_test[index] == 0:  # black\n",
    "            X_unmit_b.append(X_test[index][0])\n",
    "        elif race_test[index] == 1:  # white\n",
    "            X_unmit_w.append(X_test[index][0])\n",
    "'''"
   ]
  },
  {
   "cell_type": "markdown",
   "metadata": {},
   "source": [
    "### Evaluation of classifier overall"
   ]
  },
  {
   "cell_type": "code",
   "execution_count": null,
   "metadata": {},
   "outputs": [],
   "source": [
    "# Metrics\n",
    "models_dict = {\"Unmitigated\": (y_predict, test_scores)}\n",
    "get_metrics_df(models_dict, y_test, race_test)"
   ]
  },
  {
   "cell_type": "code",
   "execution_count": null,
   "metadata": {},
   "outputs": [],
   "source": [
    "cm = confusion_matrix(y_test, y_predict)\n",
    "print(cm)\n",
    "results_dict = classification_report(y_test, y_predict, output_dict=True)\n",
    "print(classification_report(y_test, y_predict))\n",
    "# Add accuracy to the results list\n",
    "unmitigated.append(round(results_dict['accuracy']*100, 2))\n",
    "f1_micro, f1_weighted, f1_binary = get_f1_scores(y_test, y_predict)\n",
    "f1_str = str(round(f1_micro*100, 2))+\"/\"+str(round(f1_weighted*100, 2))+\"/\"+str(round(f1_binary*100, 2))\n",
    "# Add f1 scores to results list\n",
    "unmitigated.append(f1_str)\n",
    "# Add Selection rate to results list\n",
    "sr = get_selection_rates(y_test, y_predict, race_test, 0)\n",
    "unmitigated.append(round(sr*100, 2))\n",
    "# Add Outcome rates to results list\n",
    "tnr, tpr, fner, fper = evaluation_outcome_rates(y_test, y_predict, sample_weight_test)\n",
    "unmitigated.append(round(tnr*100, 2))\n",
    "unmitigated.append(round(tpr*100, 2))\n",
    "unmitigated.append(round(fner*100, 2))\n",
    "unmitigated.append(round(fper*100, 2))"
   ]
  },
  {
   "cell_type": "markdown",
   "metadata": {},
   "source": [
    "### Cross-validated metrics"
   ]
  },
  {
   "cell_type": "code",
   "execution_count": null,
   "metadata": {},
   "outputs": [],
   "source": [
    "from sklearn.model_selection import cross_val_score\n",
    "scores = cross_val_score(model, x, y, cv=5, scoring='f1_weighted')\n",
    "print(scores)"
   ]
  },
  {
   "cell_type": "markdown",
   "metadata": {},
   "source": [
    "### Delayed impact calculated"
   ]
  },
  {
   "cell_type": "code",
   "execution_count": null,
   "metadata": {},
   "outputs": [],
   "source": [
    "di_black, di_white = calculate_delayed_impact(X_test, y_test, y_predict, race_test)\n",
    "# Add DI to results list\n",
    "di_str = str(round(di_black, 2))+\"/\"+str(round(di_white, 2))\n",
    "unmitigated.append(di_str)"
   ]
  },
  {
   "cell_type": "markdown",
   "metadata": {},
   "source": [
    "### Fairness Metric Evaluation of classifier"
   ]
  },
  {
   "cell_type": "code",
   "execution_count": null,
   "metadata": {},
   "outputs": [],
   "source": [
    "dp_diff, eod_diff, eoo_dif, fpr_dif, er_dif = print_fairness_metrics(y_test, y_predict, race_test, sample_weight_test)\n",
    "\n",
    "# Add the fairness metric differences to results list\n",
    "unmitigated.append(round(dp_diff*100, 2))\n",
    "unmitigated.append(round(eod_diff*100, 2))\n",
    "unmitigated.append(round(eoo_dif*100, 2))\n",
    "unmitigated.append(round(fpr_dif*100, 2))\n",
    "unmitigated.append(round(er_dif*100, 2))"
   ]
  },
  {
   "cell_type": "markdown",
   "metadata": {},
   "source": [
    "### Evaluation of classifier by race"
   ]
  },
  {
   "cell_type": "code",
   "execution_count": null,
   "metadata": {},
   "outputs": [],
   "source": [
    "results_black, results_white = evaluation_by_race(X_test, y_test, race_test, y_predict, sample_weight_test)\n",
    "unmitigated_black.extend(results_black)\n",
    "unmitigated_white.extend(results_white)"
   ]
  },
  {
   "cell_type": "markdown",
   "metadata": {},
   "source": [
    "### Save results to dictionaries"
   ]
  },
  {
   "cell_type": "code",
   "execution_count": null,
   "metadata": {},
   "outputs": [],
   "source": [
    "run_key = 'Unmitigated'\n",
    "overall_results_dict = add_values_in_dict({}, run_key, unmitigated)\n",
    "black_results_dict = add_values_in_dict({}, run_key, unmitigated_black)\n",
    "white_results_dict = add_values_in_dict({}, run_key, unmitigated_white)\n",
    "print(overall_results_dict)\n",
    "print(black_results_dict)\n",
    "print(white_results_dict)"
   ]
  },
  {
   "cell_type": "markdown",
   "metadata": {},
   "source": [
    "## Exponentiated Gradient Reduction Alg for Adding Fairness Constraints"
   ]
  },
  {
   "cell_type": "code",
   "execution_count": null,
   "metadata": {},
   "outputs": [],
   "source": [
    "from IPython.core.display import display, HTML\n",
    "display(HTML(\"<style>div.output_scroll { height: 60em; }</style>\"))"
   ]
  },
  {
   "cell_type": "markdown",
   "metadata": {},
   "source": [
    "### Demographic Parity"
   ]
  },
  {
   "cell_type": "code",
   "execution_count": null,
   "metadata": {},
   "outputs": [],
   "source": [
    "mitigator, results_overall, results_black, results_white, y_pred_mitigated = add_constraint(model, 'DP', 'EG', X_train, y_train, race_train, race_test, X_test, y_test, y_predict, sample_weight_test, True)"
   ]
  },
  {
   "cell_type": "markdown",
   "metadata": {},
   "source": [
    "### Get new scores by race"
   ]
  },
  {
   "cell_type": "code",
   "execution_count": null,
   "metadata": {},
   "outputs": [],
   "source": [
    "### Get new scores by race\n",
    "X_egDP_b, X_egDP_w = get_new_scores(X_test, y_predict, y_test, race_test)"
   ]
  },
  {
   "cell_type": "markdown",
   "metadata": {},
   "source": [
    "### Save results to dictionaries"
   ]
  },
  {
   "cell_type": "code",
   "execution_count": null,
   "metadata": {},
   "outputs": [],
   "source": [
    "run_key = 'EG DP Mitigated'\n",
    "overall_results_dict = add_values_in_dict(overall_results_dict, run_key, results_overall)\n",
    "black_results_dict = add_values_in_dict(black_results_dict, run_key, results_black)\n",
    "white_results_dict = add_values_in_dict(white_results_dict, run_key, results_white)\n",
    "print(overall_results_dict)\n",
    "print(black_results_dict)\n",
    "print(white_results_dict)"
   ]
  },
  {
   "cell_type": "markdown",
   "metadata": {},
   "source": [
    "### Equalized Odds"
   ]
  },
  {
   "cell_type": "code",
   "execution_count": null,
   "metadata": {},
   "outputs": [],
   "source": [
    "mitigator, results_overall, results_black, results_white, y_pred_mitigated = add_constraint(model, 'EO', 'EG', X_train, y_train, race_train, race_test, X_test, y_test, y_predict, sample_weight_test, True)"
   ]
  },
  {
   "cell_type": "markdown",
   "metadata": {},
   "source": [
    "### Get new scores by race"
   ]
  },
  {
   "cell_type": "code",
   "execution_count": null,
   "metadata": {},
   "outputs": [],
   "source": [
    "X_egEO_b, X_egEO_w = get_new_scores(X_test, y_predict, y_test, race_test)"
   ]
  },
  {
   "cell_type": "markdown",
   "metadata": {},
   "source": [
    "### Save results to dictionaries"
   ]
  },
  {
   "cell_type": "code",
   "execution_count": null,
   "metadata": {},
   "outputs": [],
   "source": [
    "run_key = 'EG EO Mitigated'\n",
    "overall_results_dict = add_values_in_dict(overall_results_dict, run_key, results_overall)\n",
    "black_results_dict = add_values_in_dict(black_results_dict, run_key, results_black)\n",
    "white_results_dict = add_values_in_dict(white_results_dict, run_key, results_white)\n",
    "print(overall_results_dict)\n",
    "print(black_results_dict)\n",
    "print(white_results_dict)"
   ]
  },
  {
   "cell_type": "markdown",
   "metadata": {},
   "source": [
    "### EOO (True Positive Rate Parity)"
   ]
  },
  {
   "cell_type": "code",
   "execution_count": null,
   "metadata": {},
   "outputs": [],
   "source": [
    "mitigator, results_overall, results_black, results_white, y_pred_mitigated = add_constraint(model, 'TPRP', 'EG', X_train, y_train, race_train, race_test, X_test, y_test, y_predict, sample_weight_test, True)"
   ]
  },
  {
   "cell_type": "markdown",
   "metadata": {},
   "source": [
    "### Get new scores by race"
   ]
  },
  {
   "cell_type": "code",
   "execution_count": null,
   "metadata": {},
   "outputs": [],
   "source": [
    "X_egEOO_b, X_egEOO_w = get_new_scores(X_test, y_predict, y_test, race_test)"
   ]
  },
  {
   "cell_type": "markdown",
   "metadata": {},
   "source": [
    "### Save results to dictionaries"
   ]
  },
  {
   "cell_type": "code",
   "execution_count": null,
   "metadata": {},
   "outputs": [],
   "source": [
    "run_key = 'EG EOO Mitigated'\n",
    "overall_results_dict = add_values_in_dict(overall_results_dict, run_key, results_overall)\n",
    "black_results_dict = add_values_in_dict(black_results_dict, run_key, results_black)\n",
    "white_results_dict = add_values_in_dict(white_results_dict, run_key, results_white)\n",
    "print(overall_results_dict)\n",
    "print(black_results_dict)\n",
    "print(white_results_dict)"
   ]
  },
  {
   "cell_type": "markdown",
   "metadata": {},
   "source": [
    "### False Positive Rate Parity"
   ]
  },
  {
   "cell_type": "code",
   "execution_count": null,
   "metadata": {},
   "outputs": [],
   "source": [
    "mitigator, results_overall, results_black, results_white, y_pred_mitigated = add_constraint(model, 'FPRP', 'EG', X_train, y_train, race_train, race_test, X_test, y_test, y_predict, sample_weight_test, True)"
   ]
  },
  {
   "cell_type": "markdown",
   "metadata": {},
   "source": [
    "### Get new scores by race"
   ]
  },
  {
   "cell_type": "code",
   "execution_count": null,
   "metadata": {},
   "outputs": [],
   "source": [
    "X_egFPRP_b, X_egFPRP_w = get_new_scores(X_test, y_predict, y_test, race_test)"
   ]
  },
  {
   "cell_type": "markdown",
   "metadata": {},
   "source": [
    "### Save results to dictionaries"
   ]
  },
  {
   "cell_type": "code",
   "execution_count": null,
   "metadata": {},
   "outputs": [],
   "source": [
    "run_key = 'EG FPRP Mitigated'\n",
    "overall_results_dict = add_values_in_dict(overall_results_dict, run_key, results_overall)\n",
    "black_results_dict = add_values_in_dict(black_results_dict, run_key, results_black)\n",
    "white_results_dict = add_values_in_dict(white_results_dict, run_key, results_white)\n",
    "print(overall_results_dict)\n",
    "print(black_results_dict)\n",
    "print(white_results_dict)"
   ]
  },
  {
   "cell_type": "markdown",
   "metadata": {},
   "source": [
    "### Error Rate Parity"
   ]
  },
  {
   "cell_type": "code",
   "execution_count": null,
   "metadata": {},
   "outputs": [],
   "source": [
    "mitigator, results_overall, results_black, results_white, y_pred_mitigated = add_constraint(model, 'ERP', 'EG', X_train, y_train, race_train, race_test, X_test, y_test, y_predict, sample_weight_test, True)"
   ]
  },
  {
   "cell_type": "markdown",
   "metadata": {},
   "source": [
    "### Get new scores by race"
   ]
  },
  {
   "cell_type": "code",
   "execution_count": null,
   "metadata": {},
   "outputs": [],
   "source": [
    "X_egERP_b, X_egERP_w = get_new_scores(X_test, y_predict, y_test, race_test)"
   ]
  },
  {
   "cell_type": "markdown",
   "metadata": {},
   "source": [
    "### Save results to dictionaries"
   ]
  },
  {
   "cell_type": "code",
   "execution_count": null,
   "metadata": {},
   "outputs": [],
   "source": [
    "run_key = 'EG ERP Mitigated'\n",
    "overall_results_dict = add_values_in_dict(overall_results_dict, run_key, results_overall)\n",
    "black_results_dict = add_values_in_dict(black_results_dict, run_key, results_black)\n",
    "white_results_dict = add_values_in_dict(white_results_dict, run_key, results_white)\n",
    "print(overall_results_dict)\n",
    "print(black_results_dict)\n",
    "print(white_results_dict)"
   ]
  },
  {
   "cell_type": "markdown",
   "metadata": {},
   "source": [
    "### Bounded Group Loss (issue, need to figure out loss parameter)"
   ]
  },
  {
   "cell_type": "code",
   "execution_count": null,
   "metadata": {},
   "outputs": [],
   "source": [
    "'''\n",
    "mitigator, results_overall, results_black, results_white= add_constraint(model, 'BGL', 'EG', X_train, y_train, race_train, race_test, X_test, y_test, y_predict, sample_weight_test, False)\n",
    "run_key = 'EG DP Mitigated'\n",
    "overall_results_dict = add_values_in_dict(overall_results_dict, run_key, results_overall)\n",
    "black_results_dict = add_values_in_dict(black_results_dict, run_key, results_black)\n",
    "white_results_dict = add_values_in_dict(white_results_dict, run_key, results_white)\n",
    "print(overall_results_dict)\n",
    "print(black_results_dict)\n",
    "print(white_results_dict)\n",
    "'''"
   ]
  },
  {
   "cell_type": "markdown",
   "metadata": {},
   "source": [
    "## Grid Search Reduction Alg for Adding Fairness Constraints"
   ]
  },
  {
   "cell_type": "markdown",
   "metadata": {},
   "source": [
    "### Demographic Parity"
   ]
  },
  {
   "cell_type": "code",
   "execution_count": null,
   "metadata": {},
   "outputs": [],
   "source": [
    "mitigator, results_overall, results_black, results_white, y_pred_mitigated = add_constraint(model, 'DP', 'GS', X_train, y_train, race_train, race_test, X_test, y_test, y_predict, sample_weight_test, True)"
   ]
  },
  {
   "cell_type": "code",
   "execution_count": null,
   "metadata": {},
   "outputs": [],
   "source": [
    "# We can examine the values of lambda_i chosen for us:\n",
    "lambda_vecs = mitigator.lambda_vecs_\n",
    "print(lambda_vecs[0])"
   ]
  },
  {
   "cell_type": "markdown",
   "metadata": {},
   "source": [
    "The next few cells come from: https://github.com/fairlearn/fairlearn/blob/main/notebooks/Binary%20Classification%20with%20the%20UCI%20Credit-card%20Default%20Dataset.ipynb\n",
    "\n",
    "Note: we train multiple models corresponding to different trade-off points between the performance metric (balanced accuracy) and fairness metric."
   ]
  },
  {
   "cell_type": "code",
   "execution_count": null,
   "metadata": {},
   "outputs": [],
   "source": [
    "grid_search_show(mitigator, demographic_parity_difference, y_predict, X_test, y_test, race_test, 'DemParityDifference','GS DPD', models_dict, 0.3)"
   ]
  },
  {
   "cell_type": "code",
   "execution_count": null,
   "metadata": {},
   "outputs": [],
   "source": [
    "models_dict.pop('GS DPD')\n",
    "models_dict"
   ]
  },
  {
   "cell_type": "markdown",
   "metadata": {},
   "source": [
    "### Get new scores by race"
   ]
  },
  {
   "cell_type": "code",
   "execution_count": null,
   "metadata": {},
   "outputs": [],
   "source": [
    "X_gsDP_b, X_gsDP_w = get_new_scores(X_test, y_predict, y_test, race_test)"
   ]
  },
  {
   "cell_type": "markdown",
   "metadata": {},
   "source": [
    "### Save results to dictionaries"
   ]
  },
  {
   "cell_type": "code",
   "execution_count": null,
   "metadata": {},
   "outputs": [],
   "source": [
    "run_key = 'GS DP Mitigated'\n",
    "overall_results_dict = add_values_in_dict(overall_results_dict, run_key, results_overall)\n",
    "black_results_dict = add_values_in_dict(black_results_dict, run_key, results_black)\n",
    "white_results_dict = add_values_in_dict(white_results_dict, run_key, results_white)\n",
    "print(overall_results_dict)\n",
    "print(black_results_dict)\n",
    "print(white_results_dict)"
   ]
  },
  {
   "cell_type": "markdown",
   "metadata": {},
   "source": [
    "### Equalized Odds Used"
   ]
  },
  {
   "cell_type": "code",
   "execution_count": null,
   "metadata": {},
   "outputs": [],
   "source": [
    "mitigator, results_overall, results_black, results_white, y_pred_mitigated = add_constraint(model, 'EO', 'GS', X_train, y_train, race_train, race_test, X_test, y_test, y_predict, sample_weight_test, True)"
   ]
  },
  {
   "cell_type": "code",
   "execution_count": null,
   "metadata": {},
   "outputs": [],
   "source": [
    "# We can examine the values of lambda_i chosen for us:\n",
    "lambda_vecs = mitigator.lambda_vecs_\n",
    "print(lambda_vecs[0])"
   ]
  },
  {
   "cell_type": "code",
   "execution_count": null,
   "metadata": {},
   "outputs": [],
   "source": [
    "grid_search_show(mitigator, equalized_odds_difference, y_predict, X_test, y_test, race_test, 'EOddsDifference','GS EO', models_dict, 0.3)"
   ]
  },
  {
   "cell_type": "code",
   "execution_count": null,
   "metadata": {},
   "outputs": [],
   "source": [
    "models_dict.pop('GS EO')\n",
    "models_dict"
   ]
  },
  {
   "cell_type": "markdown",
   "metadata": {},
   "source": [
    "### Get new scores by race"
   ]
  },
  {
   "cell_type": "code",
   "execution_count": null,
   "metadata": {},
   "outputs": [],
   "source": [
    "X_gsEO_b, X_gsEO_w = get_new_scores(X_test, y_predict, y_test, race_test)"
   ]
  },
  {
   "cell_type": "markdown",
   "metadata": {},
   "source": [
    "### Save results to dictionaries"
   ]
  },
  {
   "cell_type": "code",
   "execution_count": null,
   "metadata": {},
   "outputs": [],
   "source": [
    "run_key = 'GS EO Mitigated'\n",
    "overall_results_dict = add_values_in_dict(overall_results_dict, run_key, results_overall)\n",
    "black_results_dict = add_values_in_dict(black_results_dict, run_key, results_black)\n",
    "white_results_dict = add_values_in_dict(white_results_dict, run_key, results_white)\n",
    "print(overall_results_dict)\n",
    "print(black_results_dict)\n",
    "print(white_results_dict)"
   ]
  },
  {
   "cell_type": "markdown",
   "metadata": {},
   "source": [
    "### EOO (True Positive Rate Parity)"
   ]
  },
  {
   "cell_type": "code",
   "execution_count": null,
   "metadata": {},
   "outputs": [],
   "source": [
    "mitigator, results_overall, results_black, results_white, y_pred_mitigated = add_constraint(model, 'TPRP', 'GS', X_train, y_train, race_train, race_test, X_test, y_test, y_predict, sample_weight_test, True)"
   ]
  },
  {
   "cell_type": "code",
   "execution_count": null,
   "metadata": {},
   "outputs": [],
   "source": [
    "# We can examine the values of lambda_i chosen for us:\n",
    "lambda_vecs = mitigator.lambda_vecs_\n",
    "print(lambda_vecs[0])"
   ]
  },
  {
   "cell_type": "code",
   "execution_count": null,
   "metadata": {},
   "outputs": [],
   "source": [
    "grid_search_show(mitigator, true_positive_rate_difference, y_predict, X_test, y_test, race_test, 'TPRPDifference','GS TPRP', models_dict, 0.3)"
   ]
  },
  {
   "cell_type": "code",
   "execution_count": null,
   "metadata": {},
   "outputs": [],
   "source": [
    "models_dict.pop('GS TPRP')\n",
    "models_dict"
   ]
  },
  {
   "cell_type": "markdown",
   "metadata": {},
   "source": [
    "### Get new scores by race"
   ]
  },
  {
   "cell_type": "code",
   "execution_count": null,
   "metadata": {},
   "outputs": [],
   "source": [
    "X_gsEOO_b, X_gsEOO_w = get_new_scores(X_test, y_predict, y_test, race_test)"
   ]
  },
  {
   "cell_type": "markdown",
   "metadata": {},
   "source": [
    "### Save results to dictionaries"
   ]
  },
  {
   "cell_type": "code",
   "execution_count": null,
   "metadata": {},
   "outputs": [],
   "source": [
    "run_key = 'GS EOO Mitigated'\n",
    "overall_results_dict = add_values_in_dict(overall_results_dict, run_key, results_overall)\n",
    "black_results_dict = add_values_in_dict(black_results_dict, run_key, results_black)\n",
    "white_results_dict = add_values_in_dict(white_results_dict, run_key, results_white)\n",
    "print(overall_results_dict)\n",
    "print(black_results_dict)\n",
    "print(white_results_dict)"
   ]
  },
  {
   "cell_type": "markdown",
   "metadata": {},
   "source": [
    "### False Positive Rate Parity"
   ]
  },
  {
   "cell_type": "code",
   "execution_count": null,
   "metadata": {},
   "outputs": [],
   "source": [
    "mitigator, results_overall, results_black, results_white, y_pred_mitigated = add_constraint(model, 'FPRP', 'GS', X_train, y_train, race_train, race_test, X_test, y_test, y_predict, sample_weight_test, True)"
   ]
  },
  {
   "cell_type": "code",
   "execution_count": null,
   "metadata": {},
   "outputs": [],
   "source": [
    "# We can examine the values of lambda_i chosen for us:\n",
    "lambda_vecs = mitigator.lambda_vecs_\n",
    "print(lambda_vecs[0])"
   ]
  },
  {
   "cell_type": "code",
   "execution_count": null,
   "metadata": {},
   "outputs": [],
   "source": [
    "# NOTE: the below models are the same for DT classifier!!"
   ]
  },
  {
   "cell_type": "code",
   "execution_count": null,
   "metadata": {},
   "outputs": [],
   "source": [
    "grid_search_show(mitigator, false_positive_rate_difference, y_predict, X_test, y_test, race_test, 'FPRPDifference','GS FPRP', models_dict, 0.4)"
   ]
  },
  {
   "cell_type": "code",
   "execution_count": null,
   "metadata": {},
   "outputs": [],
   "source": [
    "models_dict.pop('GS FPRP')\n",
    "models_dict"
   ]
  },
  {
   "cell_type": "markdown",
   "metadata": {},
   "source": [
    "### Get scores by race"
   ]
  },
  {
   "cell_type": "code",
   "execution_count": null,
   "metadata": {},
   "outputs": [],
   "source": [
    "X_gsFPRP_b, X_gsFPRP_w = get_new_scores(X_test, y_predict, y_test, race_test)"
   ]
  },
  {
   "cell_type": "markdown",
   "metadata": {},
   "source": [
    "### Save results to dictionaries"
   ]
  },
  {
   "cell_type": "code",
   "execution_count": null,
   "metadata": {},
   "outputs": [],
   "source": [
    "run_key = 'GS FPRP Mitigated'\n",
    "overall_results_dict = add_values_in_dict(overall_results_dict, run_key, results_overall)\n",
    "black_results_dict = add_values_in_dict(black_results_dict, run_key, results_black)\n",
    "white_results_dict = add_values_in_dict(white_results_dict, run_key, results_white)\n",
    "print(overall_results_dict)\n",
    "print(black_results_dict)\n",
    "print(white_results_dict)"
   ]
  },
  {
   "cell_type": "markdown",
   "metadata": {},
   "source": [
    "### Error Rate Parity"
   ]
  },
  {
   "cell_type": "code",
   "execution_count": null,
   "metadata": {},
   "outputs": [],
   "source": [
    "mitigator, results_overall, results_black, results_white, y_pred_mitigated = add_constraint(model, 'ERP', 'GS', X_train, y_train, race_train, race_test, X_test, y_test, y_predict, sample_weight_test, True)"
   ]
  },
  {
   "cell_type": "code",
   "execution_count": null,
   "metadata": {},
   "outputs": [],
   "source": [
    "# We can examine the values of lambda_i chosen for us:\n",
    "lambda_vecs = mitigator.lambda_vecs_\n",
    "print(lambda_vecs[0])"
   ]
  },
  {
   "cell_type": "code",
   "execution_count": null,
   "metadata": {},
   "outputs": [],
   "source": [
    "# Fairlearn doesnt have an erp difference metric for the below\n",
    "#grid_search_show(gs_erp, error_difference, y_predict, X_test, y_test, race_test, 'ERDifference','GS ERP', models_dict, 0.3)\n",
    "#models_dict.pop('GS FPRP')\n",
    "#models_dict"
   ]
  },
  {
   "cell_type": "markdown",
   "metadata": {},
   "source": [
    "### Get scores by race"
   ]
  },
  {
   "cell_type": "code",
   "execution_count": null,
   "metadata": {},
   "outputs": [],
   "source": [
    "X_gsERP_b, X_gsERP_w = get_new_scores(X_test, y_predict, y_test, race_test)"
   ]
  },
  {
   "cell_type": "markdown",
   "metadata": {},
   "source": [
    "### Save results to dictionaries"
   ]
  },
  {
   "cell_type": "code",
   "execution_count": null,
   "metadata": {},
   "outputs": [],
   "source": [
    "run_key = 'GS ERP Mitigated'\n",
    "overall_results_dict = add_values_in_dict(overall_results_dict, run_key, results_overall)\n",
    "black_results_dict = add_values_in_dict(black_results_dict, run_key, results_black)\n",
    "white_results_dict = add_values_in_dict(white_results_dict, run_key, results_white)\n",
    "print(overall_results_dict)\n",
    "print(black_results_dict)\n",
    "print(white_results_dict)"
   ]
  },
  {
   "cell_type": "markdown",
   "metadata": {},
   "source": [
    "### Bounded Group Loss (issue, need to figure out loss parameter)"
   ]
  },
  {
   "cell_type": "code",
   "execution_count": null,
   "metadata": {},
   "outputs": [],
   "source": [
    "'''\n",
    "mitigator, results_overall, results_black, results_white= add_constraint(model, 'BGL', 'GS', X_train, y_train, race_train, race_test, X_test, y_test, y_predict, sample_weight_test, False)\n",
    "run_key = 'GS EO Mitigated'\n",
    "overall_results_dict = add_values_in_dict(overall_results_dict, run_key, results_overall)\n",
    "black_results_dict = add_values_in_dict(black_results_dict, run_key, results_black)\n",
    "white_results_dict = add_values_in_dict(white_results_dict, run_key, results_white)\n",
    "print(overall_results_dict)\n",
    "print(black_results_dict)\n",
    "print(white_results_dict)\n",
    "'''"
   ]
  },
  {
   "cell_type": "code",
   "execution_count": null,
   "metadata": {},
   "outputs": [],
   "source": [
    "# We can examine the values of lambda_i chosen for us:\n",
    "#lambda_vecs = gs_dp.lambda_vecs_\n",
    "#print(lambda_vecs[0])"
   ]
  },
  {
   "cell_type": "markdown",
   "metadata": {},
   "source": [
    "# 4. Save results to csv files"
   ]
  },
  {
   "cell_type": "code",
   "execution_count": null,
   "metadata": {},
   "outputs": [],
   "source": [
    "# To use below!!\n",
    "if save == True:\n",
    "    overall_fieldnames = ['Run', 'Acc', 'F1micro/F1w/F1bsr', 'SelectionRate', 'TNR rate', 'TPR rate', 'FNER', 'FPER', 'DIB/DIW', 'DP Diff', 'EO Diff', 'TPR Diff', 'FPR Diff', 'ER Diff']\n",
    "    byrace_fieldnames = ['Run', 'Acc', 'F1micro/F1w/F1bsr', 'SelectionRate', 'TNR rate', 'TPR rate', 'FNER', 'FPER', 'DI']\n",
    "    save_dict_2_csv(overall_results_dict, overall_fieldnames, model_name+'_overall_results.csv')\n",
    "    save_dict_2_csv(black_results_dict, byrace_fieldnames, model_name+'_black_results.csv')\n",
    "    save_dict_2_csv(white_results_dict, byrace_fieldnames, model_name+'_white_results.csv')"
   ]
  },
  {
   "cell_type": "code",
   "execution_count": null,
   "metadata": {},
   "outputs": [],
   "source": [
    "if save == True:\n",
    "    # Save overall score results\n",
    "    scores_fieldnames = ['testB', 'testW', 'unmitB', 'unmitW', 'egdpB', 'egdpW', 'egeoB', 'egeoW', 'egeooB', 'egeooW', 'egfprpB', 'egfprpW', 'egerpB', 'egerpW', 'gsdpB', 'gsdpW', 'gseoB', 'gseoW', 'gseooB', 'gseooW', 'gsfprpB', 'gsfprpW', 'gserpB', 'gserpW']\n",
    "    data = [X_test_b, X_test_w, X_unmit_b, X_unmit_w, X_egDP_b, X_egDP_w, X_egEO_b, X_egEO_w, X_egEOO_b, X_egEOO_w, X_egFPRP_b, X_egFPRP_w, X_egERP_b, X_egERP_w, X_gsDP_b, X_gsDP_w, X_gsEO_b, X_gsEO_w, X_gsEOO_b, X_gsEOO_w, X_gsFPRP_b, X_gsFPRP_w, X_gsERP_b, X_gsERP_w ]\n",
    "    columns_data = zip_longest(*data)\n",
    "\n",
    "    with open(model_name+'_overall_scores.csv',mode='w') as f:\n",
    "        writer = csv.writer(f)\n",
    "        writer.writerow(scores_fieldnames)\n",
    "        writer.writerows(columns_data)\n",
    "        f.close()\n",
    "    \n",
    "    # Save black score results\n",
    "    scores_black_fieldnames = ['testB', 'unmitB', 'egdpB','egeoB','egeooB','egfprpB', 'egerpB','gsdpB','gseoB','gseooB', 'gsfprpB', 'gserpB']\n",
    "    data_black = [X_test_b, X_unmit_b, X_egDP_b, X_egEO_b, X_egEOO_b, X_egFPRP_b, X_egERP_b, X_gsDP_b, X_gsEO_b, X_gsEOO_b, X_gsFPRP_b, X_gsERP_b]\n",
    "    columns_data_black = zip_longest(*data_black)\n",
    "    with open(model_name+'_black_scores.csv',mode='w') as b:\n",
    "        writer = csv.writer(b)\n",
    "        writer.writerow(scores_black_fieldnames)\n",
    "        writer.writerows(columns_data_black)\n",
    "        b.close()\n",
    "        \n",
    "   # Save white score results\n",
    "    scores_white_fieldnames = ['testW','unmitW','egdpW','egeoW','egeooW', 'egfprpW', 'egerpW','gsdpW','gseoW', 'gseooW','gsfprpW','gserpW']\n",
    "    data_white = [X_test_w, X_unmit_w, X_egDP_w, X_egEO_w, X_egEOO_w, X_egFPRP_w, X_egERP_w, X_gsDP_w, X_gsEO_w,X_gsEOO_w, X_gsFPRP_w, X_gsERP_w]\n",
    "    columns_data_white = zip_longest(*data_white)\n",
    "    with open(model_name+'_white_scores.csv',mode='w') as w:\n",
    "        writer = csv.writer(w)\n",
    "        writer.writerow(scores_white_fieldnames)\n",
    "        writer.writerows(columns_data_white)\n",
    "        w.close()\n",
    "    \n",
    "    # Save exponentiated gradient results\n",
    "    scores_eg_fieldnames = ['testB', 'testW', 'unmitB', 'unmitW', 'egdpB', 'egdpW', 'egeoB', 'egeoW', 'egeooB', 'egeooW', 'egfprpB', 'egfprpW', 'egerpB', 'egerpW']\n",
    "    data_eg = [X_test_b, X_test_w, X_unmit_b, X_unmit_w, X_egDP_b, X_egDP_w, X_egEO_b, X_egEO_w, X_egEOO_b, X_egEOO_w, X_egFPRP_b, X_egFPRP_w, X_egERP_b, X_egERP_w]\n",
    "    columns_data_eg = zip_longest(*data_eg)\n",
    "    with open(model_name+'_eg_scores.csv', mode='w') as e:\n",
    "        writer = csv.writer(e)\n",
    "        writer.writerow(scores_eg_fieldnames)\n",
    "        writer.writerows(columns_data_eg)\n",
    "        e.close()\n",
    "    \n",
    "    # Save grid search results\n",
    "    scores_gs_fieldnames = ['testB', 'testW', 'unmitB', 'unmitW', 'gsdpB', 'gsdpW', 'gseoB', 'gseoW', 'gseooB', 'gseooW', 'gsfprpB', 'gsfprpW', 'gserpB', 'gserpW']\n",
    "    data_gs = [X_test_b, X_test_w, X_unmit_b, X_unmit_w,  X_gsDP_b, X_gsDP_w, X_gsEO_b, X_gsEO_w, X_gsEOO_b, X_gsEOO_w, X_gsFPRP_b, X_gsFPRP_w, X_gsERP_b, X_gsERP_w]\n",
    "    columns_data_gs = zip_longest(*data_gs)\n",
    "    with open(model_name+'_gs_scores.csv', mode='w') as g:\n",
    "        writer = csv.writer(g)\n",
    "        writer.writerow(scores_gs_fieldnames)\n",
    "        writer.writerows(columns_data_gs)\n",
    "        g.close()\n",
    "    "
   ]
  }
 ],
 "metadata": {
  "kernelspec": {
   "display_name": "venv",
   "language": "python",
   "name": "venv"
  },
  "language_info": {
   "codemirror_mode": {
    "name": "ipython",
    "version": 3
   },
   "file_extension": ".py",
   "mimetype": "text/x-python",
   "name": "python",
   "nbconvert_exporter": "python",
   "pygments_lexer": "ipython3",
   "version": "3.8.10"
  }
 },
 "nbformat": 4,
 "nbformat_minor": 4
}
