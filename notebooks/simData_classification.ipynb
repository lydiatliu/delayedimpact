{
 "cells": [
  {
   "cell_type": "markdown",
   "metadata": {},
   "source": [
    "# 1. Imports and Functions"
   ]
  },
  {
   "cell_type": "code",
   "execution_count": 1,
   "metadata": {},
   "outputs": [],
   "source": [
    "from sklearn.model_selection import train_test_split\n",
    "from sklearn.preprocessing import StandardScaler \n",
    "from sklearn.neighbors import KNeighborsClassifier\n",
    "from sklearn.metrics import classification_report, confusion_matrix, accuracy_score\n",
    "from sklearn.naive_bayes import GaussianNB\n",
    "import pandas as pd \n",
    "import numpy as np"
   ]
  },
  {
   "cell_type": "code",
   "execution_count": 2,
   "metadata": {},
   "outputs": [],
   "source": [
    "def evaluation_by_race(X_test, y_test, y_predict):\n",
    "    races_test = X_test[:, 1]\n",
    "    \n",
    "    y_test_black = []\n",
    "    y_pred_black = []\n",
    "    y_test_white = []\n",
    "    y_pred_white = []\n",
    "\n",
    "    # splitting up the y_test and y_pred values by race to then use for race specific classification reports\n",
    "    for index, race in enumerate(races_test):\n",
    "        if(race == 0):  # black\n",
    "            y_test_black.append(y_test[index])\n",
    "            y_pred_black.append(y_predict[index])\n",
    "        elif(race == 1):  # white\n",
    "            y_test_white.append(y_test[index])\n",
    "            y_pred_white.append(y_predict[index])\n",
    "        else:\n",
    "            print('You should not end up here...')\n",
    "            \n",
    "    print('EVALUATION FOR BLACK GROUP')\n",
    "    print(confusion_matrix(y_test_black, y_pred_black))\n",
    "    print(classification_report(y_test_black, y_pred_black)) \n",
    "    \n",
    "    print('EVALUATION FOR WHITE GROUP')\n",
    "    print(confusion_matrix(y_test_white, y_pred_white))\n",
    "    print(classification_report(y_test_white, y_pred_white)) "
   ]
  },
  {
   "cell_type": "markdown",
   "metadata": {},
   "source": [
    "# 2. Extract data from csv"
   ]
  },
  {
   "cell_type": "code",
   "execution_count": 3,
   "metadata": {},
   "outputs": [
    {
     "name": "stdout",
     "output_type": "stream",
     "text": [
      "      score  repay_probability  race  repay_indices\n",
      "0       479              20.74     1              1\n",
      "1       722              96.99     1              1\n",
      "2       713              96.44     1              1\n",
      "3       811              98.85     1              1\n",
      "4       396               8.55     1              0\n",
      "...     ...                ...   ...            ...\n",
      "1995    524              34.32     1              1\n",
      "1996    777              98.46     1              1\n",
      "1997    719              96.80     1              1\n",
      "1998    767              98.39     1              1\n",
      "1999    560              42.45     0              1\n",
      "\n",
      "[2000 rows x 4 columns]\n"
     ]
    }
   ],
   "source": [
    "data = pd.read_csv('/home/mackenzie/git_repositories/delayedimpact/data/simData_oom2.csv')\n",
    "data[['score', 'race']] = data[['score', 'race']].astype(int)\n",
    "print(data)"
   ]
  },
  {
   "cell_type": "markdown",
   "metadata": {},
   "source": [
    "# 3. Make data into train/test form"
   ]
  },
  {
   "cell_type": "code",
   "execution_count": 4,
   "metadata": {},
   "outputs": [],
   "source": [
    "x = data[['score', 'race']].values\n",
    "y = data['repay_indices'].values\n",
    "X_train, X_test, y_train, y_test = train_test_split(x, y, test_size=0.3, random_state=42)\n",
    "\n",
    "# do I need to scale the data??\n",
    "# Standardize features by removing mean and scaling to unit variance:\n",
    "#scaler = StandardScaler()\n",
    "#scaler.fit(X_train)\n",
    "\n",
    "#X_train = scaler.transform(X_train)\n",
    "#X_test = scaler.transform(X_test) "
   ]
  },
  {
   "cell_type": "markdown",
   "metadata": {},
   "source": [
    "# 4. Train+Test KNN classifier"
   ]
  },
  {
   "cell_type": "code",
   "execution_count": 5,
   "metadata": {},
   "outputs": [
    {
     "data": {
      "text/plain": [
       "KNeighborsClassifier()"
      ]
     },
     "execution_count": 5,
     "metadata": {},
     "output_type": "execute_result"
    }
   ],
   "source": [
    "# Ref: https://www.activestate.com/resources/quick-reads/how-to-classify-data-in-python/\n",
    "\n",
    "# Use the KNN classifier to fit data:\n",
    "classifier = KNeighborsClassifier(n_neighbors=5)\n",
    "classifier.fit(X_train, y_train)"
   ]
  },
  {
   "cell_type": "code",
   "execution_count": 6,
   "metadata": {},
   "outputs": [
    {
     "name": "stdout",
     "output_type": "stream",
     "text": [
      "[[115  48]\n",
      " [ 36 401]]\n",
      "              precision    recall  f1-score   support\n",
      "\n",
      "           0       0.76      0.71      0.73       163\n",
      "           1       0.89      0.92      0.91       437\n",
      "\n",
      "    accuracy                           0.86       600\n",
      "   macro avg       0.83      0.81      0.82       600\n",
      "weighted avg       0.86      0.86      0.86       600\n",
      "\n"
     ]
    }
   ],
   "source": [
    "# Predict y data with classifier: \n",
    "y_predict = classifier.predict(X_test)\n",
    "\n",
    "# Print results: \n",
    "print(confusion_matrix(y_test, y_predict))\n",
    "print(classification_report(y_test, y_predict)) "
   ]
  },
  {
   "cell_type": "code",
   "execution_count": 7,
   "metadata": {},
   "outputs": [
    {
     "name": "stdout",
     "output_type": "stream",
     "text": [
      "EVALUATION FOR BLACK GROUP\n",
      "[[32  8]\n",
      " [ 7 21]]\n",
      "              precision    recall  f1-score   support\n",
      "\n",
      "           0       0.82      0.80      0.81        40\n",
      "           1       0.72      0.75      0.74        28\n",
      "\n",
      "    accuracy                           0.78        68\n",
      "   macro avg       0.77      0.78      0.77        68\n",
      "weighted avg       0.78      0.78      0.78        68\n",
      "\n",
      "EVALUATION FOR WHITE GROUP\n",
      "[[ 83  40]\n",
      " [ 29 380]]\n",
      "              precision    recall  f1-score   support\n",
      "\n",
      "           0       0.74      0.67      0.71       123\n",
      "           1       0.90      0.93      0.92       409\n",
      "\n",
      "    accuracy                           0.87       532\n",
      "   macro avg       0.82      0.80      0.81       532\n",
      "weighted avg       0.87      0.87      0.87       532\n",
      "\n"
     ]
    }
   ],
   "source": [
    "evaluation_by_race(X_test, y_test, y_predict)"
   ]
  },
  {
   "cell_type": "markdown",
   "metadata": {},
   "source": [
    "# 5. Train+Test Gaussian Naive Bayes classifier"
   ]
  },
  {
   "cell_type": "code",
   "execution_count": 8,
   "metadata": {},
   "outputs": [],
   "source": [
    "# Initialize classifier:\n",
    "gnb = GaussianNB()\n",
    "\n",
    "# Train the classifier:\n",
    "model = gnb.fit(X_train, y_train)"
   ]
  },
  {
   "cell_type": "code",
   "execution_count": 9,
   "metadata": {},
   "outputs": [
    {
     "name": "stdout",
     "output_type": "stream",
     "text": [
      "[[116  47]\n",
      " [ 40 397]]\n",
      "              precision    recall  f1-score   support\n",
      "\n",
      "           0       0.74      0.71      0.73       163\n",
      "           1       0.89      0.91      0.90       437\n",
      "\n",
      "    accuracy                           0.85       600\n",
      "   macro avg       0.82      0.81      0.81       600\n",
      "weighted avg       0.85      0.85      0.85       600\n",
      "\n"
     ]
    }
   ],
   "source": [
    "# Make predictions with the classifier:\n",
    "y_predict = gnb.predict(X_test)\n",
    "print(confusion_matrix(y_test, y_predict))\n",
    "print(classification_report(y_test, y_predict)) "
   ]
  },
  {
   "cell_type": "code",
   "execution_count": 11,
   "metadata": {},
   "outputs": [
    {
     "name": "stdout",
     "output_type": "stream",
     "text": [
      "EVALUATION FOR BLACK GROUP\n",
      "[[40  0]\n",
      " [28  0]]\n",
      "              precision    recall  f1-score   support\n",
      "\n",
      "           0       0.59      1.00      0.74        40\n",
      "           1       0.00      0.00      0.00        28\n",
      "\n",
      "    accuracy                           0.59        68\n",
      "   macro avg       0.29      0.50      0.37        68\n",
      "weighted avg       0.35      0.59      0.44        68\n",
      "\n",
      "EVALUATION FOR WHITE GROUP\n",
      "[[ 76  47]\n",
      " [ 12 397]]\n",
      "              precision    recall  f1-score   support\n",
      "\n",
      "           0       0.86      0.62      0.72       123\n",
      "           1       0.89      0.97      0.93       409\n",
      "\n",
      "    accuracy                           0.89       532\n",
      "   macro avg       0.88      0.79      0.83       532\n",
      "weighted avg       0.89      0.89      0.88       532\n",
      "\n"
     ]
    },
    {
     "name": "stderr",
     "output_type": "stream",
     "text": [
      "/home/mackenzie/.local/lib/python3.8/site-packages/sklearn/metrics/_classification.py:1245: UndefinedMetricWarning: Precision and F-score are ill-defined and being set to 0.0 in labels with no predicted samples. Use `zero_division` parameter to control this behavior.\n",
      "  _warn_prf(average, modifier, msg_start, len(result))\n",
      "/home/mackenzie/.local/lib/python3.8/site-packages/sklearn/metrics/_classification.py:1245: UndefinedMetricWarning: Precision and F-score are ill-defined and being set to 0.0 in labels with no predicted samples. Use `zero_division` parameter to control this behavior.\n",
      "  _warn_prf(average, modifier, msg_start, len(result))\n",
      "/home/mackenzie/.local/lib/python3.8/site-packages/sklearn/metrics/_classification.py:1245: UndefinedMetricWarning: Precision and F-score are ill-defined and being set to 0.0 in labels with no predicted samples. Use `zero_division` parameter to control this behavior.\n",
      "  _warn_prf(average, modifier, msg_start, len(result))\n"
     ]
    }
   ],
   "source": [
    "evaluation_by_race(X_test, y_test, y_predict)"
   ]
  },
  {
   "cell_type": "markdown",
   "metadata": {},
   "source": [
    "# 6. TODO: Train+Test other classifier models!!\n",
    "Try decision tree and logistic regression too\n",
    "https://stackabuse.com/overview-of-classification-methods-in-python-with-scikit-learn"
   ]
  },
  {
   "cell_type": "code",
   "execution_count": null,
   "metadata": {},
   "outputs": [],
   "source": []
  }
 ],
 "metadata": {
  "kernelspec": {
   "display_name": "venv",
   "language": "python",
   "name": "venv"
  },
  "language_info": {
   "codemirror_mode": {
    "name": "ipython",
    "version": 3
   },
   "file_extension": ".py",
   "mimetype": "text/x-python",
   "name": "python",
   "nbconvert_exporter": "python",
   "pygments_lexer": "ipython3",
   "version": "3.8.5"
  }
 },
 "nbformat": 4,
 "nbformat_minor": 4
}
