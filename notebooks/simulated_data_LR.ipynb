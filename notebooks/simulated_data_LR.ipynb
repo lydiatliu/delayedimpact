{
 "cells": [
  {
   "cell_type": "code",
   "execution_count": 1,
   "metadata": {},
   "outputs": [],
   "source": [
    "%load_ext autoreload\n",
    "%autoreload 2"
   ]
  },
  {
   "cell_type": "code",
   "execution_count": 2,
   "metadata": {},
   "outputs": [
    {
     "name": "stdout",
     "output_type": "stream",
     "text": [
      "Populating the interactive namespace from numpy and matplotlib\n"
     ]
    }
   ],
   "source": [
    "%pylab inline\n",
    "import numpy as np\n",
    "import matplotlib.pyplot as plt\n",
    "import seaborn as sns\n",
    "\n",
    "# import all of our files\n",
    "import sys\n",
    "sys.path.append('../')\n",
    "\n",
    "import fico\n",
    "import distribution_to_loans_outcomes as dlo\n",
    "\n",
    "DATA_DIR = '../data/'"
   ]
  },
  {
   "cell_type": "code",
   "execution_count": 3,
   "metadata": {},
   "outputs": [],
   "source": [
    "# set plotting parameters\n",
    "sns.set_context(\"talk\")\n",
    "sns.set_style(\"white\")\n",
    "\n",
    "# this needs to be here so we can edit figures later\n",
    "plt.rcParams['pdf.fonttype'] = 42"
   ]
  },
  {
   "cell_type": "code",
   "execution_count": 4,
   "metadata": {},
   "outputs": [],
   "source": [
    "all_cdfs, performance, totals = fico.get_FICO_data(data_dir=DATA_DIR);"
   ]
  },
  {
   "cell_type": "code",
   "execution_count": 5,
   "metadata": {},
   "outputs": [],
   "source": [
    "cdfs = all_cdfs[[\"White\",\"Black\"]]\n",
    "\n",
    "# B is White\n",
    "# A is Black\n",
    "\n",
    "cdf_B = cdfs['White'].values\n",
    "cdf_A = cdfs['Black'].values\n",
    "\n",
    "repay_B = performance['White']\n",
    "repay_A = performance['Black']\n",
    "\n",
    "scores = cdfs.index\n",
    "scores_list = scores.tolist()\n",
    "scores_repay = cdfs.index"
   ]
  },
  {
   "cell_type": "code",
   "execution_count": 6,
   "metadata": {},
   "outputs": [],
   "source": [
    "# to populate group distributions\n",
    "def get_pmf(cdf):\n",
    "    pis = np.zeros(cdf.size)\n",
    "    pis[0] = cdf[0]\n",
    "    for score in range(cdf.size-1):\n",
    "        pis[score+1] = cdf[score+1] - cdf[score]\n",
    "    return pis\n",
    "\n",
    "# to get loan repay probabilities for a given score\n",
    "loan_repaid_probs = [lambda i: repay_A[scores[scores.get_loc(i,method='nearest')]], \n",
    "                     lambda i: repay_B[scores[scores.get_loc(i,method='nearest')]]]"
   ]
  },
  {
   "cell_type": "code",
   "execution_count": 7,
   "metadata": {},
   "outputs": [
    {
     "name": "stdout",
     "output_type": "stream",
     "text": [
      "[0.12066905 0.87933095]\n"
     ]
    }
   ],
   "source": [
    "# basic parameters\n",
    "N_scores = cdf_B.size\n",
    "N_groups = 2\n",
    "\n",
    "# get probability mass functions of each group\n",
    "pi_A = get_pmf(cdf_A)\n",
    "pi_B = get_pmf(cdf_B)\n",
    "pis = np.vstack([pi_A, pi_B])\n",
    "\n",
    "# demographic statistics \n",
    "group_ratio = np.array((totals[\"Black\"], totals[\"White\"]))\n",
    "group_size_ratio = group_ratio/group_ratio.sum()\n",
    "print(group_size_ratio)"
   ]
  },
  {
   "cell_type": "code",
   "execution_count": 8,
   "metadata": {},
   "outputs": [],
   "source": [
    "# to get loan repay probabilities for a given score\n",
    "loan_repaid_probs = [lambda i: repay_A[scores[scores.get_loc(i,method='nearest')]], \n",
    "                     lambda i: repay_B[scores[scores.get_loc(i,method='nearest')]]]\n",
    "\n",
    "# unpacking repay probability as a function of score\n",
    "loan_repay_fns = [lambda x: loan_repaid_prob(x) for\n",
    "                      loan_repaid_prob in loan_repaid_probs]"
   ]
  },
  {
   "cell_type": "code",
   "execution_count": 9,
   "metadata": {},
   "outputs": [],
   "source": [
    "# all of the above is from Lydia's code in delayed-impact repos\n",
    "# all of the below is my code transforming the data and running linear regression on it!\n",
    "# NOTE: references for certain chunks will be included"
   ]
  },
  {
   "cell_type": "code",
   "execution_count": 10,
   "metadata": {},
   "outputs": [],
   "source": [
    "import pandas as pd"
   ]
  },
  {
   "cell_type": "code",
   "execution_count": 11,
   "metadata": {},
   "outputs": [],
   "source": [
    "def get_repay_probabilities(samples, repay_probs):\n",
    "    sample_probs = []\n",
    "    for index, score in enumerate(samples):\n",
    "        prob_index = np.where(scores_arr == score)\n",
    "        repay_prob = repay_probs[prob_index[0][0]]\n",
    "        sample_probs.insert(index, repay_prob)\n",
    "    return sample_probs"
   ]
  },
  {
   "cell_type": "code",
   "execution_count": 14,
   "metadata": {},
   "outputs": [],
   "source": [
    "# Convert data in format needed\n",
    "# Make repay probabilities into percentages from decimals\n",
    "# NOTE: A is Black, B is White\n",
    "\n",
    "scores_arr = np.asarray(scores_list)\n",
    "repay_A_arr = pd.Series.to_numpy(repay_A)*100\n",
    "repay_B_arr = pd.Series.to_numpy(repay_B)*100"
   ]
  },
  {
   "cell_type": "code",
   "execution_count": 15,
   "metadata": {},
   "outputs": [],
   "source": [
    "# Sample data according to the pmf\n",
    "# Reference: https://www.w3schools.com/python/ref_random_choices.asp\n",
    "\n",
    "from random import choices\n",
    "\n",
    "num_A_samples = 120\n",
    "num_B_samples = 880\n",
    "\n",
    "samples_A = np.asarray(sorted(choices(scores_arr, pi_A, k=num_A_samples)))\n",
    "samples_B = np.asarray(sorted(choices(scores_arr, pi_B, k=num_B_samples)))"
   ]
  },
  {
   "cell_type": "code",
   "execution_count": 16,
   "metadata": {},
   "outputs": [
    {
     "data": {
      "text/plain": [
       "\"\\ndata_A_dict = {'score': samples_A, 'repay_probability': samples_A_probs, 'race': samples_A_race}\\ndata_B_dict = {'score': samples_B, 'repay_probability': samples_B_probs, 'race': samples_B_race}\\n\\ndata_A_df = pd.DataFrame(data=data_A_dict, dtype=np.float64)\\ndata_B_df = pd.DataFrame(data=data_B_dict, dtype=np.float64)\\n\\ndata_all_df = pd.concat([data_A_df, data_B_df], ignore_index=True)\\nprint(data_all_df)\\ndata_all_df_shuffled = data_all_df.sample(frac=1).reset_index(drop=True)\\nprint(data_all_df_shuffled)\\n\""
      ]
     },
     "execution_count": 16,
     "metadata": {},
     "output_type": "execute_result"
    }
   ],
   "source": [
    "# Calculate samples groups' probabilities and make arrays for race\n",
    "# A == Black == 0 (later defined as 0.0 when converting to pandas df)\n",
    "# B == White == 1 (later defined as 1.0 when converting to pandas df)\n",
    "\n",
    "samples_A_probs = np.asarray(get_repay_probabilities(samples=samples_A, repay_probs=repay_A_arr))\n",
    "samples_A_race = np.asarray([0] * num_A_samples)\n",
    "\n",
    "samples_B_probs = np.asarray(get_repay_probabilities(samples=samples_B, repay_probs=repay_B_arr))\n",
    "samples_B_race = np.asarray([1] * num_B_samples)\n",
    "\n",
    "# If needed, I can use pandas df like below\n",
    "'''\n",
    "data_A_dict = {'score': samples_A, 'repay_probability': samples_A_probs, 'race': samples_A_race}\n",
    "data_B_dict = {'score': samples_B, 'repay_probability': samples_B_probs, 'race': samples_B_race}\n",
    "\n",
    "data_A_df = pd.DataFrame(data=data_A_dict, dtype=np.float64)\n",
    "data_B_df = pd.DataFrame(data=data_B_dict, dtype=np.float64)\n",
    "\n",
    "data_all_df = pd.concat([data_A_df, data_B_df], ignore_index=True)\n",
    "print(data_all_df)\n",
    "data_all_df_shuffled = data_all_df.sample(frac=1).reset_index(drop=True)\n",
    "print(data_all_df_shuffled)\n",
    "'''"
   ]
  },
  {
   "cell_type": "code",
   "execution_count": 17,
   "metadata": {},
   "outputs": [
    {
     "name": "stdout",
     "output_type": "stream",
     "text": [
      "the range of the Group A (Black) repay probabilities is:  94.66000000000001\n",
      "the min value is:  0.769999999999996\n",
      "the max value is:  95.43\n"
     ]
    }
   ],
   "source": [
    "# TROUBLESHOOTING: check range of repay probability values in array\n",
    "\n",
    "max_val = np.max(samples_A_probs)\n",
    "min_val = np.min(samples_A_probs)\n",
    "print('the range of the Group A (Black) repay probabilities is: ', max_val-min_val)\n",
    "print('the min value is: ', min_val)\n",
    "print('the max value is: ', max_val)"
   ]
  },
  {
   "cell_type": "code",
   "execution_count": 42,
   "metadata": {},
   "outputs": [
    {
     "data": {
      "text/plain": [
       "<matplotlib.legend.Legend at 0x7f99ec74c0a0>"
      ]
     },
     "execution_count": 42,
     "metadata": {},
     "output_type": "execute_result"
    },
    {
     "data": {
      "image/png": "[encoded data removed]",
      "text/plain": [
       "<Figure size 1152x576 with 2 Axes>"
      ]
     },
     "metadata": {},
     "output_type": "display_data"
    }
   ],
   "source": [
    "# Visualize the data, some figure code taken from FICO-figures.ipynb\n",
    "\n",
    "# plot the repay probabilities\n",
    "# TODO: figure out how to delete the second plot\n",
    "fig, ax = plt.subplots(1,2,figsize=(16,8));\n",
    "\n",
    "\n",
    "#ax[0].plot(scores_list,repay_A,color='black',label='black')\n",
    "ax[0].plot(samples_A,samples_A_probs,color='black',label='black')\n",
    "#ax[0].plot(scores_list,repay_B,label='white',color=\"grey\")\n",
    "ax[0].plot(samples_B,samples_B_probs,label='white',color=\"grey\")\n",
    "ax[0].spines['right'].set_visible(False)\n",
    "ax[0].spines['top'].set_visible(False)\n",
    "ax[0].set_title(\"repay probabilities\")\n",
    "ax[0].set_xlabel(\"score\")\n",
    "ax[0].set_ylabel(\"repay probability\")\n",
    "ax[0].legend()"
   ]
  },
  {
   "cell_type": "code",
   "execution_count": null,
   "metadata": {},
   "outputs": [],
   "source": [
    "# TODO: try non linear regression\n",
    "# Reference: https://scipy-cookbook.readthedocs.io/items/robust_regression.html"
   ]
  },
  {
   "cell_type": "code",
   "execution_count": 12,
   "metadata": {},
   "outputs": [],
   "source": [
    "# NOTE: below won't work because data isn't linear\n",
    "\n",
    "# Note: much of the linear regression code is adapted from the below link\n",
    "# Reference: https://realpython.com/linear-regression-in-python/\n",
    "\n",
    "'''\n",
    "from sklearn.linear_model import LinearRegression\n",
    "from sklearn.model_selection import train_test_split\n",
    "\n",
    "def run_linear_regression(x_arr, y_arr):\n",
    "    # data prep\n",
    "    x = x_arr.reshape(-1,1)\n",
    "    y = y_arr\n",
    "    x_train, x_test, y_train, y_test = train_test_split(x, y, test_size=0.30, random_state=42)\n",
    "    \n",
    "    # train model\n",
    "    model = LinearRegression().fit(x_train, y_train)\n",
    "\n",
    "    # analyze regression model on training set\n",
    "    # NOTE: the intercept, b0 value or coefficient, tells us what the regression predicts if the x is zero\n",
    "    #       the slope, b1 value, tells us how the predicted response rises/increases when x is increased by 1\n",
    "    # QUESTION: not sure if the input for score here should be our train and test x and y values? or our test values?\n",
    "    r_sq = model.score(x_train, y_train)\n",
    "    print('coefficient of determination:', r_sq)\n",
    "    print('intercept:', model.intercept_)\n",
    "    print('slope/coef:', model.coef_)\n",
    "    \n",
    "    # get predictions\n",
    "    y_pred = model.predict(x_test)\n",
    "    print('predicted response:', y_pred, sep='\\n')\n",
    "    \n",
    "    return model, y_test, y_pred\n",
    "\n",
    "# NOTE: this function came from the Naomi Fridman's answer here \n",
    "# Reference: https://stackoverflow.com/questions/26319259/how-to-get-a-regression-summary-in-python-scikit-like-r-does\n",
    "from sklearn import metrics\n",
    "\n",
    "def regression_results(y_true, y_pred):\n",
    "\n",
    "    # Regression metrics\n",
    "    explained_variance=metrics.explained_variance_score(y_true, y_pred)\n",
    "    mean_absolute_error=metrics.mean_absolute_error(y_true, y_pred) \n",
    "    mse=metrics.mean_squared_error(y_true, y_pred) \n",
    "    mean_squared_log_error=metrics.mean_squared_log_error(y_true, y_pred)\n",
    "    median_absolute_error=metrics.median_absolute_error(y_true, y_pred)\n",
    "    r2=metrics.r2_score(y_true, y_pred)\n",
    "\n",
    "    print('explained_variance: ', round(explained_variance,4))    \n",
    "    print('mean_squared_log_error: ', round(mean_squared_log_error,4))\n",
    "    print('r2: ', round(r2,4))\n",
    "    print('MAE: ', round(mean_absolute_error,4))\n",
    "    print('MSE: ', round(mse,4))\n",
    "    print('RMSE: ', round(np.sqrt(mse),4))\n",
    "\n",
    "# Run linear regression on Group A -- Black\n",
    "\n",
    "model_A, y_test_A, y_pred_A = run_linear_regression(samples_A, samples_A_probs)\n",
    "\n",
    "# Analysis on Group A linear regression predictions\n",
    "# NOTE: can't get regression results because some predicted values are negative...\n",
    "regression_results(y_test_A, y_pred_A)\n",
    "\n",
    "# Run linear regression on Group B -- White\n",
    "\n",
    "model_B, y_test_B, y_pred_B = run_linear_regression(samples_B, samples_B_probs)\n",
    "\n",
    "# Analysis on Group B linear regression predictions\n",
    "# NOTE: can't get regression results because some predicted values are negative...\n",
    "regression_results(y_test_B, y_pred_B)\n",
    "'''"
   ]
  },
  {
   "cell_type": "code",
   "execution_count": 43,
   "metadata": {},
   "outputs": [
    {
     "name": "stdout",
     "output_type": "stream",
     "text": [
      "NNLS coef:  [0.26044257]\n",
      "NNLS R2 score 0.8834274312018493\n"
     ]
    }
   ],
   "source": [
    "# NOTE: won't work because data isn't linear\n",
    "\n",
    "# To run the below code, need sklearn version 0.24.1, so may need to update\n",
    "#!pip3 install -U scikit-learn\n",
    "\n",
    "# Run NNLS and OLS\n",
    "# Reference: https://scikit-learn.org/stable/auto_examples/linear_model/plot_nnls.html\n",
    "\n",
    "'''\n",
    "import sklearn\n",
    "import matplotlib.pyplot as plt\n",
    "from sklearn.metrics import r2_score\n",
    "\n",
    "# data prep (currently set to do Group A)\n",
    "\n",
    "x = samples_A.reshape(-1,1)\n",
    "y = samples_A_probs\n",
    "#print(x)\n",
    "#print(y)\n",
    "\n",
    "X_train, X_test, y_train, y_test = train_test_split(x, y, test_size=0.3, random_state=42)\n",
    "\n",
    "reg_nnls = LinearRegression(positive=True)\n",
    "y_pred_nnls = reg_nnls.fit(X_train, y_train).predict(X_test)\n",
    "#print('NNLS predictions: ', y_pred_nnls)\n",
    "print('NNLS coef: ', reg_nnls.coef_)\n",
    "r2_score_nnls = r2_score(y_test, y_pred_nnls)\n",
    "print(\"NNLS R2 score\", r2_score_nnls)\n",
    "\n",
    "# Fit an OLS\n",
    "reg_ols = LinearRegression(positive=False)\n",
    "y_pred_ols = reg_ols.fit(X_train, y_train).predict(X_test)\n",
    "print('OLS coef: ', reg_ols.coef_)\n",
    "r2_score_ols = r2_score(y_test, y_pred_ols)\n",
    "print(\"OLS R2 score\", r2_score_ols)\n",
    "\n",
    "# Compare the regression coefficients between OLS and NNLS\n",
    "\n",
    "fig, ax = plt.subplots()\n",
    "ax.plot(reg_ols.coef_, reg_nnls.coef_, linewidth=0, marker=\".\")\n",
    "\n",
    "low_x, high_x = ax.get_xlim()\n",
    "low_y, high_y = ax.get_ylim()\n",
    "low = max(low_x, low_y)\n",
    "high = min(high_x, high_y)\n",
    "ax.plot([low, high], [low, high], ls=\"--\", c=\".3\", alpha=.5)\n",
    "ax.set_xlabel(\"OLS regression coefficients\", fontweight=\"bold\")\n",
    "ax.set_ylabel(\"NNLS regression coefficients\", fontweight=\"bold\")\n",
    "'''"
   ]
  }
 ],
 "metadata": {
  "kernelspec": {
   "display_name": "venv",
   "language": "python",
   "name": "venv"
  },
  "language_info": {
   "codemirror_mode": {
    "name": "ipython",
    "version": 3
   },
   "file_extension": ".py",
   "mimetype": "text/x-python",
   "name": "python",
   "nbconvert_exporter": "python",
   "pygments_lexer": "ipython3",
   "version": "3.8.5"
  }
 },
 "nbformat": 4,
 "nbformat_minor": 4
}
